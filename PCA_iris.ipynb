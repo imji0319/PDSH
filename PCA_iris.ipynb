{
  "nbformat": 4,
  "nbformat_minor": 0,
  "metadata": {
    "colab": {
      "name": "PCA_iris.ipynb",
      "version": "0.3.2",
      "provenance": [],
      "include_colab_link": true
    },
    "kernelspec": {
      "name": "python3",
      "display_name": "Python 3"
    },
    "accelerator": "TPU"
  },
  "cells": [
    {
      "cell_type": "markdown",
      "metadata": {
        "id": "view-in-github",
        "colab_type": "text"
      },
      "source": [
        "<a href=\"https://colab.research.google.com/github/imji0319/PDSH/blob/master/PCA_iris.ipynb\" target=\"_parent\"><img src=\"https://colab.research.google.com/assets/colab-badge.svg\" alt=\"Open In Colab\"/></a>"
      ]
    },
    {
      "metadata": {
        "id": "PwojkcBRFqpx",
        "colab_type": "code",
        "colab": {}
      },
      "cell_type": "code",
      "source": [
        "from sklearn.datasets import load_iris\n",
        "import pandas as pd\n",
        "import matplotlib.pyplot as plt\n",
        "%matplotlib inline "
      ],
      "execution_count": 0,
      "outputs": []
    },
    {
      "metadata": {
        "id": "r6J1sMvsHHWu",
        "colab_type": "code",
        "colab": {
          "base_uri": "https://localhost:8080/",
          "height": 142
        },
        "outputId": "3b844926-0abc-4f6b-f8fe-669e253dd5ed"
      },
      "cell_type": "code",
      "source": [
        "iris = load_iris()\n",
        "\n",
        "#넘파일 데이터 세트를 판다스 dataframe 으로 변환 \n",
        "columns = ['sepal_length',  'sepal_width',  'petal_length', 'petal_width']\n",
        "irisDF = pd.DataFrame(iris.data, columns=columns)\n",
        "irisDF['target']=iris.target\n",
        "irisDF.head(3)"
      ],
      "execution_count": 2,
      "outputs": [
        {
          "output_type": "execute_result",
          "data": {
            "text/html": [
              "<div>\n",
              "<style scoped>\n",
              "    .dataframe tbody tr th:only-of-type {\n",
              "        vertical-align: middle;\n",
              "    }\n",
              "\n",
              "    .dataframe tbody tr th {\n",
              "        vertical-align: top;\n",
              "    }\n",
              "\n",
              "    .dataframe thead th {\n",
              "        text-align: right;\n",
              "    }\n",
              "</style>\n",
              "<table border=\"1\" class=\"dataframe\">\n",
              "  <thead>\n",
              "    <tr style=\"text-align: right;\">\n",
              "      <th></th>\n",
              "      <th>sepal_length</th>\n",
              "      <th>sepal_width</th>\n",
              "      <th>petal_length</th>\n",
              "      <th>petal_width</th>\n",
              "      <th>target</th>\n",
              "    </tr>\n",
              "  </thead>\n",
              "  <tbody>\n",
              "    <tr>\n",
              "      <th>0</th>\n",
              "      <td>5.1</td>\n",
              "      <td>3.5</td>\n",
              "      <td>1.4</td>\n",
              "      <td>0.2</td>\n",
              "      <td>0</td>\n",
              "    </tr>\n",
              "    <tr>\n",
              "      <th>1</th>\n",
              "      <td>4.9</td>\n",
              "      <td>3.0</td>\n",
              "      <td>1.4</td>\n",
              "      <td>0.2</td>\n",
              "      <td>0</td>\n",
              "    </tr>\n",
              "    <tr>\n",
              "      <th>2</th>\n",
              "      <td>4.7</td>\n",
              "      <td>3.2</td>\n",
              "      <td>1.3</td>\n",
              "      <td>0.2</td>\n",
              "      <td>0</td>\n",
              "    </tr>\n",
              "  </tbody>\n",
              "</table>\n",
              "</div>"
            ],
            "text/plain": [
              "   sepal_length  sepal_width  petal_length  petal_width  target\n",
              "0           5.1          3.5           1.4          0.2       0\n",
              "1           4.9          3.0           1.4          0.2       0\n",
              "2           4.7          3.2           1.3          0.2       0"
            ]
          },
          "metadata": {
            "tags": []
          },
          "execution_count": 2
        }
      ]
    },
    {
      "metadata": {
        "id": "cfsdRawEHyfA",
        "colab_type": "code",
        "colab": {
          "base_uri": "https://localhost:8080/",
          "height": 284
        },
        "outputId": "a3717803-59c2-4771-d154-d93e02482c72"
      },
      "cell_type": "code",
      "source": [
        "# sepal_length 와 sepal_width 를 X축, Y축으로 한 분포도\n",
        "\n",
        "markers = [ '^', 's', 'o']\n",
        "\n",
        "for i, marker in enumerate(markers):\n",
        "    x_axis_data = irisDF[irisDF['target'] == i]['sepal_length']\n",
        "    y_axis_data = irisDF[irisDF['target'] == i]['sepal_width']\n",
        "    plt.scatter(  x_axis_data,  y_axis_data, marker = marker, label = iris.target_names[i] )\n",
        "    \n",
        "    \n",
        "plt. legend()\n",
        "plt.xlabel('sepal_length')\n",
        "plt.ylabel('sepal_width')\n",
        "plt.show()\n",
        "    "
      ],
      "execution_count": 4,
      "outputs": [
        {
          "output_type": "display_data",
          "data": {
            "image/png": "[encoded data removed]",
            "text/plain": [
              "<Figure size 432x288 with 1 Axes>"
            ]
          },
          "metadata": {
            "tags": []
          }
        }
      ]
    },
    {
      "metadata": {
        "id": "YhvUE3miJZen",
        "colab_type": "code",
        "colab": {
          "base_uri": "https://localhost:8080/",
          "height": 125
        },
        "outputId": "5882fc38-be09-4c17-8884-d952d2ed0d8f"
      },
      "cell_type": "code",
      "source": [
        "#PCA 는 여러 속성 값을 연산해야 함으로 속성의 스케일에 영향을 받음 -> 각 속성값을 동일한 스케일로 변환하는 것을 필요\n",
        "\n",
        "from sklearn.preprocessing import StandardScaler\n",
        "iris_scaled = StandardScaler().fit_transform(irisDF)\n"
      ],
      "execution_count": 5,
      "outputs": [
        {
          "output_type": "stream",
          "text": [
            "/usr/local/lib/python3.6/dist-packages/sklearn/preprocessing/data.py:645: DataConversionWarning: Data with input dtype int64, float64 were all converted to float64 by StandardScaler.\n",
            "  return self.partial_fit(X, y)\n",
            "/usr/local/lib/python3.6/dist-packages/sklearn/base.py:464: DataConversionWarning: Data with input dtype int64, float64 were all converted to float64 by StandardScaler.\n",
            "  return self.fit(X, **fit_params).transform(X)\n"
          ],
          "name": "stderr"
        }
      ]
    },
    {
      "metadata": {
        "id": "yuBHuBjmKIdu",
        "colab_type": "code",
        "colab": {
          "base_uri": "https://localhost:8080/",
          "height": 34
        },
        "outputId": "18dabfab-8114-4756-da17-dc09f64efd02"
      },
      "cell_type": "code",
      "source": [
        "from  sklearn.decomposition import PCA\n",
        "\n",
        "pca = PCA(n_components = 2 ) #n_components = 변환할 차원의 수\n",
        "\n",
        "#fit()과 transform() 을 호출해 PCA 변환 데이터 반환 \n",
        "\n",
        "pca.fit(iris_scaled)\n",
        "iris_pca = pca.transform(iris_scaled)\n",
        "print(iris_pca.shape)\n"
      ],
      "execution_count": 6,
      "outputs": [
        {
          "output_type": "stream",
          "text": [
            "(150, 2)\n"
          ],
          "name": "stdout"
        }
      ]
    },
    {
      "metadata": {
        "id": "sdZO7_gSKxKL",
        "colab_type": "code",
        "colab": {
          "base_uri": "https://localhost:8080/",
          "height": 142
        },
        "outputId": "a0d10324-3b04-4bdc-dd8c-14f5a8d4543c"
      },
      "cell_type": "code",
      "source": [
        "columns = [ 'pca_components_1', 'pca_components_2']\n",
        "\n",
        "iris_pcaDF = pd.DataFrame(iris_pca, columns = columns)\n",
        "iris_pcaDF['target'] = iris.target\n",
        "iris_pcaDF.head(3)"
      ],
      "execution_count": 9,
      "outputs": [
        {
          "output_type": "execute_result",
          "data": {
            "text/html": [
              "<div>\n",
              "<style scoped>\n",
              "    .dataframe tbody tr th:only-of-type {\n",
              "        vertical-align: middle;\n",
              "    }\n",
              "\n",
              "    .dataframe tbody tr th {\n",
              "        vertical-align: top;\n",
              "    }\n",
              "\n",
              "    .dataframe thead th {\n",
              "        text-align: right;\n",
              "    }\n",
              "</style>\n",
              "<table border=\"1\" class=\"dataframe\">\n",
              "  <thead>\n",
              "    <tr style=\"text-align: right;\">\n",
              "      <th></th>\n",
              "      <th>pca_components_1</th>\n",
              "      <th>pca_components_2</th>\n",
              "      <th>target</th>\n",
              "    </tr>\n",
              "  </thead>\n",
              "  <tbody>\n",
              "    <tr>\n",
              "      <th>0</th>\n",
              "      <td>-2.576120</td>\n",
              "      <td>0.474499</td>\n",
              "      <td>0</td>\n",
              "    </tr>\n",
              "    <tr>\n",
              "      <th>1</th>\n",
              "      <td>-2.415322</td>\n",
              "      <td>-0.678092</td>\n",
              "      <td>0</td>\n",
              "    </tr>\n",
              "    <tr>\n",
              "      <th>2</th>\n",
              "      <td>-2.659333</td>\n",
              "      <td>-0.348282</td>\n",
              "      <td>0</td>\n",
              "    </tr>\n",
              "  </tbody>\n",
              "</table>\n",
              "</div>"
            ],
            "text/plain": [
              "   pca_components_1  pca_components_2  target\n",
              "0         -2.576120          0.474499       0\n",
              "1         -2.415322         -0.678092       0\n",
              "2         -2.659333         -0.348282       0"
            ]
          },
          "metadata": {
            "tags": []
          },
          "execution_count": 9
        }
      ]
    },
    {
      "metadata": {
        "id": "YfUsbGvLLRSy",
        "colab_type": "code",
        "colab": {
          "base_uri": "https://localhost:8080/",
          "height": 285
        },
        "outputId": "2967078a-f35d-42d9-acd5-1797b7bf502b"
      },
      "cell_type": "code",
      "source": [
        "# PCA로 변환한 데이터 세트를 2차원 상에 시각화\n",
        "# pca_components_1 을 X축으로 pca_components_2 을 Y축\n",
        "\n",
        "markers = [ '^', 's', 'o']\n",
        "\n",
        "\n",
        "for i, marker in enumerate(markers):\n",
        "    x_axis_data = iris_pcaDF[iris_pcaDF['target'] == i]['pca_components_1']\n",
        "    y_axis_data = iris_pcaDF[iris_pcaDF['target'] == i]['pca_components_2']\n",
        "    plt.scatter(  x_axis_data,  y_axis_data, marker = marker, label = iris.target_names[i] )\n",
        "    \n",
        "    \n",
        "plt.legend()\n",
        "plt.xlabel('sepal_length')\n",
        "plt.ylabel('sepal_width')\n",
        "plt.show()\n"
      ],
      "execution_count": 10,
      "outputs": [
        {
          "output_type": "display_data",
          "data": {
            "image/png": "[encoded data removed]",
            "text/plain": [
              "<Figure size 432x288 with 1 Axes>"
            ]
          },
          "metadata": {
            "tags": []
          }
        }
      ]
    },
    {
      "metadata": {
        "id": "LcVvnghwLO37",
        "colab_type": "code",
        "colab": {
          "base_uri": "https://localhost:8080/",
          "height": 34
        },
        "outputId": "cfeba3c9-64b3-4401-e025-8ecf73137a3c"
      },
      "cell_type": "code",
      "source": [
        "print(pca.explained_variance_ratio_)"
      ],
      "execution_count": 12,
      "outputs": [
        {
          "output_type": "stream",
          "text": [
            "[0.76740358 0.18282727]\n"
          ],
          "name": "stdout"
        }
      ]
    },
    {
      "metadata": {
        "id": "yor7CxXENAiH",
        "colab_type": "text"
      },
      "cell_type": "markdown",
      "source": [
        "### 원본 데이터와 PCA 변환 데이터의 분류 예측 비교\n",
        "\n",
        "Esimator : RandomForestClassifier"
      ]
    },
    {
      "metadata": {
        "id": "q-jJxI5ZJUPB",
        "colab_type": "code",
        "colab": {
          "base_uri": "https://localhost:8080/",
          "height": 176
        },
        "outputId": "f230e4f4-1927-466e-ab30-bbfb37a905a4"
      },
      "cell_type": "code",
      "source": [
        "\n",
        "from sklearn.ensemble import RandomForestClassifier\n",
        "from sklearn.model_selection import cross_val_score\n",
        "\n",
        "# 원본 데이터\n",
        "rcf = RandomForestClassifier(random_state = 156)\n",
        "scores = cross_val_score(rcf , iris.data, iris.target, scoring = 'accuracy', cv = 3 )\n",
        "print(scores)"
      ],
      "execution_count": 14,
      "outputs": [
        {
          "output_type": "stream",
          "text": [
            "[0.98039216 0.92156863 0.97916667]\n"
          ],
          "name": "stdout"
        },
        {
          "output_type": "stream",
          "text": [
            "/usr/local/lib/python3.6/dist-packages/sklearn/ensemble/forest.py:246: FutureWarning: The default value of n_estimators will change from 10 in version 0.20 to 100 in 0.22.\n",
            "  \"10 in version 0.20 to 100 in 0.22.\", FutureWarning)\n",
            "/usr/local/lib/python3.6/dist-packages/sklearn/ensemble/forest.py:246: FutureWarning: The default value of n_estimators will change from 10 in version 0.20 to 100 in 0.22.\n",
            "  \"10 in version 0.20 to 100 in 0.22.\", FutureWarning)\n",
            "/usr/local/lib/python3.6/dist-packages/sklearn/ensemble/forest.py:246: FutureWarning: The default value of n_estimators will change from 10 in version 0.20 to 100 in 0.22.\n",
            "  \"10 in version 0.20 to 100 in 0.22.\", FutureWarning)\n"
          ],
          "name": "stderr"
        }
      ]
    },
    {
      "metadata": {
        "id": "PH8f0MtQN_Yf",
        "colab_type": "code",
        "colab": {
          "base_uri": "https://localhost:8080/",
          "height": 176
        },
        "outputId": "8472d134-31a0-4176-81f6-e4b7ebc3ff06"
      },
      "cell_type": "code",
      "source": [
        "# PCA 변환 데이터 \n",
        "pca_X = iris_pcaDF[['pca_components_1', 'pca_components_2']]\n",
        "scores_pca = cross_val_score(rcf, pca_X, iris.target, scoring='accuracy', cv = 3 )\n",
        "print(scores_pca)"
      ],
      "execution_count": 16,
      "outputs": [
        {
          "output_type": "stream",
          "text": [
            "[0.96078431 1.         1.        ]\n"
          ],
          "name": "stdout"
        },
        {
          "output_type": "stream",
          "text": [
            "/usr/local/lib/python3.6/dist-packages/sklearn/ensemble/forest.py:246: FutureWarning: The default value of n_estimators will change from 10 in version 0.20 to 100 in 0.22.\n",
            "  \"10 in version 0.20 to 100 in 0.22.\", FutureWarning)\n",
            "/usr/local/lib/python3.6/dist-packages/sklearn/ensemble/forest.py:246: FutureWarning: The default value of n_estimators will change from 10 in version 0.20 to 100 in 0.22.\n",
            "  \"10 in version 0.20 to 100 in 0.22.\", FutureWarning)\n",
            "/usr/local/lib/python3.6/dist-packages/sklearn/ensemble/forest.py:246: FutureWarning: The default value of n_estimators will change from 10 in version 0.20 to 100 in 0.22.\n",
            "  \"10 in version 0.20 to 100 in 0.22.\", FutureWarning)\n"
          ],
          "name": "stderr"
        }
      ]
    },
    {
      "metadata": {
        "id": "INsBCT27OgRW",
        "colab_type": "code",
        "colab": {}
      },
      "cell_type": "code",
      "source": [
        ""
      ],
      "execution_count": 0,
      "outputs": []
    }
  ]
}