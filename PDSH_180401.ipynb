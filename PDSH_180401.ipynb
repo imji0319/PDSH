{
 "cells": [
  {
   "cell_type": "code",
   "execution_count": 1,
   "metadata": {},
   "outputs": [
    {
     "data": {
      "text/plain": [
       "array([ 0.16666667,  1.        ,  0.25      ,  0.25      ,  0.125     ])"
      ]
     },
     "execution_count": 1,
     "metadata": {},
     "output_type": "execute_result"
    }
   ],
   "source": [
    "import numpy as np\n",
    "np.random.seed(0)\n",
    "\n",
    "# 배열의 원소의 역수 구하기 \n",
    "def compute_reciprocal(values):\n",
    "    output=np.empty(len(values))\n",
    "    \n",
    "    for i in range(len(values)):\n",
    "        output[i]= 1.0/values[i]\n",
    "        \n",
    "    return output\n",
    "\n",
    "values = np.random.randint(1,10,size=5)\n",
    "compute_reciprocal(values)"
   ]
  },
  {
   "cell_type": "code",
   "execution_count": 2,
   "metadata": {},
   "outputs": [
    {
     "name": "stdout",
     "output_type": "stream",
     "text": [
      "1 loop, best of 3: 2.32 s per loop\n"
     ]
    }
   ],
   "source": [
    "big_array =np.random.randint(1,100,size=1000000)\n",
    "%timeit compute_reciprocal(big_array)"
   ]
  },
  {
   "cell_type": "code",
   "execution_count": 3,
   "metadata": {},
   "outputs": [
    {
     "name": "stdout",
     "output_type": "stream",
     "text": [
      "[ 0.16666667  1.          0.25        0.25        0.125     ]\n",
      "[ 0.16666667  1.          0.25        0.25        0.125     ]\n"
     ]
    }
   ],
   "source": [
    "print(compute_reciprocal(values))\n",
    "print(1.0/values)"
   ]
  },
  {
   "cell_type": "code",
   "execution_count": 4,
   "metadata": {},
   "outputs": [
    {
     "name": "stdout",
     "output_type": "stream",
     "text": [
      "100 loops, best of 3: 4.23 ms per loop\n"
     ]
    }
   ],
   "source": [
    "%timeit( 1.0/big_array)"
   ]
  },
  {
   "cell_type": "code",
   "execution_count": 6,
   "metadata": {},
   "outputs": [
    {
     "data": {
      "text/plain": [
       "array([ 0.        ,  0.5       ,  0.66666667,  0.75      ,  0.8       ])"
      ]
     },
     "execution_count": 6,
     "metadata": {},
     "output_type": "execute_result"
    }
   ],
   "source": [
    "np.arange(5)/np.arange(1,6)"
   ]
  },
  {
   "cell_type": "code",
   "execution_count": 7,
   "metadata": {},
   "outputs": [
    {
     "data": {
      "text/plain": [
       "array([[  1,   2,   4],\n",
       "       [  8,  16,  32],\n",
       "       [ 64, 128, 256]])"
      ]
     },
     "execution_count": 7,
     "metadata": {},
     "output_type": "execute_result"
    }
   ],
   "source": [
    "x = np.arange(9).reshape((3,3))\n",
    "2**x"
   ]
  },
  {
   "cell_type": "code",
   "execution_count": 9,
   "metadata": {},
   "outputs": [
    {
     "name": "stdout",
     "output_type": "stream",
     "text": [
      "x      = [0 1 2 3]\n",
      "x + 5  = [5 6 7 8]\n",
      "x - 5  = [-5 -4 -3 -2]\n",
      "x * 5  = [ 0  5 10 15]\n",
      "x / 5  = [ 0.   0.2  0.4  0.6]\n",
      "x //2  = [0 0 0 0]\n",
      "- x    = [ 0 -1 -2 -3]\n",
      "x ** 2 = [0 1 4 9]\n",
      "x % 2  = [0 1 0 1]\n"
     ]
    }
   ],
   "source": [
    "x=np.arange(4)\n",
    "print(\"x      =\",x)\n",
    "print(\"x + 5  =\", x+5)\n",
    "print(\"x - 5  =\", x-5)\n",
    "print(\"x * 5  =\", x*5)\n",
    "print(\"x / 5  =\", x/5)\n",
    "print(\"x //2  =\", x//5)  # 정수나눗셈 \n",
    "print(\"- x    =\",-x)\n",
    "print(\"x ** 2 =\",x**2)\n",
    "print(\"x % 2  =\",x%2)"
   ]
  },
  {
   "cell_type": "code",
   "execution_count": 10,
   "metadata": {},
   "outputs": [
    {
     "data": {
      "text/plain": [
       "array([-1.  , -2.25, -4.  , -6.25])"
      ]
     },
     "execution_count": 10,
     "metadata": {},
     "output_type": "execute_result"
    }
   ],
   "source": [
    "-(0.5*x+1)**2"
   ]
  },
  {
   "cell_type": "code",
   "execution_count": 13,
   "metadata": {},
   "outputs": [
    {
     "data": {
      "text/plain": [
       "array([2, 3, 4, 5])"
      ]
     },
     "execution_count": 13,
     "metadata": {},
     "output_type": "execute_result"
    }
   ],
   "source": [
    "np.add(x,2)   # x+2"
   ]
  },
  {
   "cell_type": "code",
   "execution_count": 14,
   "metadata": {},
   "outputs": [
    {
     "data": {
      "text/plain": [
       "array([2, 1, 0, 1, 2])"
      ]
     },
     "execution_count": 14,
     "metadata": {},
     "output_type": "execute_result"
    }
   ],
   "source": [
    "x=np.array([-2,-1,0,1,2])\n",
    "abs(x)"
   ]
  },
  {
   "cell_type": "code",
   "execution_count": 15,
   "metadata": {},
   "outputs": [
    {
     "data": {
      "text/plain": [
       "array([2, 1, 0, 1, 2])"
      ]
     },
     "execution_count": 15,
     "metadata": {},
     "output_type": "execute_result"
    }
   ],
   "source": [
    "np.absolute(x)"
   ]
  },
  {
   "cell_type": "code",
   "execution_count": 17,
   "metadata": {},
   "outputs": [
    {
     "data": {
      "text/plain": [
       "array([ 5.,  5.,  2.,  1.])"
      ]
     },
     "execution_count": 17,
     "metadata": {},
     "output_type": "execute_result"
    }
   ],
   "source": [
    "x=np.array([3-4j,4-3j,2+0j,0+1j])\n",
    "np.abs(x)"
   ]
  },
  {
   "cell_type": "code",
   "execution_count": 18,
   "metadata": {
    "collapsed": true
   },
   "outputs": [],
   "source": [
    "theta= np.linspace(0,np.pi,3)"
   ]
  },
  {
   "cell_type": "code",
   "execution_count": 19,
   "metadata": {},
   "outputs": [
    {
     "data": {
      "text/plain": [
       "array([ 0.        ,  1.57079633,  3.14159265])"
      ]
     },
     "execution_count": 19,
     "metadata": {},
     "output_type": "execute_result"
    }
   ],
   "source": [
    "theta"
   ]
  },
  {
   "cell_type": "code",
   "execution_count": 20,
   "metadata": {},
   "outputs": [
    {
     "name": "stdout",
     "output_type": "stream",
     "text": [
      "theta     = [ 0.          1.57079633  3.14159265]\n",
      "sin(theta)= [  0.00000000e+00   1.00000000e+00   1.22464680e-16]\n",
      "cos(theta)= [  1.00000000e+00   6.12323400e-17  -1.00000000e+00]\n",
      "tan(theta)= [  0.00000000e+00   1.63312394e+16  -1.22464680e-16]\n"
     ]
    }
   ],
   "source": [
    "#삼각함수 : np.sin , np.cos, np.tan \n",
    "print(\"theta     =\",theta)\n",
    "print(\"sin(theta)=\",np.sin(theta))\n",
    "print(\"cos(theta)=\",np.cos(theta))\n",
    "print(\"tan(theta)=\",np.tan(theta))"
   ]
  },
  {
   "cell_type": "code",
   "execution_count": 21,
   "metadata": {},
   "outputs": [
    {
     "name": "stdout",
     "output_type": "stream",
     "text": [
      "x         = [-1, 0, 1]\n",
      "arcsin(x)= [-1.57079633  0.          1.57079633]\n",
      "arccos(x)= [ 3.14159265  1.57079633  0.        ]\n",
      "arctan(x)= [-0.78539816  0.          0.78539816]\n"
     ]
    }
   ],
   "source": [
    "#역삼각함수 arcsin, arccos, arctan \n",
    "x= [-1,0,1]\n",
    "print(\"x         =\",x)\n",
    "print(\"arcsin(x)=\",np.arcsin(x))\n",
    "print(\"arccos(x)=\",np.arccos(x))\n",
    "print(\"arctan(x)=\",np.arctan(x))"
   ]
  },
  {
   "cell_type": "code",
   "execution_count": 23,
   "metadata": {},
   "outputs": [
    {
     "name": "stdout",
     "output_type": "stream",
     "text": [
      "x     = [1, 2, 3]\n",
      "e^x   = [  2.71828183   7.3890561   20.08553692]\n",
      "2^x   = [ 2.  4.  8.]\n",
      "3^x   = [ 3  9 27]\n"
     ]
    }
   ],
   "source": [
    "#지수함수\n",
    "x = [1,2,3]\n",
    "print(\"x     =\",x)\n",
    "print(\"e^x   =\",np.exp(x))\n",
    "print(\"2^x   =\",np.exp2(x))\n",
    "print(\"3^x   =\",np.power(3,x))"
   ]
  },
  {
   "cell_type": "code",
   "execution_count": 24,
   "metadata": {},
   "outputs": [
    {
     "name": "stdout",
     "output_type": "stream",
     "text": [
      "x          = [1, 2, 4, 10]\n",
      "ln(x)      = [ 0.          0.69314718  1.38629436  2.30258509]\n",
      "log2(x)    = [ 0.          1.          2.          3.32192809]\n",
      "log10(x)   = [ 0.          0.30103     0.60205999  1.        ]\n"
     ]
    }
   ],
   "source": [
    "#로그함수 \n",
    "x=[1,2,4,10]\n",
    "print(\"x          =\",x)\n",
    "print(\"ln(x)      =\",np.log(x))\n",
    "print(\"log2(x)    =\",np.log2(x))\n",
    "print(\"log10(x)   =\",np.log10(x))"
   ]
  },
  {
   "cell_type": "code",
   "execution_count": 26,
   "metadata": {},
   "outputs": [
    {
     "name": "stdout",
     "output_type": "stream",
     "text": [
      "exp(x)-1 = [ 0.          0.0010005   0.01005017  0.10517092]\n",
      "log(1+x) = [ 0.          0.0009995   0.00995033  0.09531018]\n"
     ]
    }
   ],
   "source": [
    "#매우 작은 입력값의 정확도를 유지하고자 할 때 np.expm1(), np.log1p() : 더 정확한 값을 구할 수 있음 \n",
    "x=[0, 0.001, 0.01,0.1]\n",
    "print(\"exp(x)-1 =\",np.expm1(x))\n",
    "print(\"log(1+x) =\",np.log1p(x))"
   ]
  },
  {
   "cell_type": "code",
   "execution_count": null,
   "metadata": {
    "collapsed": true
   },
   "outputs": [],
   "source": []
  }
 ],
 "metadata": {
  "kernelspec": {
   "display_name": "Python 3",
   "language": "python",
   "name": "python3"
  },
  "language_info": {
   "codemirror_mode": {
    "name": "ipython",
    "version": 3
   },
   "file_extension": ".py",
   "mimetype": "text/x-python",
   "name": "python",
   "nbconvert_exporter": "python",
   "pygments_lexer": "ipython3",
   "version": "3.6.1"
  }
 },
 "nbformat": 4,
 "nbformat_minor": 2
}
