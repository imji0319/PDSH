{
  "nbformat": 4,
  "nbformat_minor": 0,
  "metadata": {
    "colab": {
      "name": "Mercari.ipynb",
      "version": "0.3.2",
      "provenance": [],
      "collapsed_sections": [],
      "include_colab_link": true
    },
    "kernelspec": {
      "name": "python3",
      "display_name": "Python 3"
    },
    "accelerator": "TPU"
  },
  "cells": [
    {
      "cell_type": "markdown",
      "metadata": {
        "id": "view-in-github",
        "colab_type": "text"
      },
      "source": [
        "<a href=\"https://colab.research.google.com/github/imji0319/PDSH/blob/master/Mercari.ipynb\" target=\"_parent\"><img src=\"https://colab.research.google.com/assets/colab-badge.svg\" alt=\"Open In Colab\"/></a>"
      ]
    },
    {
      "cell_type": "code",
      "metadata": {
        "id": "DrX2XoR0fn_H",
        "colab_type": "code",
        "colab": {
          "base_uri": "https://localhost:8080/",
          "height": 288
        },
        "outputId": "273dc46e-00ac-416d-808e-2567bca31c54"
      },
      "source": [
        "from google.colab import auth\n",
        "auth.authenticate_user()\n",
        "\n",
        "from google.colab import drive\n",
        "drive.mount('/content/gdrive')"
      ],
      "execution_count": 1,
      "outputs": [
        {
          "output_type": "stream",
          "text": [
            "\n",
            "WARNING: The TensorFlow contrib module will not be included in TensorFlow 2.0.\n",
            "For more information, please see:\n",
            "  * https://github.com/tensorflow/community/blob/master/rfcs/20180907-contrib-sunset.md\n",
            "  * https://github.com/tensorflow/addons\n",
            "If you depend on functionality not listed there, please file an issue.\n",
            "\n",
            "Go to this URL in a browser: https://accounts.google.com/o/oauth2/auth?client_id=947318989803-6bn6qk8qdgf4n4g3pfee6491hc0brc4i.apps.googleusercontent.com&redirect_uri=urn%3Aietf%3Awg%3Aoauth%3A2.0%3Aoob&scope=email%20https%3A%2F%2Fwww.googleapis.com%2Fauth%2Fdocs.test%20https%3A%2F%2Fwww.googleapis.com%2Fauth%2Fdrive%20https%3A%2F%2Fwww.googleapis.com%2Fauth%2Fdrive.photos.readonly%20https%3A%2F%2Fwww.googleapis.com%2Fauth%2Fpeopleapi.readonly&response_type=code\n",
            "\n",
            "Enter your authorization code:\n",
            "··········\n",
            "Mounted at /content/gdrive\n"
          ],
          "name": "stdout"
        }
      ]
    },
    {
      "cell_type": "code",
      "metadata": {
        "id": "CPEfiATwfu8A",
        "colab_type": "code",
        "colab": {
          "base_uri": "https://localhost:8080/",
          "height": 34
        },
        "outputId": "2d954bd2-c040-4205-87de-a51c4824eae7"
      },
      "source": [
        "cd /content/gdrive/My Drive/data"
      ],
      "execution_count": 2,
      "outputs": [
        {
          "output_type": "stream",
          "text": [
            "/content/gdrive/My Drive/data\n"
          ],
          "name": "stdout"
        }
      ]
    },
    {
      "cell_type": "code",
      "metadata": {
        "id": "Al_G8zsrgKRv",
        "colab_type": "code",
        "colab": {
          "base_uri": "https://localhost:8080/",
          "height": 63
        },
        "outputId": "e8f7fe55-d782-4416-dd7a-73b6762ffed4"
      },
      "source": [
        "ls"
      ],
      "execution_count": 3,
      "outputs": [
        {
          "output_type": "stream",
          "text": [
            " credit_card.xls   mercari_train.tsv  'Online Retail.xlsx'\n"
          ],
          "name": "stdout"
        }
      ]
    },
    {
      "cell_type": "code",
      "metadata": {
        "id": "bKrl05K1g_Aq",
        "colab_type": "code",
        "colab": {}
      },
      "source": [
        "from sklearn.linear_model import Ridge, LogisticRegression\n",
        "from sklearn.model_selection import train_test_split, cross_val_score\n",
        "from sklearn.feature_extraction.text import CountVectorizer, TfidfVectorizer\n",
        "import pandas as pd"
      ],
      "execution_count": 0,
      "outputs": []
    },
    {
      "cell_type": "markdown",
      "metadata": {
        "id": "r1cxaIt-iGhe",
        "colab_type": "text"
      },
      "source": [
        "# 일본의 대형 온라인 쇼핑몰인 Mercari사의 제품에 대해 가격 예측하는 과제.\n",
        "- 제공 데이터 세트 : 제품에 대한 여러 속성 및 제품 설명 등의 텍스트 데이터\n",
        "- 판매자는 제품명, 브랜드명, 카테고리, 제품 설명 등 다양한 속성 정보를 입력하고, 이러한 속성에 따라 제품의 예측 가격을 판매자에게 자동 제공\n",
        "- 회귀로 피처를 학습한 뒤 price를 예측\n"
      ]
    },
    {
      "cell_type": "code",
      "metadata": {
        "id": "gnlilkXshbQV",
        "colab_type": "code",
        "colab": {
          "base_uri": "https://localhost:8080/",
          "height": 210
        },
        "outputId": "f75b8959-ad2c-4d87-f175-d218d3117cd4"
      },
      "source": [
        "mercari_df = pd.read_csv('mercari_train.tsv', sep='\\t')\n",
        "print(mercari_df.shape)\n",
        "mercari_df.head(3)"
      ],
      "execution_count": 5,
      "outputs": [
        {
          "output_type": "stream",
          "text": [
            "(1482535, 8)\n"
          ],
          "name": "stdout"
        },
        {
          "output_type": "execute_result",
          "data": {
            "text/html": [
              "<div>\n",
              "<style scoped>\n",
              "    .dataframe tbody tr th:only-of-type {\n",
              "        vertical-align: middle;\n",
              "    }\n",
              "\n",
              "    .dataframe tbody tr th {\n",
              "        vertical-align: top;\n",
              "    }\n",
              "\n",
              "    .dataframe thead th {\n",
              "        text-align: right;\n",
              "    }\n",
              "</style>\n",
              "<table border=\"1\" class=\"dataframe\">\n",
              "  <thead>\n",
              "    <tr style=\"text-align: right;\">\n",
              "      <th></th>\n",
              "      <th>train_id</th>\n",
              "      <th>name</th>\n",
              "      <th>item_condition_id</th>\n",
              "      <th>category_name</th>\n",
              "      <th>brand_name</th>\n",
              "      <th>price</th>\n",
              "      <th>shipping</th>\n",
              "      <th>item_description</th>\n",
              "    </tr>\n",
              "  </thead>\n",
              "  <tbody>\n",
              "    <tr>\n",
              "      <th>0</th>\n",
              "      <td>0</td>\n",
              "      <td>MLB Cincinnati Reds T Shirt Size XL</td>\n",
              "      <td>3</td>\n",
              "      <td>Men/Tops/T-shirts</td>\n",
              "      <td>NaN</td>\n",
              "      <td>10.0</td>\n",
              "      <td>1</td>\n",
              "      <td>No description yet</td>\n",
              "    </tr>\n",
              "    <tr>\n",
              "      <th>1</th>\n",
              "      <td>1</td>\n",
              "      <td>Razer BlackWidow Chroma Keyboard</td>\n",
              "      <td>3</td>\n",
              "      <td>Electronics/Computers &amp; Tablets/Components &amp; P...</td>\n",
              "      <td>Razer</td>\n",
              "      <td>52.0</td>\n",
              "      <td>0</td>\n",
              "      <td>This keyboard is in great condition and works ...</td>\n",
              "    </tr>\n",
              "    <tr>\n",
              "      <th>2</th>\n",
              "      <td>2</td>\n",
              "      <td>AVA-VIV Blouse</td>\n",
              "      <td>1</td>\n",
              "      <td>Women/Tops &amp; Blouses/Blouse</td>\n",
              "      <td>Target</td>\n",
              "      <td>10.0</td>\n",
              "      <td>1</td>\n",
              "      <td>Adorable top with a hint of lace and a key hol...</td>\n",
              "    </tr>\n",
              "  </tbody>\n",
              "</table>\n",
              "</div>"
            ],
            "text/plain": [
              "   train_id                                 name  item_condition_id  \\\n",
              "0         0  MLB Cincinnati Reds T Shirt Size XL                  3   \n",
              "1         1     Razer BlackWidow Chroma Keyboard                  3   \n",
              "2         2                       AVA-VIV Blouse                  1   \n",
              "\n",
              "                                       category_name brand_name  price  \\\n",
              "0                                  Men/Tops/T-shirts        NaN   10.0   \n",
              "1  Electronics/Computers & Tablets/Components & P...      Razer   52.0   \n",
              "2                        Women/Tops & Blouses/Blouse     Target   10.0   \n",
              "\n",
              "   shipping                                   item_description  \n",
              "0         1                                 No description yet  \n",
              "1         0  This keyboard is in great condition and works ...  \n",
              "2         1  Adorable top with a hint of lace and a key hol...  "
            ]
          },
          "metadata": {
            "tags": []
          },
          "execution_count": 5
        }
      ]
    },
    {
      "cell_type": "markdown",
      "metadata": {
        "id": "45bsbwAqhxuX",
        "colab_type": "text"
      },
      "source": [
        "제공 데이터 세트의 속성\n",
        "\n",
        "* train_id : 데이터 id\n",
        "* name : 제품명\n",
        "* item_condition_id : 판매자가 제공하는 제품의 상태\n",
        "* category_name : 카테고리 명\n",
        "* brand_name : 브랜드 이름\n",
        "* price : 제품 가격, 타깃 속성\n",
        "* shipping : 배송비 무료 여부, 1 : 무료 / 0 : 유료\n",
        "* Item_description : 제품에 대한 설명 \n",
        "\n",
        "\n"
      ]
    },
    {
      "cell_type": "markdown",
      "metadata": {
        "id": "j6ftalvyks03",
        "colab_type": "text"
      },
      "source": [
        "## 데이터 전처리(Preprocessing)"
      ]
    },
    {
      "cell_type": "markdown",
      "metadata": {
        "id": "59J11SSNiiO5",
        "colab_type": "text"
      },
      "source": [
        "#### 데이터 세트의 feature 타입과 Null 여부"
      ]
    },
    {
      "cell_type": "code",
      "metadata": {
        "id": "RsAaAYS8hn5u",
        "colab_type": "code",
        "colab": {
          "base_uri": "https://localhost:8080/",
          "height": 255
        },
        "outputId": "9ff35b9a-a885-4d2f-b6a3-ab018e90c3aa"
      },
      "source": [
        "print(mercari_df.info())"
      ],
      "execution_count": 6,
      "outputs": [
        {
          "output_type": "stream",
          "text": [
            "<class 'pandas.core.frame.DataFrame'>\n",
            "RangeIndex: 1482535 entries, 0 to 1482534\n",
            "Data columns (total 8 columns):\n",
            "train_id             1482535 non-null int64\n",
            "name                 1482535 non-null object\n",
            "item_condition_id    1482535 non-null int64\n",
            "category_name        1476208 non-null object\n",
            "brand_name           849853 non-null object\n",
            "price                1482535 non-null float64\n",
            "shipping             1482535 non-null int64\n",
            "item_description     1482531 non-null object\n",
            "dtypes: float64(1), int64(3), object(4)\n",
            "memory usage: 90.5+ MB\n",
            "None\n"
          ],
          "name": "stdout"
        }
      ]
    },
    {
      "cell_type": "markdown",
      "metadata": {
        "id": "iKn2Q8UJibdl",
        "colab_type": "text"
      },
      "source": [
        "- brand_name : 매우 많은 Null 값을 가짐\n",
        "- category_name : 약 6300건의 Null 값을 가짐\n",
        "- item_description : Null 값 4개"
      ]
    },
    {
      "cell_type": "markdown",
      "metadata": {
        "id": "AJvk6qq2jC98",
        "colab_type": "text"
      },
      "source": [
        "#### Target 인 price의 데이터 분포도"
      ]
    },
    {
      "cell_type": "code",
      "metadata": {
        "id": "ozUcjB_djHsu",
        "colab_type": "code",
        "colab": {
          "base_uri": "https://localhost:8080/",
          "height": 300
        },
        "outputId": "775a7f30-0284-4ef0-d68f-73119f72857e"
      },
      "source": [
        "import matplotlib.pyplot as plt\n",
        "import seaborn as sns\n",
        "%matplotlib inline\n",
        "\n",
        "y_train_df = mercari_df['price']\n",
        "plt.figure(figsize = (6,4))\n",
        "sns.distplot(y_train_df, kde = False)"
      ],
      "execution_count": 7,
      "outputs": [
        {
          "output_type": "execute_result",
          "data": {
            "text/plain": [
              "<matplotlib.axes._subplots.AxesSubplot at 0x7fa12c393128>"
            ]
          },
          "metadata": {
            "tags": []
          },
          "execution_count": 7
        },
        {
          "output_type": "display_data",
          "data": {
            "image/png": "[encoded data removed]",
            "text/plain": [
              "<Figure size 432x288 with 1 Axes>"
            ]
          },
          "metadata": {
            "tags": []
          }
        }
      ]
    },
    {
      "cell_type": "markdown",
      "metadata": {
        "id": "awjDtwF0jdjW",
        "colab_type": "text"
      },
      "source": [
        "price 값이 비교적 적은 가격을 가진 데이터 값에 왜곡되어 분포"
      ]
    },
    {
      "cell_type": "code",
      "metadata": {
        "id": "4k-n4paxjkyp",
        "colab_type": "code",
        "colab": {
          "base_uri": "https://localhost:8080/",
          "height": 300
        },
        "outputId": "b2b9c8b9-de14-4458-8338-c95e7e7f30da"
      },
      "source": [
        "import numpy as np\n",
        "\n",
        "y_train_df = np.log1p(y_train_df)\n",
        "sns.distplot(y_train_df, kde=False)"
      ],
      "execution_count": 8,
      "outputs": [
        {
          "output_type": "execute_result",
          "data": {
            "text/plain": [
              "<matplotlib.axes._subplots.AxesSubplot at 0x7fa12b5edb00>"
            ]
          },
          "metadata": {
            "tags": []
          },
          "execution_count": 8
        },
        {
          "output_type": "display_data",
          "data": {
            "image/png": "[encoded data removed]",
            "text/plain": [
              "<Figure size 432x288 with 1 Axes>"
            ]
          },
          "metadata": {
            "tags": []
          }
        }
      ]
    },
    {
      "cell_type": "markdown",
      "metadata": {
        "id": "qtwV1F9Aj0u5",
        "colab_type": "text"
      },
      "source": [
        "#### log 값으로 변환하면 비교적 정규 분포에 가까운 데이터를 이룸.\n",
        "데이터 세트의 price 값을 원래 값에서 로그 변환 값으로 변경\n",
        "\n"
      ]
    },
    {
      "cell_type": "code",
      "metadata": {
        "id": "R08Mgh1Ji_-7",
        "colab_type": "code",
        "colab": {
          "base_uri": "https://localhost:8080/",
          "height": 85
        },
        "outputId": "bd8adb4b-5c34-45bf-fce7-bc9a60714b7e"
      },
      "source": [
        "mercari_df['price'] = np.log1p(mercari_df['price'])\n",
        "mercari_df['price'].head(3)"
      ],
      "execution_count": 9,
      "outputs": [
        {
          "output_type": "execute_result",
          "data": {
            "text/plain": [
              "0    2.397895\n",
              "1    3.970292\n",
              "2    2.397895\n",
              "Name: price, dtype: float64"
            ]
          },
          "metadata": {
            "tags": []
          },
          "execution_count": 9
        }
      ]
    },
    {
      "cell_type": "code",
      "metadata": {
        "id": "Tu9G4tO2kqRY",
        "colab_type": "code",
        "colab": {
          "base_uri": "https://localhost:8080/",
          "height": 204
        },
        "outputId": "27a4f75e-5cb4-48ad-dbfa-a05371494dd5"
      },
      "source": [
        "print('Shipping 값 유형 : \\n',mercari_df['shipping'].value_counts())\n",
        "print('item_condition_id : \\n',mercari_df['item_condition_id'].value_counts())"
      ],
      "execution_count": 13,
      "outputs": [
        {
          "output_type": "stream",
          "text": [
            "Shipping 값 유형 : \n",
            " 0    819435\n",
            "1    663100\n",
            "Name: shipping, dtype: int64\n",
            "item_condition_id : \n",
            " 1    640549\n",
            "3    432161\n",
            "2    375479\n",
            "4     31962\n",
            "5      2384\n",
            "Name: item_condition_id, dtype: int64\n"
          ],
          "name": "stdout"
        }
      ]
    },
    {
      "cell_type": "markdown",
      "metadata": {
        "id": "v-E3uoyZlYhI",
        "colab_type": "text"
      },
      "source": [
        "* shipping 은 배송비 유무이며, 값이 비교적 균일\n",
        "* item_condition_id : 판매자가 제공하는 제품 상태로 각 값이 의미하는 바를 알 수 없지만 1,2,3 값이 주로 이룸\n",
        "\n"
      ]
    },
    {
      "cell_type": "code",
      "metadata": {
        "id": "XxQqzwGFlH1i",
        "colab_type": "code",
        "colab": {
          "base_uri": "https://localhost:8080/",
          "height": 34
        },
        "outputId": "95fcbc2b-a87a-4b3a-f5c5-0c7e6874c264"
      },
      "source": [
        "boolean_cond = mercari_df['item_description'] == 'No description yet'\n",
        "mercari_df[boolean_cond]['item_description'].count()"
      ],
      "execution_count": 14,
      "outputs": [
        {
          "output_type": "execute_result",
          "data": {
            "text/plain": [
              "82489"
            ]
          },
          "metadata": {
            "tags": []
          },
          "execution_count": 14
        }
      ]
    },
    {
      "cell_type": "markdown",
      "metadata": {
        "id": "5Fv-OFvTmGZ_",
        "colab_type": "text"
      },
      "source": [
        "* item_desciption의 Null 값은 별로 없지만 별로 설명이 없는 경우 'No description yet' 이라고 표현되어 있음.\n",
        "* Null과 같이 의미 없는 값으로 적절한 값으롤 변경해야 함 "
      ]
    },
    {
      "cell_type": "markdown",
      "metadata": {
        "id": "en0FB_cnoNQJ",
        "colab_type": "text"
      },
      "source": [
        "category_name은 '/' 로 분리된 카테고리를 하나의 문자열로 나타냄 -> '/' 를 기준으로 단어 토큰화"
      ]
    },
    {
      "cell_type": "code",
      "metadata": {
        "id": "9KuEfYYcmFEH",
        "colab_type": "code",
        "colab": {}
      },
      "source": [
        "# category_name을 '/' 기준으로 분할할 함수\n",
        "def split_cat(category_name):\n",
        "    try:\n",
        "        return category_name.split('/')\n",
        "    except:\n",
        "        return ['Other_Null', 'Other_Null', 'Other_Null']"
      ],
      "execution_count": 0,
      "outputs": []
    },
    {
      "cell_type": "code",
      "metadata": {
        "id": "1DH0fXkFm5dE",
        "colab_type": "code",
        "colab": {}
      },
      "source": [
        "# apply lambda에서 호출해 대, 중, 소 칼럼을 mercari_df 에 생성\n",
        "mercari_df['cat_dae'], mercari_df['cat_jung'], mercari_df['cat_so'] = \\\n",
        "                                                                    zip(*mercari_df['category_name'].apply(lambda x : split_cat(x)))"
      ],
      "execution_count": 0,
      "outputs": []
    },
    {
      "cell_type": "code",
      "metadata": {
        "id": "KzKvEpfOnZZm",
        "colab_type": "code",
        "colab": {
          "base_uri": "https://localhost:8080/",
          "height": 306
        },
        "outputId": "aa7a8703-ba1b-479b-e140-d3b962940e44"
      },
      "source": [
        "# 대분류 값의 유형과 건수, 중분류와 소분류의 분류 개수\n",
        "print('대분류 유형 : \\n', mercari_df['cat_dae'].value_counts())\n",
        "print('중분류 유형 : \\n', mercari_df['cat_jung'].nunique())\n",
        "print('소분류 유형 : \\n', mercari_df['cat_so'].nunique())"
      ],
      "execution_count": 18,
      "outputs": [
        {
          "output_type": "stream",
          "text": [
            "대분류 유형 : \n",
            " Women                     664385\n",
            "Beauty                    207828\n",
            "Kids                      171689\n",
            "Electronics               122690\n",
            "Men                        93680\n",
            "Home                       67871\n",
            "Vintage & Collectibles     46530\n",
            "Other                      45351\n",
            "Handmade                   30842\n",
            "Sports & Outdoors          25342\n",
            "Other_Null                  6327\n",
            "Name: cat_dae, dtype: int64\n",
            "중분류 유형 : \n",
            " 114\n",
            "소분류 유형 : \n",
            " 871\n"
          ],
          "name": "stdout"
        }
      ]
    },
    {
      "cell_type": "code",
      "metadata": {
        "id": "dFNzxTXyoHrg",
        "colab_type": "code",
        "colab": {
          "base_uri": "https://localhost:8080/",
          "height": 221
        },
        "outputId": "6d0650b8-6cc2-4687-d79f-4ac70ef557b0"
      },
      "source": [
        "# brand_name, category_name, item_desciption 칼럼의 Null 값을 일괄적으로 'Other Null'로 동일하게 변경\n",
        "\n",
        "mercari_df['brand_name'] = mercari_df['brand_name'].fillna(value='Other Null')\n",
        "mercari_df['category_name'] = mercari_df['category_name'].fillna(value='Other Null')\n",
        "mercari_df['item_description'] = mercari_df['item_description'].fillna(value='Other Null')\n",
        "\n",
        "mercari_df.isnull().sum()"
      ],
      "execution_count": 19,
      "outputs": [
        {
          "output_type": "execute_result",
          "data": {
            "text/plain": [
              "train_id             0\n",
              "name                 0\n",
              "item_condition_id    0\n",
              "category_name        0\n",
              "brand_name           0\n",
              "price                0\n",
              "shipping             0\n",
              "item_description     0\n",
              "cat_dae              0\n",
              "cat_jung             0\n",
              "cat_so               0\n",
              "dtype: int64"
            ]
          },
          "metadata": {
            "tags": []
          },
          "execution_count": 19
        }
      ]
    },
    {
      "cell_type": "markdown",
      "metadata": {
        "id": "nuOLDvXkpYVU",
        "colab_type": "text"
      },
      "source": [
        "## Feature incoding과 feature Vectorization"
      ]
    },
    {
      "cell_type": "markdown",
      "metadata": {
        "id": "vS6PXRBupoAw",
        "colab_type": "text"
      },
      "source": [
        "### brand_name : 상품의 브랜드명"
      ]
    },
    {
      "cell_type": "code",
      "metadata": {
        "id": "0jGYMGdmpQgZ",
        "colab_type": "code",
        "colab": {
          "base_uri": "https://localhost:8080/",
          "height": 136
        },
        "outputId": "e154999f-0194-4630-d3dd-b3f8941dce6b"
      },
      "source": [
        "print('brand_name 의 유형 건수 : ', mercari_df['brand_name'].nunique() )\n",
        "print('brand_name 의 sample  5건 : ', mercari_df['brand_name'].value_counts()[:5] )"
      ],
      "execution_count": 20,
      "outputs": [
        {
          "output_type": "stream",
          "text": [
            "brand_name 의 유형 건수 :  4810\n",
            "brand_name 의 sample  5건 :  Other Null           632682\n",
            "PINK                  54088\n",
            "Nike                  54043\n",
            "Victoria's Secret     48036\n",
            "LuLaRoe               31024\n",
            "Name: brand_name, dtype: int64\n"
          ],
          "name": "stdout"
        }
      ]
    },
    {
      "cell_type": "markdown",
      "metadata": {
        "id": "i5ZJRERbqg4A",
        "colab_type": "text"
      },
      "source": [
        "대부분 명료한 문자열로 되어 있어 별도의 피처 벡터화 형태로 만들 필요는 없이 인코딩 변환 작업 "
      ]
    },
    {
      "cell_type": "markdown",
      "metadata": {
        "id": "4lolDvC3q4Ue",
        "colab_type": "text"
      },
      "source": [
        "### name : 상품명"
      ]
    },
    {
      "cell_type": "code",
      "metadata": {
        "id": "3yXT8Ohdq7_j",
        "colab_type": "code",
        "colab": {
          "base_uri": "https://localhost:8080/",
          "height": 238
        },
        "outputId": "2c247355-1ffd-4733-af7f-af6a9ef76b5c"
      },
      "source": [
        "print('name 의 종류 개수 : ', mercari_df['name'].nunique() )\n",
        "print('name 의 sample  10건 : \\n', mercari_df['name'][:10] )"
      ],
      "execution_count": 22,
      "outputs": [
        {
          "output_type": "stream",
          "text": [
            "name 의 종류 개수 :  1225273\n",
            "name 의 sample  10건 : \n",
            " 0       MLB Cincinnati Reds T Shirt Size XL\n",
            "1          Razer BlackWidow Chroma Keyboard\n",
            "2                            AVA-VIV Blouse\n",
            "3                     Leather Horse Statues\n",
            "4                      24K GOLD plated rose\n",
            "5          Bundled items requested for Ruie\n",
            "6        Acacia pacific tides santorini top\n",
            "7      Girls cheer and tumbling bundle of 7\n",
            "8                     Girls Nike Pro shorts\n",
            "9    Porcelain clown doll checker pants VTG\n",
            "Name: name, dtype: object\n"
          ],
          "name": "stdout"
        }
      ]
    },
    {
      "cell_type": "markdown",
      "metadata": {
        "id": "ABVk9ZPWriRD",
        "colab_type": "text"
      },
      "source": [
        "* 상품명인 name의 속성의 종류 매우 많음. \n",
        "* 전체 데이터가 1,482,535개 임으로 개별적으로 거의 고유한 상품명을 가지고 있음. \n",
        "* Name 속성은 유형이 매우 적고, 적은 단어 위주의 텍스트 형태로 돼 있으므로 Count 기반으로 피처 벡터화 변환을 적용\n"
      ]
    },
    {
      "cell_type": "markdown",
      "metadata": {
        "id": "-Mx3yJEYsslE",
        "colab_type": "text"
      },
      "source": [
        "### shipping : 배송비 유무\n",
        "0과 1, 두가지 유형을 가짐\n",
        "\n",
        "### item_conditon_id : 상품 상태\n",
        "1,2,3,4,5 의 다섯 가지 유형의 값을 가지고 있음.\n",
        "\n",
        "-> 모두 원 - 핫 인코딩 적용"
      ]
    },
    {
      "cell_type": "markdown",
      "metadata": {
        "id": "ccV0GEUQttYt",
        "colab_type": "text"
      },
      "source": [
        "### item_description :  상품 설명"
      ]
    },
    {
      "cell_type": "code",
      "metadata": {
        "id": "EDEdBUbLrPHJ",
        "colab_type": "code",
        "colab": {
          "base_uri": "https://localhost:8080/",
          "height": 105
        },
        "outputId": "8bbbe296-e422-4099-c411-50d7bac353b3"
      },
      "source": [
        "pd.set_option('max_colwidth', 200)\n",
        "\n",
        "# item_description 의 평균 문자열 크기\n",
        "print( 'item_description 평균 문자열 크기 : ' , mercari_df['item_description'].str.len().mean() )\n",
        "\n",
        "mercari_df['item_description'][:2]"
      ],
      "execution_count": 23,
      "outputs": [
        {
          "output_type": "stream",
          "text": [
            "item_description 평균 문자열 크기 :  145.7113889385411\n"
          ],
          "name": "stdout"
        },
        {
          "output_type": "execute_result",
          "data": {
            "text/plain": [
              "0                                                                                                                                                                              No description yet\n",
              "1    This keyboard is in great condition and works like it came out of the box. All of the ports are tested and work perfectly. The lights are customizable via the Razer Synapse app on your PC.\n",
              "Name: item_description, dtype: object"
            ]
          },
          "metadata": {
            "tags": []
          },
          "execution_count": 23
        }
      ]
    },
    {
      "cell_type": "markdown",
      "metadata": {
        "id": "Byk67NBZtpti",
        "colab_type": "text"
      },
      "source": [
        "### Feature Vectorization\n",
        "name 칼럼의 경우 CountVectorization 하고, item_description 칼럼의 경우 TfidfVectorization 처리"
      ]
    },
    {
      "cell_type": "code",
      "metadata": {
        "id": "peV9iF6ntmaI",
        "colab_type": "code",
        "colab": {
          "base_uri": "https://localhost:8080/",
          "height": 51
        },
        "outputId": "c0561782-820b-47bf-c27e-737b7c4a481e"
      },
      "source": [
        "# name 속성에 대한 피처 벡터화 변환 \n",
        "cnt_vec = CountVectorizer()\n",
        "X_name = cnt_vec.fit_transform(mercari_df.name)\n",
        "\n",
        "# item_description 에 피처 벡터화 변환\n",
        "tfidf_descp = TfidfVectorizer(max_features = 50000, ngram_range =(1,3), stop_words = 'english')\n",
        "X_descp = tfidf_descp.fit_transform(mercari_df['item_description'])\n",
        "\n",
        "print( 'name vectorization shape : ', X_name.shape )\n",
        "print( 'item_description vectorization shape : ', X_descp.shape )\n"
      ],
      "execution_count": 24,
      "outputs": [
        {
          "output_type": "stream",
          "text": [
            "name vectorization shape :  (1482535, 105757)\n",
            "item_description vectorization shape :  (1482535, 50000)\n"
          ],
          "name": "stdout"
        }
      ]
    },
    {
      "cell_type": "markdown",
      "metadata": {
        "id": "EBdoS_zOwWZq",
        "colab_type": "text"
      },
      "source": [
        "원 - 핫 인코딩 : brand_name, shipping, item_condition_id, cat_dae, cat_jung, cat_so \n",
        "\n",
        "희소행렬 형태의 원 - 핫 인코딩 : LableBinarizer"
      ]
    },
    {
      "cell_type": "code",
      "metadata": {
        "id": "CTVn4e_8v3-H",
        "colab_type": "code",
        "colab": {}
      },
      "source": [
        "from sklearn.preprocessing import LabelBinarizer\n",
        "\n",
        "# brabd_name, item_condition_id, shipping 각 피처들을 희소 행렬 원-핫 인코딩 변환\n",
        "lb_brand_name = LabelBinarizer(sparse_output = True)\n",
        "X_brand = lb_brand_name.fit_transform(mercari_df['brand_name'])\n",
        "\n",
        "lb_item_cond_id = LabelBinarizer(sparse_output = True)\n",
        "X_item_cond = lb_item_cond_id.fit_transform(mercari_df['item_condition_id'])\n",
        "\n",
        "\n",
        "lb_shipping = LabelBinarizer(sparse_output = True)\n",
        "X_shipping = lb_shipping.fit_transform(mercari_df['shipping'])\n",
        "\n",
        "\n",
        "\n",
        "# cat_dae, cat_jung, cat_so 각 피쳐들을 희소 행렬 원-핫 인코딩 변환\n",
        "lb_cat_dae = LabelBinarizer(sparse_output = True)\n",
        "X_cat_dae = lb_cat_dae.fit_transform(mercari_df['cat_dae'])\n",
        "\n",
        "lb_cat_jung = LabelBinarizer(sparse_output = True)\n",
        "X_cat_jung = lb_cat_jung.fit_transform(mercari_df['cat_jung'])\n",
        "\n",
        "lb_cat_so = LabelBinarizer(sparse_output = True)\n",
        "X_cat_so = lb_cat_so.fit_transform(mercari_df['cat_so'])"
      ],
      "execution_count": 0,
      "outputs": []
    },
    {
      "cell_type": "code",
      "metadata": {
        "id": "L5wyajnryhGH",
        "colab_type": "code",
        "colab": {
          "base_uri": "https://localhost:8080/",
          "height": 85
        },
        "outputId": "e157050b-e361-463b-f2d4-0c88aaf1bdd9"
      },
      "source": [
        "print(type(X_brand), type(X_item_cond), type(X_shipping))\n",
        "print('X_brand shape : {0} , X_item_cond_id : {1}'.format(X_brand.shape, X_item_cond.shape) )\n",
        "print('X_shipping shape : {0} , X_cat_dae : {1}'.format(X_shipping.shape, X_cat_dae.shape) )\n",
        "print('X_cat_jung shape : {0} , X_cat_so : {1}'.format(X_cat_jung.shape, X_cat_so.shape) )"
      ],
      "execution_count": 31,
      "outputs": [
        {
          "output_type": "stream",
          "text": [
            "<class 'scipy.sparse.csr.csr_matrix'> <class 'scipy.sparse.csr.csr_matrix'> <class 'scipy.sparse.csr.csr_matrix'>\n",
            "X_brand shape : (1482535, 4810) , X_item_cond_id : (1482535, 5)\n",
            "X_shipping shape : (1482535, 1) , X_cat_dae : (1482535, 11)\n",
            "X_cat_jung shape : (1482535, 114) , X_cat_so : (1482535, 871)\n"
          ],
          "name": "stdout"
        }
      ]
    },
    {
      "cell_type": "code",
      "metadata": {
        "id": "spCywcKV1Lv5",
        "colab_type": "code",
        "colab": {
          "base_uri": "https://localhost:8080/",
          "height": 51
        },
        "outputId": "0a665fd1-53b7-4f5c-ee38-4b29874ab290"
      },
      "source": [
        "from scipy.sparse import hstack\n",
        "import gc \n",
        "\n",
        "sparse_matrix_list = (X_name, X_descp, X_brand, X_item_cond, \\\n",
        "                                X_shipping, X_cat_dae, X_cat_jung, X_cat_so)\n",
        "\n",
        "# hstack 함수를 이용해 인코딩과 벡터화를 수행한 데이터 세트를 모두 결합\n",
        "X_features_sparse = hstack(sparse_matrix_list).tocsr()\n",
        "print(type(X_features_sparse), X_features_sparse.shape)\n",
        "\n",
        "# 데이터 세트가 메모리를 많이 차지하므로 사용 목적이 끝났으면 바로 메모리에서 삭제\n",
        "del X_features_sparse\n",
        "gc.collect()"
      ],
      "execution_count": 35,
      "outputs": [
        {
          "output_type": "stream",
          "text": [
            "<class 'scipy.sparse.csr.csr_matrix'> (1482535, 161569)\n"
          ],
          "name": "stdout"
        },
        {
          "output_type": "execute_result",
          "data": {
            "text/plain": [
              "1106"
            ]
          },
          "metadata": {
            "tags": []
          },
          "execution_count": 35
        }
      ]
    },
    {
      "cell_type": "markdown",
      "metadata": {
        "id": "OcRI8EoS270V",
        "colab_type": "text"
      },
      "source": [
        "hstack()으로 결합한 데이터 세트는 csr_matrix 타입"
      ]
    },
    {
      "cell_type": "markdown",
      "metadata": {
        "id": "-7SCD_pM3Pb4",
        "colab_type": "text"
      },
      "source": [
        "## 릿지 회귀 모델 구축 및 평가\n",
        "평가 지표 : 캐글에서 제시한 RMSLE(Root Mean Square Logarithmic Error) 방식 적용"
      ]
    },
    {
      "cell_type": "code",
      "metadata": {
        "id": "tZIWgwae27PM",
        "colab_type": "code",
        "colab": {}
      },
      "source": [
        "def rmsle(y, y_pred):\n",
        "    \n",
        "    # underflow, overflow 를 막기 위해 log가 아닌 log1p로 rmsle 계산\n",
        "    return np.sqrt(np.mean(np.power(np.log1p(y)-np.log1p(y_pred),2 )))\n",
        "\n",
        "\n",
        "def evaluate_org_price(y_test, preds):\n",
        "    \n",
        "    # 원본 데이터는 log1p로 변환되었음으로 exmpm1로 원복 필요\n",
        "    preds_exmpm = np.expm1(preds)\n",
        "    y_test_exmpm = np.expm1(y_test)\n",
        "    \n",
        "    \n",
        "    #rmsle 로 RMSLE 값 추출\n",
        "    rmsle_result = rmsle(y_test_exmpm, preds_exmpm)\n",
        "    return rmsle_result"
      ],
      "execution_count": 0,
      "outputs": []
    },
    {
      "cell_type": "code",
      "metadata": {
        "id": "pfGYL1CSqAKb",
        "colab_type": "code",
        "colab": {}
      },
      "source": [
        "def model_train_predict(model, matrix_list):\n",
        "    \n",
        "    # scipy.sparse 모듈의 hstack 을 이용해 희소행렬 결합\n",
        "    \n",
        "    X = hstack(matrix_list).tocsr()\n",
        "    \n",
        "    X_train, X_test, y_train, y_test = train_test_split(X, mercari_df['price'], test_size = 0.2, random_state = 156 )\n",
        "    \n",
        "    # 모델 학습 및 예측\n",
        "    model.fit(X_train, y_train)\n",
        "    preds = model.predict(X_test)\n",
        "    \n",
        "    del X, X_train, X_test, y_train\n",
        "    gc.collect()\n",
        "    \n",
        "    return preds, y_test\n"
      ],
      "execution_count": 0,
      "outputs": []
    },
    {
      "cell_type": "code",
      "metadata": {
        "id": "9fnMmKOd5tbs",
        "colab_type": "code",
        "colab": {
          "base_uri": "https://localhost:8080/",
          "height": 51
        },
        "outputId": "dada3c6f-31d6-41e4-aacb-d5966fcb58da"
      },
      "source": [
        "# Ridge 회귀 모델 구축\n",
        "\n",
        "linear_model = Ridge(solver = \"lsqr\", fit_intercept = False)\n",
        "\n",
        "sparse_matrix_list = (X_name, X_brand, X_item_cond, \\\n",
        "                      X_shipping, X_cat_dae, X_cat_jung, X_cat_so)\n",
        "\n",
        "linear_preds, y_test = model_train_predict(model=linear_model, matrix_list = sparse_matrix_list)\n",
        "print('Item Desciption 을 제외했을 때 rmsle 값 : ', evaluate_org_price(y_test, linear_preds))\n",
        "\n",
        "sparse_matrix_list = (X_descp, X_name, X_brand, X_item_cond, \\\n",
        "                      X_shipping, X_cat_dae, X_cat_jung, X_cat_so)\n",
        "\n",
        "linear_preds, y_test = model_train_predict(model=linear_model, matrix_list = sparse_matrix_list)\n",
        "print('Item Desciption 을 포함한 rmsle 값 : ', evaluate_org_price(y_test, linear_preds))\n"
      ],
      "execution_count": 44,
      "outputs": [
        {
          "output_type": "stream",
          "text": [
            "Item Desciption 을 제외했을 때 rmsle 값 :  0.5023727038010543\n",
            "Item Desciption 을 포함한 rmsle 값 :  0.47122110498842595\n"
          ],
          "name": "stdout"
        }
      ]
    },
    {
      "cell_type": "markdown",
      "metadata": {
        "id": "HbxPFaac8A69",
        "colab_type": "text"
      },
      "source": [
        "## LightGBM 회귀 모델 구축과 앙상블을 이용한 최종 예측 평가"
      ]
    },
    {
      "cell_type": "code",
      "metadata": {
        "id": "04413CWmiYCU",
        "colab_type": "code",
        "colab": {
          "base_uri": "https://localhost:8080/",
          "height": 34
        },
        "outputId": "c09da8b3-5652-4edb-f410-7676ffda77ef"
      },
      "source": [
        "from lightgbm import LGBMRegressor\n",
        "\n",
        "sparse_matrix_list = (X_descp, X_name, X_brand, X_item_cond,\n",
        "                                 X_shipping, X_cat_dae, X_cat_jung, X_cat_so)\n",
        "\n",
        "lgbm_model = LGBMRegressor(n_estimators = 200, learning_rate = 0.5, num_leaves = 125, random_state = 156)\n",
        "lgbm_preds, y_test = model_train_predict(model = lgbm_model, matrix_list = sparse_matrix_list)\n",
        "\n",
        "print('LightGBM rmsle 값 : ', evaluate_org_price(y_test, lgbm_preds))\n"
      ],
      "execution_count": 45,
      "outputs": [
        {
          "output_type": "stream",
          "text": [
            "LightGBM rmsle 값 :  0.45682103517346156\n"
          ],
          "name": "stdout"
        }
      ]
    },
    {
      "cell_type": "code",
      "metadata": {
        "id": "dl9T6Kui9Bzc",
        "colab_type": "code",
        "colab": {
          "base_uri": "https://localhost:8080/",
          "height": 34
        },
        "outputId": "21401648-cbd6-4ca8-ca00-ee2c6a0b27be"
      },
      "source": [
        "sparse_matrix_list = (X_descp, X_name, X_brand, X_item_cond,\n",
        "                                 X_shipping, X_cat_dae, X_cat_jung, X_cat_so)\n",
        "\n",
        "lgbm_model = LGBMRegressor(n_estimators = 1500, learning_rate = 0.5, num_leaves = 125, random_state = 156)\n",
        "lgbm_preds, y_test = model_train_predict(model = lgbm_model, matrix_list = sparse_matrix_list)\n",
        "\n",
        "print('1500 LightGBM rmsle 값 : ', evaluate_org_price(y_test, lgbm_preds))"
      ],
      "execution_count": 46,
      "outputs": [
        {
          "output_type": "stream",
          "text": [
            "1500 LightGBM rmsle 값 :  0.45825108491235633\n"
          ],
          "name": "stdout"
        }
      ]
    },
    {
      "cell_type": "markdown",
      "metadata": {
        "id": "ZmNBijV7iX0y",
        "colab_type": "text"
      },
      "source": [
        "대략 2시간 정도 소요 -> 되려 0.003 정도 상승 : "
      ]
    },
    {
      "cell_type": "code",
      "metadata": {
        "id": "c2ugmy7IE2sK",
        "colab_type": "code",
        "colab": {
          "base_uri": "https://localhost:8080/",
          "height": 34
        },
        "outputId": "66a87857-1934-4ad6-ff83-638ce491dd87"
      },
      "source": [
        "pred = lgbm_preds * 0.45 + linear_preds * 0.55\n",
        "print('LightGBM 과 Ridge를 간단하게 ensemble한 최종 rmsle 값 : ', evaluate_org_price(y_test, pred))"
      ],
      "execution_count": 49,
      "outputs": [
        {
          "output_type": "stream",
          "text": [
            "LightGBM 과 Ridge를 간단하게 ensemble한 최종 rmsle 값 :  0.4435017240075626\n"
          ],
          "name": "stdout"
        }
      ]
    },
    {
      "cell_type": "markdown",
      "metadata": {
        "id": "euqMIT0kjAu2",
        "colab_type": "text"
      },
      "source": [
        "간단한 앙상블로 rmsle 값 하락 -> 예측 성능 개선"
      ]
    }
  ]
}