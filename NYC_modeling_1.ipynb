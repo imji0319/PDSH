{
  "nbformat": 4,
  "nbformat_minor": 0,
  "metadata": {
    "colab": {
      "name": "NYC modeling_1.ipynb",
      "version": "0.3.2",
      "provenance": [],
      "collapsed_sections": [],
      "include_colab_link": true
    },
    "kernelspec": {
      "name": "python3",
      "display_name": "Python 3"
    }
  },
  "cells": [
    {
      "cell_type": "markdown",
      "metadata": {
        "id": "view-in-github",
        "colab_type": "text"
      },
      "source": [
        "<a href=\"https://colab.research.google.com/github/imji0319/PDSH/blob/master/NYC_modeling_1.ipynb\" target=\"_parent\"><img src=\"https://colab.research.google.com/assets/colab-badge.svg\" alt=\"Open In Colab\"/></a>"
      ]
    },
    {
      "cell_type": "code",
      "metadata": {
        "id": "-SuVheoIVSaZ",
        "colab_type": "code",
        "outputId": "1813c8e0-4c2a-4722-940b-0945d9bdec90",
        "colab": {
          "base_uri": "https://localhost:8080/",
          "height": 263
        }
      },
      "source": [
        "from google.colab import auth\n",
        "auth.authenticate_user()\n",
        "\n",
        "from google.colab import drive\n",
        "drive.mount('/content/gdrive')"
      ],
      "execution_count": 0,
      "outputs": [
        {
          "output_type": "stream",
          "text": [
            "Go to this URL in a browser: https://accounts.google.com/o/oauth2/auth?client_id=947318989803-6bn6qk8qdgf4n4g3pfee6491hc0brc4i.apps.googleusercontent.com&redirect_uri=urn%3Aietf%3Awg%3Aoauth%3A2.0%3Aoob&scope=email%20https%3A%2F%2Fwww.googleapis.com%2Fauth%2Fdocs.test%20https%3A%2F%2Fwww.googleapis.com%2Fauth%2Fdrive%20https%3A%2F%2Fwww.googleapis.com%2Fauth%2Fdrive.photos.readonly%20https%3A%2F%2Fwww.googleapis.com%2Fauth%2Fpeopleapi.readonly&response_type=code\n",
            "\n",
            "Enter your authorization code:\n",
            "··········\n",
            "Mounted at /content/gdrive\n"
          ],
          "name": "stdout"
        }
      ]
    },
    {
      "cell_type": "code",
      "metadata": {
        "id": "p_bib4zUViRD",
        "colab_type": "code",
        "outputId": "c5db749c-3763-45d3-8548-a8d0fde7e8ae",
        "colab": {
          "base_uri": "https://localhost:8080/",
          "height": 34
        }
      },
      "source": [
        "cd /content/gdrive/My Drive/data/nyc_split"
      ],
      "execution_count": 0,
      "outputs": [
        {
          "output_type": "stream",
          "text": [
            "/content/gdrive/My Drive/data/nyc_split\n"
          ],
          "name": "stdout"
        }
      ]
    },
    {
      "cell_type": "code",
      "metadata": {
        "id": "Chg64YUub6r1",
        "colab_type": "code",
        "outputId": "f69337dc-e5d0-48be-a01a-92f3452ee136",
        "colab": {
          "base_uri": "https://localhost:8080/",
          "height": 131
        }
      },
      "source": [
        "ls"
      ],
      "execution_count": 0,
      "outputs": [
        {
          "output_type": "stream",
          "text": [
            "nyc_0.feather   nyc_14.feather  nyc_19.feather  nyc_4.feather  nyc_9.feather\n",
            "nyc_10.feather  nyc_15.feather  nyc_1.feather   nyc_5.feather\n",
            "nyc_11.feather  nyc_16.feather  nyc_20.feather  nyc_6.feather\n",
            "nyc_12.feather  nyc_17.feather  nyc_2.feather   nyc_7.feather\n",
            "nyc_13.feather  nyc_18.feather  nyc_3.feather   nyc_8.feather\n"
          ],
          "name": "stdout"
        }
      ]
    },
    {
      "cell_type": "code",
      "metadata": {
        "id": "5GRNa5_BWJs0",
        "colab_type": "code",
        "outputId": "bdd12e55-b8a4-428f-c8b3-b88b4610dcd2",
        "colab": {
          "base_uri": "https://localhost:8080/",
          "height": 97
        }
      },
      "source": [
        "pip install -U pyarrow"
      ],
      "execution_count": 0,
      "outputs": [
        {
          "output_type": "stream",
          "text": [
            "Requirement already up-to-date: pyarrow in /usr/local/lib/python3.6/dist-packages (0.13.0)\n",
            "Requirement already satisfied, skipping upgrade: numpy>=1.14 in /usr/local/lib/python3.6/dist-packages (from pyarrow) (1.16.4)\n",
            "Requirement already satisfied, skipping upgrade: six>=1.0.0 in /usr/local/lib/python3.6/dist-packages (from pyarrow) (1.12.0)\n"
          ],
          "name": "stdout"
        }
      ]
    },
    {
      "cell_type": "code",
      "metadata": {
        "id": "oAVctcEt1Ejv",
        "colab_type": "code",
        "colab": {}
      },
      "source": [
        "import pandas as pd\n",
        "import numpy as np"
      ],
      "execution_count": 0,
      "outputs": []
    },
    {
      "cell_type": "code",
      "metadata": {
        "id": "qxgCwdUsWNLa",
        "colab_type": "code",
        "colab": {}
      },
      "source": [
        "# read data\n",
        "df_train =pd.read_feather('nyc_0.feather')"
      ],
      "execution_count": 0,
      "outputs": []
    },
    {
      "cell_type": "code",
      "metadata": {
        "id": "iJ-6AJs_WiYK",
        "colab_type": "code",
        "outputId": "91ca9416-f5e4-403f-bc0e-0048d827f081",
        "colab": {
          "base_uri": "https://localhost:8080/",
          "height": 323
        }
      },
      "source": [
        "df_train.info()"
      ],
      "execution_count": 0,
      "outputs": [
        {
          "output_type": "stream",
          "text": [
            "<class 'pandas.core.frame.DataFrame'>\n",
            "RangeIndex: 2600000 entries, 0 to 2599999\n",
            "Data columns (total 13 columns):\n",
            "level_0               int64\n",
            "index                 int64\n",
            "fare_amount           float32\n",
            "pickup_longitude      float32\n",
            "pickup_latitude       float32\n",
            "dropoff_longitude     float32\n",
            "dropoff_latitude      float32\n",
            "passenger_count       uint8\n",
            "year                  int64\n",
            "weekday               uint8\n",
            "hour                  uint8\n",
            "distance_miles        float32\n",
            "distance_to_center    float32\n",
            "dtypes: float32(7), int64(3), uint8(3)\n",
            "memory usage: 136.4 MB\n"
          ],
          "name": "stdout"
        }
      ]
    },
    {
      "cell_type": "code",
      "metadata": {
        "id": "Gq_KgWZd1Lqt",
        "colab_type": "code",
        "outputId": "4b8face5-2738-43d1-81a2-b9e827e7e464",
        "colab": {
          "base_uri": "https://localhost:8080/",
          "height": 244
        }
      },
      "source": [
        "df_train.head()"
      ],
      "execution_count": 0,
      "outputs": [
        {
          "output_type": "execute_result",
          "data": {
            "text/html": [
              "<div>\n",
              "<style scoped>\n",
              "    .dataframe tbody tr th:only-of-type {\n",
              "        vertical-align: middle;\n",
              "    }\n",
              "\n",
              "    .dataframe tbody tr th {\n",
              "        vertical-align: top;\n",
              "    }\n",
              "\n",
              "    .dataframe thead th {\n",
              "        text-align: right;\n",
              "    }\n",
              "</style>\n",
              "<table border=\"1\" class=\"dataframe\">\n",
              "  <thead>\n",
              "    <tr style=\"text-align: right;\">\n",
              "      <th></th>\n",
              "      <th>level_0</th>\n",
              "      <th>index</th>\n",
              "      <th>fare_amount</th>\n",
              "      <th>pickup_longitude</th>\n",
              "      <th>pickup_latitude</th>\n",
              "      <th>dropoff_longitude</th>\n",
              "      <th>dropoff_latitude</th>\n",
              "      <th>passenger_count</th>\n",
              "      <th>year</th>\n",
              "      <th>weekday</th>\n",
              "      <th>hour</th>\n",
              "      <th>distance_miles</th>\n",
              "      <th>distance_to_center</th>\n",
              "    </tr>\n",
              "  </thead>\n",
              "  <tbody>\n",
              "    <tr>\n",
              "      <th>0</th>\n",
              "      <td>0</td>\n",
              "      <td>0</td>\n",
              "      <td>4.5</td>\n",
              "      <td>-73.844315</td>\n",
              "      <td>40.721317</td>\n",
              "      <td>-73.841614</td>\n",
              "      <td>40.712276</td>\n",
              "      <td>1</td>\n",
              "      <td>2009</td>\n",
              "      <td>0</td>\n",
              "      <td>17</td>\n",
              "      <td>0.640473</td>\n",
              "      <td>8.501885</td>\n",
              "    </tr>\n",
              "    <tr>\n",
              "      <th>1</th>\n",
              "      <td>1</td>\n",
              "      <td>1</td>\n",
              "      <td>16.9</td>\n",
              "      <td>-74.016045</td>\n",
              "      <td>40.711304</td>\n",
              "      <td>-73.979271</td>\n",
              "      <td>40.782005</td>\n",
              "      <td>1</td>\n",
              "      <td>2010</td>\n",
              "      <td>1</td>\n",
              "      <td>16</td>\n",
              "      <td>5.250587</td>\n",
              "      <td>0.543003</td>\n",
              "    </tr>\n",
              "    <tr>\n",
              "      <th>2</th>\n",
              "      <td>2</td>\n",
              "      <td>2</td>\n",
              "      <td>5.7</td>\n",
              "      <td>-73.982735</td>\n",
              "      <td>40.761269</td>\n",
              "      <td>-73.991241</td>\n",
              "      <td>40.750561</td>\n",
              "      <td>2</td>\n",
              "      <td>2011</td>\n",
              "      <td>3</td>\n",
              "      <td>0</td>\n",
              "      <td>0.863477</td>\n",
              "      <td>3.482071</td>\n",
              "    </tr>\n",
              "    <tr>\n",
              "      <th>3</th>\n",
              "      <td>3</td>\n",
              "      <td>3</td>\n",
              "      <td>7.7</td>\n",
              "      <td>-73.987129</td>\n",
              "      <td>40.733143</td>\n",
              "      <td>-73.991570</td>\n",
              "      <td>40.758091</td>\n",
              "      <td>1</td>\n",
              "      <td>2012</td>\n",
              "      <td>5</td>\n",
              "      <td>4</td>\n",
              "      <td>1.739349</td>\n",
              "      <td>1.654125</td>\n",
              "    </tr>\n",
              "    <tr>\n",
              "      <th>4</th>\n",
              "      <td>4</td>\n",
              "      <td>4</td>\n",
              "      <td>5.3</td>\n",
              "      <td>-73.968094</td>\n",
              "      <td>40.768009</td>\n",
              "      <td>-73.956657</td>\n",
              "      <td>40.783764</td>\n",
              "      <td>1</td>\n",
              "      <td>2010</td>\n",
              "      <td>1</td>\n",
              "      <td>7</td>\n",
              "      <td>1.242172</td>\n",
              "      <td>4.225934</td>\n",
              "    </tr>\n",
              "  </tbody>\n",
              "</table>\n",
              "</div>"
            ],
            "text/plain": [
              "   level_0  index  fare_amount  ...  hour  distance_miles  distance_to_center\n",
              "0        0      0          4.5  ...    17        0.640473            8.501885\n",
              "1        1      1         16.9  ...    16        5.250587            0.543003\n",
              "2        2      2          5.7  ...     0        0.863477            3.482071\n",
              "3        3      3          7.7  ...     4        1.739349            1.654125\n",
              "4        4      4          5.3  ...     7        1.242172            4.225934\n",
              "\n",
              "[5 rows x 13 columns]"
            ]
          },
          "metadata": {
            "tags": []
          },
          "execution_count": 8
        }
      ]
    },
    {
      "cell_type": "code",
      "metadata": {
        "id": "pSk6U6pu1Ns7",
        "colab_type": "code",
        "colab": {}
      },
      "source": [
        "df_train = df_train.drop(columns=['level_0', 'index'])"
      ],
      "execution_count": 0,
      "outputs": []
    },
    {
      "cell_type": "code",
      "metadata": {
        "id": "a_85im6NqC1n",
        "colab_type": "code",
        "colab": {}
      },
      "source": [
        "from sklearn.model_selection import train_test_split \n",
        "import xgboost as xgb"
      ],
      "execution_count": 0,
      "outputs": []
    },
    {
      "cell_type": "code",
      "metadata": {
        "id": "dI35qtYm1wdm",
        "colab_type": "code",
        "colab": {}
      },
      "source": [
        "y = df_train['fare_amount']\n",
        "train = df_train.drop(columns=['fare_amount'])"
      ],
      "execution_count": 0,
      "outputs": []
    },
    {
      "cell_type": "code",
      "metadata": {
        "id": "uXyTF5nc12Bv",
        "colab_type": "code",
        "colab": {}
      },
      "source": [
        "from sklearn.model_selection import train_test_split\n",
        "\n",
        "X_train, X_test, y_train, y_test = train_test_split(train, y, random_state = 100, test_size=0.25)"
      ],
      "execution_count": 0,
      "outputs": []
    },
    {
      "cell_type": "code",
      "metadata": {
        "id": "n4bFI1EE12pj",
        "colab_type": "code",
        "outputId": "86bf0814-6ca7-4a83-f29c-bb93af321a24",
        "colab": {
          "base_uri": "https://localhost:8080/",
          "height": 34
        }
      },
      "source": [
        "#Cross-validation\n",
        "params = {\n",
        "    # Parameters that we are going to tune.\n",
        "    'max_depth': 8, #Result of tuning with CV\n",
        "    'eta':.03, #Result of tuning with CV\n",
        "    'subsample': 1, #Result of tuning with CV\n",
        "    'colsample_bytree': 0.8, #Result of tuning with CV\n",
        "    # Other parameters\n",
        "    'objective':'reg:linear',\n",
        "    'eval_metric':'rmse',\n",
        "    'silent': 1\n",
        "}\n",
        "\n",
        "#Block of code used for hypertuning parameters. Adapt to each round of parameter tuning.\n",
        "#Turn off CV in submission\n",
        "CV=False\n",
        "if CV:\n",
        "    dtrain = xgb.DMatrix(train,label=y)\n",
        "    gridsearch_params = [\n",
        "        (eta)\n",
        "        for eta in np.arange(.04, 0.12, .02)\n",
        "    ]\n",
        "\n",
        "    # Define initial best params and RMSE\n",
        "    min_rmse = float(\"Inf\")\n",
        "    best_params = None\n",
        "    for (eta) in gridsearch_params:\n",
        "        print(\"CV with eta={} \".format(\n",
        "                                 eta))\n",
        "\n",
        "        # Update our parameters\n",
        "        params['eta'] = eta\n",
        "\n",
        "        # Run CV\n",
        "        cv_results = xgb.cv(\n",
        "            params,\n",
        "            dtrain,\n",
        "            num_boost_round=1000,\n",
        "            nfold=3,\n",
        "            metrics={'rmse'},\n",
        "            early_stopping_rounds=10\n",
        "        )\n",
        "\n",
        "        # Update best RMSE\n",
        "        mean_rmse = cv_results['test-rmse-mean'].min()\n",
        "        boost_rounds = cv_results['test-rmse-mean'].argmin()\n",
        "        \n",
        "        print(\"\\tRMSE {} for {} rounds\".format(mean_rmse, boost_rounds))\n",
        "        if mean_rmse < min_rmse:\n",
        "            min_rmse = mean_rmse\n",
        "            best_params = (eta)\n",
        "\n",
        "    print(\"Best params: {}, RMSE: {}\".format(best_params, min_rmse))\n",
        "    \n",
        "else:\n",
        "    #Print final params to use for the model\n",
        "    params['silent'] = 0 #Turn on output\n",
        "    print(params)"
      ],
      "execution_count": 0,
      "outputs": [
        {
          "output_type": "stream",
          "text": [
            "{'max_depth': 8, 'eta': 0.03, 'subsample': 1, 'colsample_bytree': 0.8, 'objective': 'reg:linear', 'eval_metric': 'rmse', 'silent': 0}\n"
          ],
          "name": "stdout"
        }
      ]
    },
    {
      "cell_type": "code",
      "metadata": {
        "id": "P0UzVzBQ19NS",
        "colab_type": "code",
        "colab": {}
      },
      "source": [
        "def XGBmodel(x_train,x_test,y_train,y_test,params):\n",
        "    matrix_train = xgb.DMatrix(x_train,label=y_train)\n",
        "    matrix_test = xgb.DMatrix(x_test,label=y_test)\n",
        "    model=xgb.train(params=params,\n",
        "                    dtrain=matrix_train,num_boost_round=500, \n",
        "                    early_stopping_rounds=10,evals=[(matrix_test,'test')])\n",
        "    return model"
      ],
      "execution_count": 0,
      "outputs": []
    },
    {
      "cell_type": "code",
      "metadata": {
        "id": "5XtcjxvNdYK8",
        "colab_type": "code",
        "colab": {}
      },
      "source": [
        "def XGBmodelusedW(x_train,x_test,y_train,y_test,params,weights):\n",
        "    matrix_train = xgb.DMatrix(x_train,label=y_train)\n",
        "    matrix_test = xgb.DMatrix(x_test,label=y_test)\n",
        "    model=xgb.train(params=params, weight=weigths,\n",
        "                    dtrain=matrix_train,num_boost_round=500, \n",
        "                    early_stopping_rounds=10,evals=[(matrix_test,'test')])\n",
        "    return model"
      ],
      "execution_count": 0,
      "outputs": []
    },
    {
      "cell_type": "code",
      "metadata": {
        "id": "mi8XaY5h1_iF",
        "colab_type": "code",
        "outputId": "20027196-c810-4dbe-8211-567f0c215221",
        "colab": {
          "base_uri": "https://localhost:8080/",
          "height": 8585
        }
      },
      "source": [
        "model = XGBmodel(X_train,X_test,y_train,y_test,params)"
      ],
      "execution_count": 0,
      "outputs": [
        {
          "output_type": "stream",
          "text": [
            "/usr/local/lib/python3.6/dist-packages/xgboost/core.py:587: FutureWarning: Series.base is deprecated and will be removed in a future version\n",
            "  if getattr(data, 'base', None) is not None and \\\n"
          ],
          "name": "stderr"
        },
        {
          "output_type": "stream",
          "text": [
            "[02:56:51] WARNING: /workspace/src/objective/regression_obj.cu:152: reg:linear is now deprecated in favor of reg:squarederror.\n",
            "[0]\ttest-rmse:13.9874\n",
            "Will train until test-rmse hasn't improved in 10 rounds.\n",
            "[1]\ttest-rmse:13.6006\n",
            "[2]\ttest-rmse:13.2252\n",
            "[3]\ttest-rmse:12.8607\n",
            "[4]\ttest-rmse:12.5101\n",
            "[5]\ttest-rmse:12.1865\n",
            "[6]\ttest-rmse:11.855\n",
            "[7]\ttest-rmse:11.5334\n",
            "[8]\ttest-rmse:11.2231\n",
            "[9]\ttest-rmse:10.9382\n",
            "[10]\ttest-rmse:10.6487\n",
            "[11]\ttest-rmse:10.3671\n",
            "[12]\ttest-rmse:10.095\n",
            "[13]\ttest-rmse:9.85238\n",
            "[14]\ttest-rmse:9.59882\n",
            "[15]\ttest-rmse:9.3522\n",
            "[16]\ttest-rmse:9.11555\n",
            "[17]\ttest-rmse:8.89993\n",
            "[18]\ttest-rmse:8.67813\n",
            "[19]\ttest-rmse:8.47563\n",
            "[20]\ttest-rmse:8.28125\n",
            "[21]\ttest-rmse:8.08143\n",
            "[22]\ttest-rmse:7.90115\n",
            "[23]\ttest-rmse:7.71493\n",
            "[24]\ttest-rmse:7.53449\n",
            "[25]\ttest-rmse:7.36072\n",
            "[26]\ttest-rmse:7.19228\n",
            "[27]\ttest-rmse:7.03308\n",
            "[28]\ttest-rmse:6.87689\n",
            "[29]\ttest-rmse:6.72645\n",
            "[30]\ttest-rmse:6.5821\n",
            "[31]\ttest-rmse:6.44329\n",
            "[32]\ttest-rmse:6.31\n",
            "[33]\ttest-rmse:6.18051\n",
            "[34]\ttest-rmse:6.06512\n",
            "[35]\ttest-rmse:5.94638\n",
            "[36]\ttest-rmse:5.83138\n",
            "[37]\ttest-rmse:5.72231\n",
            "[38]\ttest-rmse:5.62461\n",
            "[39]\ttest-rmse:5.52217\n",
            "[40]\ttest-rmse:5.42529\n",
            "[41]\ttest-rmse:5.33126\n",
            "[42]\ttest-rmse:5.24737\n",
            "[43]\ttest-rmse:5.16839\n",
            "[44]\ttest-rmse:5.08533\n",
            "[45]\ttest-rmse:5.00576\n",
            "[46]\ttest-rmse:4.93049\n",
            "[47]\ttest-rmse:4.85804\n",
            "[48]\ttest-rmse:4.78915\n",
            "[49]\ttest-rmse:4.72318\n",
            "[50]\ttest-rmse:4.66032\n",
            "[51]\ttest-rmse:4.59964\n",
            "[52]\ttest-rmse:4.54181\n",
            "[53]\ttest-rmse:4.48726\n",
            "[54]\ttest-rmse:4.43439\n",
            "[55]\ttest-rmse:4.38792\n",
            "[56]\ttest-rmse:4.34037\n",
            "[57]\ttest-rmse:4.29421\n",
            "[58]\ttest-rmse:4.25091\n",
            "[59]\ttest-rmse:4.20908\n",
            "[60]\ttest-rmse:4.17239\n",
            "[61]\ttest-rmse:4.13499\n",
            "[62]\ttest-rmse:4.09964\n",
            "[63]\ttest-rmse:4.06563\n",
            "[64]\ttest-rmse:4.03324\n",
            "[65]\ttest-rmse:4.0016\n",
            "[66]\ttest-rmse:3.97174\n",
            "[67]\ttest-rmse:3.94366\n",
            "[68]\ttest-rmse:3.91686\n",
            "[69]\ttest-rmse:3.89172\n",
            "[70]\ttest-rmse:3.86775\n",
            "[71]\ttest-rmse:3.84483\n",
            "[72]\ttest-rmse:3.82261\n",
            "[73]\ttest-rmse:3.80149\n",
            "[74]\ttest-rmse:3.78192\n",
            "[75]\ttest-rmse:3.76359\n",
            "[76]\ttest-rmse:3.74614\n",
            "[77]\ttest-rmse:3.7289\n",
            "[78]\ttest-rmse:3.71304\n",
            "[79]\ttest-rmse:3.69764\n",
            "[80]\ttest-rmse:3.68292\n",
            "[81]\ttest-rmse:3.66947\n",
            "[82]\ttest-rmse:3.6569\n",
            "[83]\ttest-rmse:3.64493\n",
            "[84]\ttest-rmse:3.63282\n",
            "[85]\ttest-rmse:3.62122\n",
            "[86]\ttest-rmse:3.61111\n",
            "[87]\ttest-rmse:3.60095\n",
            "[88]\ttest-rmse:3.59157\n",
            "[89]\ttest-rmse:3.58247\n",
            "[90]\ttest-rmse:3.57317\n",
            "[91]\ttest-rmse:3.56474\n",
            "[92]\ttest-rmse:3.55648\n",
            "[93]\ttest-rmse:3.54866\n",
            "[94]\ttest-rmse:3.54096\n",
            "[95]\ttest-rmse:3.53403\n",
            "[96]\ttest-rmse:3.52757\n",
            "[97]\ttest-rmse:3.52153\n",
            "[98]\ttest-rmse:3.51564\n",
            "[99]\ttest-rmse:3.51002\n",
            "[100]\ttest-rmse:3.50513\n",
            "[101]\ttest-rmse:3.49945\n",
            "[102]\ttest-rmse:3.49455\n",
            "[103]\ttest-rmse:3.48971\n",
            "[104]\ttest-rmse:3.48511\n",
            "[105]\ttest-rmse:3.48052\n",
            "[106]\ttest-rmse:3.47607\n",
            "[107]\ttest-rmse:3.4723\n",
            "[108]\ttest-rmse:3.4686\n",
            "[109]\ttest-rmse:3.465\n",
            "[110]\ttest-rmse:3.46107\n",
            "[111]\ttest-rmse:3.45766\n",
            "[112]\ttest-rmse:3.45483\n",
            "[113]\ttest-rmse:3.45178\n",
            "[114]\ttest-rmse:3.44856\n",
            "[115]\ttest-rmse:3.44602\n",
            "[116]\ttest-rmse:3.44266\n",
            "[117]\ttest-rmse:3.44026\n",
            "[118]\ttest-rmse:3.43796\n",
            "[119]\ttest-rmse:3.43498\n",
            "[120]\ttest-rmse:3.43203\n",
            "[121]\ttest-rmse:3.42986\n",
            "[122]\ttest-rmse:3.4276\n",
            "[123]\ttest-rmse:3.42566\n",
            "[124]\ttest-rmse:3.4235\n",
            "[125]\ttest-rmse:3.42168\n",
            "[126]\ttest-rmse:3.41928\n",
            "[127]\ttest-rmse:3.41697\n",
            "[128]\ttest-rmse:3.41516\n",
            "[129]\ttest-rmse:3.41364\n",
            "[130]\ttest-rmse:3.41207\n",
            "[131]\ttest-rmse:3.41055\n",
            "[132]\ttest-rmse:3.40927\n",
            "[133]\ttest-rmse:3.4067\n",
            "[134]\ttest-rmse:3.40531\n",
            "[135]\ttest-rmse:3.40293\n",
            "[136]\ttest-rmse:3.4018\n",
            "[137]\ttest-rmse:3.39998\n",
            "[138]\ttest-rmse:3.39875\n",
            "[139]\ttest-rmse:3.3976\n",
            "[140]\ttest-rmse:3.39659\n",
            "[141]\ttest-rmse:3.39524\n",
            "[142]\ttest-rmse:3.39442\n",
            "[143]\ttest-rmse:3.3926\n",
            "[144]\ttest-rmse:3.39183\n",
            "[145]\ttest-rmse:3.39051\n",
            "[146]\ttest-rmse:3.38955\n",
            "[147]\ttest-rmse:3.38861\n",
            "[148]\ttest-rmse:3.38786\n",
            "[149]\ttest-rmse:3.38686\n",
            "[150]\ttest-rmse:3.38591\n",
            "[151]\ttest-rmse:3.38366\n",
            "[152]\ttest-rmse:3.38256\n",
            "[153]\ttest-rmse:3.38184\n",
            "[154]\ttest-rmse:3.38127\n",
            "[155]\ttest-rmse:3.38057\n",
            "[156]\ttest-rmse:3.37867\n",
            "[157]\ttest-rmse:3.37719\n",
            "[158]\ttest-rmse:3.37627\n",
            "[159]\ttest-rmse:3.37546\n",
            "[160]\ttest-rmse:3.37486\n",
            "[161]\ttest-rmse:3.374\n",
            "[162]\ttest-rmse:3.37326\n",
            "[163]\ttest-rmse:3.37238\n",
            "[164]\ttest-rmse:3.3719\n",
            "[165]\ttest-rmse:3.37048\n",
            "[166]\ttest-rmse:3.36977\n",
            "[167]\ttest-rmse:3.36929\n",
            "[168]\ttest-rmse:3.3688\n",
            "[169]\ttest-rmse:3.36655\n",
            "[170]\ttest-rmse:3.36601\n",
            "[171]\ttest-rmse:3.36545\n",
            "[172]\ttest-rmse:3.36406\n",
            "[173]\ttest-rmse:3.36354\n",
            "[174]\ttest-rmse:3.36253\n",
            "[175]\ttest-rmse:3.36121\n",
            "[176]\ttest-rmse:3.36084\n",
            "[177]\ttest-rmse:3.36007\n",
            "[178]\ttest-rmse:3.35945\n",
            "[179]\ttest-rmse:3.3589\n",
            "[180]\ttest-rmse:3.35839\n",
            "[181]\ttest-rmse:3.35783\n",
            "[182]\ttest-rmse:3.35718\n",
            "[183]\ttest-rmse:3.35672\n",
            "[184]\ttest-rmse:3.35632\n",
            "[185]\ttest-rmse:3.35528\n",
            "[186]\ttest-rmse:3.35451\n",
            "[187]\ttest-rmse:3.35396\n",
            "[188]\ttest-rmse:3.3532\n",
            "[189]\ttest-rmse:3.3526\n",
            "[190]\ttest-rmse:3.35201\n",
            "[191]\ttest-rmse:3.35145\n",
            "[192]\ttest-rmse:3.35096\n",
            "[193]\ttest-rmse:3.34901\n",
            "[194]\ttest-rmse:3.34731\n",
            "[195]\ttest-rmse:3.34693\n",
            "[196]\ttest-rmse:3.34623\n",
            "[197]\ttest-rmse:3.3458\n",
            "[198]\ttest-rmse:3.34551\n",
            "[199]\ttest-rmse:3.34452\n",
            "[200]\ttest-rmse:3.34419\n",
            "[201]\ttest-rmse:3.344\n",
            "[202]\ttest-rmse:3.34356\n",
            "[203]\ttest-rmse:3.34306\n",
            "[204]\ttest-rmse:3.34261\n",
            "[205]\ttest-rmse:3.34226\n",
            "[206]\ttest-rmse:3.34208\n",
            "[207]\ttest-rmse:3.34181\n",
            "[208]\ttest-rmse:3.34147\n",
            "[209]\ttest-rmse:3.34059\n",
            "[210]\ttest-rmse:3.34016\n",
            "[211]\ttest-rmse:3.34001\n",
            "[212]\ttest-rmse:3.33946\n",
            "[213]\ttest-rmse:3.3391\n",
            "[214]\ttest-rmse:3.33906\n",
            "[215]\ttest-rmse:3.33889\n",
            "[216]\ttest-rmse:3.33856\n",
            "[217]\ttest-rmse:3.33752\n",
            "[218]\ttest-rmse:3.3374\n",
            "[219]\ttest-rmse:3.33598\n",
            "[220]\ttest-rmse:3.33551\n",
            "[221]\ttest-rmse:3.33512\n",
            "[222]\ttest-rmse:3.33499\n",
            "[223]\ttest-rmse:3.33458\n",
            "[224]\ttest-rmse:3.33349\n",
            "[225]\ttest-rmse:3.33265\n",
            "[226]\ttest-rmse:3.33209\n",
            "[227]\ttest-rmse:3.33193\n",
            "[228]\ttest-rmse:3.33166\n",
            "[229]\ttest-rmse:3.33165\n",
            "[230]\ttest-rmse:3.33136\n",
            "[231]\ttest-rmse:3.33095\n",
            "[232]\ttest-rmse:3.33037\n",
            "[233]\ttest-rmse:3.33027\n",
            "[234]\ttest-rmse:3.33002\n",
            "[235]\ttest-rmse:3.32998\n",
            "[236]\ttest-rmse:3.32973\n",
            "[237]\ttest-rmse:3.32911\n",
            "[238]\ttest-rmse:3.3286\n",
            "[239]\ttest-rmse:3.32859\n",
            "[240]\ttest-rmse:3.32834\n",
            "[241]\ttest-rmse:3.32815\n",
            "[242]\ttest-rmse:3.32752\n",
            "[243]\ttest-rmse:3.32744\n",
            "[244]\ttest-rmse:3.32662\n",
            "[245]\ttest-rmse:3.32633\n",
            "[246]\ttest-rmse:3.3261\n",
            "[247]\ttest-rmse:3.32484\n",
            "[248]\ttest-rmse:3.32468\n",
            "[249]\ttest-rmse:3.32393\n",
            "[250]\ttest-rmse:3.32345\n",
            "[251]\ttest-rmse:3.32297\n",
            "[252]\ttest-rmse:3.32272\n",
            "[253]\ttest-rmse:3.32259\n",
            "[254]\ttest-rmse:3.3221\n",
            "[255]\ttest-rmse:3.32045\n",
            "[256]\ttest-rmse:3.32029\n",
            "[257]\ttest-rmse:3.32022\n",
            "[258]\ttest-rmse:3.31952\n",
            "[259]\ttest-rmse:3.31913\n",
            "[260]\ttest-rmse:3.3189\n",
            "[261]\ttest-rmse:3.31875\n",
            "[262]\ttest-rmse:3.31843\n",
            "[263]\ttest-rmse:3.31802\n",
            "[264]\ttest-rmse:3.31799\n",
            "[265]\ttest-rmse:3.31582\n",
            "[266]\ttest-rmse:3.31533\n",
            "[267]\ttest-rmse:3.31509\n",
            "[268]\ttest-rmse:3.31472\n",
            "[269]\ttest-rmse:3.31472\n",
            "[270]\ttest-rmse:3.3142\n",
            "[271]\ttest-rmse:3.31375\n",
            "[272]\ttest-rmse:3.31355\n",
            "[273]\ttest-rmse:3.31274\n",
            "[274]\ttest-rmse:3.31265\n",
            "[275]\ttest-rmse:3.31232\n",
            "[276]\ttest-rmse:3.31159\n",
            "[277]\ttest-rmse:3.31096\n",
            "[278]\ttest-rmse:3.31099\n",
            "[279]\ttest-rmse:3.31056\n",
            "[280]\ttest-rmse:3.31001\n",
            "[281]\ttest-rmse:3.30945\n",
            "[282]\ttest-rmse:3.30921\n",
            "[283]\ttest-rmse:3.30887\n",
            "[284]\ttest-rmse:3.3083\n",
            "[285]\ttest-rmse:3.30794\n",
            "[286]\ttest-rmse:3.30727\n",
            "[287]\ttest-rmse:3.30676\n",
            "[288]\ttest-rmse:3.30631\n",
            "[289]\ttest-rmse:3.30605\n",
            "[290]\ttest-rmse:3.30582\n",
            "[291]\ttest-rmse:3.30568\n",
            "[292]\ttest-rmse:3.30498\n",
            "[293]\ttest-rmse:3.30498\n",
            "[294]\ttest-rmse:3.3046\n",
            "[295]\ttest-rmse:3.30407\n",
            "[296]\ttest-rmse:3.30367\n",
            "[297]\ttest-rmse:3.30325\n",
            "[298]\ttest-rmse:3.3031\n",
            "[299]\ttest-rmse:3.30282\n",
            "[300]\ttest-rmse:3.30247\n",
            "[301]\ttest-rmse:3.30224\n",
            "[302]\ttest-rmse:3.30219\n",
            "[303]\ttest-rmse:3.30125\n",
            "[304]\ttest-rmse:3.30072\n",
            "[305]\ttest-rmse:3.30012\n",
            "[306]\ttest-rmse:3.29982\n",
            "[307]\ttest-rmse:3.29965\n",
            "[308]\ttest-rmse:3.29936\n",
            "[309]\ttest-rmse:3.29809\n",
            "[310]\ttest-rmse:3.29779\n",
            "[311]\ttest-rmse:3.29768\n",
            "[312]\ttest-rmse:3.29716\n",
            "[313]\ttest-rmse:3.29688\n",
            "[314]\ttest-rmse:3.29595\n",
            "[315]\ttest-rmse:3.29576\n",
            "[316]\ttest-rmse:3.29444\n",
            "[317]\ttest-rmse:3.29398\n",
            "[318]\ttest-rmse:3.29374\n",
            "[319]\ttest-rmse:3.29343\n",
            "[320]\ttest-rmse:3.2926\n",
            "[321]\ttest-rmse:3.29236\n",
            "[322]\ttest-rmse:3.29196\n",
            "[323]\ttest-rmse:3.29178\n",
            "[324]\ttest-rmse:3.29144\n",
            "[325]\ttest-rmse:3.29123\n",
            "[326]\ttest-rmse:3.29092\n",
            "[327]\ttest-rmse:3.29085\n",
            "[328]\ttest-rmse:3.29075\n",
            "[329]\ttest-rmse:3.28999\n",
            "[330]\ttest-rmse:3.28975\n",
            "[331]\ttest-rmse:3.28958\n",
            "[332]\ttest-rmse:3.28948\n",
            "[333]\ttest-rmse:3.28908\n",
            "[334]\ttest-rmse:3.28877\n",
            "[335]\ttest-rmse:3.2883\n",
            "[336]\ttest-rmse:3.2879\n",
            "[337]\ttest-rmse:3.2878\n",
            "[338]\ttest-rmse:3.28775\n",
            "[339]\ttest-rmse:3.28735\n",
            "[340]\ttest-rmse:3.28728\n",
            "[341]\ttest-rmse:3.28681\n",
            "[342]\ttest-rmse:3.28634\n",
            "[343]\ttest-rmse:3.2862\n",
            "[344]\ttest-rmse:3.28595\n",
            "[345]\ttest-rmse:3.28593\n",
            "[346]\ttest-rmse:3.28591\n",
            "[347]\ttest-rmse:3.28578\n",
            "[348]\ttest-rmse:3.2856\n",
            "[349]\ttest-rmse:3.28491\n",
            "[350]\ttest-rmse:3.28454\n",
            "[351]\ttest-rmse:3.28427\n",
            "[352]\ttest-rmse:3.28386\n",
            "[353]\ttest-rmse:3.28275\n",
            "[354]\ttest-rmse:3.28235\n",
            "[355]\ttest-rmse:3.28222\n",
            "[356]\ttest-rmse:3.28208\n",
            "[357]\ttest-rmse:3.28202\n",
            "[358]\ttest-rmse:3.282\n",
            "[359]\ttest-rmse:3.28195\n",
            "[360]\ttest-rmse:3.28179\n",
            "[361]\ttest-rmse:3.28163\n",
            "[362]\ttest-rmse:3.28061\n",
            "[363]\ttest-rmse:3.28044\n",
            "[364]\ttest-rmse:3.28011\n",
            "[365]\ttest-rmse:3.2798\n",
            "[366]\ttest-rmse:3.27961\n",
            "[367]\ttest-rmse:3.27937\n",
            "[368]\ttest-rmse:3.2792\n",
            "[369]\ttest-rmse:3.27842\n",
            "[370]\ttest-rmse:3.27828\n",
            "[371]\ttest-rmse:3.27821\n",
            "[372]\ttest-rmse:3.27804\n",
            "[373]\ttest-rmse:3.27806\n",
            "[374]\ttest-rmse:3.27801\n",
            "[375]\ttest-rmse:3.27773\n",
            "[376]\ttest-rmse:3.27738\n",
            "[377]\ttest-rmse:3.27722\n",
            "[378]\ttest-rmse:3.27713\n",
            "[379]\ttest-rmse:3.2765\n",
            "[380]\ttest-rmse:3.27607\n",
            "[381]\ttest-rmse:3.27595\n",
            "[382]\ttest-rmse:3.27562\n",
            "[383]\ttest-rmse:3.27556\n",
            "[384]\ttest-rmse:3.27551\n",
            "[385]\ttest-rmse:3.27522\n",
            "[386]\ttest-rmse:3.27496\n",
            "[387]\ttest-rmse:3.27495\n",
            "[388]\ttest-rmse:3.2746\n",
            "[389]\ttest-rmse:3.27455\n",
            "[390]\ttest-rmse:3.27433\n",
            "[391]\ttest-rmse:3.27432\n",
            "[392]\ttest-rmse:3.27423\n",
            "[393]\ttest-rmse:3.27425\n",
            "[394]\ttest-rmse:3.27371\n",
            "[395]\ttest-rmse:3.27355\n",
            "[396]\ttest-rmse:3.27352\n",
            "[397]\ttest-rmse:3.27332\n",
            "[398]\ttest-rmse:3.27317\n",
            "[399]\ttest-rmse:3.27263\n",
            "[400]\ttest-rmse:3.27249\n",
            "[401]\ttest-rmse:3.27216\n",
            "[402]\ttest-rmse:3.27198\n",
            "[403]\ttest-rmse:3.27165\n",
            "[404]\ttest-rmse:3.27152\n",
            "[405]\ttest-rmse:3.2712\n",
            "[406]\ttest-rmse:3.27114\n",
            "[407]\ttest-rmse:3.27089\n",
            "[408]\ttest-rmse:3.27075\n",
            "[409]\ttest-rmse:3.27065\n",
            "[410]\ttest-rmse:3.27067\n",
            "[411]\ttest-rmse:3.2705\n",
            "[412]\ttest-rmse:3.27048\n",
            "[413]\ttest-rmse:3.2702\n",
            "[414]\ttest-rmse:3.2702\n",
            "[415]\ttest-rmse:3.27006\n",
            "[416]\ttest-rmse:3.26985\n",
            "[417]\ttest-rmse:3.26969\n",
            "[418]\ttest-rmse:3.26945\n",
            "[419]\ttest-rmse:3.26922\n",
            "[420]\ttest-rmse:3.26923\n",
            "[421]\ttest-rmse:3.26921\n",
            "[422]\ttest-rmse:3.26895\n",
            "[423]\ttest-rmse:3.26884\n",
            "[424]\ttest-rmse:3.2683\n",
            "[425]\ttest-rmse:3.26805\n",
            "[426]\ttest-rmse:3.26803\n",
            "[427]\ttest-rmse:3.26777\n",
            "[428]\ttest-rmse:3.26752\n",
            "[429]\ttest-rmse:3.26671\n",
            "[430]\ttest-rmse:3.26664\n",
            "[431]\ttest-rmse:3.26664\n",
            "[432]\ttest-rmse:3.26661\n",
            "[433]\ttest-rmse:3.26645\n",
            "[434]\ttest-rmse:3.2663\n",
            "[435]\ttest-rmse:3.26572\n",
            "[436]\ttest-rmse:3.26571\n",
            "[437]\ttest-rmse:3.26565\n",
            "[438]\ttest-rmse:3.26559\n",
            "[439]\ttest-rmse:3.26559\n",
            "[440]\ttest-rmse:3.26558\n",
            "[441]\ttest-rmse:3.26538\n",
            "[442]\ttest-rmse:3.26514\n",
            "[443]\ttest-rmse:3.26498\n",
            "[444]\ttest-rmse:3.26491\n",
            "[445]\ttest-rmse:3.26484\n",
            "[446]\ttest-rmse:3.26483\n",
            "[447]\ttest-rmse:3.26432\n",
            "[448]\ttest-rmse:3.2642\n",
            "[449]\ttest-rmse:3.26421\n",
            "[450]\ttest-rmse:3.2642\n",
            "[451]\ttest-rmse:3.26397\n",
            "[452]\ttest-rmse:3.26389\n",
            "[453]\ttest-rmse:3.2639\n",
            "[454]\ttest-rmse:3.26307\n",
            "[455]\ttest-rmse:3.26302\n",
            "[456]\ttest-rmse:3.26302\n",
            "[457]\ttest-rmse:3.263\n",
            "[458]\ttest-rmse:3.26301\n",
            "[459]\ttest-rmse:3.26295\n",
            "[460]\ttest-rmse:3.26274\n",
            "[461]\ttest-rmse:3.26271\n",
            "[462]\ttest-rmse:3.26197\n",
            "[463]\ttest-rmse:3.26184\n",
            "[464]\ttest-rmse:3.26182\n",
            "[465]\ttest-rmse:3.26181\n",
            "[466]\ttest-rmse:3.26171\n",
            "[467]\ttest-rmse:3.26171\n",
            "[468]\ttest-rmse:3.26169\n",
            "[469]\ttest-rmse:3.2614\n",
            "[470]\ttest-rmse:3.26138\n",
            "[471]\ttest-rmse:3.26136\n",
            "[472]\ttest-rmse:3.26126\n",
            "[473]\ttest-rmse:3.26123\n",
            "[474]\ttest-rmse:3.26121\n",
            "[475]\ttest-rmse:3.26035\n",
            "[476]\ttest-rmse:3.2603\n",
            "[477]\ttest-rmse:3.26019\n",
            "[478]\ttest-rmse:3.25994\n",
            "[479]\ttest-rmse:3.25993\n",
            "[480]\ttest-rmse:3.25993\n",
            "[481]\ttest-rmse:3.25993\n",
            "[482]\ttest-rmse:3.2599\n",
            "[483]\ttest-rmse:3.25992\n",
            "[484]\ttest-rmse:3.25981\n",
            "[485]\ttest-rmse:3.25973\n",
            "[486]\ttest-rmse:3.25962\n",
            "[487]\ttest-rmse:3.25947\n",
            "[488]\ttest-rmse:3.25932\n",
            "[489]\ttest-rmse:3.25931\n",
            "[490]\ttest-rmse:3.25847\n",
            "[491]\ttest-rmse:3.25824\n",
            "[492]\ttest-rmse:3.25804\n",
            "[493]\ttest-rmse:3.258\n",
            "[494]\ttest-rmse:3.25788\n",
            "[495]\ttest-rmse:3.25765\n",
            "[496]\ttest-rmse:3.25766\n",
            "[497]\ttest-rmse:3.25759\n",
            "[498]\ttest-rmse:3.25754\n",
            "[499]\ttest-rmse:3.25738\n"
          ],
          "name": "stdout"
        }
      ]
    },
    {
      "cell_type": "code",
      "metadata": {
        "id": "yl6NKvFs5Kge",
        "colab_type": "code",
        "outputId": "de7b2dee-36fe-4d81-9c24-b58c123ae0a3",
        "colab": {
          "base_uri": "https://localhost:8080/",
          "height": 91
        }
      },
      "source": [
        "import pickle\n",
        "from sklearn.externals import joblib"
      ],
      "execution_count": 0,
      "outputs": [
        {
          "output_type": "stream",
          "text": [
            "/usr/local/lib/python3.6/dist-packages/sklearn/externals/joblib/__init__.py:15: DeprecationWarning: sklearn.externals.joblib is deprecated in 0.21 and will be removed in 0.23. Please import this functionality directly from joblib, which can be installed with: pip install joblib. If this warning is raised when loading pickled models, you may need to re-serialize those models with scikit-learn 0.21+.\n",
            "  warnings.warn(msg, category=DeprecationWarning)\n"
          ],
          "name": "stderr"
        }
      ]
    },
    {
      "cell_type": "code",
      "metadata": {
        "id": "xDobevD9cGi8",
        "colab_type": "code",
        "colab": {}
      },
      "source": [
        "model.info()\n",
        "model.shape"
      ],
      "execution_count": 0,
      "outputs": []
    },
    {
      "cell_type": "code",
      "metadata": {
        "id": "NnYCrX13bKh-",
        "colab_type": "code",
        "colab": {}
      },
      "source": [
        "# save model to file\n",
        "joblib.dump(model, \"pima.joblib.dat\")"
      ],
      "execution_count": 0,
      "outputs": []
    },
    {
      "cell_type": "markdown",
      "metadata": {
        "id": "UMaA581X2Ft-",
        "colab_type": "text"
      },
      "source": [
        "# Test Prediction "
      ]
    },
    {
      "cell_type": "code",
      "metadata": {
        "id": "nUHAM6odclao",
        "colab_type": "code",
        "outputId": "26e4e693-9358-4b48-e02d-8a97688a42d7",
        "colab": {
          "base_uri": "https://localhost:8080/",
          "height": 34
        }
      },
      "source": [
        "cd /content/gdrive/My Drive/data"
      ],
      "execution_count": 0,
      "outputs": [
        {
          "output_type": "stream",
          "text": [
            "/content/gdrive/My Drive/data\n"
          ],
          "name": "stdout"
        }
      ]
    },
    {
      "cell_type": "code",
      "metadata": {
        "id": "RVmBHEG82FIj",
        "colab_type": "code",
        "colab": {}
      },
      "source": [
        "df_test = pd.read_csv('test.csv')"
      ],
      "execution_count": 0,
      "outputs": []
    },
    {
      "cell_type": "code",
      "metadata": {
        "id": "QntDTU7SctJ9",
        "colab_type": "code",
        "colab": {}
      },
      "source": [
        "def distance(lat1, lon1, lat2, lon2):\n",
        "    p = 0.017453292519943295 # Pi/180\n",
        "    a = 0.5 - np.cos((lat2 - lat1) * p)/2 + np.cos(lat1 * p) * np.cos(lat2 * p) * (1 - np.cos((lon2 - lon1) * p)) / 2\n",
        "    return 0.6213712 * 12742 * np.arcsin(np.sqrt(a))"
      ],
      "execution_count": 0,
      "outputs": []
    },
    {
      "cell_type": "code",
      "metadata": {
        "id": "NvOGkb1yc1gU",
        "colab_type": "code",
        "colab": {}
      },
      "source": [
        "nyc = (-74.0063889, 40.7141667)"
      ],
      "execution_count": 0,
      "outputs": []
    },
    {
      "cell_type": "code",
      "metadata": {
        "id": "-a-igapX2LmY",
        "colab_type": "code",
        "colab": {}
      },
      "source": [
        "df_test['pickup_datetime'] =df_test['pickup_datetime'].astype('datetime64[ns]')\n",
        "df_test['year'] = df_test.pickup_datetime.apply(lambda t: t.year)\n",
        "df_test['weekday'] = df_test['pickup_datetime'].dt.dayofweek\n",
        "df_test['hour'] = df_test.pickup_datetime.apply(lambda t: t.hour)\n",
        "\n",
        "\n",
        "df_test['distance_miles'] =distance(df_test.pickup_latitude, df_test.pickup_longitude, \\\n",
        "                                                            df_test.dropoff_latitude,df_test.dropoff_longitude)\n",
        "\n",
        "df_test['distance_to_center'] = distance(nyc[1],nyc[0], \\\n",
        "                                                            df_test.pickup_latitude, df_test.pickup_longitude)"
      ],
      "execution_count": 0,
      "outputs": []
    },
    {
      "cell_type": "code",
      "metadata": {
        "id": "ZP0fjBjS2QK9",
        "colab_type": "code",
        "outputId": "c820b9e0-0da0-40ec-f31d-07d635de88af",
        "colab": {
          "base_uri": "https://localhost:8080/",
          "height": 329
        }
      },
      "source": [
        "df_test.head()"
      ],
      "execution_count": 0,
      "outputs": [
        {
          "output_type": "execute_result",
          "data": {
            "text/html": [
              "<div>\n",
              "<style scoped>\n",
              "    .dataframe tbody tr th:only-of-type {\n",
              "        vertical-align: middle;\n",
              "    }\n",
              "\n",
              "    .dataframe tbody tr th {\n",
              "        vertical-align: top;\n",
              "    }\n",
              "\n",
              "    .dataframe thead th {\n",
              "        text-align: right;\n",
              "    }\n",
              "</style>\n",
              "<table border=\"1\" class=\"dataframe\">\n",
              "  <thead>\n",
              "    <tr style=\"text-align: right;\">\n",
              "      <th></th>\n",
              "      <th>key</th>\n",
              "      <th>pickup_datetime</th>\n",
              "      <th>pickup_longitude</th>\n",
              "      <th>pickup_latitude</th>\n",
              "      <th>dropoff_longitude</th>\n",
              "      <th>dropoff_latitude</th>\n",
              "      <th>passenger_count</th>\n",
              "      <th>year</th>\n",
              "      <th>weekday</th>\n",
              "      <th>hour</th>\n",
              "      <th>distance_miles</th>\n",
              "      <th>distance_to_center</th>\n",
              "    </tr>\n",
              "  </thead>\n",
              "  <tbody>\n",
              "    <tr>\n",
              "      <th>0</th>\n",
              "      <td>2015-01-27 13:08:24.0000002</td>\n",
              "      <td>2015-01-27 13:08:24</td>\n",
              "      <td>-73.973320</td>\n",
              "      <td>40.763805</td>\n",
              "      <td>-73.981430</td>\n",
              "      <td>40.743835</td>\n",
              "      <td>1</td>\n",
              "      <td>2015</td>\n",
              "      <td>1</td>\n",
              "      <td>13</td>\n",
              "      <td>1.443607</td>\n",
              "      <td>3.841863</td>\n",
              "    </tr>\n",
              "    <tr>\n",
              "      <th>1</th>\n",
              "      <td>2015-01-27 13:08:24.0000003</td>\n",
              "      <td>2015-01-27 13:08:24</td>\n",
              "      <td>-73.986862</td>\n",
              "      <td>40.719383</td>\n",
              "      <td>-73.998886</td>\n",
              "      <td>40.739201</td>\n",
              "      <td>1</td>\n",
              "      <td>2015</td>\n",
              "      <td>1</td>\n",
              "      <td>13</td>\n",
              "      <td>1.507044</td>\n",
              "      <td>1.084252</td>\n",
              "    </tr>\n",
              "    <tr>\n",
              "      <th>2</th>\n",
              "      <td>2011-10-08 11:53:44.0000002</td>\n",
              "      <td>2011-10-08 11:53:44</td>\n",
              "      <td>-73.982524</td>\n",
              "      <td>40.751260</td>\n",
              "      <td>-73.979654</td>\n",
              "      <td>40.746139</td>\n",
              "      <td>1</td>\n",
              "      <td>2011</td>\n",
              "      <td>5</td>\n",
              "      <td>11</td>\n",
              "      <td>0.384398</td>\n",
              "      <td>2.851254</td>\n",
              "    </tr>\n",
              "    <tr>\n",
              "      <th>3</th>\n",
              "      <td>2012-12-01 21:12:12.0000002</td>\n",
              "      <td>2012-12-01 21:12:12</td>\n",
              "      <td>-73.981160</td>\n",
              "      <td>40.767807</td>\n",
              "      <td>-73.990448</td>\n",
              "      <td>40.751635</td>\n",
              "      <td>1</td>\n",
              "      <td>2012</td>\n",
              "      <td>5</td>\n",
              "      <td>21</td>\n",
              "      <td>1.218529</td>\n",
              "      <td>3.934481</td>\n",
              "    </tr>\n",
              "    <tr>\n",
              "      <th>4</th>\n",
              "      <td>2012-12-01 21:12:12.0000003</td>\n",
              "      <td>2012-12-01 21:12:12</td>\n",
              "      <td>-73.966046</td>\n",
              "      <td>40.789775</td>\n",
              "      <td>-73.988565</td>\n",
              "      <td>40.744427</td>\n",
              "      <td>1</td>\n",
              "      <td>2012</td>\n",
              "      <td>5</td>\n",
              "      <td>21</td>\n",
              "      <td>3.347514</td>\n",
              "      <td>5.634652</td>\n",
              "    </tr>\n",
              "  </tbody>\n",
              "</table>\n",
              "</div>"
            ],
            "text/plain": [
              "                           key  ... distance_to_center\n",
              "0  2015-01-27 13:08:24.0000002  ...           3.841863\n",
              "1  2015-01-27 13:08:24.0000003  ...           1.084252\n",
              "2  2011-10-08 11:53:44.0000002  ...           2.851254\n",
              "3  2012-12-01 21:12:12.0000002  ...           3.934481\n",
              "4  2012-12-01 21:12:12.0000003  ...           5.634652\n",
              "\n",
              "[5 rows x 12 columns]"
            ]
          },
          "metadata": {
            "tags": []
          },
          "execution_count": 34
        }
      ]
    },
    {
      "cell_type": "code",
      "metadata": {
        "id": "r0i2JxGR2S_B",
        "colab_type": "code",
        "colab": {}
      },
      "source": [
        "test_key = df_test['key']\n",
        "x_pred = df_test.drop(columns=['key', 'pickup_datetime'])"
      ],
      "execution_count": 0,
      "outputs": []
    },
    {
      "cell_type": "code",
      "metadata": {
        "id": "4_dsY5XidDJ7",
        "colab_type": "code",
        "colab": {}
      },
      "source": [
        "#Predict from test set\n",
        "prediction = model.predict(xgb.DMatrix(x_pred), ntree_limit = model.best_ntree_limit)"
      ],
      "execution_count": 0,
      "outputs": []
    },
    {
      "cell_type": "code",
      "metadata": {
        "id": "SLbZEXM82VHE",
        "colab_type": "code",
        "outputId": "43bdc34e-f69d-4962-c2e6-df5f2c2f9dec",
        "colab": {
          "base_uri": "https://localhost:8080/",
          "height": 359
        }
      },
      "source": [
        "submission = pd.DataFrame({'key' : df_test.key,\n",
        "                          'fare_amount': prediction},\n",
        "                         columns =['key','fare_amount'])\n",
        "\n",
        "submission.head(10)"
      ],
      "execution_count": 0,
      "outputs": [
        {
          "output_type": "execute_result",
          "data": {
            "text/html": [
              "<div>\n",
              "<style scoped>\n",
              "    .dataframe tbody tr th:only-of-type {\n",
              "        vertical-align: middle;\n",
              "    }\n",
              "\n",
              "    .dataframe tbody tr th {\n",
              "        vertical-align: top;\n",
              "    }\n",
              "\n",
              "    .dataframe thead th {\n",
              "        text-align: right;\n",
              "    }\n",
              "</style>\n",
              "<table border=\"1\" class=\"dataframe\">\n",
              "  <thead>\n",
              "    <tr style=\"text-align: right;\">\n",
              "      <th></th>\n",
              "      <th>key</th>\n",
              "      <th>fare_amount</th>\n",
              "    </tr>\n",
              "  </thead>\n",
              "  <tbody>\n",
              "    <tr>\n",
              "      <th>0</th>\n",
              "      <td>2015-01-27 13:08:24.0000002</td>\n",
              "      <td>10.901086</td>\n",
              "    </tr>\n",
              "    <tr>\n",
              "      <th>1</th>\n",
              "      <td>2015-01-27 13:08:24.0000003</td>\n",
              "      <td>11.187179</td>\n",
              "    </tr>\n",
              "    <tr>\n",
              "      <th>2</th>\n",
              "      <td>2011-10-08 11:53:44.0000002</td>\n",
              "      <td>4.599588</td>\n",
              "    </tr>\n",
              "    <tr>\n",
              "      <th>3</th>\n",
              "      <td>2012-12-01 21:12:12.0000002</td>\n",
              "      <td>7.782683</td>\n",
              "    </tr>\n",
              "    <tr>\n",
              "      <th>4</th>\n",
              "      <td>2012-12-01 21:12:12.0000003</td>\n",
              "      <td>13.843194</td>\n",
              "    </tr>\n",
              "    <tr>\n",
              "      <th>5</th>\n",
              "      <td>2012-12-01 21:12:12.0000005</td>\n",
              "      <td>9.382550</td>\n",
              "    </tr>\n",
              "    <tr>\n",
              "      <th>6</th>\n",
              "      <td>2011-10-06 12:10:20.0000001</td>\n",
              "      <td>4.996400</td>\n",
              "    </tr>\n",
              "    <tr>\n",
              "      <th>7</th>\n",
              "      <td>2011-10-06 12:10:20.0000003</td>\n",
              "      <td>48.945194</td>\n",
              "    </tr>\n",
              "    <tr>\n",
              "      <th>8</th>\n",
              "      <td>2011-10-06 12:10:20.0000002</td>\n",
              "      <td>11.299504</td>\n",
              "    </tr>\n",
              "    <tr>\n",
              "      <th>9</th>\n",
              "      <td>2014-02-18 15:22:20.0000002</td>\n",
              "      <td>6.938256</td>\n",
              "    </tr>\n",
              "  </tbody>\n",
              "</table>\n",
              "</div>"
            ],
            "text/plain": [
              "                           key  fare_amount\n",
              "0  2015-01-27 13:08:24.0000002    10.901086\n",
              "1  2015-01-27 13:08:24.0000003    11.187179\n",
              "2  2011-10-08 11:53:44.0000002     4.599588\n",
              "3  2012-12-01 21:12:12.0000002     7.782683\n",
              "4  2012-12-01 21:12:12.0000003    13.843194\n",
              "5  2012-12-01 21:12:12.0000005     9.382550\n",
              "6  2011-10-06 12:10:20.0000001     4.996400\n",
              "7  2011-10-06 12:10:20.0000003    48.945194\n",
              "8  2011-10-06 12:10:20.0000002    11.299504\n",
              "9  2014-02-18 15:22:20.0000002     6.938256"
            ]
          },
          "metadata": {
            "tags": []
          },
          "execution_count": 38
        }
      ]
    },
    {
      "cell_type": "code",
      "metadata": {
        "id": "YpGjQwCw2WSN",
        "colab_type": "code",
        "colab": {}
      },
      "source": [
        "submission.to_csv('xgb_submission1.csv', index=False)"
      ],
      "execution_count": 0,
      "outputs": []
    },
    {
      "cell_type": "code",
      "metadata": {
        "id": "lgUv_L05daB8",
        "colab_type": "code",
        "colab": {}
      },
      "source": [
        ""
      ],
      "execution_count": 0,
      "outputs": []
    }
  ]
}