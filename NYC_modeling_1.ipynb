{
  "nbformat": 4,
  "nbformat_minor": 0,
  "metadata": {
    "colab": {
      "name": "NYC modeling_1.ipynb",
      "version": "0.3.2",
      "provenance": [],
      "collapsed_sections": [],
      "include_colab_link": true
    },
    "kernelspec": {
      "name": "python3",
      "display_name": "Python 3"
    }
  },
  "cells": [
    {
      "cell_type": "markdown",
      "metadata": {
        "id": "view-in-github",
        "colab_type": "text"
      },
      "source": [
        "<a href=\"https://colab.research.google.com/github/imji0319/PDSH/blob/master/NYC_modeling_1.ipynb\" target=\"_parent\"><img src=\"https://colab.research.google.com/assets/colab-badge.svg\" alt=\"Open In Colab\"/></a>"
      ]
    },
    {
      "cell_type": "code",
      "metadata": {
        "id": "-SuVheoIVSaZ",
        "colab_type": "code",
        "outputId": "13d7bf90-941c-4f17-b02f-4c96a4bbbca9",
        "colab": {
          "base_uri": "https://localhost:8080/",
          "height": 34
        }
      },
      "source": [
        "from google.colab import auth\n",
        "auth.authenticate_user()\n",
        "\n",
        "from google.colab import drive\n",
        "drive.mount('/content/gdrive')"
      ],
      "execution_count": 1,
      "outputs": [
        {
          "output_type": "stream",
          "text": [
            "Drive already mounted at /content/gdrive; to attempt to forcibly remount, call drive.mount(\"/content/gdrive\", force_remount=True).\n"
          ],
          "name": "stdout"
        }
      ]
    },
    {
      "cell_type": "code",
      "metadata": {
        "id": "p_bib4zUViRD",
        "colab_type": "code",
        "outputId": "39a671cf-dbd2-44f2-d1e3-5d9e1cd39ada",
        "colab": {
          "base_uri": "https://localhost:8080/",
          "height": 34
        }
      },
      "source": [
        "cd /content/gdrive/My Drive/data/nyc_split"
      ],
      "execution_count": 2,
      "outputs": [
        {
          "output_type": "stream",
          "text": [
            "/content/gdrive/My Drive/data/nyc_split\n"
          ],
          "name": "stdout"
        }
      ]
    },
    {
      "cell_type": "code",
      "metadata": {
        "id": "Chg64YUub6r1",
        "colab_type": "code",
        "outputId": "1b34df5a-a2a7-45f6-d1fa-c3099d8d7aec",
        "colab": {
          "base_uri": "https://localhost:8080/",
          "height": 131
        }
      },
      "source": [
        "ls"
      ],
      "execution_count": 3,
      "outputs": [
        {
          "output_type": "stream",
          "text": [
            "nyc_0.feather   nyc_14.feather  nyc_19.feather  nyc_4.feather  nyc_9.feather\n",
            "nyc_10.feather  nyc_15.feather  nyc_1.feather   nyc_5.feather\n",
            "nyc_11.feather  nyc_16.feather  nyc_20.feather  nyc_6.feather\n",
            "nyc_12.feather  nyc_17.feather  nyc_2.feather   nyc_7.feather\n",
            "nyc_13.feather  nyc_18.feather  nyc_3.feather   nyc_8.feather\n"
          ],
          "name": "stdout"
        }
      ]
    },
    {
      "cell_type": "code",
      "metadata": {
        "id": "5GRNa5_BWJs0",
        "colab_type": "code",
        "outputId": "16680302-3821-453a-b11c-6458c2358dfa",
        "colab": {
          "base_uri": "https://localhost:8080/",
          "height": 97
        }
      },
      "source": [
        "pip install -U pyarrow"
      ],
      "execution_count": 4,
      "outputs": [
        {
          "output_type": "stream",
          "text": [
            "Requirement already up-to-date: pyarrow in /usr/local/lib/python3.6/dist-packages (0.13.0)\n",
            "Requirement already satisfied, skipping upgrade: six>=1.0.0 in /usr/local/lib/python3.6/dist-packages (from pyarrow) (1.12.0)\n",
            "Requirement already satisfied, skipping upgrade: numpy>=1.14 in /usr/local/lib/python3.6/dist-packages (from pyarrow) (1.16.4)\n"
          ],
          "name": "stdout"
        }
      ]
    },
    {
      "cell_type": "code",
      "metadata": {
        "id": "oAVctcEt1Ejv",
        "colab_type": "code",
        "colab": {}
      },
      "source": [
        "import pandas as pd\n",
        "import numpy as np"
      ],
      "execution_count": 0,
      "outputs": []
    },
    {
      "cell_type": "code",
      "metadata": {
        "id": "qxgCwdUsWNLa",
        "colab_type": "code",
        "colab": {}
      },
      "source": [
        "# read data\n",
        "df_train =pd.read_feather('nyc_0.feather')"
      ],
      "execution_count": 0,
      "outputs": []
    },
    {
      "cell_type": "code",
      "metadata": {
        "id": "iJ-6AJs_WiYK",
        "colab_type": "code",
        "outputId": "a30e390e-10b5-4741-a48e-816b5c7767df",
        "colab": {
          "base_uri": "https://localhost:8080/",
          "height": 323
        }
      },
      "source": [
        "df_train.info()"
      ],
      "execution_count": 7,
      "outputs": [
        {
          "output_type": "stream",
          "text": [
            "<class 'pandas.core.frame.DataFrame'>\n",
            "RangeIndex: 2600000 entries, 0 to 2599999\n",
            "Data columns (total 13 columns):\n",
            "level_0               int64\n",
            "index                 int64\n",
            "fare_amount           float32\n",
            "pickup_longitude      float32\n",
            "pickup_latitude       float32\n",
            "dropoff_longitude     float32\n",
            "dropoff_latitude      float32\n",
            "passenger_count       uint8\n",
            "year                  int64\n",
            "weekday               uint8\n",
            "hour                  uint8\n",
            "distance_miles        float32\n",
            "distance_to_center    float32\n",
            "dtypes: float32(7), int64(3), uint8(3)\n",
            "memory usage: 136.4 MB\n"
          ],
          "name": "stdout"
        }
      ]
    },
    {
      "cell_type": "code",
      "metadata": {
        "id": "Gq_KgWZd1Lqt",
        "colab_type": "code",
        "outputId": "3444e5a6-99ba-446e-8226-1f73f7cee7c6",
        "colab": {
          "base_uri": "https://localhost:8080/",
          "height": 244
        }
      },
      "source": [
        "df_train.head()"
      ],
      "execution_count": 8,
      "outputs": [
        {
          "output_type": "execute_result",
          "data": {
            "text/html": [
              "<div>\n",
              "<style scoped>\n",
              "    .dataframe tbody tr th:only-of-type {\n",
              "        vertical-align: middle;\n",
              "    }\n",
              "\n",
              "    .dataframe tbody tr th {\n",
              "        vertical-align: top;\n",
              "    }\n",
              "\n",
              "    .dataframe thead th {\n",
              "        text-align: right;\n",
              "    }\n",
              "</style>\n",
              "<table border=\"1\" class=\"dataframe\">\n",
              "  <thead>\n",
              "    <tr style=\"text-align: right;\">\n",
              "      <th></th>\n",
              "      <th>level_0</th>\n",
              "      <th>index</th>\n",
              "      <th>fare_amount</th>\n",
              "      <th>pickup_longitude</th>\n",
              "      <th>pickup_latitude</th>\n",
              "      <th>dropoff_longitude</th>\n",
              "      <th>dropoff_latitude</th>\n",
              "      <th>passenger_count</th>\n",
              "      <th>year</th>\n",
              "      <th>weekday</th>\n",
              "      <th>hour</th>\n",
              "      <th>distance_miles</th>\n",
              "      <th>distance_to_center</th>\n",
              "    </tr>\n",
              "  </thead>\n",
              "  <tbody>\n",
              "    <tr>\n",
              "      <th>0</th>\n",
              "      <td>0</td>\n",
              "      <td>0</td>\n",
              "      <td>4.5</td>\n",
              "      <td>-73.844315</td>\n",
              "      <td>40.721317</td>\n",
              "      <td>-73.841614</td>\n",
              "      <td>40.712276</td>\n",
              "      <td>1</td>\n",
              "      <td>2009</td>\n",
              "      <td>0</td>\n",
              "      <td>17</td>\n",
              "      <td>0.640473</td>\n",
              "      <td>8.501885</td>\n",
              "    </tr>\n",
              "    <tr>\n",
              "      <th>1</th>\n",
              "      <td>1</td>\n",
              "      <td>1</td>\n",
              "      <td>16.9</td>\n",
              "      <td>-74.016045</td>\n",
              "      <td>40.711304</td>\n",
              "      <td>-73.979271</td>\n",
              "      <td>40.782005</td>\n",
              "      <td>1</td>\n",
              "      <td>2010</td>\n",
              "      <td>1</td>\n",
              "      <td>16</td>\n",
              "      <td>5.250587</td>\n",
              "      <td>0.543003</td>\n",
              "    </tr>\n",
              "    <tr>\n",
              "      <th>2</th>\n",
              "      <td>2</td>\n",
              "      <td>2</td>\n",
              "      <td>5.7</td>\n",
              "      <td>-73.982735</td>\n",
              "      <td>40.761269</td>\n",
              "      <td>-73.991241</td>\n",
              "      <td>40.750561</td>\n",
              "      <td>2</td>\n",
              "      <td>2011</td>\n",
              "      <td>3</td>\n",
              "      <td>0</td>\n",
              "      <td>0.863477</td>\n",
              "      <td>3.482071</td>\n",
              "    </tr>\n",
              "    <tr>\n",
              "      <th>3</th>\n",
              "      <td>3</td>\n",
              "      <td>3</td>\n",
              "      <td>7.7</td>\n",
              "      <td>-73.987129</td>\n",
              "      <td>40.733143</td>\n",
              "      <td>-73.991570</td>\n",
              "      <td>40.758091</td>\n",
              "      <td>1</td>\n",
              "      <td>2012</td>\n",
              "      <td>5</td>\n",
              "      <td>4</td>\n",
              "      <td>1.739349</td>\n",
              "      <td>1.654125</td>\n",
              "    </tr>\n",
              "    <tr>\n",
              "      <th>4</th>\n",
              "      <td>4</td>\n",
              "      <td>4</td>\n",
              "      <td>5.3</td>\n",
              "      <td>-73.968094</td>\n",
              "      <td>40.768009</td>\n",
              "      <td>-73.956657</td>\n",
              "      <td>40.783764</td>\n",
              "      <td>1</td>\n",
              "      <td>2010</td>\n",
              "      <td>1</td>\n",
              "      <td>7</td>\n",
              "      <td>1.242172</td>\n",
              "      <td>4.225934</td>\n",
              "    </tr>\n",
              "  </tbody>\n",
              "</table>\n",
              "</div>"
            ],
            "text/plain": [
              "   level_0  index  fare_amount  ...  hour  distance_miles  distance_to_center\n",
              "0        0      0          4.5  ...    17        0.640473            8.501885\n",
              "1        1      1         16.9  ...    16        5.250587            0.543003\n",
              "2        2      2          5.7  ...     0        0.863477            3.482071\n",
              "3        3      3          7.7  ...     4        1.739349            1.654125\n",
              "4        4      4          5.3  ...     7        1.242172            4.225934\n",
              "\n",
              "[5 rows x 13 columns]"
            ]
          },
          "metadata": {
            "tags": []
          },
          "execution_count": 8
        }
      ]
    },
    {
      "cell_type": "code",
      "metadata": {
        "id": "pSk6U6pu1Ns7",
        "colab_type": "code",
        "colab": {}
      },
      "source": [
        "df_train = df_train.drop(columns=['level_0', 'index'])"
      ],
      "execution_count": 0,
      "outputs": []
    },
    {
      "cell_type": "code",
      "metadata": {
        "id": "a_85im6NqC1n",
        "colab_type": "code",
        "colab": {}
      },
      "source": [
        "from sklearn.model_selection import train_test_split \n",
        "import xgboost as xgb"
      ],
      "execution_count": 0,
      "outputs": []
    },
    {
      "cell_type": "code",
      "metadata": {
        "id": "dI35qtYm1wdm",
        "colab_type": "code",
        "colab": {}
      },
      "source": [
        "y = df_train['fare_amount']\n",
        "train = df_train.drop(columns=['fare_amount'])"
      ],
      "execution_count": 0,
      "outputs": []
    },
    {
      "cell_type": "code",
      "metadata": {
        "id": "uXyTF5nc12Bv",
        "colab_type": "code",
        "colab": {}
      },
      "source": [
        "from sklearn.model_selection import train_test_split\n",
        "\n",
        "X_train, X_test, y_train, y_test = train_test_split(train, y, random_state = 100, test_size=0.25)"
      ],
      "execution_count": 0,
      "outputs": []
    },
    {
      "cell_type": "code",
      "metadata": {
        "id": "KSiodETDVR0i",
        "colab_type": "code",
        "colab": {}
      },
      "source": [
        "#Cross-validation\n",
        "params = {\n",
        "    # Parameters that we are going to tune.\n",
        "    'max_depth': 8, #Result of tuning with CV\n",
        "    'eta':.03, #Result of tuning with CV\n",
        "    'subsample': 1, #Result of tuning with CV\n",
        "    'colsample_bytree': 0.8, #Result of tuning with CV\n",
        "    # Other parameters\n",
        "    'objective':'reg:linear',\n",
        "    'eval_metric':'rmse',\n",
        "    'silent': 1\n",
        "}"
      ],
      "execution_count": 0,
      "outputs": []
    },
    {
      "cell_type": "code",
      "metadata": {
        "id": "P0UzVzBQ19NS",
        "colab_type": "code",
        "colab": {}
      },
      "source": [
        "def XGBmodel(x_train,x_test,y_train,y_test,params):\n",
        "    matrix_train = xgb.DMatrix(x_train,label=y_train)\n",
        "    matrix_test = xgb.DMatrix(x_test,label=y_test)\n",
        "    model=xgb.train(params=params,\n",
        "                    dtrain=matrix_train,num_boost_round=300, verbose_eval=50,\n",
        "                    early_stopping_rounds=10,evals=[(matrix_test,'test')])\n",
        "    return model"
      ],
      "execution_count": 0,
      "outputs": []
    },
    {
      "cell_type": "code",
      "metadata": {
        "id": "mi8XaY5h1_iF",
        "colab_type": "code",
        "colab": {
          "base_uri": "https://localhost:8080/",
          "height": 221
        },
        "outputId": "07609527-595d-4d04-9037-8c9e5f61d32d"
      },
      "source": [
        "%%time\n",
        "\n",
        "model = XGBmodel(X_train,X_test,y_train,y_test,params)"
      ],
      "execution_count": 15,
      "outputs": [
        {
          "output_type": "stream",
          "text": [
            "/usr/local/lib/python3.6/dist-packages/xgboost/core.py:587: FutureWarning: Series.base is deprecated and will be removed in a future version\n",
            "  if getattr(data, 'base', None) is not None and \\\n"
          ],
          "name": "stderr"
        },
        {
          "output_type": "stream",
          "text": [
            "[0]\ttest-rmse:13.9874\n",
            "Will train until test-rmse hasn't improved in 10 rounds.\n",
            "[50]\ttest-rmse:4.66032\n",
            "[100]\ttest-rmse:3.50513\n",
            "[150]\ttest-rmse:3.38591\n",
            "[200]\ttest-rmse:3.34419\n",
            "[250]\ttest-rmse:3.32345\n",
            "[299]\ttest-rmse:3.30282\n",
            "CPU times: user 52min 40s, sys: 1.31 s, total: 52min 41s\n",
            "Wall time: 27min 2s\n"
          ],
          "name": "stdout"
        }
      ]
    },
    {
      "cell_type": "code",
      "metadata": {
        "id": "3zjkTY5mg_PV",
        "colab_type": "code",
        "colab": {}
      },
      "source": [
        "from xgboost import Booster"
      ],
      "execution_count": 0,
      "outputs": []
    },
    {
      "cell_type": "code",
      "metadata": {
        "id": "KfGFnKmsRUzx",
        "colab_type": "code",
        "colab": {}
      },
      "source": [
        "model.save_model('xgb.model')"
      ],
      "execution_count": 0,
      "outputs": []
    },
    {
      "cell_type": "markdown",
      "metadata": {
        "id": "UMaA581X2Ft-",
        "colab_type": "text"
      },
      "source": [
        "# Test Prediction "
      ]
    },
    {
      "cell_type": "code",
      "metadata": {
        "id": "nUHAM6odclao",
        "colab_type": "code",
        "outputId": "3e618efb-1fe0-4583-9aaa-6e17ce6baa10",
        "colab": {
          "base_uri": "https://localhost:8080/",
          "height": 34
        }
      },
      "source": [
        "cd /content/gdrive/My Drive/data"
      ],
      "execution_count": 18,
      "outputs": [
        {
          "output_type": "stream",
          "text": [
            "/content/gdrive/My Drive/data\n"
          ],
          "name": "stdout"
        }
      ]
    },
    {
      "cell_type": "code",
      "metadata": {
        "id": "RVmBHEG82FIj",
        "colab_type": "code",
        "colab": {}
      },
      "source": [
        "df_test = pd.read_csv('cleaning_test.csv')"
      ],
      "execution_count": 0,
      "outputs": []
    },
    {
      "cell_type": "code",
      "metadata": {
        "id": "b6sKbZkbmlLm",
        "colab_type": "code",
        "colab": {
          "base_uri": "https://localhost:8080/",
          "height": 306
        },
        "outputId": "fd2e336f-0982-43fb-f16d-74437f22c65f"
      },
      "source": [
        "df_test.info()"
      ],
      "execution_count": 20,
      "outputs": [
        {
          "output_type": "stream",
          "text": [
            "<class 'pandas.core.frame.DataFrame'>\n",
            "RangeIndex: 9914 entries, 0 to 9913\n",
            "Data columns (total 12 columns):\n",
            "key                   9914 non-null object\n",
            "pickup_datetime       9914 non-null object\n",
            "pickup_longitude      9914 non-null float64\n",
            "pickup_latitude       9914 non-null float64\n",
            "dropoff_longitude     9914 non-null float64\n",
            "dropoff_latitude      9914 non-null float64\n",
            "passenger_count       9914 non-null int64\n",
            "year                  9914 non-null int64\n",
            "weekday               9914 non-null int64\n",
            "hour                  9914 non-null int64\n",
            "distance_miles        9914 non-null float64\n",
            "distance_to_center    9914 non-null float64\n",
            "dtypes: float64(6), int64(4), object(2)\n",
            "memory usage: 929.5+ KB\n"
          ],
          "name": "stdout"
        }
      ]
    },
    {
      "cell_type": "code",
      "metadata": {
        "id": "iHbfc_Gwm0UA",
        "colab_type": "code",
        "colab": {
          "base_uri": "https://localhost:8080/",
          "height": 329
        },
        "outputId": "1f687220-6a0e-497d-e561-325d69958b16"
      },
      "source": [
        "df_test.head()"
      ],
      "execution_count": 21,
      "outputs": [
        {
          "output_type": "execute_result",
          "data": {
            "text/html": [
              "<div>\n",
              "<style scoped>\n",
              "    .dataframe tbody tr th:only-of-type {\n",
              "        vertical-align: middle;\n",
              "    }\n",
              "\n",
              "    .dataframe tbody tr th {\n",
              "        vertical-align: top;\n",
              "    }\n",
              "\n",
              "    .dataframe thead th {\n",
              "        text-align: right;\n",
              "    }\n",
              "</style>\n",
              "<table border=\"1\" class=\"dataframe\">\n",
              "  <thead>\n",
              "    <tr style=\"text-align: right;\">\n",
              "      <th></th>\n",
              "      <th>key</th>\n",
              "      <th>pickup_datetime</th>\n",
              "      <th>pickup_longitude</th>\n",
              "      <th>pickup_latitude</th>\n",
              "      <th>dropoff_longitude</th>\n",
              "      <th>dropoff_latitude</th>\n",
              "      <th>passenger_count</th>\n",
              "      <th>year</th>\n",
              "      <th>weekday</th>\n",
              "      <th>hour</th>\n",
              "      <th>distance_miles</th>\n",
              "      <th>distance_to_center</th>\n",
              "    </tr>\n",
              "  </thead>\n",
              "  <tbody>\n",
              "    <tr>\n",
              "      <th>0</th>\n",
              "      <td>2015-01-27 13:08:24.0000002</td>\n",
              "      <td>2015-01-27 13:08:24</td>\n",
              "      <td>-73.973320</td>\n",
              "      <td>40.763805</td>\n",
              "      <td>-73.981430</td>\n",
              "      <td>40.743835</td>\n",
              "      <td>1</td>\n",
              "      <td>2015</td>\n",
              "      <td>1</td>\n",
              "      <td>13</td>\n",
              "      <td>1.443607</td>\n",
              "      <td>3.841863</td>\n",
              "    </tr>\n",
              "    <tr>\n",
              "      <th>1</th>\n",
              "      <td>2015-01-27 13:08:24.0000003</td>\n",
              "      <td>2015-01-27 13:08:24</td>\n",
              "      <td>-73.986862</td>\n",
              "      <td>40.719383</td>\n",
              "      <td>-73.998886</td>\n",
              "      <td>40.739201</td>\n",
              "      <td>1</td>\n",
              "      <td>2015</td>\n",
              "      <td>1</td>\n",
              "      <td>13</td>\n",
              "      <td>1.507044</td>\n",
              "      <td>1.084252</td>\n",
              "    </tr>\n",
              "    <tr>\n",
              "      <th>2</th>\n",
              "      <td>2011-10-08 11:53:44.0000002</td>\n",
              "      <td>2011-10-08 11:53:44</td>\n",
              "      <td>-73.982524</td>\n",
              "      <td>40.751260</td>\n",
              "      <td>-73.979654</td>\n",
              "      <td>40.746139</td>\n",
              "      <td>1</td>\n",
              "      <td>2011</td>\n",
              "      <td>5</td>\n",
              "      <td>11</td>\n",
              "      <td>0.384398</td>\n",
              "      <td>2.851254</td>\n",
              "    </tr>\n",
              "    <tr>\n",
              "      <th>3</th>\n",
              "      <td>2012-12-01 21:12:12.0000002</td>\n",
              "      <td>2012-12-01 21:12:12</td>\n",
              "      <td>-73.981160</td>\n",
              "      <td>40.767807</td>\n",
              "      <td>-73.990448</td>\n",
              "      <td>40.751635</td>\n",
              "      <td>1</td>\n",
              "      <td>2012</td>\n",
              "      <td>5</td>\n",
              "      <td>21</td>\n",
              "      <td>1.218529</td>\n",
              "      <td>3.934481</td>\n",
              "    </tr>\n",
              "    <tr>\n",
              "      <th>4</th>\n",
              "      <td>2012-12-01 21:12:12.0000003</td>\n",
              "      <td>2012-12-01 21:12:12</td>\n",
              "      <td>-73.966046</td>\n",
              "      <td>40.789775</td>\n",
              "      <td>-73.988565</td>\n",
              "      <td>40.744427</td>\n",
              "      <td>1</td>\n",
              "      <td>2012</td>\n",
              "      <td>5</td>\n",
              "      <td>21</td>\n",
              "      <td>3.347514</td>\n",
              "      <td>5.634652</td>\n",
              "    </tr>\n",
              "  </tbody>\n",
              "</table>\n",
              "</div>"
            ],
            "text/plain": [
              "                           key  ... distance_to_center\n",
              "0  2015-01-27 13:08:24.0000002  ...           3.841863\n",
              "1  2015-01-27 13:08:24.0000003  ...           1.084252\n",
              "2  2011-10-08 11:53:44.0000002  ...           2.851254\n",
              "3  2012-12-01 21:12:12.0000002  ...           3.934481\n",
              "4  2012-12-01 21:12:12.0000003  ...           5.634652\n",
              "\n",
              "[5 rows x 12 columns]"
            ]
          },
          "metadata": {
            "tags": []
          },
          "execution_count": 21
        }
      ]
    },
    {
      "cell_type": "code",
      "metadata": {
        "id": "r0i2JxGR2S_B",
        "colab_type": "code",
        "colab": {}
      },
      "source": [
        "test_key = df_test['key']\n",
        "x_pred = df_test.drop(columns=['key', 'pickup_datetime'])"
      ],
      "execution_count": 0,
      "outputs": []
    },
    {
      "cell_type": "code",
      "metadata": {
        "id": "4_dsY5XidDJ7",
        "colab_type": "code",
        "colab": {}
      },
      "source": [
        "#Predict from test set\n",
        "prediction = model.predict(xgb.DMatrix(x_pred), ntree_limit = model.best_ntree_limit)"
      ],
      "execution_count": 0,
      "outputs": []
    },
    {
      "cell_type": "code",
      "metadata": {
        "id": "SLbZEXM82VHE",
        "colab_type": "code",
        "outputId": "9539cb1d-0709-4af5-e0da-a0bb6d722d10",
        "colab": {
          "base_uri": "https://localhost:8080/",
          "height": 359
        }
      },
      "source": [
        "submission = pd.DataFrame({'key' : df_test.key,\n",
        "                          'fare_amount': prediction},\n",
        "                         columns =['key','fare_amount'])\n",
        "\n",
        "submission.head(10)"
      ],
      "execution_count": 24,
      "outputs": [
        {
          "output_type": "execute_result",
          "data": {
            "text/html": [
              "<div>\n",
              "<style scoped>\n",
              "    .dataframe tbody tr th:only-of-type {\n",
              "        vertical-align: middle;\n",
              "    }\n",
              "\n",
              "    .dataframe tbody tr th {\n",
              "        vertical-align: top;\n",
              "    }\n",
              "\n",
              "    .dataframe thead th {\n",
              "        text-align: right;\n",
              "    }\n",
              "</style>\n",
              "<table border=\"1\" class=\"dataframe\">\n",
              "  <thead>\n",
              "    <tr style=\"text-align: right;\">\n",
              "      <th></th>\n",
              "      <th>key</th>\n",
              "      <th>fare_amount</th>\n",
              "    </tr>\n",
              "  </thead>\n",
              "  <tbody>\n",
              "    <tr>\n",
              "      <th>0</th>\n",
              "      <td>2015-01-27 13:08:24.0000002</td>\n",
              "      <td>10.953129</td>\n",
              "    </tr>\n",
              "    <tr>\n",
              "      <th>1</th>\n",
              "      <td>2015-01-27 13:08:24.0000003</td>\n",
              "      <td>10.966424</td>\n",
              "    </tr>\n",
              "    <tr>\n",
              "      <th>2</th>\n",
              "      <td>2011-10-08 11:53:44.0000002</td>\n",
              "      <td>4.682038</td>\n",
              "    </tr>\n",
              "    <tr>\n",
              "      <th>3</th>\n",
              "      <td>2012-12-01 21:12:12.0000002</td>\n",
              "      <td>7.821180</td>\n",
              "    </tr>\n",
              "    <tr>\n",
              "      <th>4</th>\n",
              "      <td>2012-12-01 21:12:12.0000003</td>\n",
              "      <td>13.966803</td>\n",
              "    </tr>\n",
              "    <tr>\n",
              "      <th>5</th>\n",
              "      <td>2012-12-01 21:12:12.0000005</td>\n",
              "      <td>9.619411</td>\n",
              "    </tr>\n",
              "    <tr>\n",
              "      <th>6</th>\n",
              "      <td>2011-10-06 12:10:20.0000001</td>\n",
              "      <td>5.013222</td>\n",
              "    </tr>\n",
              "    <tr>\n",
              "      <th>7</th>\n",
              "      <td>2011-10-06 12:10:20.0000003</td>\n",
              "      <td>48.895218</td>\n",
              "    </tr>\n",
              "    <tr>\n",
              "      <th>8</th>\n",
              "      <td>2011-10-06 12:10:20.0000002</td>\n",
              "      <td>11.280354</td>\n",
              "    </tr>\n",
              "    <tr>\n",
              "      <th>9</th>\n",
              "      <td>2014-02-18 15:22:20.0000002</td>\n",
              "      <td>6.859297</td>\n",
              "    </tr>\n",
              "  </tbody>\n",
              "</table>\n",
              "</div>"
            ],
            "text/plain": [
              "                           key  fare_amount\n",
              "0  2015-01-27 13:08:24.0000002    10.953129\n",
              "1  2015-01-27 13:08:24.0000003    10.966424\n",
              "2  2011-10-08 11:53:44.0000002     4.682038\n",
              "3  2012-12-01 21:12:12.0000002     7.821180\n",
              "4  2012-12-01 21:12:12.0000003    13.966803\n",
              "5  2012-12-01 21:12:12.0000005     9.619411\n",
              "6  2011-10-06 12:10:20.0000001     5.013222\n",
              "7  2011-10-06 12:10:20.0000003    48.895218\n",
              "8  2011-10-06 12:10:20.0000002    11.280354\n",
              "9  2014-02-18 15:22:20.0000002     6.859297"
            ]
          },
          "metadata": {
            "tags": []
          },
          "execution_count": 24
        }
      ]
    },
    {
      "cell_type": "code",
      "metadata": {
        "id": "YpGjQwCw2WSN",
        "colab_type": "code",
        "colab": {}
      },
      "source": [
        "submission.to_csv('xgb_submission1.csv', index=False)"
      ],
      "execution_count": 0,
      "outputs": []
    },
    {
      "cell_type": "code",
      "metadata": {
        "id": "QQkBj48xns0e",
        "colab_type": "code",
        "colab": {}
      },
      "source": [
        ""
      ],
      "execution_count": 0,
      "outputs": []
    }
  ]
}