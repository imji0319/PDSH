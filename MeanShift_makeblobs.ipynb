{
  "nbformat": 4,
  "nbformat_minor": 0,
  "metadata": {
    "colab": {
      "name": "MeanShift_makeblobs.ipynb",
      "version": "0.3.2",
      "provenance": [],
      "collapsed_sections": [],
      "include_colab_link": true
    },
    "kernelspec": {
      "name": "python3",
      "display_name": "Python 3"
    },
    "accelerator": "TPU"
  },
  "cells": [
    {
      "cell_type": "markdown",
      "metadata": {
        "id": "view-in-github",
        "colab_type": "text"
      },
      "source": [
        "<a href=\"https://colab.research.google.com/github/imji0319/PDSH/blob/master/MeanShift_makeblobs.ipynb\" target=\"_parent\"><img src=\"https://colab.research.google.com/assets/colab-badge.svg\" alt=\"Open In Colab\"/></a>"
      ]
    },
    {
      "metadata": {
        "id": "SU4NqNCGpRjV",
        "colab_type": "code",
        "colab": {
          "base_uri": "https://localhost:8080/",
          "height": 34
        },
        "outputId": "36677031-f9ca-4122-f2ef-c923b79bf24b"
      },
      "cell_type": "code",
      "source": [
        "import numpy as np\n",
        "from sklearn.datasets import make_blobs\n",
        "from sklearn.cluster import MeanShift \n",
        "\n",
        "X, y = make_blobs(n_samples = 200, n_features = 2, centers =3, cluster_std=0.8, random_state = 0)\n",
        "\n",
        "# bandwidth :  대역폭 \n",
        "meanshift = MeanShift(bandwidth = 0.9)\n",
        "cluster_labels = meanshift.fit_predict(X)\n",
        "print( 'cluster labels 유형 : ', np.unique(cluster_labels) )"
      ],
      "execution_count": 1,
      "outputs": [
        {
          "output_type": "stream",
          "text": [
            "cluster labels 유형 :  [0 1 2 3 4 5 6 7]\n"
          ],
          "name": "stdout"
        }
      ]
    },
    {
      "metadata": {
        "id": "RkgvTAw-rF7E",
        "colab_type": "text"
      },
      "cell_type": "markdown",
      "source": [
        "bandwidth 값을 작게 할수록 군집 개수가 많아짐 "
      ]
    },
    {
      "metadata": {
        "id": "qv4BY1AmqvO9",
        "colab_type": "code",
        "colab": {
          "base_uri": "https://localhost:8080/",
          "height": 34
        },
        "outputId": "c1cbd03f-9990-4ead-b204-23df6f15a24a"
      },
      "cell_type": "code",
      "source": [
        "meanshift = MeanShift(bandwidth=1)\n",
        "cluster_labels = meanshift.fit_predict(X)\n",
        "print('cluster labels 유형: ', np.unique(cluster_labels) )"
      ],
      "execution_count": 2,
      "outputs": [
        {
          "output_type": "stream",
          "text": [
            "cluster labels 유형:  [0 1 2]\n"
          ],
          "name": "stdout"
        }
      ]
    },
    {
      "metadata": {
        "id": "GkOBmyASrjgk",
        "colab_type": "code",
        "colab": {
          "base_uri": "https://localhost:8080/",
          "height": 34
        },
        "outputId": "2a7370ac-4d20-4c31-e08a-bffd46c4d86d"
      },
      "cell_type": "code",
      "source": [
        "# 최적화된 bandwidth을 찾기 위한 esimate_bandwidth()\n",
        "\n",
        "from sklearn.cluster import estimate_bandwidth\n",
        "\n",
        "bandwidth = estimate_bandwidth(X, quantile = 0.2)\n",
        "print('bandwidth 값 : ', round(bandwidth,3))\n"
      ],
      "execution_count": 3,
      "outputs": [
        {
          "output_type": "stream",
          "text": [
            "bandwidth 값 :  1.444\n"
          ],
          "name": "stdout"
        }
      ]
    },
    {
      "metadata": {
        "id": "WFxyjZxOtbT5",
        "colab_type": "code",
        "colab": {
          "base_uri": "https://localhost:8080/",
          "height": 34
        },
        "outputId": "c46cd442-c1ea-426f-9e22-55d788c9caa4"
      },
      "cell_type": "code",
      "source": [
        "import pandas as pd\n",
        "\n",
        "clusterDF = pd.DataFrame(data= X, columns = ['ftr1', 'ftr2'])\n",
        "clusterDF['target'] = y \n",
        "\n",
        "best_bandwidth = estimate_bandwidth(X, quantile=0.2)\n",
        "meanshift = MeanShift(bandwidth=best_bandwidth)\n",
        "cluster_labels = meanshift.fit_predict(X)\n",
        "\n",
        "print( 'cluster labels 유형 : ', np.unique(cluster_labels) )"
      ],
      "execution_count": 4,
      "outputs": [
        {
          "output_type": "stream",
          "text": [
            "cluster labels 유형 :  [0 1 2 3]\n"
          ],
          "name": "stdout"
        }
      ]
    },
    {
      "metadata": {
        "id": "n8qTSlMlujCx",
        "colab_type": "code",
        "colab": {
          "base_uri": "https://localhost:8080/",
          "height": 269
        },
        "outputId": "b8b2cf3a-efb0-461c-89f3-950b4c2d9b57"
      },
      "cell_type": "code",
      "source": [
        "import matplotlib.pyplot as plt \n",
        "%matplotlib inline\n",
        "\n",
        "clusterDF['meanshift_label']= cluster_labels\n",
        "centers = meanshift.cluster_centers_\n",
        "unique_labels = np.unique(cluster_labels)\n",
        "markers = ['o','s','^','x','*']\n",
        "\n",
        "\n",
        "for label in unique_labels:\n",
        "    label_cluster = clusterDF[clusterDF['meanshift_label']==label]\n",
        "    center_x_y = centers[label]\n",
        "    \n",
        "    # 군집별로 다른 markerfh scatter plot 적용\n",
        "    plt.scatter(x = label_cluster['ftr1'], y = label_cluster['ftr2'], edgecolor='k', marker=markers[label] )\n",
        "    \n",
        "    \n",
        "    # 군집별 중심 시각화\n",
        "    \n",
        "    plt.scatter(x = center_x_y[0], y = center_x_y[1], s= 200, color = 'white', edgecolor = 'k', alpha = 0.9, marker = markers[label] )\n",
        "    plt.scatter(x = center_x_y[0], y = center_x_y[1], s =70, color='k', edgecolor='k', marker= '$%d$' %label)\n",
        "\n",
        "    \n",
        "plt.show()"
      ],
      "execution_count": 7,
      "outputs": [
        {
          "output_type": "display_data",
          "data": {
            "image/png": "[encoded data removed]",
            "text/plain": [
              "<Figure size 432x288 with 1 Axes>"
            ]
          },
          "metadata": {
            "tags": []
          }
        }
      ]
    },
    {
      "metadata": {
        "id": "7wNe0O9YwgS8",
        "colab_type": "code",
        "colab": {
          "base_uri": "https://localhost:8080/",
          "height": 136
        },
        "outputId": "297a971d-1e8b-4a7f-cc2c-f1f621bffbb3"
      },
      "cell_type": "code",
      "source": [
        "print(clusterDF.groupby('target')['meanshift_label'].value_counts())"
      ],
      "execution_count": 8,
      "outputs": [
        {
          "output_type": "stream",
          "text": [
            "target  meanshift_label\n",
            "0       2                  59\n",
            "        3                   8\n",
            "1       0                  67\n",
            "2       1                  58\n",
            "        3                   8\n",
            "Name: meanshift_label, dtype: int64\n"
          ],
          "name": "stdout"
        }
      ]
    }
  ]
}