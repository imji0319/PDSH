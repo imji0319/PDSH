{
 "cells": [
  {
   "cell_type": "code",
   "execution_count": 10,
   "metadata": {
    "collapsed": true
   },
   "outputs": [],
   "source": [
    "from scipy import special # scipy.special : module\n",
    "import numpy as np\n",
    " "
   ]
  },
  {
   "cell_type": "code",
   "execution_count": 2,
   "metadata": {},
   "outputs": [
    {
     "name": "stdout",
     "output_type": "stream",
     "text": [
      "gamma(x)    =  [  1.00000000e+00   2.40000000e+01   3.62880000e+05]\n",
      "ln|gmama(x) =  [  0.           3.17805383  12.80182748]\n",
      "beta(x,2)   =  [ 0.5         0.03333333  0.00909091]\n"
     ]
    }
   ],
   "source": [
    "#감마 함수(일반화된 계층)와 관련 ufunc함수 : Type = ufunc\n",
    "x= [1,5,10]\n",
    "print(\"gamma(x)    = \",special.gamma(x))   # gamma function  \n",
    "print(\"ln|gmama(x) = \",special.gammaln(x)) \n",
    "# type = function, absolute value of the Gamma function for real input\n",
    "# exp(gammaln(x)) = gammasgn(x)*gamma(x)\n",
    "print(\"beta(x,2)   = \",special.beta(x,2))  # beta(a, b) =  gamma(a) * gamma(b) / gamma(a+b) : beta function "
   ]
  },
  {
   "cell_type": "code",
   "execution_count": 5,
   "metadata": {},
   "outputs": [],
   "source": [
    "?special.beta"
   ]
  },
  {
   "cell_type": "code",
   "execution_count": 6,
   "metadata": {
    "collapsed": true
   },
   "outputs": [],
   "source": [
    "?special"
   ]
  },
  {
   "cell_type": "code",
   "execution_count": 7,
   "metadata": {
    "collapsed": true
   },
   "outputs": [],
   "source": [
    "?special.gamma "
   ]
  },
  {
   "cell_type": "code",
   "execution_count": 8,
   "metadata": {
    "collapsed": true
   },
   "outputs": [],
   "source": [
    "?special.gammaln"
   ]
  },
  {
   "cell_type": "code",
   "execution_count": 12,
   "metadata": {},
   "outputs": [
    {
     "name": "stdout",
     "output_type": "stream",
     "text": [
      "erf(x)   = [ 0.          0.32862676  0.67780119  0.84270079]\n",
      "erfc(x)  = [ 1.          0.67137324  0.32219881  0.15729921]\n",
      "erfinv(x)= [ 0.          0.27246271  0.73286908         inf]\n"
     ]
    }
   ],
   "source": [
    "# 오차함수(가우스 적분) ,그 보수(complement)와 역수(inverse) 의 ufunc \n",
    "\n",
    "x= np.array([0,0.3,0.7,1.0])\n",
    "print(\"erf(x)   =\", special.erf(x))     # the error function : 2/sqrt(pi)*integral(exp(-t**2), t=0..z)      \n",
    "print(\"erfc(x)  =\", special.erfc(x))    # Complementary error function : 1 - erf(x) \n",
    "print(\"erfinv(x)=\", special.erfinv(x))  # type : function, Inverse function for erf."
   ]
  },
  {
   "cell_type": "code",
   "execution_count": 13,
   "metadata": {
    "collapsed": true
   },
   "outputs": [],
   "source": [
    "?special.erf"
   ]
  },
  {
   "cell_type": "code",
   "execution_count": 14,
   "metadata": {
    "collapsed": true
   },
   "outputs": [],
   "source": [
    "?special.erfc"
   ]
  },
  {
   "cell_type": "code",
   "execution_count": 15,
   "metadata": {
    "collapsed": true
   },
   "outputs": [],
   "source": [
    "?special.erfinv"
   ]
  },
  {
   "cell_type": "code",
   "execution_count": null,
   "metadata": {
    "collapsed": true
   },
   "outputs": [],
   "source": []
  }
 ],
 "metadata": {
  "kernelspec": {
   "display_name": "Python 3",
   "language": "python",
   "name": "python3"
  },
  "language_info": {
   "codemirror_mode": {
    "name": "ipython",
    "version": 3
   },
   "file_extension": ".py",
   "mimetype": "text/x-python",
   "name": "python",
   "nbconvert_exporter": "python",
   "pygments_lexer": "ipython3",
   "version": "3.6.1"
  }
 },
 "nbformat": 4,
 "nbformat_minor": 2
}
