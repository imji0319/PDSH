{
  "nbformat": 4,
  "nbformat_minor": 0,
  "metadata": {
    "colab": {
      "name": "NYC taxi_import Data.ipynb",
      "version": "0.3.2",
      "provenance": [],
      "collapsed_sections": [],
      "include_colab_link": true
    },
    "kernelspec": {
      "name": "python3",
      "display_name": "Python 3"
    }
  },
  "cells": [
    {
      "cell_type": "markdown",
      "metadata": {
        "id": "view-in-github",
        "colab_type": "text"
      },
      "source": [
        "<a href=\"https://colab.research.google.com/github/imji0319/PDSH/blob/master/NYC_taxi_import_Data.ipynb\" target=\"_parent\"><img src=\"https://colab.research.google.com/assets/colab-badge.svg\" alt=\"Open In Colab\"/></a>"
      ]
    },
    {
      "cell_type": "markdown",
      "metadata": {
        "id": "S_2imcZecdin",
        "colab_type": "text"
      },
      "source": [
        "## 55M의 데이터 불러오기\n",
        "https://www.kaggle.com/szelee/how-to-import-a-csv-file-of-55-million-rows"
      ]
    },
    {
      "cell_type": "code",
      "metadata": {
        "id": "zbPRUOzjch29",
        "colab_type": "code",
        "outputId": "80c40599-f000-44bb-d383-e7f15c3af5a8",
        "colab": {
          "base_uri": "https://localhost:8080/",
          "height": 34
        }
      },
      "source": [
        "cd /content/gdrive/My Drive/data"
      ],
      "execution_count": 0,
      "outputs": [
        {
          "output_type": "stream",
          "text": [
            "/content/gdrive/My Drive/data\n"
          ],
          "name": "stdout"
        }
      ]
    },
    {
      "cell_type": "code",
      "metadata": {
        "id": "PsRDi_T6cWpv",
        "colab_type": "code",
        "colab": {}
      },
      "source": [
        "import pandas as pd\n",
        "import dask.dataframe as dd\n",
        "import os\n",
        "from tqdm import tqdm\n",
        "\n",
        "TRAIN_PATH = 'train.csv'"
      ],
      "execution_count": 0,
      "outputs": []
    },
    {
      "cell_type": "code",
      "metadata": {
        "id": "-MmxlmNKcvAL",
        "colab_type": "code",
        "colab": {}
      },
      "source": [
        "# Set columns to most suitable type to optimize for memory usage\n",
        "traintypes = {'fare_amount': 'float32',\n",
        "              'pickup_datetime': 'str', \n",
        "              'pickup_longitude': 'float32',\n",
        "              'pickup_latitude': 'float32',\n",
        "              'dropoff_longitude': 'float32',\n",
        "              'dropoff_latitude': 'float32',\n",
        "              'passenger_count': 'uint8'}\n",
        "\n",
        "cols = list(traintypes.keys())"
      ],
      "execution_count": 0,
      "outputs": []
    },
    {
      "cell_type": "code",
      "metadata": {
        "id": "SZyN_Zs6c6x6",
        "colab_type": "code",
        "colab": {}
      },
      "source": [
        "chunksize = 5_000_000"
      ],
      "execution_count": 0,
      "outputs": []
    },
    {
      "cell_type": "code",
      "metadata": {
        "id": "C3O33GGHdBYu",
        "colab_type": "code",
        "outputId": "769f3d18-2f6e-4db0-80bb-efa83cd121a8",
        "colab": {
          "base_uri": "https://localhost:8080/",
          "height": 68
        }
      },
      "source": [
        "%%time\n",
        "\n",
        "df_list = [] # list to hold the batch dataframe\n",
        "\n",
        "for df_chunk in tqdm(pd.read_csv(TRAIN_PATH, usecols=cols, dtype=traintypes, chunksize=chunksize)):\n",
        "     \n",
        "    # Neat trick from https://www.kaggle.com/btyuhas/bayesian-optimization-with-xgboost\n",
        "    # Using parse_dates would be much slower!\n",
        "    \n",
        "    \n",
        "    df_chunk['pickup_datetime'] = df_chunk['pickup_datetime'].str.slice(0, 16)\n",
        "    df_chunk['pickup_datetime'] = pd.to_datetime(df_chunk['pickup_datetime'], utc=True, format='%Y-%m-%d %H:%M')\n",
        "    \n",
        "    # Can process each chunk of dataframe here\n",
        "    # clean_data(), feature_engineer(),fit()\n",
        "    \n",
        "    # Alternatively, append the chunk to list and merge all\n",
        "    df_list.append(df_chunk) \n",
        "    \n",
        "    "
      ],
      "execution_count": 0,
      "outputs": [
        {
          "output_type": "stream",
          "text": [
            "12it [04:01, 15.40s/it]"
          ],
          "name": "stderr"
        },
        {
          "output_type": "stream",
          "text": [
            "CPU times: user 2min 13s, sys: 10.6 s, total: 2min 23s\n",
            "Wall time: 4min 1s\n"
          ],
          "name": "stdout"
        },
        {
          "output_type": "stream",
          "text": [
            "\n"
          ],
          "name": "stderr"
        }
      ]
    },
    {
      "cell_type": "code",
      "metadata": {
        "id": "jiMdwgyXdQSP",
        "colab_type": "code",
        "outputId": "fe2e7e0e-310f-4927-f629-8a7901d38433",
        "colab": {
          "base_uri": "https://localhost:8080/",
          "height": 221
        }
      },
      "source": [
        "# Merge all dataframes into one dataframe\n",
        "train_df = pd.concat(df_list)\n",
        "\n",
        "# Delete the dataframe list to release memory\n",
        "del df_list\n",
        "\n",
        "# See what we have loaded\n",
        "train_df.info()"
      ],
      "execution_count": 0,
      "outputs": [
        {
          "output_type": "stream",
          "text": [
            "<class 'pandas.core.frame.DataFrame'>\n",
            "RangeIndex: 55423856 entries, 0 to 55423855\n",
            "Data columns (total 7 columns):\n",
            "fare_amount          float32\n",
            "pickup_datetime      datetime64[ns, UTC]\n",
            "pickup_longitude     float32\n",
            "pickup_latitude      float32\n",
            "dropoff_longitude    float32\n",
            "dropoff_latitude     float32\n",
            "passenger_count      uint8\n",
            "dtypes: datetime64[ns, UTC](1), float32(5), uint8(1)\n",
            "memory usage: 1.5 GB\n"
          ],
          "name": "stdout"
        }
      ]
    },
    {
      "cell_type": "code",
      "metadata": {
        "id": "FTIjFdg6dWoP",
        "colab_type": "code",
        "outputId": "8571bb4c-e11e-433b-8f6f-e265f66aafe2",
        "colab": {
          "base_uri": "https://localhost:8080/",
          "height": 391
        }
      },
      "source": [
        "display(train_df.head())\n",
        "display(train_df.tail())"
      ],
      "execution_count": 0,
      "outputs": [
        {
          "output_type": "display_data",
          "data": {
            "text/html": [
              "<div>\n",
              "<style scoped>\n",
              "    .dataframe tbody tr th:only-of-type {\n",
              "        vertical-align: middle;\n",
              "    }\n",
              "\n",
              "    .dataframe tbody tr th {\n",
              "        vertical-align: top;\n",
              "    }\n",
              "\n",
              "    .dataframe thead th {\n",
              "        text-align: right;\n",
              "    }\n",
              "</style>\n",
              "<table border=\"1\" class=\"dataframe\">\n",
              "  <thead>\n",
              "    <tr style=\"text-align: right;\">\n",
              "      <th></th>\n",
              "      <th>fare_amount</th>\n",
              "      <th>pickup_datetime</th>\n",
              "      <th>pickup_longitude</th>\n",
              "      <th>pickup_latitude</th>\n",
              "      <th>dropoff_longitude</th>\n",
              "      <th>dropoff_latitude</th>\n",
              "      <th>passenger_count</th>\n",
              "    </tr>\n",
              "  </thead>\n",
              "  <tbody>\n",
              "    <tr>\n",
              "      <th>0</th>\n",
              "      <td>4.5</td>\n",
              "      <td>2009-06-15 17:26:00+00:00</td>\n",
              "      <td>-73.844315</td>\n",
              "      <td>40.721317</td>\n",
              "      <td>-73.841614</td>\n",
              "      <td>40.712276</td>\n",
              "      <td>1</td>\n",
              "    </tr>\n",
              "    <tr>\n",
              "      <th>1</th>\n",
              "      <td>16.9</td>\n",
              "      <td>2010-01-05 16:52:00+00:00</td>\n",
              "      <td>-74.016045</td>\n",
              "      <td>40.711304</td>\n",
              "      <td>-73.979271</td>\n",
              "      <td>40.782005</td>\n",
              "      <td>1</td>\n",
              "    </tr>\n",
              "    <tr>\n",
              "      <th>2</th>\n",
              "      <td>5.7</td>\n",
              "      <td>2011-08-18 00:35:00+00:00</td>\n",
              "      <td>-73.982735</td>\n",
              "      <td>40.761269</td>\n",
              "      <td>-73.991241</td>\n",
              "      <td>40.750561</td>\n",
              "      <td>2</td>\n",
              "    </tr>\n",
              "    <tr>\n",
              "      <th>3</th>\n",
              "      <td>7.7</td>\n",
              "      <td>2012-04-21 04:30:00+00:00</td>\n",
              "      <td>-73.987129</td>\n",
              "      <td>40.733143</td>\n",
              "      <td>-73.991570</td>\n",
              "      <td>40.758091</td>\n",
              "      <td>1</td>\n",
              "    </tr>\n",
              "    <tr>\n",
              "      <th>4</th>\n",
              "      <td>5.3</td>\n",
              "      <td>2010-03-09 07:51:00+00:00</td>\n",
              "      <td>-73.968094</td>\n",
              "      <td>40.768009</td>\n",
              "      <td>-73.956657</td>\n",
              "      <td>40.783764</td>\n",
              "      <td>1</td>\n",
              "    </tr>\n",
              "  </tbody>\n",
              "</table>\n",
              "</div>"
            ],
            "text/plain": [
              "   fare_amount           pickup_datetime  ...  dropoff_latitude  passenger_count\n",
              "0          4.5 2009-06-15 17:26:00+00:00  ...         40.712276                1\n",
              "1         16.9 2010-01-05 16:52:00+00:00  ...         40.782005                1\n",
              "2          5.7 2011-08-18 00:35:00+00:00  ...         40.750561                2\n",
              "3          7.7 2012-04-21 04:30:00+00:00  ...         40.758091                1\n",
              "4          5.3 2010-03-09 07:51:00+00:00  ...         40.783764                1\n",
              "\n",
              "[5 rows x 7 columns]"
            ]
          },
          "metadata": {
            "tags": []
          }
        },
        {
          "output_type": "display_data",
          "data": {
            "text/html": [
              "<div>\n",
              "<style scoped>\n",
              "    .dataframe tbody tr th:only-of-type {\n",
              "        vertical-align: middle;\n",
              "    }\n",
              "\n",
              "    .dataframe tbody tr th {\n",
              "        vertical-align: top;\n",
              "    }\n",
              "\n",
              "    .dataframe thead th {\n",
              "        text-align: right;\n",
              "    }\n",
              "</style>\n",
              "<table border=\"1\" class=\"dataframe\">\n",
              "  <thead>\n",
              "    <tr style=\"text-align: right;\">\n",
              "      <th></th>\n",
              "      <th>fare_amount</th>\n",
              "      <th>pickup_datetime</th>\n",
              "      <th>pickup_longitude</th>\n",
              "      <th>pickup_latitude</th>\n",
              "      <th>dropoff_longitude</th>\n",
              "      <th>dropoff_latitude</th>\n",
              "      <th>passenger_count</th>\n",
              "    </tr>\n",
              "  </thead>\n",
              "  <tbody>\n",
              "    <tr>\n",
              "      <th>55423851</th>\n",
              "      <td>14.0</td>\n",
              "      <td>2014-03-15 03:28:00+00:00</td>\n",
              "      <td>-74.005272</td>\n",
              "      <td>40.740028</td>\n",
              "      <td>-73.963280</td>\n",
              "      <td>40.762554</td>\n",
              "      <td>1</td>\n",
              "    </tr>\n",
              "    <tr>\n",
              "      <th>55423852</th>\n",
              "      <td>4.2</td>\n",
              "      <td>2009-03-24 20:46:00+00:00</td>\n",
              "      <td>-73.957787</td>\n",
              "      <td>40.765530</td>\n",
              "      <td>-73.951637</td>\n",
              "      <td>40.773960</td>\n",
              "      <td>1</td>\n",
              "    </tr>\n",
              "    <tr>\n",
              "      <th>55423853</th>\n",
              "      <td>14.1</td>\n",
              "      <td>2011-04-02 22:04:00+00:00</td>\n",
              "      <td>-73.970505</td>\n",
              "      <td>40.752323</td>\n",
              "      <td>-73.960541</td>\n",
              "      <td>40.797340</td>\n",
              "      <td>1</td>\n",
              "    </tr>\n",
              "    <tr>\n",
              "      <th>55423854</th>\n",
              "      <td>28.9</td>\n",
              "      <td>2011-10-26 05:57:00+00:00</td>\n",
              "      <td>-73.980904</td>\n",
              "      <td>40.764629</td>\n",
              "      <td>-73.870605</td>\n",
              "      <td>40.773964</td>\n",
              "      <td>1</td>\n",
              "    </tr>\n",
              "    <tr>\n",
              "      <th>55423855</th>\n",
              "      <td>7.5</td>\n",
              "      <td>2014-12-12 11:33:00+00:00</td>\n",
              "      <td>-73.969719</td>\n",
              "      <td>40.797668</td>\n",
              "      <td>-73.970886</td>\n",
              "      <td>40.783314</td>\n",
              "      <td>1</td>\n",
              "    </tr>\n",
              "  </tbody>\n",
              "</table>\n",
              "</div>"
            ],
            "text/plain": [
              "          fare_amount  ... passenger_count\n",
              "55423851         14.0  ...               1\n",
              "55423852          4.2  ...               1\n",
              "55423853         14.1  ...               1\n",
              "55423854         28.9  ...               1\n",
              "55423855          7.5  ...               1\n",
              "\n",
              "[5 rows x 7 columns]"
            ]
          },
          "metadata": {
            "tags": []
          }
        }
      ]
    },
    {
      "cell_type": "code",
      "metadata": {
        "id": "e5ekY2i7hQvf",
        "colab_type": "code",
        "outputId": "222d547e-cec2-4a30-a1b4-3853acb5f992",
        "colab": {
          "base_uri": "https://localhost:8080/",
          "height": 420
        }
      },
      "source": [
        "pip install -U pyarrow"
      ],
      "execution_count": 0,
      "outputs": [
        {
          "output_type": "stream",
          "text": [
            "Collecting pyarrow\n",
            "\u001b[?25l  Downloading https://files.pythonhosted.org/packages/ad/25/094b122d828d24b58202712a74e661e36cd551ca62d331e388ff68bae91d/pyarrow-0.13.0-cp36-cp36m-manylinux1_x86_64.whl (48.5MB)\n",
            "\u001b[K     |████████████████████████████████| 48.5MB 37.5MB/s \n",
            "\u001b[?25hRequirement already satisfied, skipping upgrade: six>=1.0.0 in /usr/local/lib/python3.6/dist-packages (from pyarrow) (1.12.0)\n",
            "Requirement already satisfied, skipping upgrade: numpy>=1.14 in /usr/local/lib/python3.6/dist-packages (from pyarrow) (1.16.3)\n",
            "Installing collected packages: pyarrow\n",
            "Successfully installed pyarrow-0.13.0\n"
          ],
          "name": "stdout"
        }
      ]
    },
    {
      "cell_type": "code",
      "metadata": {
        "id": "-Oz355NNdY0a",
        "colab_type": "code",
        "outputId": "25a68aa5-14ca-4fb3-ac94-d26f12a98011",
        "colab": {
          "base_uri": "https://localhost:8080/",
          "height": 51
        }
      },
      "source": [
        "%%time\n",
        "# Save into feather format, about 1.5Gb. \n",
        "train_df.to_feather('nyc_taxi_data_raw.feather')"
      ],
      "execution_count": 0,
      "outputs": [
        {
          "output_type": "stream",
          "text": [
            "CPU times: user 2.38 s, sys: 1.38 s, total: 3.76 s\n",
            "Wall time: 21.8 s\n"
          ],
          "name": "stdout"
        }
      ]
    },
    {
      "cell_type": "code",
      "metadata": {
        "id": "0zqCKu86db3O",
        "colab_type": "code",
        "outputId": "a15bc064-7e12-444b-c716-6e297c16972b",
        "colab": {
          "base_uri": "https://localhost:8080/",
          "height": 51
        }
      },
      "source": [
        "%%time\n",
        "# load the same dataframe next time directly, without reading the csv file again!\n",
        "train_df_new = pd.read_feather('nyc_taxi_data_raw.feather')"
      ],
      "execution_count": 0,
      "outputs": [
        {
          "output_type": "stream",
          "text": [
            "CPU times: user 793 ms, sys: 1.74 s, total: 2.53 s\n",
            "Wall time: 3.1 s\n"
          ],
          "name": "stdout"
        }
      ]
    },
    {
      "cell_type": "code",
      "metadata": {
        "id": "z1Kv6p13deGC",
        "colab_type": "code",
        "outputId": "2baa407d-27d1-400d-d749-992e478b8bf5",
        "colab": {
          "base_uri": "https://localhost:8080/",
          "height": 221
        }
      },
      "source": [
        "# print the dataframe info to verify we have indeed loaded the saved dataframe of 55 million rows\n",
        "train_df_new.info()"
      ],
      "execution_count": 0,
      "outputs": [
        {
          "output_type": "stream",
          "text": [
            "<class 'pandas.core.frame.DataFrame'>\n",
            "RangeIndex: 55423856 entries, 0 to 55423855\n",
            "Data columns (total 7 columns):\n",
            "fare_amount          float32\n",
            "pickup_datetime      datetime64[ns, UTC]\n",
            "pickup_longitude     float32\n",
            "pickup_latitude      float32\n",
            "dropoff_longitude    float32\n",
            "dropoff_latitude     float32\n",
            "passenger_count      uint8\n",
            "dtypes: datetime64[ns, UTC](1), float32(5), uint8(1)\n",
            "memory usage: 1.5 GB\n"
          ],
          "name": "stdout"
        }
      ]
    },
    {
      "cell_type": "code",
      "metadata": {
        "id": "9GU_6Ko4djfw",
        "colab_type": "code",
        "outputId": "7f851fc1-13bf-459b-ffd0-2ea836b8d902",
        "colab": {
          "base_uri": "https://localhost:8080/",
          "height": 204
        }
      },
      "source": [
        "train_df_new.head()\n",
        "train_df_new.tail()"
      ],
      "execution_count": 0,
      "outputs": [
        {
          "output_type": "execute_result",
          "data": {
            "text/html": [
              "<div>\n",
              "<style scoped>\n",
              "    .dataframe tbody tr th:only-of-type {\n",
              "        vertical-align: middle;\n",
              "    }\n",
              "\n",
              "    .dataframe tbody tr th {\n",
              "        vertical-align: top;\n",
              "    }\n",
              "\n",
              "    .dataframe thead th {\n",
              "        text-align: right;\n",
              "    }\n",
              "</style>\n",
              "<table border=\"1\" class=\"dataframe\">\n",
              "  <thead>\n",
              "    <tr style=\"text-align: right;\">\n",
              "      <th></th>\n",
              "      <th>fare_amount</th>\n",
              "      <th>pickup_datetime</th>\n",
              "      <th>pickup_longitude</th>\n",
              "      <th>pickup_latitude</th>\n",
              "      <th>dropoff_longitude</th>\n",
              "      <th>dropoff_latitude</th>\n",
              "      <th>passenger_count</th>\n",
              "    </tr>\n",
              "  </thead>\n",
              "  <tbody>\n",
              "    <tr>\n",
              "      <th>55423851</th>\n",
              "      <td>14.0</td>\n",
              "      <td>2014-03-15 03:28:00+00:00</td>\n",
              "      <td>-74.005272</td>\n",
              "      <td>40.740028</td>\n",
              "      <td>-73.963280</td>\n",
              "      <td>40.762554</td>\n",
              "      <td>1</td>\n",
              "    </tr>\n",
              "    <tr>\n",
              "      <th>55423852</th>\n",
              "      <td>4.2</td>\n",
              "      <td>2009-03-24 20:46:00+00:00</td>\n",
              "      <td>-73.957787</td>\n",
              "      <td>40.765530</td>\n",
              "      <td>-73.951637</td>\n",
              "      <td>40.773960</td>\n",
              "      <td>1</td>\n",
              "    </tr>\n",
              "    <tr>\n",
              "      <th>55423853</th>\n",
              "      <td>14.1</td>\n",
              "      <td>2011-04-02 22:04:00+00:00</td>\n",
              "      <td>-73.970505</td>\n",
              "      <td>40.752323</td>\n",
              "      <td>-73.960541</td>\n",
              "      <td>40.797340</td>\n",
              "      <td>1</td>\n",
              "    </tr>\n",
              "    <tr>\n",
              "      <th>55423854</th>\n",
              "      <td>28.9</td>\n",
              "      <td>2011-10-26 05:57:00+00:00</td>\n",
              "      <td>-73.980904</td>\n",
              "      <td>40.764629</td>\n",
              "      <td>-73.870605</td>\n",
              "      <td>40.773964</td>\n",
              "      <td>1</td>\n",
              "    </tr>\n",
              "    <tr>\n",
              "      <th>55423855</th>\n",
              "      <td>7.5</td>\n",
              "      <td>2014-12-12 11:33:00+00:00</td>\n",
              "      <td>-73.969719</td>\n",
              "      <td>40.797668</td>\n",
              "      <td>-73.970886</td>\n",
              "      <td>40.783314</td>\n",
              "      <td>1</td>\n",
              "    </tr>\n",
              "  </tbody>\n",
              "</table>\n",
              "</div>"
            ],
            "text/plain": [
              "          fare_amount  ... passenger_count\n",
              "55423851         14.0  ...               1\n",
              "55423852          4.2  ...               1\n",
              "55423853         14.1  ...               1\n",
              "55423854         28.9  ...               1\n",
              "55423855          7.5  ...               1\n",
              "\n",
              "[5 rows x 7 columns]"
            ]
          },
          "metadata": {
            "tags": []
          },
          "execution_count": 18
        }
      ]
    },
    {
      "cell_type": "code",
      "metadata": {
        "id": "ZF1d6Z-qdzw3",
        "colab_type": "code",
        "colab": {}
      },
      "source": [
        "del train_df\n",
        "del train_df_new"
      ],
      "execution_count": 0,
      "outputs": []
    },
    {
      "cell_type": "code",
      "metadata": {
        "id": "ygjfBFK2ihSH",
        "colab_type": "code",
        "colab": {}
      },
      "source": [
        ""
      ],
      "execution_count": 0,
      "outputs": []
    }
  ]
}