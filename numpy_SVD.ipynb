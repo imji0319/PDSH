{
  "nbformat": 4,
  "nbformat_minor": 0,
  "metadata": {
    "colab": {
      "name": "numpy_SVD.ipynb",
      "version": "0.3.2",
      "provenance": [],
      "include_colab_link": true
    },
    "kernelspec": {
      "name": "python3",
      "display_name": "Python 3"
    },
    "accelerator": "TPU"
  },
  "cells": [
    {
      "cell_type": "markdown",
      "metadata": {
        "id": "view-in-github",
        "colab_type": "text"
      },
      "source": [
        "<a href=\"https://colab.research.google.com/github/imji0319/PDSH/blob/master/numpy_SVD.ipynb\" target=\"_parent\"><img src=\"https://colab.research.google.com/assets/colab-badge.svg\" alt=\"Open In Colab\"/></a>"
      ]
    },
    {
      "metadata": {
        "id": "cBZ3PKSIk-Zd",
        "colab_type": "code",
        "colab": {
          "base_uri": "https://localhost:8080/",
          "height": 85
        },
        "outputId": "0e6adced-12e2-4e6c-9b7f-7bf80bb7f9b8"
      },
      "cell_type": "code",
      "source": [
        "import numpy as np\n",
        "from numpy.linalg import svd\n",
        "\n",
        "np.random.seed(121)\n",
        "a = np.random.randn(4, 4)\n",
        "print(np.round(a,3))"
      ],
      "execution_count": 2,
      "outputs": [
        {
          "output_type": "stream",
          "text": [
            "[[-0.212 -0.285 -0.574 -0.44 ]\n",
            " [-0.33   1.184  1.615  0.367]\n",
            " [-0.014  0.63   1.71  -1.327]\n",
            " [ 0.402 -0.191  1.404 -1.969]]\n"
          ],
          "name": "stdout"
        }
      ]
    },
    {
      "metadata": {
        "id": "9JwE9LRAlvsH",
        "colab_type": "code",
        "colab": {
          "base_uri": "https://localhost:8080/",
          "height": 153
        },
        "outputId": "fe58a76e-21ab-4282-ed50-7019de05ae49"
      },
      "cell_type": "code",
      "source": [
        "U, Sigma, Vt = svd(a)\n",
        "\n",
        "print(U.shape, Sigma.shape, Vt.shape )\n",
        "print('U matrix: \\n', np.round(Sigma, 3))\n",
        "print('V transpose matrix: \\n', np.round(Vt,3))"
      ],
      "execution_count": 3,
      "outputs": [
        {
          "output_type": "stream",
          "text": [
            "(4, 4) (4,) (4, 4)\n",
            "U matrix: \n",
            " [3.423 2.023 0.463 0.079]\n",
            "V transpose matrix: \n",
            " [[ 0.041  0.224  0.786 -0.574]\n",
            " [-0.2    0.562  0.37   0.712]\n",
            " [-0.778  0.395 -0.333 -0.357]\n",
            " [-0.593 -0.692  0.366  0.189]]\n"
          ],
          "name": "stdout"
        }
      ]
    },
    {
      "metadata": {
        "id": "erI2EiiymeR_",
        "colab_type": "code",
        "colab": {
          "base_uri": "https://localhost:8080/",
          "height": 85
        },
        "outputId": "f224002f-e0ce-47fe-c443-689c445f9bc3"
      },
      "cell_type": "code",
      "source": [
        "#Sigma를 다시 0을 포함한 대칭행렬로 변환 \n",
        "\n",
        "Sigma_mat = np.diag(Sigma)\n",
        "a_ = np.dot(np.dot(U, Sigma_mat), Vt)\n",
        "print(np.round(a_, 3 ))"
      ],
      "execution_count": 4,
      "outputs": [
        {
          "output_type": "stream",
          "text": [
            "[[-0.212 -0.285 -0.574 -0.44 ]\n",
            " [-0.33   1.184  1.615  0.367]\n",
            " [-0.014  0.63   1.71  -1.327]\n",
            " [ 0.402 -0.191  1.404 -1.969]]\n"
          ],
          "name": "stdout"
        }
      ]
    }
  ]
}