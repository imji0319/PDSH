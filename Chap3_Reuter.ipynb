{
  "nbformat": 4,
  "nbformat_minor": 0,
  "metadata": {
    "colab": {
      "name": "Chap3_Reuter.ipynb",
      "version": "0.3.2",
      "provenance": [],
      "collapsed_sections": [],
      "include_colab_link": true
    },
    "kernelspec": {
      "name": "python3",
      "display_name": "Python 3"
    }
  },
  "cells": [
    {
      "cell_type": "markdown",
      "metadata": {
        "id": "view-in-github",
        "colab_type": "text"
      },
      "source": [
        "<a href=\"https://colab.research.google.com/github/imji0319/PDSH/blob/master/Chap3_Reuter.ipynb\" target=\"_parent\"><img src=\"https://colab.research.google.com/assets/colab-badge.svg\" alt=\"Open In Colab\"/></a>"
      ]
    },
    {
      "metadata": {
        "id": "xK6vRpw9Vs1Z",
        "colab_type": "code",
        "colab": {
          "base_uri": "https://localhost:8080/",
          "height": 51
        },
        "outputId": "63279288-6122-473a-d9f0-9cedda859420"
      },
      "cell_type": "code",
      "source": [
        "#데이터 로드\n",
        "#reuters 로이터 뉴스 기사를 46개의 토픽으로 분류하는 다중 분류 문제(multiclass classification) \n",
        "from keras.datasets import reuters\n",
        "\n",
        "(train_data, train_labels), (test_data, test_labels) = reuters.load_data(num_words=10000) #데이터에서 자주 등장하는 단어 10000개로 제한 \n",
        "\n",
        "print(len(train_data))\n",
        "print(len(test_data))"
      ],
      "execution_count": 3,
      "outputs": [
        {
          "output_type": "stream",
          "text": [
            "8982\n",
            "2246\n"
          ],
          "name": "stdout"
        }
      ]
    },
    {
      "metadata": {
        "id": "qCVaOJUAX6YC",
        "colab_type": "code",
        "colab": {
          "base_uri": "https://localhost:8080/",
          "height": 544
        },
        "outputId": "980fe3fa-3658-4258-a2d9-34a5c679140f"
      },
      "cell_type": "code",
      "source": [
        "train_data[10]"
      ],
      "execution_count": 4,
      "outputs": [
        {
          "output_type": "execute_result",
          "data": {
            "text/plain": [
              "[1,\n",
              " 245,\n",
              " 273,\n",
              " 207,\n",
              " 156,\n",
              " 53,\n",
              " 74,\n",
              " 160,\n",
              " 26,\n",
              " 14,\n",
              " 46,\n",
              " 296,\n",
              " 26,\n",
              " 39,\n",
              " 74,\n",
              " 2979,\n",
              " 3554,\n",
              " 14,\n",
              " 46,\n",
              " 4689,\n",
              " 4329,\n",
              " 86,\n",
              " 61,\n",
              " 3499,\n",
              " 4795,\n",
              " 14,\n",
              " 61,\n",
              " 451,\n",
              " 4329,\n",
              " 17,\n",
              " 12]"
            ]
          },
          "metadata": {
            "tags": []
          },
          "execution_count": 4
        }
      ]
    },
    {
      "metadata": {
        "id": "7Gp8Sh_VYIYF",
        "colab_type": "code",
        "colab": {
          "base_uri": "https://localhost:8080/",
          "height": 51
        },
        "outputId": "2aa94dee-5a0c-4543-c3ad-322dae054e33"
      },
      "cell_type": "code",
      "source": [
        "#데이터 텍스트로 디코딩하기\n",
        "word_index = reuters.get_word_index()\n",
        "reverse_word_index = dict([(value, key) for (key, value) in word_index.items()])\n",
        "decoded_newswire = ' '.join([reverse_word_index.get(i-3,'?') for i in train_data[0]])\n",
        "#i-3 을 하는 이유는 0,1,2 는 패딩,' 문서시작','사전에 없음'을 위한 인덱스 임으로 3을 뺌\n"
      ],
      "execution_count": 5,
      "outputs": [
        {
          "output_type": "stream",
          "text": [
            "Downloading data from https://s3.amazonaws.com/text-datasets/reuters_word_index.json\n",
            "557056/550378 [==============================] - 0s 1us/step\n"
          ],
          "name": "stdout"
        }
      ]
    },
    {
      "metadata": {
        "id": "N2GrTVeaYyvD",
        "colab_type": "code",
        "colab": {
          "base_uri": "https://localhost:8080/",
          "height": 74
        },
        "outputId": "1f4930e2-3639-45e1-aacc-0722376c8553"
      },
      "cell_type": "code",
      "source": [
        "decoded_newswire"
      ],
      "execution_count": 6,
      "outputs": [
        {
          "output_type": "execute_result",
          "data": {
            "text/plain": [
              "'? ? ? said as a result of its december acquisition of space co it expects earnings per share in 1987 of 1 15 to 1 30 dlrs per share up from 70 cts in 1986 the company said pretax net should rise to nine to 10 mln dlrs from six mln dlrs in 1986 and rental operation revenues to 19 to 22 mln dlrs from 12 5 mln dlrs it said cash flow per share this year should be 2 50 to three dlrs reuter 3'"
            ]
          },
          "metadata": {
            "tags": []
          },
          "execution_count": 6
        }
      ]
    },
    {
      "metadata": {
        "id": "GegAzg1mY2Wu",
        "colab_type": "code",
        "colab": {
          "base_uri": "https://localhost:8080/",
          "height": 34
        },
        "outputId": "5792d705-685e-4ad8-c4f6-bd73cf608687"
      },
      "cell_type": "code",
      "source": [
        "train_labels[10]\n",
        "# 샘플과 연결된 레이블은 토픽의 인덱스로 0~45 사이의 정수 : 46개의 토픽 분류\n"
      ],
      "execution_count": 7,
      "outputs": [
        {
          "output_type": "execute_result",
          "data": {
            "text/plain": [
              "3"
            ]
          },
          "metadata": {
            "tags": []
          },
          "execution_count": 7
        }
      ]
    },
    {
      "metadata": {
        "id": "Z-8aNuvhZXuz",
        "colab_type": "code",
        "colab": {}
      },
      "cell_type": "code",
      "source": [
        "# 데이터 -> 벡터\n",
        "import numpy as np\n",
        "\n",
        "def vectorize_sequences(sequences, dimenstion = 10000):\n",
        "  results = np.zeros((len(sequences), dimenstion))\n",
        "  for i, sequence in enumerate(sequences):\n",
        "    results[i,sequence] = 1.\n",
        "    \n",
        "  return results \n",
        "\n",
        "x_train = vectorize_sequences(train_data)\n",
        "x_test = vectorize_sequences(test_data)"
      ],
      "execution_count": 0,
      "outputs": []
    },
    {
      "metadata": {
        "id": "Wl3cN68Paxk0",
        "colab_type": "code",
        "colab": {}
      },
      "cell_type": "code",
      "source": [
        "# one-hot ending \n",
        "from keras.utils.np_utils import to_categorical\n",
        "one_hot_train_labels = to_categorical(train_labels)\n",
        "one_hot_test_labels = to_categorical(test_labels)"
      ],
      "execution_count": 0,
      "outputs": []
    },
    {
      "metadata": {
        "id": "GnP8fFbMbZHJ",
        "colab_type": "code",
        "colab": {}
      },
      "cell_type": "code",
      "source": [
        "#모델 정의하기\n",
        "from keras import models\n",
        "from keras import layers\n",
        "\n",
        "model = models.Sequential()\n",
        "model.add(layers.Dense(64, activation = 'relu', input_shape = (10000,)))\n",
        "model.add(layers.Dense(64, activation = 'relu'))\n",
        "model.add(layers.Dense(46, activation = 'softmax')) \n",
        "# 레이블이 총 46개로 나타나야 하기 때문에 각 입력 샘플마다 46개 출력 클래스에 대한 확률 분포 출력"
      ],
      "execution_count": 0,
      "outputs": []
    },
    {
      "metadata": {
        "id": "opQlnCR1cTup",
        "colab_type": "code",
        "colab": {}
      },
      "cell_type": "code",
      "source": [
        "# 모델 컴파일하기\n",
        "model.compile(optimizer='rmsprop',\n",
        "             loss = 'categorical_crossentropy',\n",
        "             metrics = ['accuracy'])"
      ],
      "execution_count": 0,
      "outputs": []
    },
    {
      "metadata": {
        "id": "C4KJ-Pj6ckNL",
        "colab_type": "code",
        "colab": {}
      },
      "cell_type": "code",
      "source": [
        "#검증세트 준비하기\n",
        "x_val = x_train[:1000]\n",
        "partial_x_train=x_train[1000:]\n",
        "\n",
        "y_val = one_hot_train_labels[:1000]\n",
        "partial_y_train=one_hot_train_labels[1000:]"
      ],
      "execution_count": 0,
      "outputs": []
    },
    {
      "metadata": {
        "id": "9JWc2i04c5Xl",
        "colab_type": "code",
        "colab": {
          "base_uri": "https://localhost:8080/",
          "height": 714
        },
        "outputId": "420c04dd-09c3-4931-c943-ed1da45475ef"
      },
      "cell_type": "code",
      "source": [
        "history = model.fit(partial_x_train,\n",
        "                    partial_y_train,\n",
        "                    epochs=20,\n",
        "                    batch_size=512,\n",
        "                    validation_data=(x_val,y_val))"
      ],
      "execution_count": 18,
      "outputs": [
        {
          "output_type": "stream",
          "text": [
            "Train on 7982 samples, validate on 1000 samples\n",
            "Epoch 1/20\n",
            "7982/7982 [==============================] - 1s 179us/step - loss: 2.5322 - acc: 0.4955 - val_loss: 1.7208 - val_acc: 0.6120\n",
            "Epoch 2/20\n",
            "7982/7982 [==============================] - 1s 146us/step - loss: 1.4452 - acc: 0.6879 - val_loss: 1.3459 - val_acc: 0.7060\n",
            "Epoch 3/20\n",
            "7982/7982 [==============================] - 1s 147us/step - loss: 1.0952 - acc: 0.7651 - val_loss: 1.1708 - val_acc: 0.7440\n",
            "Epoch 4/20\n",
            "7982/7982 [==============================] - 1s 143us/step - loss: 0.8694 - acc: 0.8160 - val_loss: 1.0811 - val_acc: 0.7580\n",
            "Epoch 5/20\n",
            "7982/7982 [==============================] - 1s 144us/step - loss: 0.7032 - acc: 0.8472 - val_loss: 0.9841 - val_acc: 0.7820\n",
            "Epoch 6/20\n",
            "7982/7982 [==============================] - 1s 145us/step - loss: 0.5663 - acc: 0.8802 - val_loss: 0.9413 - val_acc: 0.8040\n",
            "Epoch 7/20\n",
            "7982/7982 [==============================] - 1s 145us/step - loss: 0.4582 - acc: 0.9045 - val_loss: 0.9075 - val_acc: 0.8020\n",
            "Epoch 8/20\n",
            "7982/7982 [==============================] - 1s 143us/step - loss: 0.3695 - acc: 0.9228 - val_loss: 0.9363 - val_acc: 0.7920\n",
            "Epoch 9/20\n",
            "7982/7982 [==============================] - 1s 144us/step - loss: 0.3032 - acc: 0.9311 - val_loss: 0.8928 - val_acc: 0.8060\n",
            "Epoch 10/20\n",
            "7982/7982 [==============================] - 1s 144us/step - loss: 0.2537 - acc: 0.9416 - val_loss: 0.9088 - val_acc: 0.8100\n",
            "Epoch 11/20\n",
            "7982/7982 [==============================] - 1s 143us/step - loss: 0.2188 - acc: 0.9469 - val_loss: 0.9189 - val_acc: 0.8120\n",
            "Epoch 12/20\n",
            "7982/7982 [==============================] - 1s 144us/step - loss: 0.1876 - acc: 0.9509 - val_loss: 0.9071 - val_acc: 0.8130\n",
            "Epoch 13/20\n",
            "7982/7982 [==============================] - 1s 145us/step - loss: 0.1703 - acc: 0.9528 - val_loss: 0.9341 - val_acc: 0.8090\n",
            "Epoch 14/20\n",
            "7982/7982 [==============================] - 1s 144us/step - loss: 0.1535 - acc: 0.9554 - val_loss: 0.9669 - val_acc: 0.8090\n",
            "Epoch 15/20\n",
            "7982/7982 [==============================] - 1s 143us/step - loss: 0.1393 - acc: 0.9559 - val_loss: 0.9684 - val_acc: 0.8160\n",
            "Epoch 16/20\n",
            "7982/7982 [==============================] - 1s 146us/step - loss: 0.1313 - acc: 0.9560 - val_loss: 1.0251 - val_acc: 0.8020\n",
            "Epoch 17/20\n",
            "7982/7982 [==============================] - 1s 147us/step - loss: 0.1218 - acc: 0.9579 - val_loss: 1.0319 - val_acc: 0.7940\n",
            "Epoch 18/20\n",
            "7982/7982 [==============================] - 1s 147us/step - loss: 0.1200 - acc: 0.9584 - val_loss: 1.0430 - val_acc: 0.8070\n",
            "Epoch 19/20\n",
            "7982/7982 [==============================] - 1s 148us/step - loss: 0.1136 - acc: 0.9593 - val_loss: 1.1022 - val_acc: 0.7960\n",
            "Epoch 20/20\n",
            "7982/7982 [==============================] - 1s 146us/step - loss: 0.1116 - acc: 0.9592 - val_loss: 1.0704 - val_acc: 0.8020\n"
          ],
          "name": "stdout"
        }
      ]
    },
    {
      "metadata": {
        "id": "Mj6YpFGedIv6",
        "colab_type": "code",
        "colab": {
          "base_uri": "https://localhost:8080/",
          "height": 376
        },
        "outputId": "537dc114-96f4-4f65-c013-94f35b2fe474"
      },
      "cell_type": "code",
      "source": [
        "#훈련 과 검증 손실 그리기\n",
        "import matplotlib.pyplot as plt\n",
        "\n",
        "loss = history.history['loss']\n",
        "val_loss = history.history['val_loss']\n",
        "\n",
        "epochs = range(1, len(loss)+1 )\n",
        "\n",
        "plt.plot(epochs, loss, 'bo', label = 'Training loss')\n",
        "plt.plot(epochs, val_loss, 'b', label ='Validation loss')\n",
        "plt.title('Training and Validation loss')\n",
        "plt.xlabel('Epochs')\n",
        "plt.ylabel('Loss')\n",
        "plt.legend()\n",
        "\n",
        "plt.show()"
      ],
      "execution_count": 19,
      "outputs": [
        {
          "output_type": "display_data",
          "data": {
            "image/png": "[encoded data removed]",
            "text/plain": [
              "<matplotlib.figure.Figure at 0x7fc7020ed978>"
            ]
          },
          "metadata": {
            "tags": []
          }
        }
      ]
    },
    {
      "metadata": {
        "id": "Li1H2OTNd_W5",
        "colab_type": "code",
        "colab": {
          "base_uri": "https://localhost:8080/",
          "height": 376
        },
        "outputId": "ed78069d-d8cb-457e-a405-d3a2ebfa9202"
      },
      "cell_type": "code",
      "source": [
        "#훈련과 검증 정확도 그리기\n",
        "plt.clf()\n",
        "\n",
        "acc= history.history['acc']\n",
        "val_acc=history.history['val_acc']\n",
        "\n",
        "plt.plot(epochs, acc, 'bo', label = 'Training acc')\n",
        "plt.plot(epochs, val_acc, 'b', label ='Validation acc')\n",
        "plt.title('Training and Validation accuracy')\n",
        "plt.xlabel('Epochs')\n",
        "plt.ylabel('Accuracy')\n",
        "plt.legend()\n",
        "\n",
        "plt.show()"
      ],
      "execution_count": 20,
      "outputs": [
        {
          "output_type": "display_data",
          "data": {
            "image/png": "[encoded data removed]",
            "text/plain": [
              "<matplotlib.figure.Figure at 0x7fc7020ed400>"
            ]
          },
          "metadata": {
            "tags": []
          }
        }
      ]
    },
    {
      "metadata": {
        "id": "qq0vbcRDeXfn",
        "colab_type": "code",
        "colab": {
          "base_uri": "https://localhost:8080/",
          "height": 340
        },
        "outputId": "c9695c7b-da53-4de9-b796-ccbc08c9b7c8"
      },
      "cell_type": "code",
      "source": [
        "#overfitting 해결 하여 모델링\n",
        "\n",
        "model = models.Sequential()\n",
        "model.add(layers.Dense(64, activation = 'relu', input_shape = (10000,)))\n",
        "model.add(layers.Dense(64, activation = 'relu'))\n",
        "model.add(layers.Dense(46, activation = 'softmax')) \n",
        "\n",
        "\n",
        "model.compile(optimizer='rmsprop',\n",
        "             loss = 'categorical_crossentropy',\n",
        "             metrics = ['accuracy'])\n",
        "\n",
        "history = model.fit(partial_x_train,\n",
        "                    partial_y_train,\n",
        "                    epochs=8,\n",
        "                    batch_size=512,\n",
        "                    validation_data=(x_val,y_val))\n",
        "\n",
        "results = model.evaluate(x_test, one_hot_test_labels)\n",
        "results"
      ],
      "execution_count": 22,
      "outputs": [
        {
          "output_type": "stream",
          "text": [
            "Train on 7982 samples, validate on 1000 samples\n",
            "Epoch 1/8\n",
            "7982/7982 [==============================] - 1s 172us/step - loss: 2.6129 - acc: 0.4639 - val_loss: 1.7305 - val_acc: 0.6340\n",
            "Epoch 2/8\n",
            "7982/7982 [==============================] - 1s 146us/step - loss: 1.4078 - acc: 0.7083 - val_loss: 1.2744 - val_acc: 0.7320\n",
            "Epoch 3/8\n",
            "7982/7982 [==============================] - 1s 146us/step - loss: 1.0393 - acc: 0.7814 - val_loss: 1.1015 - val_acc: 0.7630\n",
            "Epoch 4/8\n",
            "7982/7982 [==============================] - 1s 147us/step - loss: 0.8136 - acc: 0.8320 - val_loss: 1.0271 - val_acc: 0.7810\n",
            "Epoch 5/8\n",
            "7982/7982 [==============================] - 1s 145us/step - loss: 0.6475 - acc: 0.8636 - val_loss: 0.9527 - val_acc: 0.8060\n",
            "Epoch 6/8\n",
            "7982/7982 [==============================] - 1s 145us/step - loss: 0.5277 - acc: 0.8914 - val_loss: 0.9208 - val_acc: 0.8120\n",
            "Epoch 7/8\n",
            "7982/7982 [==============================] - 1s 145us/step - loss: 0.4202 - acc: 0.9112 - val_loss: 0.9037 - val_acc: 0.8130\n",
            "Epoch 8/8\n",
            "7982/7982 [==============================] - 1s 145us/step - loss: 0.3484 - acc: 0.9255 - val_loss: 0.8910 - val_acc: 0.8160\n",
            "2246/2246 [==============================] - 0s 102us/step\n"
          ],
          "name": "stdout"
        },
        {
          "output_type": "execute_result",
          "data": {
            "text/plain": [
              "[0.9902279402460249, 0.7773820124931454]"
            ]
          },
          "metadata": {
            "tags": []
          },
          "execution_count": 22
        }
      ]
    },
    {
      "metadata": {
        "id": "kqqdNpCKe1bG",
        "colab_type": "code",
        "colab": {
          "base_uri": "https://localhost:8080/",
          "height": 238
        },
        "outputId": "2ca7843f-1b2a-4f56-edb6-0f18a990dedf"
      },
      "cell_type": "code",
      "source": [
        "#새로운 데이터 예측\n",
        "predictions = model.predict(x_test)\n",
        "predictions"
      ],
      "execution_count": 24,
      "outputs": [
        {
          "output_type": "execute_result",
          "data": {
            "text/plain": [
              "array([[1.16261755e-04, 7.39130192e-05, 3.50193113e-05, ...,\n",
              "        6.13269076e-05, 4.10319772e-05, 7.42394241e-06],\n",
              "       [1.62942824e-03, 1.90654084e-01, 4.87666948e-05, ...,\n",
              "        9.35753691e-04, 4.04389612e-05, 7.93085317e-04],\n",
              "       [3.19023314e-03, 7.49238551e-01, 1.12833281e-03, ...,\n",
              "        1.04386231e-03, 2.84350244e-04, 3.71283066e-04],\n",
              "       ...,\n",
              "       [4.65224693e-05, 3.18101695e-04, 3.25081019e-05, ...,\n",
              "        4.52802124e-05, 1.67055132e-05, 1.05830331e-05],\n",
              "       [1.82910566e-03, 5.05131818e-02, 6.51272479e-03, ...,\n",
              "        1.09476375e-03, 2.85798422e-04, 4.97110654e-04],\n",
              "       [1.34853457e-04, 8.06758046e-01, 2.96271616e-03, ...,\n",
              "        5.35155355e-04, 1.46118637e-05, 8.81868109e-05]], dtype=float32)"
            ]
          },
          "metadata": {
            "tags": []
          },
          "execution_count": 24
        }
      ]
    },
    {
      "metadata": {
        "id": "gvbOWSEKfK4H",
        "colab_type": "code",
        "colab": {
          "base_uri": "https://localhost:8080/",
          "height": 34
        },
        "outputId": "96c02ef8-43fb-40b9-cab2-a4d801ecc314"
      },
      "cell_type": "code",
      "source": [
        "predictions[0].shape"
      ],
      "execution_count": 26,
      "outputs": [
        {
          "output_type": "execute_result",
          "data": {
            "text/plain": [
              "(46,)"
            ]
          },
          "metadata": {
            "tags": []
          },
          "execution_count": 26
        }
      ]
    },
    {
      "metadata": {
        "id": "C92qDthIfVXz",
        "colab_type": "code",
        "colab": {
          "base_uri": "https://localhost:8080/",
          "height": 34
        },
        "outputId": "f6447a2b-2e05-4994-dd4c-ab5f3329048a"
      },
      "cell_type": "code",
      "source": [
        "np.sum(predictions[0])"
      ],
      "execution_count": 27,
      "outputs": [
        {
          "output_type": "execute_result",
          "data": {
            "text/plain": [
              "0.99999994"
            ]
          },
          "metadata": {
            "tags": []
          },
          "execution_count": 27
        }
      ]
    },
    {
      "metadata": {
        "id": "dJdzSzMGfZcu",
        "colab_type": "code",
        "colab": {
          "base_uri": "https://localhost:8080/",
          "height": 34
        },
        "outputId": "29652cc9-198f-4d5e-dbc4-2165f8a8f894"
      },
      "cell_type": "code",
      "source": [
        "np.argmax(predictions[0])"
      ],
      "execution_count": 28,
      "outputs": [
        {
          "output_type": "execute_result",
          "data": {
            "text/plain": [
              "3"
            ]
          },
          "metadata": {
            "tags": []
          },
          "execution_count": 28
        }
      ]
    },
    {
      "metadata": {
        "id": "G4eIU3ZOgTGz",
        "colab_type": "text"
      },
      "cell_type": "markdown",
      "source": [
        "## 레이블 인코딩하는 다른 방법 : 정수 텐서로 변환 \n",
        "\n",
        "\n",
        "y_train = np.array(train_labels)\n",
        "\n",
        "y_test = np.array(test_labels)\n",
        "\n",
        "model.compile(optimizer='rmsprop',\n",
        "\n",
        "             loss = 'sparse_categorical_crossentropy', \n",
        "             # 정수레이블을 사용할 경우 loss 함수에는 sparse_categorical_crossentropy를 사용해야함\n",
        "             metrics = ['accuracy'])\n"
      ]
    }
  ]
}