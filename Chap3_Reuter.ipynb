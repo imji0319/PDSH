{
  "nbformat": 4,
  "nbformat_minor": 0,
  "metadata": {
    "colab": {
      "name": "Chap3_Reuter.ipynb",
      "version": "0.3.2",
      "provenance": [],
      "collapsed_sections": [],
      "include_colab_link": true
    },
    "kernelspec": {
      "name": "python3",
      "display_name": "Python 3"
    }
  },
  "cells": [
    {
      "cell_type": "markdown",
      "metadata": {
        "id": "view-in-github",
        "colab_type": "text"
      },
      "source": [
        "<a href=\"https://colab.research.google.com/github/imji0319/PDSH/blob/master/Chap3_Reuter.ipynb\" target=\"_parent\"><img src=\"https://colab.research.google.com/assets/colab-badge.svg\" alt=\"Open In Colab\"/></a>"
      ]
    },
    {
      "metadata": {
        "id": "xK6vRpw9Vs1Z",
        "colab_type": "code",
        "outputId": "a423e04f-aa12-4ecd-eb45-1324735eb206",
        "colab": {
          "base_uri": "https://localhost:8080/",
          "height": 102
        }
      },
      "cell_type": "code",
      "source": [
        "#데이터 로드\n",
        "#reuters 로이터 뉴스 기사를 46개의 토픽으로 분류하는 다중 분류 문제(multiclass classification) \n",
        "from keras.datasets import reuters\n",
        "\n",
        "(train_data, train_labels), (test_data, test_labels) = reuters.load_data(num_words=10000) #데이터에서 자주 등장하는 단어 10000개로 제한 \n",
        "\n",
        "print(len(train_data))\n",
        "print(len(test_data))"
      ],
      "execution_count": 1,
      "outputs": [
        {
          "output_type": "stream",
          "text": [
            "Using TensorFlow backend.\n"
          ],
          "name": "stderr"
        },
        {
          "output_type": "stream",
          "text": [
            "Downloading data from https://s3.amazonaws.com/text-datasets/reuters.npz\n",
            "2113536/2110848 [==============================] - 0s 0us/step\n",
            "8982\n",
            "2246\n"
          ],
          "name": "stdout"
        }
      ]
    },
    {
      "metadata": {
        "id": "qCVaOJUAX6YC",
        "colab_type": "code",
        "outputId": "8ac8940e-4692-4d7c-98ce-250def6050e5",
        "colab": {
          "base_uri": "https://localhost:8080/",
          "height": 544
        }
      },
      "cell_type": "code",
      "source": [
        "train_data[10]"
      ],
      "execution_count": 2,
      "outputs": [
        {
          "output_type": "execute_result",
          "data": {
            "text/plain": [
              "[1,\n",
              " 245,\n",
              " 273,\n",
              " 207,\n",
              " 156,\n",
              " 53,\n",
              " 74,\n",
              " 160,\n",
              " 26,\n",
              " 14,\n",
              " 46,\n",
              " 296,\n",
              " 26,\n",
              " 39,\n",
              " 74,\n",
              " 2979,\n",
              " 3554,\n",
              " 14,\n",
              " 46,\n",
              " 4689,\n",
              " 4329,\n",
              " 86,\n",
              " 61,\n",
              " 3499,\n",
              " 4795,\n",
              " 14,\n",
              " 61,\n",
              " 451,\n",
              " 4329,\n",
              " 17,\n",
              " 12]"
            ]
          },
          "metadata": {
            "tags": []
          },
          "execution_count": 2
        }
      ]
    },
    {
      "metadata": {
        "id": "7Gp8Sh_VYIYF",
        "colab_type": "code",
        "outputId": "fa4e3dd5-8fd0-4070-dde3-3b51790d8cc2",
        "colab": {
          "base_uri": "https://localhost:8080/",
          "height": 51
        }
      },
      "cell_type": "code",
      "source": [
        "#데이터 텍스트로 디코딩하기\n",
        "word_index = reuters.get_word_index()\n",
        "reverse_word_index = dict([(value, key) for (key, value) in word_index.items()])\n",
        "decoded_newswire = ' '.join([reverse_word_index.get(i-3,'?') for i in train_data[0]])\n",
        "#i-3 을 하는 이유는 0,1,2 는 패딩,' 문서시작','사전에 없음'을 위한 인덱스 임으로 3을 뺌\n"
      ],
      "execution_count": 3,
      "outputs": [
        {
          "output_type": "stream",
          "text": [
            "Downloading data from https://s3.amazonaws.com/text-datasets/reuters_word_index.json\n",
            "557056/550378 [==============================] - 0s 0us/step\n"
          ],
          "name": "stdout"
        }
      ]
    },
    {
      "metadata": {
        "id": "N2GrTVeaYyvD",
        "colab_type": "code",
        "outputId": "d7d0bf8d-bc03-40ab-91c0-76d3625e405c",
        "colab": {
          "base_uri": "https://localhost:8080/",
          "height": 74
        }
      },
      "cell_type": "code",
      "source": [
        "decoded_newswire"
      ],
      "execution_count": 4,
      "outputs": [
        {
          "output_type": "execute_result",
          "data": {
            "text/plain": [
              "'? ? ? said as a result of its december acquisition of space co it expects earnings per share in 1987 of 1 15 to 1 30 dlrs per share up from 70 cts in 1986 the company said pretax net should rise to nine to 10 mln dlrs from six mln dlrs in 1986 and rental operation revenues to 19 to 22 mln dlrs from 12 5 mln dlrs it said cash flow per share this year should be 2 50 to three dlrs reuter 3'"
            ]
          },
          "metadata": {
            "tags": []
          },
          "execution_count": 4
        }
      ]
    },
    {
      "metadata": {
        "id": "GegAzg1mY2Wu",
        "colab_type": "code",
        "outputId": "94003795-d8a7-40c8-feea-47217669f690",
        "colab": {
          "base_uri": "https://localhost:8080/",
          "height": 34
        }
      },
      "cell_type": "code",
      "source": [
        "train_labels[10]\n",
        "# 샘플과 연결된 레이블은 토픽의 인덱스로 0~45 사이의 정수 : 46개의 토픽 분류"
      ],
      "execution_count": 5,
      "outputs": [
        {
          "output_type": "execute_result",
          "data": {
            "text/plain": [
              "3"
            ]
          },
          "metadata": {
            "tags": []
          },
          "execution_count": 5
        }
      ]
    },
    {
      "metadata": {
        "id": "Z-8aNuvhZXuz",
        "colab_type": "code",
        "colab": {}
      },
      "cell_type": "code",
      "source": [
        "# 데이터 -> 벡터\n",
        "import numpy as np\n",
        "\n",
        "def vectorize_sequences(sequences, dimenstion = 10000):\n",
        "  results = np.zeros((len(sequences), dimenstion))\n",
        "  for i, sequence in enumerate(sequences):\n",
        "    results[i,sequence] = 1.\n",
        "    \n",
        "  return results \n",
        "\n",
        "x_train = vectorize_sequences(train_data)\n",
        "x_test = vectorize_sequences(test_data)"
      ],
      "execution_count": 0,
      "outputs": []
    },
    {
      "metadata": {
        "id": "Wl3cN68Paxk0",
        "colab_type": "code",
        "colab": {}
      },
      "cell_type": "code",
      "source": [
        "# one-hot ending \n",
        "from keras.utils.np_utils import to_categorical\n",
        "one_hot_train_labels = to_categorical(train_labels)\n",
        "one_hot_test_labels = to_categorical(test_labels)"
      ],
      "execution_count": 0,
      "outputs": []
    },
    {
      "metadata": {
        "id": "GnP8fFbMbZHJ",
        "colab_type": "code",
        "colab": {}
      },
      "cell_type": "code",
      "source": [
        "#모델 정의하기\n",
        "from keras import models\n",
        "from keras import layers\n",
        "\n",
        "model = models.Sequential()\n",
        "model.add(layers.Dense(64, activation = 'relu', input_shape = (10000,)))\n",
        "model.add(layers.Dense(64, activation = 'relu'))\n",
        "model.add(layers.Dense(46, activation = 'softmax')) \n",
        "# 레이블이 총 46개로 나타나야 하기 때문에 각 입력 샘플마다 46개 출력 클래스에 대한 확률 분포 출력"
      ],
      "execution_count": 0,
      "outputs": []
    },
    {
      "metadata": {
        "id": "opQlnCR1cTup",
        "colab_type": "code",
        "colab": {}
      },
      "cell_type": "code",
      "source": [
        "# 모델 컴파일하기\n",
        "model.compile(optimizer='rmsprop',\n",
        "             loss = 'categorical_crossentropy',\n",
        "             metrics = ['accuracy'])"
      ],
      "execution_count": 0,
      "outputs": []
    },
    {
      "metadata": {
        "id": "C4KJ-Pj6ckNL",
        "colab_type": "code",
        "colab": {}
      },
      "cell_type": "code",
      "source": [
        "#검증세트 준비하기\n",
        "x_val = x_train[:1000]\n",
        "partial_x_train=x_train[1000:]\n",
        "\n",
        "y_val = one_hot_train_labels[:1000]\n",
        "partial_y_train=one_hot_train_labels[1000:]"
      ],
      "execution_count": 0,
      "outputs": []
    },
    {
      "metadata": {
        "id": "9JWc2i04c5Xl",
        "colab_type": "code",
        "outputId": "9a817554-0178-4e7e-fab7-b0f90bca5c85",
        "colab": {
          "base_uri": "https://localhost:8080/",
          "height": 714
        }
      },
      "cell_type": "code",
      "source": [
        "history = model.fit(partial_x_train,\n",
        "                    partial_y_train,\n",
        "                    epochs=20,\n",
        "                    batch_size=512,\n",
        "                    validation_data=(x_val,y_val))"
      ],
      "execution_count": 11,
      "outputs": [
        {
          "output_type": "stream",
          "text": [
            "Train on 7982 samples, validate on 1000 samples\n",
            "Epoch 1/20\n",
            "7982/7982 [==============================] - 2s 189us/step - loss: 2.5322 - acc: 0.4955 - val_loss: 1.7200 - val_acc: 0.6120\n",
            "Epoch 2/20\n",
            "7982/7982 [==============================] - 1s 157us/step - loss: 1.4445 - acc: 0.6884 - val_loss: 1.3450 - val_acc: 0.7060\n",
            "Epoch 3/20\n",
            "7982/7982 [==============================] - 1s 170us/step - loss: 1.0945 - acc: 0.7652 - val_loss: 1.1705 - val_acc: 0.7440\n",
            "Epoch 4/20\n",
            "7982/7982 [==============================] - 1s 172us/step - loss: 0.8690 - acc: 0.8160 - val_loss: 1.0798 - val_acc: 0.7590\n",
            "Epoch 5/20\n",
            "7982/7982 [==============================] - 1s 171us/step - loss: 0.7026 - acc: 0.8475 - val_loss: 0.9846 - val_acc: 0.7820\n",
            "Epoch 6/20\n",
            "7982/7982 [==============================] - 1s 172us/step - loss: 0.5652 - acc: 0.8805 - val_loss: 0.9405 - val_acc: 0.8040\n",
            "Epoch 7/20\n",
            "7982/7982 [==============================] - 1s 170us/step - loss: 0.4568 - acc: 0.9052 - val_loss: 0.9089 - val_acc: 0.8020\n",
            "Epoch 8/20\n",
            "7982/7982 [==============================] - 1s 171us/step - loss: 0.3689 - acc: 0.9230 - val_loss: 0.9365 - val_acc: 0.7890\n",
            "Epoch 9/20\n",
            "7982/7982 [==============================] - 1s 171us/step - loss: 0.3028 - acc: 0.9312 - val_loss: 0.8899 - val_acc: 0.8080\n",
            "Epoch 10/20\n",
            "7982/7982 [==============================] - 1s 172us/step - loss: 0.2535 - acc: 0.9417 - val_loss: 0.9071 - val_acc: 0.8100\n",
            "Epoch 11/20\n",
            "7982/7982 [==============================] - 1s 171us/step - loss: 0.2184 - acc: 0.9466 - val_loss: 0.9183 - val_acc: 0.8130\n",
            "Epoch 12/20\n",
            "7982/7982 [==============================] - 1s 173us/step - loss: 0.1875 - acc: 0.9504 - val_loss: 0.9074 - val_acc: 0.8120\n",
            "Epoch 13/20\n",
            "7982/7982 [==============================] - 1s 175us/step - loss: 0.1701 - acc: 0.9525 - val_loss: 0.9347 - val_acc: 0.8090\n",
            "Epoch 14/20\n",
            "7982/7982 [==============================] - 1s 171us/step - loss: 0.1534 - acc: 0.9551 - val_loss: 0.9662 - val_acc: 0.8080\n",
            "Epoch 15/20\n",
            "7982/7982 [==============================] - 1s 172us/step - loss: 0.1389 - acc: 0.9558 - val_loss: 0.9722 - val_acc: 0.8150\n",
            "Epoch 16/20\n",
            "7982/7982 [==============================] - 1s 172us/step - loss: 0.1314 - acc: 0.9560 - val_loss: 1.0230 - val_acc: 0.8040\n",
            "Epoch 17/20\n",
            "7982/7982 [==============================] - 1s 174us/step - loss: 0.1216 - acc: 0.9579 - val_loss: 1.0274 - val_acc: 0.7950\n",
            "Epoch 18/20\n",
            "7982/7982 [==============================] - 1s 174us/step - loss: 0.1201 - acc: 0.9574 - val_loss: 1.0446 - val_acc: 0.8070\n",
            "Epoch 19/20\n",
            "7982/7982 [==============================] - 1s 170us/step - loss: 0.1137 - acc: 0.9593 - val_loss: 1.0984 - val_acc: 0.7980\n",
            "Epoch 20/20\n",
            "7982/7982 [==============================] - 1s 174us/step - loss: 0.1111 - acc: 0.9595 - val_loss: 1.0709 - val_acc: 0.8010\n"
          ],
          "name": "stdout"
        }
      ]
    },
    {
      "metadata": {
        "id": "72fyxyxSZnHr",
        "colab_type": "code",
        "colab": {
          "base_uri": "https://localhost:8080/",
          "height": 238
        },
        "outputId": "2b669753-d295-4e6e-c33f-57660e0d8ec3"
      },
      "cell_type": "code",
      "source": [
        "model.summary()"
      ],
      "execution_count": 12,
      "outputs": [
        {
          "output_type": "stream",
          "text": [
            "_________________________________________________________________\n",
            "Layer (type)                 Output Shape              Param #   \n",
            "=================================================================\n",
            "dense_1 (Dense)              (None, 64)                640064    \n",
            "_________________________________________________________________\n",
            "dense_2 (Dense)              (None, 64)                4160      \n",
            "_________________________________________________________________\n",
            "dense_3 (Dense)              (None, 46)                2990      \n",
            "=================================================================\n",
            "Total params: 647,214\n",
            "Trainable params: 647,214\n",
            "Non-trainable params: 0\n",
            "_________________________________________________________________\n"
          ],
          "name": "stdout"
        }
      ]
    },
    {
      "metadata": {
        "id": "Mj6YpFGedIv6",
        "colab_type": "code",
        "outputId": "a19ab9d1-cd37-4e9c-facf-8a622d8905c9",
        "colab": {
          "base_uri": "https://localhost:8080/",
          "height": 376
        }
      },
      "cell_type": "code",
      "source": [
        "#훈련 과 검증 손실 그리기\n",
        "import matplotlib.pyplot as plt\n",
        "\n",
        "loss = history.history['loss']\n",
        "val_loss = history.history['val_loss']\n",
        "\n",
        "epochs = range(1, len(loss)+1 )\n",
        "\n",
        "plt.plot(epochs, loss, 'bo', label = 'Training loss')\n",
        "plt.plot(epochs, val_loss, 'b', label ='Validation loss')\n",
        "plt.title('Training and Validation loss')\n",
        "plt.xlabel('Epochs')\n",
        "plt.ylabel('Loss')\n",
        "plt.legend()\n",
        "\n",
        "plt.show()"
      ],
      "execution_count": 13,
      "outputs": [
        {
          "output_type": "display_data",
          "data": {
            "image/png": "[encoded data removed]",
            "text/plain": [
              "<matplotlib.figure.Figure at 0x7fa4c398eda0>"
            ]
          },
          "metadata": {
            "tags": []
          }
        }
      ]
    },
    {
      "metadata": {
        "id": "Li1H2OTNd_W5",
        "colab_type": "code",
        "outputId": "776cbf79-cf4f-4725-f308-ae18611d3286",
        "colab": {
          "base_uri": "https://localhost:8080/",
          "height": 376
        }
      },
      "cell_type": "code",
      "source": [
        "#훈련과 검증 정확도 그리기\n",
        "plt.clf()\n",
        "\n",
        "acc= history.history['acc']\n",
        "val_acc=history.history['val_acc']\n",
        "\n",
        "plt.plot(epochs, acc, 'bo', label = 'Training acc')\n",
        "plt.plot(epochs, val_acc, 'b', label ='Validation acc')\n",
        "plt.title('Training and Validation accuracy')\n",
        "plt.xlabel('Epochs')\n",
        "plt.ylabel('Accuracy')\n",
        "plt.legend()\n",
        "\n",
        "plt.show()"
      ],
      "execution_count": 14,
      "outputs": [
        {
          "output_type": "display_data",
          "data": {
            "image/png": "[encoded data removed]",
            "text/plain": [
              "<matplotlib.figure.Figure at 0x7fa4c393bbe0>"
            ]
          },
          "metadata": {
            "tags": []
          }
        }
      ]
    },
    {
      "metadata": {
        "id": "qq0vbcRDeXfn",
        "colab_type": "code",
        "outputId": "09a1379d-ceca-4b54-d36a-0213080a491a",
        "colab": {
          "base_uri": "https://localhost:8080/",
          "height": 340
        }
      },
      "cell_type": "code",
      "source": [
        "#overfitting 해결 하여 모델링\n",
        "\n",
        "model = models.Sequential()\n",
        "model.add(layers.Dense(64, activation = 'relu', input_shape = (10000,)))\n",
        "model.add(layers.Dense(64, activation = 'relu'))\n",
        "model.add(layers.Dense(46, activation = 'softmax')) \n",
        "\n",
        "\n",
        "model.compile(optimizer='rmsprop',\n",
        "             loss = 'categorical_crossentropy',\n",
        "             metrics = ['accuracy'])\n",
        "\n",
        "history = model.fit(partial_x_train,\n",
        "                    partial_y_train,\n",
        "                    epochs=8,\n",
        "                    batch_size=512,\n",
        "                    validation_data=(x_val,y_val))\n",
        "\n",
        "results = model.evaluate(x_test, one_hot_test_labels)\n",
        "results"
      ],
      "execution_count": 15,
      "outputs": [
        {
          "output_type": "stream",
          "text": [
            "Train on 7982 samples, validate on 1000 samples\n",
            "Epoch 1/8\n",
            "7982/7982 [==============================] - 1s 188us/step - loss: 2.5359 - acc: 0.5224 - val_loss: 1.6820 - val_acc: 0.6500\n",
            "Epoch 2/8\n",
            "7982/7982 [==============================] - 1s 177us/step - loss: 1.3761 - acc: 0.7114 - val_loss: 1.2801 - val_acc: 0.7190\n",
            "Epoch 3/8\n",
            "7982/7982 [==============================] - 1s 184us/step - loss: 1.0180 - acc: 0.7783 - val_loss: 1.1316 - val_acc: 0.7510\n",
            "Epoch 4/8\n",
            "7982/7982 [==============================] - 1s 181us/step - loss: 0.8022 - acc: 0.8241 - val_loss: 1.0530 - val_acc: 0.7570\n",
            "Epoch 5/8\n",
            "7982/7982 [==============================] - 1s 175us/step - loss: 0.6431 - acc: 0.8624 - val_loss: 0.9742 - val_acc: 0.7940\n",
            "Epoch 6/8\n",
            "7982/7982 [==============================] - 1s 172us/step - loss: 0.5157 - acc: 0.8924 - val_loss: 0.9101 - val_acc: 0.8130\n",
            "Epoch 7/8\n",
            "7982/7982 [==============================] - 1s 172us/step - loss: 0.4159 - acc: 0.9138 - val_loss: 0.8953 - val_acc: 0.8210\n",
            "Epoch 8/8\n",
            "7982/7982 [==============================] - 1s 172us/step - loss: 0.3381 - acc: 0.9273 - val_loss: 0.8746 - val_acc: 0.8270\n",
            "2246/2246 [==============================] - 0s 114us/step\n"
          ],
          "name": "stdout"
        },
        {
          "output_type": "execute_result",
          "data": {
            "text/plain": [
              "[0.9833516331517261, 0.7845057880676759]"
            ]
          },
          "metadata": {
            "tags": []
          },
          "execution_count": 15
        }
      ]
    },
    {
      "metadata": {
        "id": "GAiEorOOZsbb",
        "colab_type": "code",
        "colab": {
          "base_uri": "https://localhost:8080/",
          "height": 238
        },
        "outputId": "5f94c001-27c3-4d79-cf2e-81da49b69d2b"
      },
      "cell_type": "code",
      "source": [
        "model.summary()"
      ],
      "execution_count": 16,
      "outputs": [
        {
          "output_type": "stream",
          "text": [
            "_________________________________________________________________\n",
            "Layer (type)                 Output Shape              Param #   \n",
            "=================================================================\n",
            "dense_4 (Dense)              (None, 64)                640064    \n",
            "_________________________________________________________________\n",
            "dense_5 (Dense)              (None, 64)                4160      \n",
            "_________________________________________________________________\n",
            "dense_6 (Dense)              (None, 46)                2990      \n",
            "=================================================================\n",
            "Total params: 647,214\n",
            "Trainable params: 647,214\n",
            "Non-trainable params: 0\n",
            "_________________________________________________________________\n"
          ],
          "name": "stdout"
        }
      ]
    },
    {
      "metadata": {
        "id": "kqqdNpCKe1bG",
        "colab_type": "code",
        "outputId": "924f434f-b757-4bb1-bffe-18433cafd147",
        "colab": {
          "base_uri": "https://localhost:8080/",
          "height": 238
        }
      },
      "cell_type": "code",
      "source": [
        "#새로운 데이터 예측\n",
        "predictions = model.predict(x_test)\n",
        "predictions"
      ],
      "execution_count": 17,
      "outputs": [
        {
          "output_type": "execute_result",
          "data": {
            "text/plain": [
              "array([[3.33779863e-05, 7.71408304e-05, 5.24580391e-05, ...,\n",
              "        7.56145309e-05, 9.12353698e-06, 1.52437115e-05],\n",
              "       [2.43695383e-03, 3.93767329e-03, 1.22124227e-02, ...,\n",
              "        7.36626214e-04, 1.21413577e-05, 2.33021812e-04],\n",
              "       [3.76585335e-03, 5.95024586e-01, 1.07161636e-02, ...,\n",
              "        2.85716786e-04, 2.42369086e-03, 2.59688793e-04],\n",
              "       ...,\n",
              "       [3.14255703e-05, 2.44387047e-04, 9.57084485e-05, ...,\n",
              "        2.30610949e-05, 1.69932202e-04, 2.40904337e-05],\n",
              "       [9.79969162e-04, 3.11103892e-02, 2.76273582e-03, ...,\n",
              "        4.98222129e-04, 3.96285381e-04, 2.24845542e-04],\n",
              "       [2.49704416e-03, 4.41129804e-01, 7.82287773e-03, ...,\n",
              "        1.03959392e-04, 7.22146826e-04, 2.07724253e-04]], dtype=float32)"
            ]
          },
          "metadata": {
            "tags": []
          },
          "execution_count": 17
        }
      ]
    },
    {
      "metadata": {
        "id": "gvbOWSEKfK4H",
        "colab_type": "code",
        "outputId": "de4eff58-399c-4c7a-bc34-fd6e1917fbf1",
        "colab": {
          "base_uri": "https://localhost:8080/",
          "height": 34
        }
      },
      "cell_type": "code",
      "source": [
        "predictions[0].shape"
      ],
      "execution_count": 18,
      "outputs": [
        {
          "output_type": "execute_result",
          "data": {
            "text/plain": [
              "(46,)"
            ]
          },
          "metadata": {
            "tags": []
          },
          "execution_count": 18
        }
      ]
    },
    {
      "metadata": {
        "id": "C92qDthIfVXz",
        "colab_type": "code",
        "outputId": "f0ada1da-022c-45ea-80cf-2dce5e45614c",
        "colab": {
          "base_uri": "https://localhost:8080/",
          "height": 34
        }
      },
      "cell_type": "code",
      "source": [
        "np.sum(predictions[0])"
      ],
      "execution_count": 19,
      "outputs": [
        {
          "output_type": "execute_result",
          "data": {
            "text/plain": [
              "1.0000001"
            ]
          },
          "metadata": {
            "tags": []
          },
          "execution_count": 19
        }
      ]
    },
    {
      "metadata": {
        "id": "dJdzSzMGfZcu",
        "colab_type": "code",
        "outputId": "faf6855d-c474-45e2-94c6-db5142baf7b7",
        "colab": {
          "base_uri": "https://localhost:8080/",
          "height": 34
        }
      },
      "cell_type": "code",
      "source": [
        "np.argmax(predictions[0])"
      ],
      "execution_count": 20,
      "outputs": [
        {
          "output_type": "execute_result",
          "data": {
            "text/plain": [
              "3"
            ]
          },
          "metadata": {
            "tags": []
          },
          "execution_count": 20
        }
      ]
    },
    {
      "metadata": {
        "id": "G4eIU3ZOgTGz",
        "colab_type": "text"
      },
      "cell_type": "markdown",
      "source": [
        "## 레이블 인코딩하는 다른 방법 : 정수 텐서로 변환 \n",
        "\n",
        "\n",
        "y_train = np.array(train_labels)\n",
        "\n",
        "y_test = np.array(test_labels)\n",
        "\n",
        "model.compile(optimizer='rmsprop',\n",
        "\n",
        "             loss = 'sparse_categorical_crossentropy', \n",
        "             # 정수레이블을 사용할 경우 loss 함수에는 sparse_categorical_crossentropy를 사용해야함\n",
        "             metrics = ['accuracy'])\n"
      ]
    }
  ]
}