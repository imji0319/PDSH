{
  "nbformat": 4,
  "nbformat_minor": 0,
  "metadata": {
    "colab": {
      "name": "chap2_1.ipynb",
      "version": "0.3.2",
      "provenance": [],
      "collapsed_sections": [],
      "include_colab_link": true
    },
    "kernelspec": {
      "name": "python3",
      "display_name": "Python 3"
    },
    "accelerator": "GPU"
  },
  "cells": [
    {
      "cell_type": "markdown",
      "metadata": {
        "id": "view-in-github",
        "colab_type": "text"
      },
      "source": [
        "<a href=\"https://colab.research.google.com/github/imji0319/PDSH/blob/master/chap2_1.ipynb\" target=\"_parent\"><img src=\"https://colab.research.google.com/assets/colab-badge.svg\" alt=\"Open In Colab\"/></a>"
      ]
    },
    {
      "metadata": {
        "id": "E7wVWDXXddKG",
        "colab_type": "code",
        "outputId": "5b6735b5-23c1-42c0-d3ec-ea40e6a63d92",
        "colab": {
          "base_uri": "https://localhost:8080/",
          "height": 68
        }
      },
      "cell_type": "code",
      "source": [
        "from keras.datasets import mnist\n",
        "(train_images, train_labels) ,(test_images, test_labels) = mnist.load_data()"
      ],
      "execution_count": 0,
      "outputs": [
        {
          "output_type": "stream",
          "text": [
            "Using TensorFlow backend.\n"
          ],
          "name": "stderr"
        },
        {
          "output_type": "stream",
          "text": [
            "Downloading data from https://s3.amazonaws.com/img-datasets/mnist.npz\n",
            "11493376/11490434 [==============================] - 0s 0us/step\n"
          ],
          "name": "stdout"
        }
      ]
    },
    {
      "metadata": {
        "id": "A6CCwvz6eHTm",
        "colab_type": "code",
        "outputId": "2a9d8264-5e97-4da4-efcd-1a605d35bff6",
        "colab": {
          "base_uri": "https://localhost:8080/",
          "height": 34
        }
      },
      "cell_type": "code",
      "source": [
        "train_images.shape"
      ],
      "execution_count": 0,
      "outputs": [
        {
          "output_type": "execute_result",
          "data": {
            "text/plain": [
              "(60000, 28, 28)"
            ]
          },
          "metadata": {
            "tags": []
          },
          "execution_count": 3
        }
      ]
    },
    {
      "metadata": {
        "id": "Ww5yGghAeLMA",
        "colab_type": "code",
        "colab": {}
      },
      "cell_type": "code",
      "source": [
        "#MNIST\n",
        "\n",
        "from keras import models\n",
        "from keras import layers\n",
        "\n",
        "\n",
        "#이미지 데이터 준비하기\n",
        "train_images = train_images.reshape((60000, 28*28))\n",
        "train_images = train_images.astype('float32')/225\n",
        "\n",
        "test_images = test_images.reshape((10000,28*28))\n",
        "test_images = test_images.astype('float32')/225\n",
        "\n",
        "'''\n",
        "입력 이미지의 데이터 타입 : float32\n",
        "훈련 데이터 크기 (60000,784)\n",
        "테스트 데이터 크기 (10000,784)\n",
        "'''\n",
        "\n",
        "#신경망 구조\n",
        "network = models.Sequential()\n",
        "network.add(layers.Dense(512, activation ='relu', input_shape =(28*28, )))\n",
        "network.add(layers.Dense(10, activation ='softmax'))\n",
        "\n",
        "'''\n",
        "네트워트에 2개의 Dense 연결\n",
        "각 층은 가중치 텐서를 포함하여 입력 데이터에 대한 텐서 연산 작용\n",
        "'''\n",
        "\n",
        "#컴파일 단계\n",
        "network.compile(optimizer = 'rmsprop',\n",
        "               loss = 'categorical_crossentropy',\n",
        "               metrics=['accuracy'])\n",
        "\n",
        "'''\n",
        "손실함수 : categorical_crossentropy\n",
        "옵티마이저(optimization method) : rmsprop - 미치배치 SGD\n",
        "'''\n",
        "\n",
        "#레이블 준비하기\n",
        "from keras.utils import to_categorical\n",
        "\n",
        "train_labels = to_categorical(train_labels)\n",
        "test_labels = to_categorical(test_labels)"
      ],
      "execution_count": 0,
      "outputs": []
    },
    {
      "metadata": {
        "id": "N7Hk_8eCBX9U",
        "colab_type": "code",
        "outputId": "d49fa1d7-0050-4f41-937d-c25a846ac3c7",
        "colab": {
          "base_uri": "https://localhost:8080/",
          "height": 204
        }
      },
      "cell_type": "code",
      "source": [
        "# 신경망 훈련\n",
        "network.fit(train_images, train_labels, epochs =5, batch_size =128)\n",
        "'''\n",
        "네트워크가 128개 샘플씩 미니배치로 훈련 데이터를 5번 반복 \n",
        "각 반복마다 네트워크가 배치에서 손실에 대한 가중치를 그래디언트를 계산, 가중치 업데이트\n",
        "5번의 반복동안 그래디언트 업데이트 횟수 : 2345번 - 훈련데이터 6만개 /128 = 469개의 배치 + 마지막배치의 샘플 96개 => 469*5 = 2345 \n",
        "'''"
      ],
      "execution_count": 0,
      "outputs": [
        {
          "output_type": "stream",
          "text": [
            "Epoch 1/5\n",
            "60000/60000 [==============================] - 5s 76us/step - loss: 0.2504 - acc: 0.9269\n",
            "Epoch 2/5\n",
            "60000/60000 [==============================] - 3s 44us/step - loss: 0.1006 - acc: 0.9708\n",
            "Epoch 3/5\n",
            "60000/60000 [==============================] - 3s 43us/step - loss: 0.0659 - acc: 0.9800\n",
            "Epoch 4/5\n",
            "60000/60000 [==============================] - 3s 42us/step - loss: 0.0471 - acc: 0.9859\n",
            "Epoch 5/5\n",
            "60000/60000 [==============================] - 3s 43us/step - loss: 0.0350 - acc: 0.9890\n"
          ],
          "name": "stdout"
        },
        {
          "output_type": "execute_result",
          "data": {
            "text/plain": [
              "<keras.callbacks.History at 0x7f299619e3c8>"
            ]
          },
          "metadata": {
            "tags": []
          },
          "execution_count": 5
        }
      ]
    },
    {
      "metadata": {
        "id": "8uLqJMIoBqRP",
        "colab_type": "code",
        "outputId": "4e2b0384-ba06-48c1-e1eb-cff119b79f5e",
        "colab": {
          "base_uri": "https://localhost:8080/",
          "height": 34
        }
      },
      "cell_type": "code",
      "source": [
        "# 테스트 확인\n",
        "test_loss, test_acc = network.evaluate(test_images, test_labels)"
      ],
      "execution_count": 0,
      "outputs": [
        {
          "output_type": "stream",
          "text": [
            "10000/10000 [==============================] - 1s 60us/step\n"
          ],
          "name": "stdout"
        }
      ]
    },
    {
      "metadata": {
        "id": "ob_EzL0WCNiU",
        "colab_type": "code",
        "outputId": "8e134a98-75c4-429e-b0ef-fb792cc08d29",
        "colab": {
          "base_uri": "https://localhost:8080/",
          "height": 34
        }
      },
      "cell_type": "code",
      "source": [
        "print('test_acc : ', test_acc)"
      ],
      "execution_count": 0,
      "outputs": [
        {
          "output_type": "stream",
          "text": [
            "test_acc :  0.982\n"
          ],
          "name": "stdout"
        }
      ]
    }
  ]
}