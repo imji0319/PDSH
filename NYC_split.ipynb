{
  "nbformat": 4,
  "nbformat_minor": 0,
  "metadata": {
    "colab": {
      "name": "NYC_split.ipynb",
      "version": "0.3.2",
      "provenance": [],
      "collapsed_sections": [],
      "include_colab_link": true
    },
    "kernelspec": {
      "name": "python3",
      "display_name": "Python 3"
    }
  },
  "cells": [
    {
      "cell_type": "markdown",
      "metadata": {
        "id": "view-in-github",
        "colab_type": "text"
      },
      "source": [
        "<a href=\"https://colab.research.google.com/github/imji0319/PDSH/blob/master/NYC_split.ipynb\" target=\"_parent\"><img src=\"https://colab.research.google.com/assets/colab-badge.svg\" alt=\"Open In Colab\"/></a>"
      ]
    },
    {
      "cell_type": "code",
      "metadata": {
        "id": "5H4nhW7YqHzp",
        "colab_type": "code",
        "outputId": "24300111-bfb6-4a89-fe63-d63997ed561b",
        "colab": {
          "base_uri": "https://localhost:8080/",
          "height": 34
        }
      },
      "source": [
        "from google.colab import auth\n",
        "auth.authenticate_user()\n",
        "\n",
        "from google.colab import drive\n",
        "drive.mount('/content/gdrive')"
      ],
      "execution_count": 0,
      "outputs": [
        {
          "output_type": "stream",
          "text": [
            "Drive already mounted at /content/gdrive; to attempt to forcibly remount, call drive.mount(\"/content/gdrive\", force_remount=True).\n"
          ],
          "name": "stdout"
        }
      ]
    },
    {
      "cell_type": "code",
      "metadata": {
        "id": "OI1CziuTqO2x",
        "colab_type": "code",
        "outputId": "bdbfb172-7cc4-4b9b-ba67-8ee994ec0590",
        "colab": {
          "base_uri": "https://localhost:8080/",
          "height": 34
        }
      },
      "source": [
        "cd /content/gdrive/My Drive/data"
      ],
      "execution_count": 0,
      "outputs": [
        {
          "output_type": "stream",
          "text": [
            "/content/gdrive/My Drive/data\n"
          ],
          "name": "stdout"
        }
      ]
    },
    {
      "cell_type": "code",
      "metadata": {
        "id": "WEM8IBCRqRZT",
        "colab_type": "code",
        "outputId": "c548ed6c-a31b-4592-b764-facc727c01dd",
        "colab": {
          "base_uri": "https://localhost:8080/",
          "height": 97
        }
      },
      "source": [
        "ls"
      ],
      "execution_count": 0,
      "outputs": [
        {
          "output_type": "stream",
          "text": [
            " credit_card.xls     nyc_taxi_data_cleaning.feather   submission1.csv\n",
            " mercari_train.tsv   nyc_taxi_data_raw.feather        test.csv\n",
            " \u001b[0m\u001b[01;34mnyc_split\u001b[0m/         'Online Retail.xlsx'              train.csv\n"
          ],
          "name": "stdout"
        }
      ]
    },
    {
      "cell_type": "code",
      "metadata": {
        "id": "ii71tup7qSIV",
        "colab_type": "code",
        "outputId": "357e3c1a-954a-4330-8f71-42cb7e2a9dc6",
        "colab": {
          "base_uri": "https://localhost:8080/",
          "height": 97
        }
      },
      "source": [
        "pip install -U pyarrow"
      ],
      "execution_count": 0,
      "outputs": [
        {
          "output_type": "stream",
          "text": [
            "Requirement already up-to-date: pyarrow in /usr/local/lib/python3.6/dist-packages (0.13.0)\n",
            "Requirement already satisfied, skipping upgrade: numpy>=1.14 in /usr/local/lib/python3.6/dist-packages (from pyarrow) (1.16.4)\n",
            "Requirement already satisfied, skipping upgrade: six>=1.0.0 in /usr/local/lib/python3.6/dist-packages (from pyarrow) (1.12.0)\n"
          ],
          "name": "stdout"
        }
      ]
    },
    {
      "cell_type": "code",
      "metadata": {
        "id": "UYvljskyqtkp",
        "colab_type": "code",
        "colab": {}
      },
      "source": [
        "import pandas as pd\n",
        "import numpy as np"
      ],
      "execution_count": 0,
      "outputs": []
    },
    {
      "cell_type": "code",
      "metadata": {
        "id": "EVgphq5RqUkp",
        "colab_type": "code",
        "colab": {}
      },
      "source": [
        "df_train =pd.read_feather('nyc_taxi_data_cleaning.feather')"
      ],
      "execution_count": 0,
      "outputs": []
    },
    {
      "cell_type": "code",
      "metadata": {
        "id": "GonkFmorqWoS",
        "colab_type": "code",
        "outputId": "020c4f0d-a6ca-4cf3-b1eb-48779a680825",
        "colab": {
          "base_uri": "https://localhost:8080/",
          "height": 306
        }
      },
      "source": [
        "df_train.info()"
      ],
      "execution_count": 0,
      "outputs": [
        {
          "output_type": "stream",
          "text": [
            "<class 'pandas.core.frame.DataFrame'>\n",
            "RangeIndex: 53196278 entries, 0 to 53196277\n",
            "Data columns (total 12 columns):\n",
            "index                 int64\n",
            "fare_amount           float32\n",
            "pickup_longitude      float32\n",
            "pickup_latitude       float32\n",
            "dropoff_longitude     float32\n",
            "dropoff_latitude      float32\n",
            "passenger_count       uint8\n",
            "year                  int64\n",
            "weekday               uint8\n",
            "hour                  uint8\n",
            "distance_miles        float32\n",
            "distance_to_center    float32\n",
            "dtypes: float32(7), int64(2), uint8(3)\n",
            "memory usage: 2.3 GB\n"
          ],
          "name": "stdout"
        }
      ]
    },
    {
      "cell_type": "code",
      "metadata": {
        "id": "vdj4jLR6rW2t",
        "colab_type": "code",
        "outputId": "8984ebdb-e6c4-4594-d663-065b3a027a64",
        "colab": {
          "base_uri": "https://localhost:8080/",
          "height": 244
        }
      },
      "source": [
        "df_train.head()"
      ],
      "execution_count": 0,
      "outputs": [
        {
          "output_type": "execute_result",
          "data": {
            "text/html": [
              "<div>\n",
              "<style scoped>\n",
              "    .dataframe tbody tr th:only-of-type {\n",
              "        vertical-align: middle;\n",
              "    }\n",
              "\n",
              "    .dataframe tbody tr th {\n",
              "        vertical-align: top;\n",
              "    }\n",
              "\n",
              "    .dataframe thead th {\n",
              "        text-align: right;\n",
              "    }\n",
              "</style>\n",
              "<table border=\"1\" class=\"dataframe\">\n",
              "  <thead>\n",
              "    <tr style=\"text-align: right;\">\n",
              "      <th></th>\n",
              "      <th>index</th>\n",
              "      <th>fare_amount</th>\n",
              "      <th>pickup_longitude</th>\n",
              "      <th>pickup_latitude</th>\n",
              "      <th>dropoff_longitude</th>\n",
              "      <th>dropoff_latitude</th>\n",
              "      <th>passenger_count</th>\n",
              "      <th>year</th>\n",
              "      <th>weekday</th>\n",
              "      <th>hour</th>\n",
              "      <th>distance_miles</th>\n",
              "      <th>distance_to_center</th>\n",
              "    </tr>\n",
              "  </thead>\n",
              "  <tbody>\n",
              "    <tr>\n",
              "      <th>0</th>\n",
              "      <td>0</td>\n",
              "      <td>4.5</td>\n",
              "      <td>-73.844315</td>\n",
              "      <td>40.721317</td>\n",
              "      <td>-73.841614</td>\n",
              "      <td>40.712276</td>\n",
              "      <td>1</td>\n",
              "      <td>2009</td>\n",
              "      <td>0</td>\n",
              "      <td>17</td>\n",
              "      <td>0.640473</td>\n",
              "      <td>8.501885</td>\n",
              "    </tr>\n",
              "    <tr>\n",
              "      <th>1</th>\n",
              "      <td>1</td>\n",
              "      <td>16.9</td>\n",
              "      <td>-74.016045</td>\n",
              "      <td>40.711304</td>\n",
              "      <td>-73.979271</td>\n",
              "      <td>40.782005</td>\n",
              "      <td>1</td>\n",
              "      <td>2010</td>\n",
              "      <td>1</td>\n",
              "      <td>16</td>\n",
              "      <td>5.250587</td>\n",
              "      <td>0.543003</td>\n",
              "    </tr>\n",
              "    <tr>\n",
              "      <th>2</th>\n",
              "      <td>2</td>\n",
              "      <td>5.7</td>\n",
              "      <td>-73.982735</td>\n",
              "      <td>40.761269</td>\n",
              "      <td>-73.991241</td>\n",
              "      <td>40.750561</td>\n",
              "      <td>2</td>\n",
              "      <td>2011</td>\n",
              "      <td>3</td>\n",
              "      <td>0</td>\n",
              "      <td>0.863477</td>\n",
              "      <td>3.482071</td>\n",
              "    </tr>\n",
              "    <tr>\n",
              "      <th>3</th>\n",
              "      <td>3</td>\n",
              "      <td>7.7</td>\n",
              "      <td>-73.987129</td>\n",
              "      <td>40.733143</td>\n",
              "      <td>-73.991570</td>\n",
              "      <td>40.758091</td>\n",
              "      <td>1</td>\n",
              "      <td>2012</td>\n",
              "      <td>5</td>\n",
              "      <td>4</td>\n",
              "      <td>1.739349</td>\n",
              "      <td>1.654125</td>\n",
              "    </tr>\n",
              "    <tr>\n",
              "      <th>4</th>\n",
              "      <td>4</td>\n",
              "      <td>5.3</td>\n",
              "      <td>-73.968094</td>\n",
              "      <td>40.768009</td>\n",
              "      <td>-73.956657</td>\n",
              "      <td>40.783764</td>\n",
              "      <td>1</td>\n",
              "      <td>2010</td>\n",
              "      <td>1</td>\n",
              "      <td>7</td>\n",
              "      <td>1.242172</td>\n",
              "      <td>4.225934</td>\n",
              "    </tr>\n",
              "  </tbody>\n",
              "</table>\n",
              "</div>"
            ],
            "text/plain": [
              "   index  fare_amount  ...  distance_miles  distance_to_center\n",
              "0      0          4.5  ...        0.640473            8.501885\n",
              "1      1         16.9  ...        5.250587            0.543003\n",
              "2      2          5.7  ...        0.863477            3.482071\n",
              "3      3          7.7  ...        1.739349            1.654125\n",
              "4      4          5.3  ...        1.242172            4.225934\n",
              "\n",
              "[5 rows x 12 columns]"
            ]
          },
          "metadata": {
            "tags": []
          },
          "execution_count": 8
        }
      ]
    },
    {
      "cell_type": "code",
      "metadata": {
        "id": "a5CKA2D-xR3z",
        "colab_type": "code",
        "outputId": "d612248f-c15a-4d19-f8d9-f0a78ee05280",
        "colab": {
          "base_uri": "https://localhost:8080/",
          "height": 34
        }
      },
      "source": [
        "cd /content/gdrive/My Drive/data/nyc_split"
      ],
      "execution_count": 0,
      "outputs": [
        {
          "output_type": "stream",
          "text": [
            "/content/gdrive/My Drive/data/nyc_split\n"
          ],
          "name": "stdout"
        }
      ]
    },
    {
      "cell_type": "code",
      "metadata": {
        "id": "pBoSD4jcyQ24",
        "colab_type": "code",
        "outputId": "bfb6b52a-22be-45c6-ca91-2922ec64992c",
        "colab": {
          "base_uri": "https://localhost:8080/",
          "height": 63
        }
      },
      "source": [
        "ls"
      ],
      "execution_count": 0,
      "outputs": [
        {
          "output_type": "stream",
          "text": [
            "nyc_0.feather\n"
          ],
          "name": "stdout"
        }
      ]
    },
    {
      "cell_type": "code",
      "metadata": {
        "id": "9hQWCXxlr5_D",
        "colab_type": "code",
        "outputId": "78d11e97-ea6f-416c-c88b-01126567febb",
        "colab": {
          "base_uri": "https://localhost:8080/",
          "height": 340
        }
      },
      "source": [
        "N = 2600000\n",
        "for i in range(0, 20):\n",
        "    \n",
        "    \n",
        "    if ( i == 0 ):\n",
        "        data = df_train[ i : N ]\n",
        "    \n",
        "    else:\n",
        "        data =df_train[(i*N) : (i+1)*N]\n",
        "        print(data.shape)\n",
        "        \n",
        "        \n",
        "    fname=\"nyc_\"+str(i)+\".feather\"\n",
        "    data.reset_index(inplace =True)\n",
        "    data.to_feather(fname)"
      ],
      "execution_count": 0,
      "outputs": [
        {
          "output_type": "stream",
          "text": [
            "(2600000, 12)\n",
            "(2600000, 12)\n",
            "(2600000, 12)\n",
            "(2600000, 12)\n",
            "(2600000, 12)\n",
            "(2600000, 12)\n",
            "(2600000, 12)\n",
            "(2600000, 12)\n",
            "(2600000, 12)\n",
            "(2600000, 12)\n",
            "(2600000, 12)\n",
            "(2600000, 12)\n",
            "(2600000, 12)\n",
            "(2600000, 12)\n",
            "(2600000, 12)\n",
            "(2600000, 12)\n",
            "(2600000, 12)\n",
            "(2600000, 12)\n",
            "(2600000, 12)\n"
          ],
          "name": "stdout"
        }
      ]
    },
    {
      "cell_type": "code",
      "metadata": {
        "id": "GTEe5s0WxiOA",
        "colab_type": "code",
        "colab": {}
      },
      "source": [
        "# 52000000 이후 데이터\n",
        "last = N * 20\n",
        "data = df_train[last:]\n",
        "i=20\n",
        "fname = 'nyc_'+str(i)+\".feather\"\n",
        "data.reset_index(inplace =True)\n",
        "data.to_feather(fname)"
      ],
      "execution_count": 0,
      "outputs": []
    },
    {
      "cell_type": "code",
      "metadata": {
        "id": "iJ8e2C6o0ExR",
        "colab_type": "code",
        "colab": {}
      },
      "source": [
        "df_20 =pd.read_feather('nyc_20.feather')"
      ],
      "execution_count": 0,
      "outputs": []
    },
    {
      "cell_type": "code",
      "metadata": {
        "id": "TLWPuZ0n0Tau",
        "colab_type": "code",
        "outputId": "09482bf7-e80d-419a-87cb-989194cb9805",
        "colab": {
          "base_uri": "https://localhost:8080/",
          "height": 244
        }
      },
      "source": [
        "df_20.head()"
      ],
      "execution_count": 0,
      "outputs": [
        {
          "output_type": "execute_result",
          "data": {
            "text/html": [
              "<div>\n",
              "<style scoped>\n",
              "    .dataframe tbody tr th:only-of-type {\n",
              "        vertical-align: middle;\n",
              "    }\n",
              "\n",
              "    .dataframe tbody tr th {\n",
              "        vertical-align: top;\n",
              "    }\n",
              "\n",
              "    .dataframe thead th {\n",
              "        text-align: right;\n",
              "    }\n",
              "</style>\n",
              "<table border=\"1\" class=\"dataframe\">\n",
              "  <thead>\n",
              "    <tr style=\"text-align: right;\">\n",
              "      <th></th>\n",
              "      <th>level_0</th>\n",
              "      <th>index</th>\n",
              "      <th>fare_amount</th>\n",
              "      <th>pickup_longitude</th>\n",
              "      <th>pickup_latitude</th>\n",
              "      <th>dropoff_longitude</th>\n",
              "      <th>dropoff_latitude</th>\n",
              "      <th>passenger_count</th>\n",
              "      <th>year</th>\n",
              "      <th>weekday</th>\n",
              "      <th>hour</th>\n",
              "      <th>distance_miles</th>\n",
              "      <th>distance_to_center</th>\n",
              "    </tr>\n",
              "  </thead>\n",
              "  <tbody>\n",
              "    <tr>\n",
              "      <th>0</th>\n",
              "      <td>52000000</td>\n",
              "      <td>54177745</td>\n",
              "      <td>5.7</td>\n",
              "      <td>-73.973595</td>\n",
              "      <td>40.756176</td>\n",
              "      <td>-73.966820</td>\n",
              "      <td>40.784237</td>\n",
              "      <td>1</td>\n",
              "      <td>2010</td>\n",
              "      <td>5</td>\n",
              "      <td>23</td>\n",
              "      <td>1.970966</td>\n",
              "      <td>3.372341</td>\n",
              "    </tr>\n",
              "    <tr>\n",
              "      <th>1</th>\n",
              "      <td>52000001</td>\n",
              "      <td>54177746</td>\n",
              "      <td>7.7</td>\n",
              "      <td>-73.966621</td>\n",
              "      <td>40.789246</td>\n",
              "      <td>-73.963310</td>\n",
              "      <td>40.774307</td>\n",
              "      <td>1</td>\n",
              "      <td>2011</td>\n",
              "      <td>0</td>\n",
              "      <td>8</td>\n",
              "      <td>1.046577</td>\n",
              "      <td>5.589475</td>\n",
              "    </tr>\n",
              "    <tr>\n",
              "      <th>2</th>\n",
              "      <td>52000002</td>\n",
              "      <td>54177747</td>\n",
              "      <td>14.0</td>\n",
              "      <td>-73.982986</td>\n",
              "      <td>40.773258</td>\n",
              "      <td>-73.954170</td>\n",
              "      <td>40.766270</td>\n",
              "      <td>1</td>\n",
              "      <td>2014</td>\n",
              "      <td>4</td>\n",
              "      <td>9</td>\n",
              "      <td>1.583296</td>\n",
              "      <td>4.262660</td>\n",
              "    </tr>\n",
              "    <tr>\n",
              "      <th>3</th>\n",
              "      <td>52000003</td>\n",
              "      <td>54177748</td>\n",
              "      <td>8.9</td>\n",
              "      <td>-73.999603</td>\n",
              "      <td>40.734154</td>\n",
              "      <td>-73.971169</td>\n",
              "      <td>40.748222</td>\n",
              "      <td>1</td>\n",
              "      <td>2011</td>\n",
              "      <td>6</td>\n",
              "      <td>18</td>\n",
              "      <td>1.777822</td>\n",
              "      <td>1.425949</td>\n",
              "    </tr>\n",
              "    <tr>\n",
              "      <th>4</th>\n",
              "      <td>52000004</td>\n",
              "      <td>54177749</td>\n",
              "      <td>29.0</td>\n",
              "      <td>-73.994011</td>\n",
              "      <td>40.756481</td>\n",
              "      <td>-73.921394</td>\n",
              "      <td>40.867634</td>\n",
              "      <td>1</td>\n",
              "      <td>2014</td>\n",
              "      <td>5</td>\n",
              "      <td>23</td>\n",
              "      <td>8.567448</td>\n",
              "      <td>2.994607</td>\n",
              "    </tr>\n",
              "  </tbody>\n",
              "</table>\n",
              "</div>"
            ],
            "text/plain": [
              "    level_0     index  fare_amount  ...  hour  distance_miles  distance_to_center\n",
              "0  52000000  54177745          5.7  ...    23        1.970966            3.372341\n",
              "1  52000001  54177746          7.7  ...     8        1.046577            5.589475\n",
              "2  52000002  54177747         14.0  ...     9        1.583296            4.262660\n",
              "3  52000003  54177748          8.9  ...    18        1.777822            1.425949\n",
              "4  52000004  54177749         29.0  ...    23        8.567448            2.994607\n",
              "\n",
              "[5 rows x 13 columns]"
            ]
          },
          "metadata": {
            "tags": []
          },
          "execution_count": 18
        }
      ]
    },
    {
      "cell_type": "code",
      "metadata": {
        "id": "q4qspVmk0VUU",
        "colab_type": "code",
        "outputId": "ab8d6bad-1102-4bc3-893b-364d1528cacf",
        "colab": {
          "base_uri": "https://localhost:8080/",
          "height": 323
        }
      },
      "source": [
        "df_20.info()"
      ],
      "execution_count": 0,
      "outputs": [
        {
          "output_type": "stream",
          "text": [
            "<class 'pandas.core.frame.DataFrame'>\n",
            "RangeIndex: 1196278 entries, 0 to 1196277\n",
            "Data columns (total 13 columns):\n",
            "level_0               1196278 non-null int64\n",
            "index                 1196278 non-null int64\n",
            "fare_amount           1196278 non-null float32\n",
            "pickup_longitude      1196278 non-null float32\n",
            "pickup_latitude       1196278 non-null float32\n",
            "dropoff_longitude     1196278 non-null float32\n",
            "dropoff_latitude      1196278 non-null float32\n",
            "passenger_count       1196278 non-null uint8\n",
            "year                  1196278 non-null int64\n",
            "weekday               1196278 non-null uint8\n",
            "hour                  1196278 non-null uint8\n",
            "distance_miles        1196278 non-null float32\n",
            "distance_to_center    1196278 non-null float32\n",
            "dtypes: float32(7), int64(3), uint8(3)\n",
            "memory usage: 62.7 MB\n"
          ],
          "name": "stdout"
        }
      ]
    },
    {
      "cell_type": "code",
      "metadata": {
        "id": "tEqfbKDw0ocC",
        "colab_type": "code",
        "colab": {}
      },
      "source": [
        ""
      ],
      "execution_count": 0,
      "outputs": []
    }
  ]
}