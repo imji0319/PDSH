{
  "nbformat": 4,
  "nbformat_minor": 0,
  "metadata": {
    "colab": {
      "name": "nyc_XGBoost.ipynb",
      "version": "0.3.2",
      "provenance": [],
      "collapsed_sections": [],
      "include_colab_link": true
    },
    "kernelspec": {
      "name": "python3",
      "display_name": "Python 3"
    }
  },
  "cells": [
    {
      "cell_type": "markdown",
      "metadata": {
        "id": "view-in-github",
        "colab_type": "text"
      },
      "source": [
        "<a href=\"https://colab.research.google.com/github/imji0319/PDSH/blob/master/nyc_XGBoost.ipynb\" target=\"_parent\"><img src=\"https://colab.research.google.com/assets/colab-badge.svg\" alt=\"Open In Colab\"/></a>"
      ]
    },
    {
      "cell_type": "markdown",
      "metadata": {
        "id": "E2efmzDYkC65",
        "colab_type": "text"
      },
      "source": [
        "# Training XGBoost Model\n",
        "### nyc_0.feather 데이터로 training 한 model을 초기값으로 1-20까지의 파일 모두 반복 실행\n"
      ]
    },
    {
      "cell_type": "code",
      "metadata": {
        "id": "15Gpne2fjmOL",
        "colab_type": "code",
        "outputId": "2787bdaf-68a6-4fae-a031-70e14da95460",
        "colab": {
          "base_uri": "https://localhost:8080/",
          "height": 34
        }
      },
      "source": [
        "from google.colab import auth\n",
        "auth.authenticate_user()\n",
        "\n",
        "from google.colab import drive\n",
        "drive.mount('/content/gdrive')"
      ],
      "execution_count": 0,
      "outputs": [
        {
          "output_type": "stream",
          "text": [
            "Drive already mounted at /content/gdrive; to attempt to forcibly remount, call drive.mount(\"/content/gdrive\", force_remount=True).\n"
          ],
          "name": "stdout"
        }
      ]
    },
    {
      "cell_type": "code",
      "metadata": {
        "id": "JA2VwWGjjxch",
        "colab_type": "code",
        "outputId": "67110fc3-09b7-48ac-c8f7-f67ef3ccceb4",
        "colab": {
          "base_uri": "https://localhost:8080/",
          "height": 34
        }
      },
      "source": [
        "cd /content/gdrive/My Drive/data/nyc_split"
      ],
      "execution_count": 0,
      "outputs": [
        {
          "output_type": "stream",
          "text": [
            "/content/gdrive/My Drive/data/nyc_split\n"
          ],
          "name": "stdout"
        }
      ]
    },
    {
      "cell_type": "code",
      "metadata": {
        "id": "VEsYKSjXj1Lo",
        "colab_type": "code",
        "outputId": "82bb6bf9-9e38-49f9-dd2f-5de51970f96b",
        "colab": {
          "base_uri": "https://localhost:8080/",
          "height": 97
        }
      },
      "source": [
        "pip install -U pyarrow"
      ],
      "execution_count": 0,
      "outputs": [
        {
          "output_type": "stream",
          "text": [
            "Requirement already up-to-date: pyarrow in /usr/local/lib/python3.6/dist-packages (0.13.0)\n",
            "Requirement already satisfied, skipping upgrade: six>=1.0.0 in /usr/local/lib/python3.6/dist-packages (from pyarrow) (1.12.0)\n",
            "Requirement already satisfied, skipping upgrade: numpy>=1.14 in /usr/local/lib/python3.6/dist-packages (from pyarrow) (1.16.4)\n"
          ],
          "name": "stdout"
        }
      ]
    },
    {
      "cell_type": "code",
      "metadata": {
        "id": "7Lv5lwVGj2Co",
        "colab_type": "code",
        "colab": {}
      },
      "source": [
        "import pandas as pd\n",
        "import numpy as np"
      ],
      "execution_count": 0,
      "outputs": []
    },
    {
      "cell_type": "code",
      "metadata": {
        "id": "EiicXi2lj4FK",
        "colab_type": "code",
        "colab": {}
      },
      "source": [
        "from sklearn.model_selection import train_test_split \n",
        "import xgboost as xgb\n",
        "from xgboost import Booster"
      ],
      "execution_count": 0,
      "outputs": []
    },
    {
      "cell_type": "code",
      "metadata": {
        "id": "UcfXYeFkkZOH",
        "colab_type": "code",
        "colab": {}
      },
      "source": [
        "def XGBmodelsaved(x_train,x_test,y_train,y_test,params,tmpFile):\n",
        "    matrix_train = xgb.DMatrix(x_train,label=y_train)\n",
        "    matrix_test = xgb.DMatrix(x_test,label=y_test)\n",
        "    model=xgb.train(params=params,\n",
        "                    dtrain=matrix_train,num_boost_round=300, xgb_model=tmpFile,verbose_eval=50,\n",
        "                    early_stopping_rounds=10,evals=[(matrix_test,'test')])\n",
        "    return model"
      ],
      "execution_count": 0,
      "outputs": []
    },
    {
      "cell_type": "code",
      "metadata": {
        "id": "jEp3i7dr10HM",
        "colab_type": "code",
        "colab": {}
      },
      "source": [
        "#Cross-validation\n",
        "params = {\n",
        "    # Parameters that we are going to tune.\n",
        "    'max_depth': 8, #Result of tuning with CV\n",
        "    'eta':.03, #Result of tuning with CV\n",
        "    'subsample': 1, #Result of tuning with CV\n",
        "    'colsample_bytree': 0.8, #Result of tuning with CV\n",
        "    # Other parameters\n",
        "    'objective':'reg:linear',\n",
        "    'eval_metric':'rmse',\n",
        "    'silent': 1\n",
        "}"
      ],
      "execution_count": 0,
      "outputs": []
    },
    {
      "cell_type": "code",
      "metadata": {
        "id": "-cNGJUROkb68",
        "colab_type": "code",
        "outputId": "2cfdcea0-50ec-4a57-ecdc-877828093cee",
        "colab": {
          "base_uri": "https://localhost:8080/",
          "height": 3094
        }
      },
      "source": [
        "# 분할된 데이터 로드 및 train \n",
        "\n",
        "%%time\n",
        "for i in range(1,21):\n",
        "    path = 'nyc_'+str(i)+'.feather'\n",
        "    df_train =pd.read_feather(path)\n",
        "    df_train = df_train.drop(columns=['level_0', 'index'])\n",
        "    y = df_train['fare_amount']\n",
        "    train = df_train.drop(columns=['fare_amount'])\n",
        "    \n",
        "    del df_train\n",
        "    \n",
        "    X_train, X_test, y_train, y_test = train_test_split(train, y, random_state = 100, test_size=0.25)\n",
        "    \n",
        "    del train,y\n",
        "    \n",
        "    fname=\"xgb.model\"\n",
        "    bst = xgb.Booster()\n",
        "    tmpFile = bst.load_model(fname)\n",
        "    \n",
        "    model = XGBmodelsaved(X_train,X_test,y_train,y_test,params,tmpFile)\n",
        "    print(str(i) + '번 파일데이터가 트레이닝 되었습니다.')\n",
        "    \n",
        "    model.save_model('xgb.model')\n",
        "    del model\n",
        "    "
      ],
      "execution_count": 0,
      "outputs": [
        {
          "output_type": "stream",
          "text": [
            "[07:16:08] WARNING: /workspace/src/objective/regression_obj.cu:152: reg:linear is now deprecated in favor of reg:squarederror.\n"
          ],
          "name": "stdout"
        },
        {
          "output_type": "stream",
          "text": [
            "/usr/local/lib/python3.6/dist-packages/xgboost/core.py:587: FutureWarning: Series.base is deprecated and will be removed in a future version\n",
            "  if getattr(data, 'base', None) is not None and \\\n"
          ],
          "name": "stderr"
        },
        {
          "output_type": "stream",
          "text": [
            "[0]\ttest-rmse:14.0148\n",
            "Will train until test-rmse hasn't improved in 10 rounds.\n",
            "[50]\ttest-rmse:4.75852\n",
            "[100]\ttest-rmse:3.64173\n",
            "[150]\ttest-rmse:3.52219\n",
            "[200]\ttest-rmse:3.48509\n",
            "[250]\ttest-rmse:3.46222\n",
            "[299]\ttest-rmse:3.44776\n",
            "1번 파일데이터가 트레이닝 되었습니다.\n",
            "[0]\ttest-rmse:13.9325\n",
            "Will train until test-rmse hasn't improved in 10 rounds.\n",
            "[50]\ttest-rmse:4.59483\n",
            "[100]\ttest-rmse:3.43593\n",
            "[150]\ttest-rmse:3.31143\n",
            "[200]\ttest-rmse:3.27378\n",
            "[250]\ttest-rmse:3.25242\n",
            "[299]\ttest-rmse:3.23604\n",
            "2번 파일데이터가 트레이닝 되었습니다.\n",
            "[0]\ttest-rmse:13.9339\n",
            "Will train until test-rmse hasn't improved in 10 rounds.\n",
            "[50]\ttest-rmse:4.58484\n",
            "[100]\ttest-rmse:3.41192\n",
            "[150]\ttest-rmse:3.28795\n",
            "[200]\ttest-rmse:3.24906\n",
            "[250]\ttest-rmse:3.2282\n",
            "[299]\ttest-rmse:3.21288\n",
            "3번 파일데이터가 트레이닝 되었습니다.\n",
            "[0]\ttest-rmse:13.9622\n",
            "Will train until test-rmse hasn't improved in 10 rounds.\n",
            "[50]\ttest-rmse:4.6056\n",
            "[100]\ttest-rmse:3.43294\n",
            "[150]\ttest-rmse:3.30853\n",
            "[200]\ttest-rmse:3.26904\n",
            "[250]\ttest-rmse:3.24427\n",
            "[299]\ttest-rmse:3.22242\n",
            "4번 파일데이터가 트레이닝 되었습니다.\n",
            "[0]\ttest-rmse:13.9252\n",
            "Will train until test-rmse hasn't improved in 10 rounds.\n",
            "[50]\ttest-rmse:4.59216\n",
            "[100]\ttest-rmse:3.43057\n",
            "[150]\ttest-rmse:3.30805\n",
            "[200]\ttest-rmse:3.26998\n",
            "[250]\ttest-rmse:3.24914\n",
            "[299]\ttest-rmse:3.23117\n",
            "5번 파일데이터가 트레이닝 되었습니다.\n",
            "[0]\ttest-rmse:77.6416\n",
            "Will train until test-rmse hasn't improved in 10 rounds.\n",
            "[50]\ttest-rmse:76.5127\n",
            "[100]\ttest-rmse:76.4497\n",
            "[150]\ttest-rmse:76.4435\n",
            "[200]\ttest-rmse:76.4417\n",
            "[250]\ttest-rmse:76.4407\n",
            "[299]\ttest-rmse:76.4398\n",
            "6번 파일데이터가 트레이닝 되었습니다.\n",
            "[0]\ttest-rmse:13.9054\n",
            "Will train until test-rmse hasn't improved in 10 rounds.\n",
            "[50]\ttest-rmse:4.53206\n",
            "[100]\ttest-rmse:3.35594\n",
            "[150]\ttest-rmse:3.23269\n",
            "[200]\ttest-rmse:3.19475\n",
            "[250]\ttest-rmse:3.17474\n",
            "[299]\ttest-rmse:3.15434\n",
            "7번 파일데이터가 트레이닝 되었습니다.\n",
            "[0]\ttest-rmse:13.9574\n",
            "Will train until test-rmse hasn't improved in 10 rounds.\n",
            "[50]\ttest-rmse:4.56997\n",
            "[100]\ttest-rmse:3.3791\n",
            "[150]\ttest-rmse:3.25239\n",
            "[200]\ttest-rmse:3.21544\n",
            "[250]\ttest-rmse:3.19369\n",
            "[299]\ttest-rmse:3.17418\n",
            "8번 파일데이터가 트레이닝 되었습니다.\n",
            "[0]\ttest-rmse:13.953\n",
            "Will train until test-rmse hasn't improved in 10 rounds.\n",
            "[50]\ttest-rmse:4.58174\n",
            "[100]\ttest-rmse:3.40347\n",
            "[150]\ttest-rmse:3.27681\n",
            "[200]\ttest-rmse:3.2358\n",
            "[250]\ttest-rmse:3.21625\n",
            "[299]\ttest-rmse:3.19885\n",
            "9번 파일데이터가 트레이닝 되었습니다.\n",
            "[0]\ttest-rmse:13.966\n",
            "Will train until test-rmse hasn't improved in 10 rounds.\n",
            "[50]\ttest-rmse:4.6017\n",
            "[100]\ttest-rmse:3.43397\n",
            "[150]\ttest-rmse:3.31004\n",
            "[200]\ttest-rmse:3.27174\n",
            "[250]\ttest-rmse:3.25108\n",
            "[299]\ttest-rmse:3.2349\n",
            "10번 파일데이터가 트레이닝 되었습니다.\n",
            "[0]\ttest-rmse:13.9344\n",
            "Will train until test-rmse hasn't improved in 10 rounds.\n",
            "[50]\ttest-rmse:4.55742\n",
            "[100]\ttest-rmse:3.37009\n",
            "[150]\ttest-rmse:3.2458\n",
            "[200]\ttest-rmse:3.20379\n",
            "[250]\ttest-rmse:3.18038\n",
            "[299]\ttest-rmse:3.16458\n",
            "11번 파일데이터가 트레이닝 되었습니다.\n",
            "[0]\ttest-rmse:13.9496\n",
            "Will train until test-rmse hasn't improved in 10 rounds.\n",
            "[50]\ttest-rmse:4.58113\n",
            "[100]\ttest-rmse:3.4219\n",
            "[150]\ttest-rmse:3.30237\n",
            "[200]\ttest-rmse:3.26314\n",
            "[250]\ttest-rmse:3.24132\n",
            "[299]\ttest-rmse:3.2241\n",
            "12번 파일데이터가 트레이닝 되었습니다.\n",
            "[0]\ttest-rmse:13.9493\n",
            "Will train until test-rmse hasn't improved in 10 rounds.\n",
            "[50]\ttest-rmse:4.60357\n",
            "[100]\ttest-rmse:3.44832\n",
            "[150]\ttest-rmse:3.32799\n",
            "[200]\ttest-rmse:3.28955\n",
            "[250]\ttest-rmse:3.26903\n",
            "[299]\ttest-rmse:3.25479\n",
            "13번 파일데이터가 트레이닝 되었습니다.\n",
            "[0]\ttest-rmse:13.9727\n",
            "Will train until test-rmse hasn't improved in 10 rounds.\n",
            "[50]\ttest-rmse:4.59965\n",
            "[100]\ttest-rmse:3.77489\n",
            "Stopping. Best iteration:\n",
            "[94]\ttest-rmse:3.759\n",
            "\n",
            "14번 파일데이터가 트레이닝 되었습니다.\n",
            "[0]\ttest-rmse:13.912\n",
            "Will train until test-rmse hasn't improved in 10 rounds.\n",
            "Stopping. Best iteration:\n",
            "[13]\ttest-rmse:11.9929\n",
            "\n",
            "15번 파일데이터가 트레이닝 되었습니다.\n",
            "[0]\ttest-rmse:14.0168\n",
            "Will train until test-rmse hasn't improved in 10 rounds.\n",
            "[50]\ttest-rmse:4.77281\n",
            "[100]\ttest-rmse:3.65191\n",
            "[150]\ttest-rmse:3.53406\n",
            "[200]\ttest-rmse:3.49492\n",
            "[250]\ttest-rmse:3.4719\n",
            "[299]\ttest-rmse:3.4543\n",
            "16번 파일데이터가 트레이닝 되었습니다.\n",
            "[0]\ttest-rmse:13.9149\n",
            "Will train until test-rmse hasn't improved in 10 rounds.\n",
            "[50]\ttest-rmse:4.53835\n",
            "[100]\ttest-rmse:3.37199\n",
            "[150]\ttest-rmse:3.25016\n",
            "[200]\ttest-rmse:3.21433\n",
            "[250]\ttest-rmse:3.19139\n",
            "[299]\ttest-rmse:3.17515\n",
            "17번 파일데이터가 트레이닝 되었습니다.\n",
            "[0]\ttest-rmse:13.9517\n",
            "Will train until test-rmse hasn't improved in 10 rounds.\n",
            "[50]\ttest-rmse:4.60881\n",
            "[100]\ttest-rmse:3.44392\n",
            "[150]\ttest-rmse:3.31976\n",
            "[200]\ttest-rmse:3.27941\n",
            "[250]\ttest-rmse:3.25588\n",
            "[299]\ttest-rmse:3.2403\n",
            "18번 파일데이터가 트레이닝 되었습니다.\n",
            "[0]\ttest-rmse:13.9487\n",
            "Will train until test-rmse hasn't improved in 10 rounds.\n",
            "[50]\ttest-rmse:4.59031\n",
            "[100]\ttest-rmse:3.41553\n",
            "[150]\ttest-rmse:3.29243\n",
            "[200]\ttest-rmse:3.25121\n",
            "[250]\ttest-rmse:3.23023\n",
            "[299]\ttest-rmse:3.2148\n",
            "19번 파일데이터가 트레이닝 되었습니다.\n",
            "[0]\ttest-rmse:13.9842\n",
            "Will train until test-rmse hasn't improved in 10 rounds.\n",
            "[50]\ttest-rmse:4.64512\n",
            "[100]\ttest-rmse:3.45378\n",
            "[150]\ttest-rmse:3.32237\n",
            "[200]\ttest-rmse:3.28295\n",
            "[250]\ttest-rmse:3.26259\n",
            "[299]\ttest-rmse:3.24574\n",
            "20번 파일데이터가 트레이닝 되었습니다.\n",
            "CPU times: user 15h 9min 44s, sys: 19 s, total: 15h 10min 3s\n",
            "Wall time: 7h 48min 10s\n"
          ],
          "name": "stdout"
        }
      ]
    },
    {
      "cell_type": "code",
      "metadata": {
        "id": "JaL52kMLrWed",
        "colab_type": "code",
        "outputId": "53e79188-2039-460f-a103-f053c8a4a88c",
        "colab": {
          "base_uri": "https://localhost:8080/",
          "height": 34
        }
      },
      "source": [
        "cd /content/gdrive/My Drive/data/nyc_split"
      ],
      "execution_count": 0,
      "outputs": [
        {
          "output_type": "stream",
          "text": [
            "/content/gdrive/My Drive/data/nyc_split\n"
          ],
          "name": "stdout"
        }
      ]
    },
    {
      "cell_type": "code",
      "metadata": {
        "id": "5xz0vayOoO6H",
        "colab_type": "code",
        "colab": {}
      },
      "source": [
        "fname=\"xgb.model\"\n",
        "\n",
        "bst = xgb.Booster(model_file=fname)"
      ],
      "execution_count": 0,
      "outputs": []
    },
    {
      "cell_type": "code",
      "metadata": {
        "id": "VVXcVyqJllA6",
        "colab_type": "code",
        "outputId": "ca352897-08cf-4d94-8df1-b8c9fa761a60",
        "colab": {
          "base_uri": "https://localhost:8080/",
          "height": 34
        }
      },
      "source": [
        "cd /content/gdrive/My Drive/data"
      ],
      "execution_count": 0,
      "outputs": [
        {
          "output_type": "stream",
          "text": [
            "/content/gdrive/My Drive/data\n"
          ],
          "name": "stdout"
        }
      ]
    },
    {
      "cell_type": "code",
      "metadata": {
        "id": "zssIxE05llps",
        "colab_type": "code",
        "colab": {}
      },
      "source": [
        "df_test = pd.read_csv('cleaning_test.csv')"
      ],
      "execution_count": 0,
      "outputs": []
    },
    {
      "cell_type": "code",
      "metadata": {
        "id": "wiLjzRHAn1pm",
        "colab_type": "code",
        "colab": {}
      },
      "source": [
        "test_key = df_test['key']\n",
        "x_pred = df_test.drop(columns=['key', 'pickup_datetime'])"
      ],
      "execution_count": 0,
      "outputs": []
    },
    {
      "cell_type": "code",
      "metadata": {
        "id": "3-WKITniofZM",
        "colab_type": "code",
        "outputId": "7933b382-2621-4324-fd6d-cad5c61f5599",
        "colab": {
          "base_uri": "https://localhost:8080/",
          "height": 329
        }
      },
      "source": [
        "df_test.head()"
      ],
      "execution_count": 0,
      "outputs": [
        {
          "output_type": "execute_result",
          "data": {
            "text/html": [
              "<div>\n",
              "<style scoped>\n",
              "    .dataframe tbody tr th:only-of-type {\n",
              "        vertical-align: middle;\n",
              "    }\n",
              "\n",
              "    .dataframe tbody tr th {\n",
              "        vertical-align: top;\n",
              "    }\n",
              "\n",
              "    .dataframe thead th {\n",
              "        text-align: right;\n",
              "    }\n",
              "</style>\n",
              "<table border=\"1\" class=\"dataframe\">\n",
              "  <thead>\n",
              "    <tr style=\"text-align: right;\">\n",
              "      <th></th>\n",
              "      <th>key</th>\n",
              "      <th>pickup_datetime</th>\n",
              "      <th>pickup_longitude</th>\n",
              "      <th>pickup_latitude</th>\n",
              "      <th>dropoff_longitude</th>\n",
              "      <th>dropoff_latitude</th>\n",
              "      <th>passenger_count</th>\n",
              "      <th>year</th>\n",
              "      <th>weekday</th>\n",
              "      <th>hour</th>\n",
              "      <th>distance_miles</th>\n",
              "      <th>distance_to_center</th>\n",
              "    </tr>\n",
              "  </thead>\n",
              "  <tbody>\n",
              "    <tr>\n",
              "      <th>0</th>\n",
              "      <td>2015-01-27 13:08:24.0000002</td>\n",
              "      <td>2015-01-27 13:08:24</td>\n",
              "      <td>-73.973320</td>\n",
              "      <td>40.763805</td>\n",
              "      <td>-73.981430</td>\n",
              "      <td>40.743835</td>\n",
              "      <td>1</td>\n",
              "      <td>2015</td>\n",
              "      <td>1</td>\n",
              "      <td>13</td>\n",
              "      <td>1.443607</td>\n",
              "      <td>3.841863</td>\n",
              "    </tr>\n",
              "    <tr>\n",
              "      <th>1</th>\n",
              "      <td>2015-01-27 13:08:24.0000003</td>\n",
              "      <td>2015-01-27 13:08:24</td>\n",
              "      <td>-73.986862</td>\n",
              "      <td>40.719383</td>\n",
              "      <td>-73.998886</td>\n",
              "      <td>40.739201</td>\n",
              "      <td>1</td>\n",
              "      <td>2015</td>\n",
              "      <td>1</td>\n",
              "      <td>13</td>\n",
              "      <td>1.507044</td>\n",
              "      <td>1.084252</td>\n",
              "    </tr>\n",
              "    <tr>\n",
              "      <th>2</th>\n",
              "      <td>2011-10-08 11:53:44.0000002</td>\n",
              "      <td>2011-10-08 11:53:44</td>\n",
              "      <td>-73.982524</td>\n",
              "      <td>40.751260</td>\n",
              "      <td>-73.979654</td>\n",
              "      <td>40.746139</td>\n",
              "      <td>1</td>\n",
              "      <td>2011</td>\n",
              "      <td>5</td>\n",
              "      <td>11</td>\n",
              "      <td>0.384398</td>\n",
              "      <td>2.851254</td>\n",
              "    </tr>\n",
              "    <tr>\n",
              "      <th>3</th>\n",
              "      <td>2012-12-01 21:12:12.0000002</td>\n",
              "      <td>2012-12-01 21:12:12</td>\n",
              "      <td>-73.981160</td>\n",
              "      <td>40.767807</td>\n",
              "      <td>-73.990448</td>\n",
              "      <td>40.751635</td>\n",
              "      <td>1</td>\n",
              "      <td>2012</td>\n",
              "      <td>5</td>\n",
              "      <td>21</td>\n",
              "      <td>1.218529</td>\n",
              "      <td>3.934481</td>\n",
              "    </tr>\n",
              "    <tr>\n",
              "      <th>4</th>\n",
              "      <td>2012-12-01 21:12:12.0000003</td>\n",
              "      <td>2012-12-01 21:12:12</td>\n",
              "      <td>-73.966046</td>\n",
              "      <td>40.789775</td>\n",
              "      <td>-73.988565</td>\n",
              "      <td>40.744427</td>\n",
              "      <td>1</td>\n",
              "      <td>2012</td>\n",
              "      <td>5</td>\n",
              "      <td>21</td>\n",
              "      <td>3.347514</td>\n",
              "      <td>5.634652</td>\n",
              "    </tr>\n",
              "  </tbody>\n",
              "</table>\n",
              "</div>"
            ],
            "text/plain": [
              "                           key  ... distance_to_center\n",
              "0  2015-01-27 13:08:24.0000002  ...           3.841863\n",
              "1  2015-01-27 13:08:24.0000003  ...           1.084252\n",
              "2  2011-10-08 11:53:44.0000002  ...           2.851254\n",
              "3  2012-12-01 21:12:12.0000002  ...           3.934481\n",
              "4  2012-12-01 21:12:12.0000003  ...           5.634652\n",
              "\n",
              "[5 rows x 12 columns]"
            ]
          },
          "metadata": {
            "tags": []
          },
          "execution_count": 22
        }
      ]
    },
    {
      "cell_type": "code",
      "metadata": {
        "id": "5wB89iGUn4EM",
        "colab_type": "code",
        "colab": {}
      },
      "source": [
        "#Predict from test set\n",
        "prediction = bst.predict(xgb.DMatrix(x_pred))"
      ],
      "execution_count": 0,
      "outputs": []
    },
    {
      "cell_type": "code",
      "metadata": {
        "id": "KYj0YdpVn5zA",
        "colab_type": "code",
        "outputId": "a876ac79-2224-4f60-ceef-95aff8c0f7be",
        "colab": {
          "base_uri": "https://localhost:8080/",
          "height": 359
        }
      },
      "source": [
        "submission = pd.DataFrame({'key' : df_test.key,\n",
        "                          'fare_amount': prediction},\n",
        "                         columns =['key','fare_amount'])\n",
        "\n",
        "submission.head(10)"
      ],
      "execution_count": 0,
      "outputs": [
        {
          "output_type": "execute_result",
          "data": {
            "text/html": [
              "<div>\n",
              "<style scoped>\n",
              "    .dataframe tbody tr th:only-of-type {\n",
              "        vertical-align: middle;\n",
              "    }\n",
              "\n",
              "    .dataframe tbody tr th {\n",
              "        vertical-align: top;\n",
              "    }\n",
              "\n",
              "    .dataframe thead th {\n",
              "        text-align: right;\n",
              "    }\n",
              "</style>\n",
              "<table border=\"1\" class=\"dataframe\">\n",
              "  <thead>\n",
              "    <tr style=\"text-align: right;\">\n",
              "      <th></th>\n",
              "      <th>key</th>\n",
              "      <th>fare_amount</th>\n",
              "    </tr>\n",
              "  </thead>\n",
              "  <tbody>\n",
              "    <tr>\n",
              "      <th>0</th>\n",
              "      <td>2015-01-27 13:08:24.0000002</td>\n",
              "      <td>10.876581</td>\n",
              "    </tr>\n",
              "    <tr>\n",
              "      <th>1</th>\n",
              "      <td>2015-01-27 13:08:24.0000003</td>\n",
              "      <td>11.115511</td>\n",
              "    </tr>\n",
              "    <tr>\n",
              "      <th>2</th>\n",
              "      <td>2011-10-08 11:53:44.0000002</td>\n",
              "      <td>4.732394</td>\n",
              "    </tr>\n",
              "    <tr>\n",
              "      <th>3</th>\n",
              "      <td>2012-12-01 21:12:12.0000002</td>\n",
              "      <td>7.972251</td>\n",
              "    </tr>\n",
              "    <tr>\n",
              "      <th>4</th>\n",
              "      <td>2012-12-01 21:12:12.0000003</td>\n",
              "      <td>13.869342</td>\n",
              "    </tr>\n",
              "    <tr>\n",
              "      <th>5</th>\n",
              "      <td>2012-12-01 21:12:12.0000005</td>\n",
              "      <td>9.793613</td>\n",
              "    </tr>\n",
              "    <tr>\n",
              "      <th>6</th>\n",
              "      <td>2011-10-06 12:10:20.0000001</td>\n",
              "      <td>5.125116</td>\n",
              "    </tr>\n",
              "    <tr>\n",
              "      <th>7</th>\n",
              "      <td>2011-10-06 12:10:20.0000003</td>\n",
              "      <td>48.913635</td>\n",
              "    </tr>\n",
              "    <tr>\n",
              "      <th>8</th>\n",
              "      <td>2011-10-06 12:10:20.0000002</td>\n",
              "      <td>11.696170</td>\n",
              "    </tr>\n",
              "    <tr>\n",
              "      <th>9</th>\n",
              "      <td>2014-02-18 15:22:20.0000002</td>\n",
              "      <td>6.690121</td>\n",
              "    </tr>\n",
              "  </tbody>\n",
              "</table>\n",
              "</div>"
            ],
            "text/plain": [
              "                           key  fare_amount\n",
              "0  2015-01-27 13:08:24.0000002    10.876581\n",
              "1  2015-01-27 13:08:24.0000003    11.115511\n",
              "2  2011-10-08 11:53:44.0000002     4.732394\n",
              "3  2012-12-01 21:12:12.0000002     7.972251\n",
              "4  2012-12-01 21:12:12.0000003    13.869342\n",
              "5  2012-12-01 21:12:12.0000005     9.793613\n",
              "6  2011-10-06 12:10:20.0000001     5.125116\n",
              "7  2011-10-06 12:10:20.0000003    48.913635\n",
              "8  2011-10-06 12:10:20.0000002    11.696170\n",
              "9  2014-02-18 15:22:20.0000002     6.690121"
            ]
          },
          "metadata": {
            "tags": []
          },
          "execution_count": 26
        }
      ]
    },
    {
      "cell_type": "code",
      "metadata": {
        "id": "7aYazMsVn7vx",
        "colab_type": "code",
        "colab": {}
      },
      "source": [
        "submission.to_csv('all_xgb_submission.csv', index=False)"
      ],
      "execution_count": 0,
      "outputs": []
    },
    {
      "cell_type": "code",
      "metadata": {
        "id": "iDGfOwzXtLDc",
        "colab_type": "code",
        "colab": {}
      },
      "source": [
        ""
      ],
      "execution_count": 0,
      "outputs": []
    }
  ]
}