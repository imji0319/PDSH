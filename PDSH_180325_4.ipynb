{
 "cells": [
  {
   "cell_type": "code",
   "execution_count": 1,
   "metadata": {},
   "outputs": [
    {
     "name": "stdout",
     "output_type": "stream",
     "text": [
      "%EC%9D%B8%EC%B2%9C%EA%B4%91%EC%97%AD%EC%8B%9C_%EB%B6%80%ED%8F%89%EA%B5%AC_%EA%B8%B8%EA%B4%80%EA%B4%91%EC%A0%95%EB%B3%B4_20170524.csv\r\n",
      "1.pdf\r\n",
      "2.pdf\r\n",
      "3.9a.jpeg\r\n",
      "3.9d2.jpeg\r\n",
      "3.9jj.jpeg\r\n",
      "3.pages\r\n",
      "3.pdf\r\n",
      "4.1g.jpeg\r\n",
      "4대광역시 시설물 현황.xlsx\r\n",
      "\u001b[34mApplications\u001b[m\u001b[m\r\n",
      "\u001b[34mCSI\u001b[m\u001b[m\r\n",
      "\u001b[34mDesktop\u001b[m\u001b[m\r\n",
      "\u001b[34mDocuments\u001b[m\u001b[m\r\n",
      "\u001b[34mDownloads\u001b[m\u001b[m\r\n",
      "\u001b[34mLibrary\u001b[m\u001b[m\r\n",
      "\u001b[34mMovies\u001b[m\u001b[m\r\n",
      "\u001b[34mMusic\u001b[m\u001b[m\r\n",
      "PDSH_180325.ipynb\r\n",
      "PDSH_180325_2.ipynb\r\n",
      "PDSH_180325_3.ipynb\r\n",
      "PDSH_180325_4.ipynb\r\n",
      "\u001b[34mPictures\u001b[m\u001b[m\r\n",
      "\u001b[34mPublic\u001b[m\u001b[m\r\n",
      "Rplot.jpeg\r\n",
      "\u001b[34mUntitled Folder\u001b[m\u001b[m\r\n",
      "Untitled.ipynb\r\n",
      "Untitled1.ipynb\r\n",
      "Untitled2.ipynb\r\n",
      "Untitled3.ipynb\r\n",
      "Untitled4.ipynb\r\n",
      "Untitled5.ipynb\r\n",
      "Untitled6.ipynb\r\n",
      "\u001b[34manaconda\u001b[m\u001b[m\r\n",
      "\u001b[34mcs50\u001b[m\u001b[m\r\n",
      "\u001b[34meclipse\u001b[m\u001b[m\r\n",
      "\u001b[34meclipse-workspace\u001b[m\u001b[m\r\n",
      "except.jpeg\r\n",
      "\u001b[34mgit\u001b[m\u001b[m\r\n",
      "myscript.py\r\n",
      "\u001b[34mprivacy\u001b[m\u001b[m\r\n",
      "\u001b[34mpython\u001b[m\u001b[m\r\n",
      "s20140543.ipynb\r\n",
      "s20140543_1.ipynb\r\n",
      "s20140543_2.ipynb\r\n",
      "sp_#1#2.txt\r\n",
      "sp_#3#4.txt\r\n",
      "sp_#5#6.txt\r\n",
      "\u001b[34mtravel\u001b[m\u001b[m\r\n",
      "\u001b[34mvenv\u001b[m\u001b[m\r\n",
      "virtualenv\r\n",
      "\u001b[34mworkspace\u001b[m\u001b[m\r\n",
      "\u001b[34m정통\u001b[m\u001b[m\r\n",
      "나트랑e티켓.pdf\r\n",
      "\u001b[34m빅데이터\u001b[m\u001b[m\r\n",
      "\u001b[34m대외활동\u001b[m\u001b[m\r\n",
      "\u001b[34m경영학과\u001b[m\u001b[m\r\n",
      "생활코딩_OOP.pages\r\n",
      "직업흥미검사.pdf\r\n"
     ]
    }
   ],
   "source": [
    "!ls"
   ]
  },
  {
   "cell_type": "code",
   "execution_count": 2,
   "metadata": {},
   "outputs": [
    {
     "name": "stdout",
     "output_type": "stream",
     "text": [
      "/Users/jihye\r\n"
     ]
    }
   ],
   "source": [
    "!pwd"
   ]
  },
  {
   "cell_type": "code",
   "execution_count": 3,
   "metadata": {},
   "outputs": [
    {
     "name": "stdout",
     "output_type": "stream",
     "text": [
      "\r\n"
     ]
    }
   ],
   "source": [
    "!echo"
   ]
  },
  {
   "cell_type": "code",
   "execution_count": 4,
   "metadata": {},
   "outputs": [
    {
     "name": "stdout",
     "output_type": "stream",
     "text": [
      "셸에 출력하기\r\n"
     ]
    }
   ],
   "source": [
    "!echo \"셸에 출력하기\""
   ]
  },
  {
   "cell_type": "code",
   "execution_count": 5,
   "metadata": {
    "collapsed": true
   },
   "outputs": [],
   "source": [
    "contents=!ls"
   ]
  },
  {
   "cell_type": "code",
   "execution_count": 7,
   "metadata": {},
   "outputs": [
    {
     "data": {
      "text/plain": [
       "['1.pdf',\n",
       " '2.pdf',\n",
       " '3.pages',\n",
       " '3.pdf',\n",
       " 'Applications',\n",
       " 'CSI',\n",
       " 'Desktop',\n",
       " 'Documents',\n",
       " 'Downloads',\n",
       " 'Library',\n",
       " 'Movies',\n",
       " 'Music',\n",
       " 'PDSH_180325.ipynb',\n",
       " 'PDSH_180325_2.ipynb',\n",
       " 'PDSH_180325_3.ipynb',\n",
       " 'PDSH_180325_4.ipynb',\n",
       " 'Pictures',\n",
       " 'Public',\n",
       " 'Untitled Folder',\n",
       " 'Untitled.ipynb',\n",
       " 'Untitled1.ipynb',\n",
       " 'Untitled2.ipynb',\n",
       " 'Untitled3.ipynb',\n",
       " 'Untitled4.ipynb',\n",
       " 'Untitled5.ipynb',\n",
       " 'Untitled6.ipynb',\n",
       " 'anaconda',\n",
       " 'cs50',\n",
       " 'eclipse',\n",
       " 'eclipse-workspace',\n",
       " 'except.jpeg',\n",
       " 'git',\n",
       " 'myscript.py',\n",
       " 'privacy',\n",
       " 'python',\n",
       " 's20140543.ipynb',\n",
       " 's20140543_1.ipynb',\n",
       " 's20140543_2.ipynb',\n",
       " 'sp_#1#2.txt',\n",
       " 'sp_#3#4.txt',\n",
       " 'sp_#5#6.txt',\n",
       " 'travel',\n",
       " 'venv',\n",
       " 'virtualenv',\n",
       " 'workspace',\n",
       " '정통',\n",
       " '나트랑e티켓.pdf',\n",
       " '빅데이터',\n",
       " '대외활동',\n",
       " '경영학과',\n",
       " '생활코딩_OOP.pages',\n",
       " '직업흥미검사.pdf']"
      ]
     },
     "execution_count": 7,
     "metadata": {},
     "output_type": "execute_result"
    }
   ],
   "source": [
    "contents"
   ]
  },
  {
   "cell_type": "code",
   "execution_count": 8,
   "metadata": {
    "collapsed": true
   },
   "outputs": [],
   "source": [
    "directory=!pwd"
   ]
  },
  {
   "cell_type": "code",
   "execution_count": 9,
   "metadata": {},
   "outputs": [
    {
     "data": {
      "text/plain": [
       "['/Users/jihye']"
      ]
     },
     "execution_count": 9,
     "metadata": {},
     "output_type": "execute_result"
    }
   ],
   "source": [
    "directory"
   ]
  },
  {
   "cell_type": "code",
   "execution_count": 10,
   "metadata": {},
   "outputs": [
    {
     "data": {
      "text/plain": [
       "IPython.utils.text.SList"
      ]
     },
     "execution_count": 10,
     "metadata": {},
     "output_type": "execute_result"
    }
   ],
   "source": [
    "type(directory)"
   ]
  },
  {
   "cell_type": "code",
   "execution_count": 11,
   "metadata": {},
   "outputs": [
    {
     "name": "stdout",
     "output_type": "stream",
     "text": [
      "['/Users/jihye']\n"
     ]
    }
   ],
   "source": [
    "print(directory)"
   ]
  },
  {
   "cell_type": "code",
   "execution_count": 12,
   "metadata": {
    "collapsed": true
   },
   "outputs": [],
   "source": [
    "messate=\"hello from Python\""
   ]
  },
  {
   "cell_type": "code",
   "execution_count": 13,
   "metadata": {},
   "outputs": [
    {
     "name": "stdout",
     "output_type": "stream",
     "text": [
      "= messate\r\n"
     ]
    }
   ],
   "source": [
    "!echo = messate"
   ]
  },
  {
   "cell_type": "code",
   "execution_count": 14,
   "metadata": {},
   "outputs": [
    {
     "name": "stdout",
     "output_type": "stream",
     "text": [
      "hello from Python\r\n"
     ]
    }
   ],
   "source": [
    "!echo {messate}"
   ]
  },
  {
   "cell_type": "code",
   "execution_count": 15,
   "metadata": {},
   "outputs": [
    {
     "name": "stdout",
     "output_type": "stream",
     "text": [
      "/Users/jihye\r\n"
     ]
    }
   ],
   "source": [
    "!pwd"
   ]
  },
  {
   "cell_type": "code",
   "execution_count": 16,
   "metadata": {
    "collapsed": true
   },
   "outputs": [],
   "source": [
    "!cd .."
   ]
  },
  {
   "cell_type": "code",
   "execution_count": 17,
   "metadata": {},
   "outputs": [
    {
     "name": "stdout",
     "output_type": "stream",
     "text": [
      "/bin/sh: ped: command not found\r\n"
     ]
    }
   ],
   "source": [
    "!ped"
   ]
  },
  {
   "cell_type": "code",
   "execution_count": 18,
   "metadata": {},
   "outputs": [
    {
     "name": "stdout",
     "output_type": "stream",
     "text": [
      "/Users/jihye\r\n"
     ]
    }
   ],
   "source": [
    "!pwd"
   ]
  },
  {
   "cell_type": "code",
   "execution_count": null,
   "metadata": {
    "collapsed": true
   },
   "outputs": [],
   "source": []
  }
 ],
 "metadata": {
  "kernelspec": {
   "display_name": "Python 3",
   "language": "python",
   "name": "python3"
  },
  "language_info": {
   "codemirror_mode": {
    "name": "ipython",
    "version": 3
   },
   "file_extension": ".py",
   "mimetype": "text/x-python",
   "name": "python",
   "nbconvert_exporter": "python",
   "pygments_lexer": "ipython3",
   "version": "3.6.1"
  }
 },
 "nbformat": 4,
 "nbformat_minor": 2
}
