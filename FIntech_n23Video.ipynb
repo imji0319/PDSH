{
  "nbformat": 4,
  "nbformat_minor": 0,
  "metadata": {
    "colab": {
      "name": "FIntech_n23Video.ipynb",
      "provenance": [],
      "collapsed_sections": [],
      "authorship_tag": "ABX9TyMiRKJqpmmNjeRjL0x0Vm2R",
      "include_colab_link": true
    },
    "kernelspec": {
      "name": "python3",
      "display_name": "Python 3"
    },
    "accelerator": "TPU"
  },
  "cells": [
    {
      "cell_type": "markdown",
      "metadata": {
        "id": "view-in-github",
        "colab_type": "text"
      },
      "source": [
        "<a href=\"https://colab.research.google.com/github/imji0319/PDSH/blob/master/FIntech_n23Video.ipynb\" target=\"_parent\"><img src=\"https://colab.research.google.com/assets/colab-badge.svg\" alt=\"Open In Colab\"/></a>"
      ]
    },
    {
      "cell_type": "markdown",
      "metadata": {
        "id": "rSlIaSj2mLXL",
        "colab_type": "text"
      },
      "source": [
        "# \"머신러닝을 활용한 트레이딩 모델 개발\""
      ]
    },
    {
      "cell_type": "markdown",
      "metadata": {
        "id": "kDfpr-8WoTWq",
        "colab_type": "text"
      },
      "source": [
        "### 코랩에 기술적 분석을 위한 talib + FinanceDataReader 설치 "
      ]
    },
    {
      "cell_type": "code",
      "metadata": {
        "id": "jAIQ-rEjnK3H",
        "colab_type": "code",
        "colab": {
          "base_uri": "https://localhost:8080/"
        },
        "outputId": "03b5e4c1-2b69-40e1-9596-38ccaffd88d9"
      },
      "source": [
        "!wget https://launchpad.net/~mario-mariomedina/+archive/ubuntu/talib/+files/libta-lib0_0.4.0-oneiric1_amd64.deb -qO libta.deb\n",
        "!wget https://launchpad.net/~mario-mariomedina/+archive/ubuntu/talib/+files/ta-lib0-dev_0.4.0-oneiric1_amd64.deb -qO ta.deb\n",
        "!dpkg -i libta.deb ta.deb\n",
        "!pip install ta-lib\n",
        "import talib"
      ],
      "execution_count": 2,
      "outputs": [
        {
          "output_type": "stream",
          "text": [
            "Selecting previously unselected package libta-lib0.\n",
            "(Reading database ... \r(Reading database ... 5%\r(Reading database ... 10%\r(Reading database ... 15%\r(Reading database ... 20%\r(Reading database ... 25%\r(Reading database ... 30%\r(Reading database ... 35%\r(Reading database ... 40%\r(Reading database ... 45%\r(Reading database ... 50%\r(Reading database ... 55%\r(Reading database ... 60%\r(Reading database ... 65%\r(Reading database ... 70%\r(Reading database ... 75%\r(Reading database ... 80%\r(Reading database ... 85%\r(Reading database ... 90%\r(Reading database ... 95%\r(Reading database ... 100%\r(Reading database ... 144465 files and directories currently installed.)\n",
            "Preparing to unpack libta.deb ...\n",
            "Unpacking libta-lib0 (0.4.0-oneiric1) ...\n",
            "Selecting previously unselected package ta-lib0-dev.\n",
            "Preparing to unpack ta.deb ...\n",
            "Unpacking ta-lib0-dev (0.4.0-oneiric1) ...\n",
            "Setting up libta-lib0 (0.4.0-oneiric1) ...\n",
            "Setting up ta-lib0-dev (0.4.0-oneiric1) ...\n",
            "Processing triggers for man-db (2.8.3-2ubuntu0.1) ...\n",
            "Processing triggers for libc-bin (2.27-3ubuntu1) ...\n",
            "/sbin/ldconfig.real: /usr/local/lib/python3.6/dist-packages/ideep4py/lib/libmkldnn.so.0 is not a symbolic link\n",
            "\n",
            "Collecting ta-lib\n",
            "\u001b[?25l  Downloading https://files.pythonhosted.org/packages/d7/15/ebf1a6ebcf7580dc53e342979c7425affc38ef272bc10a7f4565ee87b394/TA-Lib-0.4.18.tar.gz (265kB)\n",
            "\u001b[K     |████████████████████████████████| 266kB 3.5MB/s \n",
            "\u001b[?25hRequirement already satisfied: numpy in /usr/local/lib/python3.6/dist-packages (from ta-lib) (1.18.5)\n",
            "Building wheels for collected packages: ta-lib\n",
            "  Building wheel for ta-lib (setup.py) ... \u001b[?25l\u001b[?25hdone\n",
            "  Created wheel for ta-lib: filename=TA_Lib-0.4.18-cp36-cp36m-linux_x86_64.whl size=1531828 sha256=c87774d280eb8b3fcb06823112eb341b146e3edf625ff82ebda508a5819b49a6\n",
            "  Stored in directory: /root/.cache/pip/wheels/11/cc/88/20dc42c28a07efb297dad4303948ef6dd4a3c7257553db8f09\n",
            "Successfully built ta-lib\n",
            "Installing collected packages: ta-lib\n",
            "Successfully installed ta-lib-0.4.18\n"
          ],
          "name": "stdout"
        }
      ]
    },
    {
      "cell_type": "code",
      "metadata": {
        "id": "yhQMO-pZpRfN",
        "colab_type": "code",
        "colab": {}
      },
      "source": [
        "!pip -q install finance-datareader"
      ],
      "execution_count": 3,
      "outputs": []
    },
    {
      "cell_type": "markdown",
      "metadata": {
        "id": "p_XflCxonsuW",
        "colab_type": "text"
      },
      "source": [
        "## talib Package Example"
      ]
    },
    {
      "cell_type": "code",
      "metadata": {
        "id": "-Canqjw7l8G9",
        "colab_type": "code",
        "colab": {}
      },
      "source": [
        "import numpy as np\n",
        "import pandas as pd\n",
        "import talib as ta\n",
        "import FinanceDataReader as fdr\n",
        "import matplotlib.pyplot as plt"
      ],
      "execution_count": 4,
      "outputs": []
    },
    {
      "cell_type": "markdown",
      "metadata": {
        "id": "CyWJwGZ-pg3I",
        "colab_type": "text"
      },
      "source": [
        "FinanceDataReader 를 이용하면 주가 데이터를 쉽게 가지고 올 수 있음.  \n",
        "기본 주가 데이터와 함께 Change = 주가수익률 데이터 수집할 수 있음. "
      ]
    },
    {
      "cell_type": "code",
      "metadata": {
        "id": "uOD0FocaolWE",
        "colab_type": "code",
        "colab": {
          "base_uri": "https://localhost:8080/",
          "height": 450
        },
        "outputId": "33497896-4c4e-419d-c755-99a80d654abe"
      },
      "source": [
        "Df = fdr.DataReader('005930', '2017')\n",
        "Df"
      ],
      "execution_count": 9,
      "outputs": [
        {
          "output_type": "execute_result",
          "data": {
            "text/html": [
              "<div>\n",
              "<style scoped>\n",
              "    .dataframe tbody tr th:only-of-type {\n",
              "        vertical-align: middle;\n",
              "    }\n",
              "\n",
              "    .dataframe tbody tr th {\n",
              "        vertical-align: top;\n",
              "    }\n",
              "\n",
              "    .dataframe thead th {\n",
              "        text-align: right;\n",
              "    }\n",
              "</style>\n",
              "<table border=\"1\" class=\"dataframe\">\n",
              "  <thead>\n",
              "    <tr style=\"text-align: right;\">\n",
              "      <th></th>\n",
              "      <th>Open</th>\n",
              "      <th>High</th>\n",
              "      <th>Low</th>\n",
              "      <th>Close</th>\n",
              "      <th>Volume</th>\n",
              "      <th>Change</th>\n",
              "    </tr>\n",
              "    <tr>\n",
              "      <th>Date</th>\n",
              "      <th></th>\n",
              "      <th></th>\n",
              "      <th></th>\n",
              "      <th></th>\n",
              "      <th></th>\n",
              "      <th></th>\n",
              "    </tr>\n",
              "  </thead>\n",
              "  <tbody>\n",
              "    <tr>\n",
              "      <th>2017-01-02</th>\n",
              "      <td>35980</td>\n",
              "      <td>36240</td>\n",
              "      <td>35880</td>\n",
              "      <td>36100</td>\n",
              "      <td>93012</td>\n",
              "      <td>0.001665</td>\n",
              "    </tr>\n",
              "    <tr>\n",
              "      <th>2017-01-03</th>\n",
              "      <td>36280</td>\n",
              "      <td>36620</td>\n",
              "      <td>36020</td>\n",
              "      <td>36480</td>\n",
              "      <td>147153</td>\n",
              "      <td>0.010526</td>\n",
              "    </tr>\n",
              "    <tr>\n",
              "      <th>2017-01-04</th>\n",
              "      <td>36500</td>\n",
              "      <td>36520</td>\n",
              "      <td>36100</td>\n",
              "      <td>36160</td>\n",
              "      <td>159435</td>\n",
              "      <td>-0.008772</td>\n",
              "    </tr>\n",
              "    <tr>\n",
              "      <th>2017-01-05</th>\n",
              "      <td>36060</td>\n",
              "      <td>36060</td>\n",
              "      <td>35540</td>\n",
              "      <td>35560</td>\n",
              "      <td>219349</td>\n",
              "      <td>-0.016593</td>\n",
              "    </tr>\n",
              "    <tr>\n",
              "      <th>2017-01-06</th>\n",
              "      <td>36180</td>\n",
              "      <td>36440</td>\n",
              "      <td>36040</td>\n",
              "      <td>36200</td>\n",
              "      <td>177619</td>\n",
              "      <td>0.017998</td>\n",
              "    </tr>\n",
              "    <tr>\n",
              "      <th>...</th>\n",
              "      <td>...</td>\n",
              "      <td>...</td>\n",
              "      <td>...</td>\n",
              "      <td>...</td>\n",
              "      <td>...</td>\n",
              "      <td>...</td>\n",
              "    </tr>\n",
              "    <tr>\n",
              "      <th>2020-07-22</th>\n",
              "      <td>55300</td>\n",
              "      <td>55500</td>\n",
              "      <td>54700</td>\n",
              "      <td>54700</td>\n",
              "      <td>12885057</td>\n",
              "      <td>-0.010850</td>\n",
              "    </tr>\n",
              "    <tr>\n",
              "      <th>2020-07-23</th>\n",
              "      <td>54700</td>\n",
              "      <td>54700</td>\n",
              "      <td>53800</td>\n",
              "      <td>54100</td>\n",
              "      <td>16214932</td>\n",
              "      <td>-0.010969</td>\n",
              "    </tr>\n",
              "    <tr>\n",
              "      <th>2020-07-24</th>\n",
              "      <td>54000</td>\n",
              "      <td>54400</td>\n",
              "      <td>53700</td>\n",
              "      <td>54200</td>\n",
              "      <td>10994535</td>\n",
              "      <td>0.001848</td>\n",
              "    </tr>\n",
              "    <tr>\n",
              "      <th>2020-07-27</th>\n",
              "      <td>54300</td>\n",
              "      <td>55700</td>\n",
              "      <td>54300</td>\n",
              "      <td>55600</td>\n",
              "      <td>21054421</td>\n",
              "      <td>0.025830</td>\n",
              "    </tr>\n",
              "    <tr>\n",
              "      <th>2020-07-28</th>\n",
              "      <td>57000</td>\n",
              "      <td>58800</td>\n",
              "      <td>56400</td>\n",
              "      <td>58600</td>\n",
              "      <td>48017391</td>\n",
              "      <td>0.053957</td>\n",
              "    </tr>\n",
              "  </tbody>\n",
              "</table>\n",
              "<p>876 rows × 6 columns</p>\n",
              "</div>"
            ],
            "text/plain": [
              "             Open   High    Low  Close    Volume    Change\n",
              "Date                                                      \n",
              "2017-01-02  35980  36240  35880  36100     93012  0.001665\n",
              "2017-01-03  36280  36620  36020  36480    147153  0.010526\n",
              "2017-01-04  36500  36520  36100  36160    159435 -0.008772\n",
              "2017-01-05  36060  36060  35540  35560    219349 -0.016593\n",
              "2017-01-06  36180  36440  36040  36200    177619  0.017998\n",
              "...           ...    ...    ...    ...       ...       ...\n",
              "2020-07-22  55300  55500  54700  54700  12885057 -0.010850\n",
              "2020-07-23  54700  54700  53800  54100  16214932 -0.010969\n",
              "2020-07-24  54000  54400  53700  54200  10994535  0.001848\n",
              "2020-07-27  54300  55700  54300  55600  21054421  0.025830\n",
              "2020-07-28  57000  58800  56400  58600  48017391  0.053957\n",
              "\n",
              "[876 rows x 6 columns]"
            ]
          },
          "metadata": {
            "tags": []
          },
          "execution_count": 9
        }
      ]
    },
    {
      "cell_type": "code",
      "metadata": {
        "id": "XlFYJpK8o5he",
        "colab_type": "code",
        "colab": {
          "base_uri": "https://localhost:8080/",
          "height": 252
        },
        "outputId": "3e1893be-6862-46b9-efc6-6cd0693e6ca6"
      },
      "source": [
        "Df = fdr.DataReader('AAPL', '2017-01-01', '2018-01-01')\n",
        "print(Df.shape)\n",
        "Df.head()"
      ],
      "execution_count": 10,
      "outputs": [
        {
          "output_type": "stream",
          "text": [
            "(251, 6)\n"
          ],
          "name": "stdout"
        },
        {
          "output_type": "execute_result",
          "data": {
            "text/html": [
              "<div>\n",
              "<style scoped>\n",
              "    .dataframe tbody tr th:only-of-type {\n",
              "        vertical-align: middle;\n",
              "    }\n",
              "\n",
              "    .dataframe tbody tr th {\n",
              "        vertical-align: top;\n",
              "    }\n",
              "\n",
              "    .dataframe thead th {\n",
              "        text-align: right;\n",
              "    }\n",
              "</style>\n",
              "<table border=\"1\" class=\"dataframe\">\n",
              "  <thead>\n",
              "    <tr style=\"text-align: right;\">\n",
              "      <th></th>\n",
              "      <th>Close</th>\n",
              "      <th>Open</th>\n",
              "      <th>High</th>\n",
              "      <th>Low</th>\n",
              "      <th>Volume</th>\n",
              "      <th>Change</th>\n",
              "    </tr>\n",
              "    <tr>\n",
              "      <th>Date</th>\n",
              "      <th></th>\n",
              "      <th></th>\n",
              "      <th></th>\n",
              "      <th></th>\n",
              "      <th></th>\n",
              "      <th></th>\n",
              "    </tr>\n",
              "  </thead>\n",
              "  <tbody>\n",
              "    <tr>\n",
              "      <th>2017-01-03</th>\n",
              "      <td>116.15</td>\n",
              "      <td>115.80</td>\n",
              "      <td>116.33</td>\n",
              "      <td>114.76</td>\n",
              "      <td>28780000.0</td>\n",
              "      <td>0.0028</td>\n",
              "    </tr>\n",
              "    <tr>\n",
              "      <th>2017-01-04</th>\n",
              "      <td>116.02</td>\n",
              "      <td>115.85</td>\n",
              "      <td>116.51</td>\n",
              "      <td>115.75</td>\n",
              "      <td>21120000.0</td>\n",
              "      <td>-0.0011</td>\n",
              "    </tr>\n",
              "    <tr>\n",
              "      <th>2017-01-05</th>\n",
              "      <td>116.61</td>\n",
              "      <td>115.92</td>\n",
              "      <td>116.86</td>\n",
              "      <td>115.81</td>\n",
              "      <td>22190000.0</td>\n",
              "      <td>0.0051</td>\n",
              "    </tr>\n",
              "    <tr>\n",
              "      <th>2017-01-06</th>\n",
              "      <td>117.91</td>\n",
              "      <td>116.78</td>\n",
              "      <td>118.16</td>\n",
              "      <td>116.47</td>\n",
              "      <td>31750000.0</td>\n",
              "      <td>0.0111</td>\n",
              "    </tr>\n",
              "    <tr>\n",
              "      <th>2017-01-09</th>\n",
              "      <td>118.99</td>\n",
              "      <td>117.95</td>\n",
              "      <td>119.43</td>\n",
              "      <td>117.94</td>\n",
              "      <td>33560000.0</td>\n",
              "      <td>0.0092</td>\n",
              "    </tr>\n",
              "  </tbody>\n",
              "</table>\n",
              "</div>"
            ],
            "text/plain": [
              "             Close    Open    High     Low      Volume  Change\n",
              "Date                                                          \n",
              "2017-01-03  116.15  115.80  116.33  114.76  28780000.0  0.0028\n",
              "2017-01-04  116.02  115.85  116.51  115.75  21120000.0 -0.0011\n",
              "2017-01-05  116.61  115.92  116.86  115.81  22190000.0  0.0051\n",
              "2017-01-06  117.91  116.78  118.16  116.47  31750000.0  0.0111\n",
              "2017-01-09  118.99  117.95  119.43  117.94  33560000.0  0.0092"
            ]
          },
          "metadata": {
            "tags": []
          },
          "execution_count": 10
        }
      ]
    },
    {
      "cell_type": "markdown",
      "metadata": {
        "id": "Z3lnBCydq4YI",
        "colab_type": "text"
      },
      "source": [
        "#### 이동평균"
      ]
    },
    {
      "cell_type": "code",
      "metadata": {
        "id": "_YiNRiCkqBNc",
        "colab_type": "code",
        "colab": {
          "base_uri": "https://localhost:8080/",
          "height": 34
        },
        "outputId": "0f56a0b8-c51e-4a5e-d033-f24b0452a974"
      },
      "source": [
        "%timeit pd_MA = Df['Close'].rolling(window=5).mean(). #Pandas 활용"
      ],
      "execution_count": 12,
      "outputs": [
        {
          "output_type": "stream",
          "text": [
            "1000 loops, best of 3: 477 µs per loop\n"
          ],
          "name": "stdout"
        }
      ]
    },
    {
      "cell_type": "code",
      "metadata": {
        "id": "vyPNe93Tqfwg",
        "colab_type": "code",
        "colab": {
          "base_uri": "https://localhost:8080/",
          "height": 51
        },
        "outputId": "49d05cc1-85c4-4c3b-d97e-0f4a6c179f0f"
      },
      "source": [
        "%timeit Ta_MA = ta.MA(Df['Close'], timeperiod = 5 )   #talib 활용 -> pandas에 비해 속도가 빠름"
      ],
      "execution_count": 13,
      "outputs": [
        {
          "output_type": "stream",
          "text": [
            "The slowest run took 7.80 times longer than the fastest. This could mean that an intermediate result is being cached.\n",
            "10000 loops, best of 3: 66.4 µs per loop\n"
          ],
          "name": "stdout"
        }
      ]
    },
    {
      "cell_type": "markdown",
      "metadata": {
        "id": "9sFsDno5svxs",
        "colab_type": "text"
      },
      "source": [
        "### 볼린저밴드 그래프 그리기\n",
        "\n",
        "`ta.BBANDS()` 를 활용하여 upper, middle, lower 값을 쉽게 구할 수 있음.  \n",
        "중심선 middle : 이동평균   \n",
        "상단선 upper : 이동평균 + 표준편차 * 2   \n",
        "하단선 lower : 이동평균 - 표준편차 * 2  \n",
        "\n",
        "[볼린저밴드](https://namu.wiki/w/볼린저%20밴드)\n"
      ]
    },
    {
      "cell_type": "code",
      "metadata": {
        "id": "mikhdUlZqyLl",
        "colab_type": "code",
        "colab": {}
      },
      "source": [
        "upper, middle, lower = ta.BBANDS(Df['Close'], \n",
        "                                 timeperiod = 10, #2주 가정 -> 10 Days\n",
        "                                 nbdevup = 2,     # +2 표준편차\n",
        "                                 nbdevdn = 2)     # -2 표준편차"
      ],
      "execution_count": 17,
      "outputs": []
    },
    {
      "cell_type": "code",
      "metadata": {
        "id": "qm-hjsKrrmSK",
        "colab_type": "code",
        "colab": {
          "base_uri": "https://localhost:8080/",
          "height": 320
        },
        "outputId": "2d4f9f3b-ce97-41ca-d847-a57f2931c5b6"
      },
      "source": [
        "plt.figure(figsize = (10, 5))\n",
        "plt.plot(Df['Close'], 'r-')\n",
        "plt.plot(middle, 'b-')\n",
        "plt.fill_between(Df.index, lower, upper, alpha=0.5)\n",
        "plt.show()"
      ],
      "execution_count": 18,
      "outputs": [
        {
          "output_type": "display_data",
          "data": {
            "image/png": "[encoded data removed]",
            "text/plain": [
              "<Figure size 720x360 with 1 Axes>"
            ]
          },
          "metadata": {
            "tags": [],
            "needs_background": "light"
          }
        }
      ]
    },
    {
      "cell_type": "markdown",
      "metadata": {
        "id": "YL6Mn7CLuPbZ",
        "colab_type": "text"
      },
      "source": [
        "## GLD 골드 ETF example"
      ]
    },
    {
      "cell_type": "code",
      "metadata": {
        "id": "1hwgIX8ksagT",
        "colab_type": "code",
        "colab": {
          "base_uri": "https://localhost:8080/",
          "height": 252
        },
        "outputId": "1dcdc9b5-7ca9-4356-dc40-cf78e4edb2ee"
      },
      "source": [
        "Df = fdr.DataReader('GLD', '2015-01-01', \n",
        "                    '2018-01-01')\n",
        "print(Df.shape)\n",
        "Df.head()"
      ],
      "execution_count": 50,
      "outputs": [
        {
          "output_type": "stream",
          "text": [
            "(755, 6)\n"
          ],
          "name": "stdout"
        },
        {
          "output_type": "execute_result",
          "data": {
            "text/html": [
              "<div>\n",
              "<style scoped>\n",
              "    .dataframe tbody tr th:only-of-type {\n",
              "        vertical-align: middle;\n",
              "    }\n",
              "\n",
              "    .dataframe tbody tr th {\n",
              "        vertical-align: top;\n",
              "    }\n",
              "\n",
              "    .dataframe thead th {\n",
              "        text-align: right;\n",
              "    }\n",
              "</style>\n",
              "<table border=\"1\" class=\"dataframe\">\n",
              "  <thead>\n",
              "    <tr style=\"text-align: right;\">\n",
              "      <th></th>\n",
              "      <th>Close</th>\n",
              "      <th>Open</th>\n",
              "      <th>High</th>\n",
              "      <th>Low</th>\n",
              "      <th>Volume</th>\n",
              "      <th>Change</th>\n",
              "    </tr>\n",
              "    <tr>\n",
              "      <th>Date</th>\n",
              "      <th></th>\n",
              "      <th></th>\n",
              "      <th></th>\n",
              "      <th></th>\n",
              "      <th></th>\n",
              "      <th></th>\n",
              "    </tr>\n",
              "  </thead>\n",
              "  <tbody>\n",
              "    <tr>\n",
              "      <th>2015-01-02</th>\n",
              "      <td>114.08</td>\n",
              "      <td>112.49</td>\n",
              "      <td>114.80</td>\n",
              "      <td>112.32</td>\n",
              "      <td>7110000.0</td>\n",
              "      <td>0.0044</td>\n",
              "    </tr>\n",
              "    <tr>\n",
              "      <th>2015-01-05</th>\n",
              "      <td>115.80</td>\n",
              "      <td>114.78</td>\n",
              "      <td>116.00</td>\n",
              "      <td>114.73</td>\n",
              "      <td>8180000.0</td>\n",
              "      <td>0.0151</td>\n",
              "    </tr>\n",
              "    <tr>\n",
              "      <th>2015-01-06</th>\n",
              "      <td>117.12</td>\n",
              "      <td>116.22</td>\n",
              "      <td>117.50</td>\n",
              "      <td>115.80</td>\n",
              "      <td>11240000.0</td>\n",
              "      <td>0.0114</td>\n",
              "    </tr>\n",
              "    <tr>\n",
              "      <th>2015-01-07</th>\n",
              "      <td>116.43</td>\n",
              "      <td>116.47</td>\n",
              "      <td>116.88</td>\n",
              "      <td>116.17</td>\n",
              "      <td>6430000.0</td>\n",
              "      <td>-0.0059</td>\n",
              "    </tr>\n",
              "    <tr>\n",
              "      <th>2015-01-08</th>\n",
              "      <td>115.94</td>\n",
              "      <td>116.45</td>\n",
              "      <td>116.87</td>\n",
              "      <td>115.85</td>\n",
              "      <td>7030000.0</td>\n",
              "      <td>-0.0042</td>\n",
              "    </tr>\n",
              "  </tbody>\n",
              "</table>\n",
              "</div>"
            ],
            "text/plain": [
              "             Close    Open    High     Low      Volume  Change\n",
              "Date                                                          \n",
              "2015-01-02  114.08  112.49  114.80  112.32   7110000.0  0.0044\n",
              "2015-01-05  115.80  114.78  116.00  114.73   8180000.0  0.0151\n",
              "2015-01-06  117.12  116.22  117.50  115.80  11240000.0  0.0114\n",
              "2015-01-07  116.43  116.47  116.88  116.17   6430000.0 -0.0059\n",
              "2015-01-08  115.94  116.45  116.87  115.85   7030000.0 -0.0042"
            ]
          },
          "metadata": {
            "tags": []
          },
          "execution_count": 50
        }
      ]
    },
    {
      "cell_type": "code",
      "metadata": {
        "id": "sZeUyfsIuf9W",
        "colab_type": "code",
        "colab": {
          "base_uri": "https://localhost:8080/",
          "height": 294
        },
        "outputId": "a86db278-5288-4561-e288-152e5870fc0f"
      },
      "source": [
        "Df['Close'].plot()"
      ],
      "execution_count": 22,
      "outputs": [
        {
          "output_type": "execute_result",
          "data": {
            "text/plain": [
              "<matplotlib.axes._subplots.AxesSubplot at 0x7f5f53e7f908>"
            ]
          },
          "metadata": {
            "tags": []
          },
          "execution_count": 22
        },
        {
          "output_type": "display_data",
          "data": {
            "image/png": "[encoded data removed]",
            "text/plain": [
              "<Figure size 432x288 with 1 Axes>"
            ]
          },
          "metadata": {
            "tags": [],
            "needs_background": "light"
          }
        }
      ]
    },
    {
      "cell_type": "markdown",
      "metadata": {
        "id": "uKrtN7DJvoUb",
        "colab_type": "text"
      },
      "source": [
        "### SVM(Soft Vector Machine) model 과 RandomForest **model**"
      ]
    },
    {
      "cell_type": "code",
      "metadata": {
        "id": "rAE-FAMcu99t",
        "colab_type": "code",
        "colab": {}
      },
      "source": [
        "from sklearn.svm import SVC\n",
        "from sklearn.preprocessing import StandardScaler\n",
        "from sklearn.model_selection import RandomizedSearchCV, GridSearchCV"
      ],
      "execution_count": 44,
      "outputs": []
    },
    {
      "cell_type": "code",
      "metadata": {
        "id": "pIcFEEFlwRPQ",
        "colab_type": "code",
        "colab": {}
      },
      "source": [
        "n=10  # 2주 기간\n",
        "\n",
        "Df['RSI'] = ta.RSI( Df['Close'].shift(1), timeperiod=n)\n",
        "Df['SMA'] = ta.MA(Df['Close'].shift(1), \n",
        "                   timeperiod= n )\n",
        "Df['ADX'] = ta.ADX(Df['High'].shift(1), \n",
        "                   Df['Low'].shift(1),\n",
        "                   Df['Close'].shift(1),\n",
        "                   timeperiod= n )\n",
        "Df['SAR'] = ta.SAR(Df['High'].shift(1), \n",
        "                   Df['Low'].shift(1),\n",
        "                   0.02, 0.2)\n",
        "\n",
        "Df['OO'] = Df['Open'] - Df['Open'].shift(1)\n",
        "Df['OC'] = Df['Open'] - Df['Close'].shift(1)"
      ],
      "execution_count": 51,
      "outputs": []
    },
    {
      "cell_type": "markdown",
      "metadata": {
        "id": "5RMpsH120JzL",
        "colab_type": "text"
      },
      "source": [
        "* [RSI](https://ko.wikipedia.org/wiki/RSI_(투자지표)) : Relative Strength Index : 가격의 상승압력과 하락압력 간의 상대적인 강도\n",
        "* [SMA](https://medium.com/@igniter.yoo/기술적-분석의-기초-basics-of-technical-analysis-10-이동-평균-46b0d8ddf576) : Simple Moving Average : 단순이동평균, 모든 종가를 더해 총일로 나눈 값 \n",
        "* [ADX](http://blog.naver.com/PostView.nhn?blogId=liebeljd&logNo=60107680352&parentCategoryNo=&categoryNo=273&viewDate=&isShowPopularPosts=true&from=search) : Average directional movement index : 평균 방향 지수, 추세의 강도를 보여줌 \n",
        "* [SAR](https://academy.binance.com/ko/economics/a-brief-guide-to-the-parabolic-sar-indicator) : Stop and Reverse Index : 파라볼릭 SAR, 시장 추세와 잠재적 전환 시점을 파악하기 위해 사용되는 지표 "
      ]
    },
    {
      "cell_type": "code",
      "metadata": {
        "id": "Uf7d8P0_xZXE",
        "colab_type": "code",
        "colab": {}
      },
      "source": [
        "split = int(0.8 * len(Df))\n",
        "\n",
        "Df['Ret'] = np.log(Df['Close'].shift(-5)/Df['Close']) # Return : 향후 5일 뒤의 로그 수익률 \n",
        "Df['Signal'] = 0\n",
        "Df.loc[Df['Ret'] > Df['Ret'][:split].quantile(0.66),\n",
        "       'Signal'] = 1\n",
        "Df.loc[Df['Ret'] < Df['Ret'][:split].quantile(0.33),\n",
        "       'Signal'] = -1\n",
        "       "
      ],
      "execution_count": 52,
      "outputs": []
    },
    {
      "cell_type": "code",
      "metadata": {
        "id": "Y0kM-rfWvMRf",
        "colab_type": "code",
        "colab": {
          "base_uri": "https://localhost:8080/",
          "height": 235
        },
        "outputId": "3c9b55c7-4c5f-44f6-d456-e375bc61ba53"
      },
      "source": [
        "Df.head()"
      ],
      "execution_count": 53,
      "outputs": [
        {
          "output_type": "execute_result",
          "data": {
            "text/html": [
              "<div>\n",
              "<style scoped>\n",
              "    .dataframe tbody tr th:only-of-type {\n",
              "        vertical-align: middle;\n",
              "    }\n",
              "\n",
              "    .dataframe tbody tr th {\n",
              "        vertical-align: top;\n",
              "    }\n",
              "\n",
              "    .dataframe thead th {\n",
              "        text-align: right;\n",
              "    }\n",
              "</style>\n",
              "<table border=\"1\" class=\"dataframe\">\n",
              "  <thead>\n",
              "    <tr style=\"text-align: right;\">\n",
              "      <th></th>\n",
              "      <th>Close</th>\n",
              "      <th>Open</th>\n",
              "      <th>High</th>\n",
              "      <th>Low</th>\n",
              "      <th>Volume</th>\n",
              "      <th>Change</th>\n",
              "      <th>RSI</th>\n",
              "      <th>SMA</th>\n",
              "      <th>ADX</th>\n",
              "      <th>SAR</th>\n",
              "      <th>OO</th>\n",
              "      <th>OC</th>\n",
              "      <th>Ret</th>\n",
              "      <th>Signal</th>\n",
              "    </tr>\n",
              "    <tr>\n",
              "      <th>Date</th>\n",
              "      <th></th>\n",
              "      <th></th>\n",
              "      <th></th>\n",
              "      <th></th>\n",
              "      <th></th>\n",
              "      <th></th>\n",
              "      <th></th>\n",
              "      <th></th>\n",
              "      <th></th>\n",
              "      <th></th>\n",
              "      <th></th>\n",
              "      <th></th>\n",
              "      <th></th>\n",
              "      <th></th>\n",
              "    </tr>\n",
              "  </thead>\n",
              "  <tbody>\n",
              "    <tr>\n",
              "      <th>2015-01-02</th>\n",
              "      <td>114.08</td>\n",
              "      <td>112.49</td>\n",
              "      <td>114.80</td>\n",
              "      <td>112.32</td>\n",
              "      <td>7110000.0</td>\n",
              "      <td>0.0044</td>\n",
              "      <td>NaN</td>\n",
              "      <td>NaN</td>\n",
              "      <td>NaN</td>\n",
              "      <td>NaN</td>\n",
              "      <td>NaN</td>\n",
              "      <td>NaN</td>\n",
              "      <td>0.027494</td>\n",
              "      <td>1</td>\n",
              "    </tr>\n",
              "    <tr>\n",
              "      <th>2015-01-05</th>\n",
              "      <td>115.80</td>\n",
              "      <td>114.78</td>\n",
              "      <td>116.00</td>\n",
              "      <td>114.73</td>\n",
              "      <td>8180000.0</td>\n",
              "      <td>0.0151</td>\n",
              "      <td>NaN</td>\n",
              "      <td>NaN</td>\n",
              "      <td>NaN</td>\n",
              "      <td>NaN</td>\n",
              "      <td>2.29</td>\n",
              "      <td>0.70</td>\n",
              "      <td>0.023555</td>\n",
              "      <td>1</td>\n",
              "    </tr>\n",
              "    <tr>\n",
              "      <th>2015-01-06</th>\n",
              "      <td>117.12</td>\n",
              "      <td>116.22</td>\n",
              "      <td>117.50</td>\n",
              "      <td>115.80</td>\n",
              "      <td>11240000.0</td>\n",
              "      <td>0.0114</td>\n",
              "      <td>NaN</td>\n",
              "      <td>NaN</td>\n",
              "      <td>NaN</td>\n",
              "      <td>112.320000</td>\n",
              "      <td>1.44</td>\n",
              "      <td>0.42</td>\n",
              "      <td>0.008841</td>\n",
              "      <td>1</td>\n",
              "    </tr>\n",
              "    <tr>\n",
              "      <th>2015-01-07</th>\n",
              "      <td>116.43</td>\n",
              "      <td>116.47</td>\n",
              "      <td>116.88</td>\n",
              "      <td>116.17</td>\n",
              "      <td>6430000.0</td>\n",
              "      <td>-0.0059</td>\n",
              "      <td>NaN</td>\n",
              "      <td>NaN</td>\n",
              "      <td>NaN</td>\n",
              "      <td>112.393600</td>\n",
              "      <td>0.25</td>\n",
              "      <td>-0.65</td>\n",
              "      <td>0.013140</td>\n",
              "      <td>1</td>\n",
              "    </tr>\n",
              "    <tr>\n",
              "      <th>2015-01-08</th>\n",
              "      <td>115.94</td>\n",
              "      <td>116.45</td>\n",
              "      <td>116.87</td>\n",
              "      <td>115.85</td>\n",
              "      <td>7030000.0</td>\n",
              "      <td>-0.0042</td>\n",
              "      <td>NaN</td>\n",
              "      <td>NaN</td>\n",
              "      <td>NaN</td>\n",
              "      <td>112.597856</td>\n",
              "      <td>-0.02</td>\n",
              "      <td>0.02</td>\n",
              "      <td>0.042222</td>\n",
              "      <td>1</td>\n",
              "    </tr>\n",
              "  </tbody>\n",
              "</table>\n",
              "</div>"
            ],
            "text/plain": [
              "             Close    Open    High     Low  ...    OO    OC       Ret  Signal\n",
              "Date                                        ...                              \n",
              "2015-01-02  114.08  112.49  114.80  112.32  ...   NaN   NaN  0.027494       1\n",
              "2015-01-05  115.80  114.78  116.00  114.73  ...  2.29  0.70  0.023555       1\n",
              "2015-01-06  117.12  116.22  117.50  115.80  ...  1.44  0.42  0.008841       1\n",
              "2015-01-07  116.43  116.47  116.88  116.17  ...  0.25 -0.65  0.013140       1\n",
              "2015-01-08  115.94  116.45  116.87  115.85  ... -0.02  0.02  0.042222       1\n",
              "\n",
              "[5 rows x 14 columns]"
            ]
          },
          "metadata": {
            "tags": []
          },
          "execution_count": 53
        }
      ]
    },
    {
      "cell_type": "markdown",
      "metadata": {
        "id": "6FzkMViBoai_",
        "colab_type": "text"
      },
      "source": [
        "로그수익률의 상위 2/3보다 크면 1을 주고 1/3보다 작으면 -1을 준다. "
      ]
    },
    {
      "cell_type": "markdown",
      "metadata": {
        "id": "GUxCgc205i8y",
        "colab_type": "text"
      },
      "source": [
        "[로그 수익률](https://insightcampus.co.kr/pt06/) : 금융 분야에서 주로 사용되는 수익률"
      ]
    },
    {
      "cell_type": "code",
      "metadata": {
        "id": "hK450TOD48bh",
        "colab_type": "code",
        "colab": {}
      },
      "source": [
        "Df = Df.dropna()\n",
        "X = Df.drop(['Open','High','Low','Close','Volume','Change','Ret','Signal'],\n",
        "            axis=1)\n",
        "y = Df['Signal']"
      ],
      "execution_count": 54,
      "outputs": []
    },
    {
      "cell_type": "code",
      "metadata": {
        "id": "RN1i7U6P5t3q",
        "colab_type": "code",
        "colab": {}
      },
      "source": [
        "X_train = X[:split]\n",
        "y_train = y[:split]\n",
        "\n",
        "X_test = X[split:]\n",
        "y_test = y[split:]"
      ],
      "execution_count": 55,
      "outputs": []
    },
    {
      "cell_type": "markdown",
      "metadata": {
        "id": "zN8-cu0dphWS",
        "colab_type": "text"
      },
      "source": [
        "#### 정규화\n",
        "\n",
        "각 Feature 들의 범위가 다양할 경우 모델 트레이닝 하는 게 어려움.   \n",
        "이를 해결하기 위해 \"정규화\" 처리"
      ]
    },
    {
      "cell_type": "code",
      "metadata": {
        "id": "3o_BrS-ZpMES",
        "colab_type": "code",
        "colab": {
          "base_uri": "https://localhost:8080/",
          "height": 34
        },
        "outputId": "21134b64-2d5f-43c6-fc34-ce3bebb337b4"
      },
      "source": [
        "scaler = StandardScaler()\n",
        "scaler.fit(X_train)"
      ],
      "execution_count": 56,
      "outputs": [
        {
          "output_type": "execute_result",
          "data": {
            "text/plain": [
              "StandardScaler(copy=True, with_mean=True, with_std=True)"
            ]
          },
          "metadata": {
            "tags": []
          },
          "execution_count": 56
        }
      ]
    },
    {
      "cell_type": "code",
      "metadata": {
        "id": "wywztIWnp1Du",
        "colab_type": "code",
        "colab": {}
      },
      "source": [
        "model = SVC()"
      ],
      "execution_count": 57,
      "outputs": []
    },
    {
      "cell_type": "markdown",
      "metadata": {
        "id": "E1ZDOAXbp-rf",
        "colab_type": "text"
      },
      "source": [
        "#### Soft Vector Machine\n",
        "\n",
        "SVC 모델은 다양한 hyper parameter 들이 존재.  \n",
        "파라메터들을 최적화하는 과정이 필요.  \n",
        "CloseVaildation"
      ]
    },
    {
      "cell_type": "code",
      "metadata": {
        "id": "36qn9-Qsp-Rk",
        "colab_type": "code",
        "colab": {
          "base_uri": "https://localhost:8080/",
          "height": 34
        },
        "outputId": "fa56cceb-aaf9-4da6-a293-c3b82efc6657"
      },
      "source": [
        "import warnings\n",
        "warnings.filterwarnings('ignore')\n",
        "\n",
        "params = {'C' : np.arange(1,30)}\n",
        "#rcv = RandomizedSearchCV(model, params, cv = 10)\n",
        "rcv = GridSearchCV(model, params, cv = 10 )\n",
        "rcv.fit(scaler.transform(X_train), y_train)\n",
        "rcv.best_params_['C']"
      ],
      "execution_count": 58,
      "outputs": [
        {
          "output_type": "execute_result",
          "data": {
            "text/plain": [
              "15"
            ]
          },
          "metadata": {
            "tags": []
          },
          "execution_count": 58
        }
      ]
    },
    {
      "cell_type": "markdown",
      "metadata": {
        "id": "CI7Sp9Azvq5s",
        "colab_type": "text"
      },
      "source": [
        "HyperParameter C 의 값은 15"
      ]
    },
    {
      "cell_type": "code",
      "metadata": {
        "id": "KJuT8rJmrMrA",
        "colab_type": "code",
        "colab": {}
      },
      "source": [
        "model = SVC(C=15)"
      ],
      "execution_count": 59,
      "outputs": []
    },
    {
      "cell_type": "code",
      "metadata": {
        "id": "B5xXIFxovxPg",
        "colab_type": "code",
        "colab": {
          "base_uri": "https://localhost:8080/",
          "height": 85
        },
        "outputId": "0a993706-5114-49c9-ca2a-111135376801"
      },
      "source": [
        "model.fit(scaler.transform(X_train), y_train)"
      ],
      "execution_count": 60,
      "outputs": [
        {
          "output_type": "execute_result",
          "data": {
            "text/plain": [
              "SVC(C=15, break_ties=False, cache_size=200, class_weight=None, coef0=0.0,\n",
              "    decision_function_shape='ovr', degree=3, gamma='scale', kernel='rbf',\n",
              "    max_iter=-1, probability=False, random_state=None, shrinking=True,\n",
              "    tol=0.001, verbose=False)"
            ]
          },
          "metadata": {
            "tags": []
          },
          "execution_count": 60
        }
      ]
    },
    {
      "cell_type": "code",
      "metadata": {
        "id": "xsxeO3Bpv6xH",
        "colab_type": "code",
        "colab": {}
      },
      "source": [
        "predict = model.predict(scaler.transform(X_test)) # 모델 예측"
      ],
      "execution_count": 61,
      "outputs": []
    },
    {
      "cell_type": "code",
      "metadata": {
        "id": "gf6oErq9wC3l",
        "colab_type": "code",
        "colab": {}
      },
      "source": [
        "Df['Signal'][split:] = predict"
      ],
      "execution_count": 62,
      "outputs": []
    },
    {
      "cell_type": "markdown",
      "metadata": {
        "id": "-Z4Y9AkAwuXO",
        "colab_type": "text"
      },
      "source": [
        "Trading Model의 경우 정확도 보다는 예측값을 바탕으로 수익 가능성에 대한 결과를 확인하는 것이 더 중요.  "
      ]
    },
    {
      "cell_type": "code",
      "metadata": {
        "id": "bviGml8WwN1C",
        "colab_type": "code",
        "colab": {}
      },
      "source": [
        "Df['Strategy_Return'] = Df.Signal * Df.Ret"
      ],
      "execution_count": 63,
      "outputs": []
    },
    {
      "cell_type": "code",
      "metadata": {
        "id": "BwseZqZNwcY9",
        "colab_type": "code",
        "colab": {}
      },
      "source": [
        "Df['GLD_Return'] = np.log(Df['Close'].shift(-1)/Df['Close'])"
      ],
      "execution_count": 66,
      "outputs": []
    },
    {
      "cell_type": "code",
      "metadata": {
        "id": "6j4P9o6zxXY5",
        "colab_type": "code",
        "colab": {
          "base_uri": "https://localhost:8080/",
          "height": 320
        },
        "outputId": "ad0668b4-c6f1-4ddd-d948-5aa8dc8037f2"
      },
      "source": [
        "plt.figure(figsize = (10,5))\n",
        "plt.plot(Df['Strategy_Return'][split:].cumsum(), label ='Strategy')\n",
        "plt.plot(Df['GLD_Return'][split:].cumsum(), label = 'GLD')\n",
        "plt.legend()\n",
        "plt.show()"
      ],
      "execution_count": 69,
      "outputs": [
        {
          "output_type": "display_data",
          "data": {
            "image/png": "[encoded data removed]",
            "text/plain": [
              "<Figure size 720x360 with 1 Axes>"
            ]
          },
          "metadata": {
            "tags": [],
            "needs_background": "light"
          }
        }
      ]
    },
    {
      "cell_type": "markdown",
      "metadata": {
        "id": "SkaPH-3aycOb",
        "colab_type": "text"
      },
      "source": [
        "주황색 선은 GLD의 로그수익률, 파란색 선은 전략에 의한 로그수익률.  \n",
        "전략에 의한 수익률이 최종적으로 높다는 것을 알 수 있음.  \n",
        "하지만 이 전략이 정말 유용한 전략인지는 매우 다양한 지표들을 통해 추가 확인이 필요함.  \n"
      ]
    },
    {
      "cell_type": "markdown",
      "metadata": {
        "id": "BVlzKYaYzPzm",
        "colab_type": "text"
      },
      "source": [
        "#### 통계량 함수"
      ]
    },
    {
      "cell_type": "code",
      "metadata": {
        "id": "xjSL_EOTySA5",
        "colab_type": "code",
        "colab": {}
      },
      "source": [
        "def get_stats(s, n = 252):\n",
        "    s = s.dropna()\n",
        "    win = len(s[s>0])\n",
        "    loss = len(s[s<0])\n",
        "    mean_win = round(s[s>0].mean(), 3)\n",
        "    mean_loss = round(s[s<0].mean(), 3)\n",
        "    max_loss = round(s.min(), 3)\n",
        "    Win_Ratio = round(win/len(s), 3)\n",
        "    PnL_Ratio = round(mean_win/abs(mean_loss), 3)\n",
        "    SR = round(s.mean()/ np.std(s)*np.sqrt(n), 3)\n",
        "\n",
        "    print('Trades : ', len(s),\n",
        "          '\\n Win : ', win,\n",
        "          '\\n Loss : ', loss,\n",
        "          '\\n WinRatio : ', Win_Ratio,\n",
        "          '\\n PnLRatio : ', PnL_Ratio,\n",
        "          '\\n SharpsRatio : ', SR,\n",
        "          '\\n MaxLoss : ', max_loss,)"
      ],
      "execution_count": 70,
      "outputs": []
    },
    {
      "cell_type": "code",
      "metadata": {
        "id": "sgpDrE8P0U-g",
        "colab_type": "code",
        "colab": {
          "base_uri": "https://localhost:8080/",
          "height": 136
        },
        "outputId": "9e21c20a-535d-4c61-a63d-8e9eee130f87"
      },
      "source": [
        "get_stats(Df.Strategy_Return[split:])"
      ],
      "execution_count": 71,
      "outputs": [
        {
          "output_type": "stream",
          "text": [
            "Trades :  126 \n",
            " Win :  55 \n",
            " Loss :  38 \n",
            " WinRatio :  0.437 \n",
            " PnLRatio :  1.083 \n",
            " SharpsRatio :  2.502 \n",
            " MaxLoss :  -0.03\n"
          ],
          "name": "stdout"
        }
      ]
    },
    {
      "cell_type": "code",
      "metadata": {
        "id": "kALT1urf1Lir",
        "colab_type": "code",
        "colab": {}
      },
      "source": [
        " "
      ],
      "execution_count": null,
      "outputs": []
    }
  ]
}