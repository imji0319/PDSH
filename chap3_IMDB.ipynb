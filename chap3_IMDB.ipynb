{
  "nbformat": 4,
  "nbformat_minor": 0,
  "metadata": {
    "colab": {
      "name": "chap3_IMDB.ipynb",
      "version": "0.3.2",
      "provenance": [],
      "collapsed_sections": [],
      "include_colab_link": true
    },
    "kernelspec": {
      "name": "python3",
      "display_name": "Python 3"
    }
  },
  "cells": [
    {
      "cell_type": "markdown",
      "metadata": {
        "id": "view-in-github",
        "colab_type": "text"
      },
      "source": [
        "<a href=\"https://colab.research.google.com/github/imji0319/PDSH/blob/master/chap3_IMDB.ipynb\" target=\"_parent\"><img src=\"https://colab.research.google.com/assets/colab-badge.svg\" alt=\"Open In Colab\"/></a>"
      ]
    },
    {
      "metadata": {
        "id": "HrPjCQRDICTs",
        "colab_type": "text"
      },
      "cell_type": "markdown",
      "source": [
        "#영화 리뷰 분류 : 이진 분류 예제\n",
        "IMDB Dataset : \n",
        "영화 리뷰중 양극단의 리뷰로 5만개로 이루어진 데이터셋\n",
        "\n",
        "train data : 25000\n",
        "\n",
        "test data : 25000\n",
        "\n",
        "50% : positive\n",
        "\n",
        "50% : negative \n",
        "\n"
      ]
    },
    {
      "metadata": {
        "id": "vIyTntXbs6qx",
        "colab_type": "code",
        "outputId": "567ca204-a4f2-4712-ce11-9eeb3f26d90a",
        "colab": {
          "base_uri": "https://localhost:8080/",
          "height": 85
        }
      },
      "cell_type": "code",
      "source": [
        "from keras.datasets import imdb\n",
        "\n",
        "(train_data, train_labels), (test_data, test_labels) = imdb.load_data(num_words =10000) \n",
        "#num_words =  N : 훈련 데이터에서 가장 자주 나타나는 단어 N개만 사용\n",
        "'''\n",
        "train_data, test_data : 리뷰의 목록, 각 리뷰는 단어 인덱스 리스트 \n",
        "train_labels, test_labels : 부정 0, 긍정 1 의 리스트 \n",
        "'''"
      ],
      "execution_count": 1,
      "outputs": [
        {
          "output_type": "stream",
          "text": [
            "Using TensorFlow backend.\n"
          ],
          "name": "stderr"
        },
        {
          "output_type": "stream",
          "text": [
            "Downloading data from https://s3.amazonaws.com/text-datasets/imdb.npz\n",
            "17465344/17464789 [==============================] - 0s 0us/step\n"
          ],
          "name": "stdout"
        },
        {
          "output_type": "execute_result",
          "data": {
            "text/plain": [
              "'\\ntrain_data, test_data : 리뷰의 목록, 각 리뷰는 단어 인덱스 리스트 \\ntrain_labels, test_labels : 부정 0, 긍정 1 의 리스트 \\n'"
            ]
          },
          "metadata": {
            "tags": []
          },
          "execution_count": 1
        }
      ]
    },
    {
      "metadata": {
        "id": "sXEkjYWNt13U",
        "colab_type": "code",
        "colab": {
          "base_uri": "https://localhost:8080/",
          "height": 51
        },
        "outputId": "051e306f-8cf1-4f73-a7b1-c8699037ddbd"
      },
      "cell_type": "code",
      "source": [
        "#리뷰 데이터 -> 영어 단어 \n",
        "word_index = imdb.get_word_index()\n",
        "reverse_word_index = dict(\n",
        "                                   [(value, key) for (key, value) in word_index.items()])\n",
        "decoded_review= ' '.join(\n",
        "                                [reverse_word_index.get(i-3, '?') for i in train_data[0]])"
      ],
      "execution_count": 2,
      "outputs": [
        {
          "output_type": "stream",
          "text": [
            "Downloading data from https://s3.amazonaws.com/text-datasets/imdb_word_index.json\n",
            "1646592/1641221 [==============================] - 0s 0us/step\n"
          ],
          "name": "stdout"
        }
      ]
    },
    {
      "metadata": {
        "id": "mxZUPDpDIyB8",
        "colab_type": "code",
        "colab": {
          "base_uri": "https://localhost:8080/",
          "height": 74
        },
        "outputId": "5dc84c8e-43c1-4dda-d37d-e460936f2e7a"
      },
      "cell_type": "code",
      "source": [
        "decoded_review"
      ],
      "execution_count": 3,
      "outputs": [
        {
          "output_type": "execute_result",
          "data": {
            "text/plain": [
              "\"? this film was just brilliant casting location scenery story direction everyone's really suited the part they played and you could just imagine being there robert ? is an amazing actor and now the same being director ? father came from the same scottish island as myself so i loved the fact there was a real connection with this film the witty remarks throughout the film were great it was just brilliant so much that i bought the film as soon as it was released for ? and would recommend it to everyone to watch and the fly fishing was amazing really cried at the end it was so sad and you know what they say if you cry at a film it must have been good and this definitely was also ? to the two little boy's that played the ? of norman and paul they were just brilliant children are often left out of the ? list i think because the stars that play them all grown up are such a big profile for the whole film but these children are amazing and should be praised for what they have done don't you think the whole story was so lovely because it was true and was someone's life after all that was shared with us all\""
            ]
          },
          "metadata": {
            "tags": []
          },
          "execution_count": 3
        }
      ]
    },
    {
      "metadata": {
        "id": "Usa5jP_luh9C",
        "colab_type": "code",
        "colab": {}
      },
      "cell_type": "code",
      "source": [
        "#숫자 리스트 -> 텐서\n",
        "#one-hot encoding - 0과 1의 벡터로 변환 \n",
        "\n",
        "import numpy as np\n",
        "\n",
        "def vectorize_sequences(sequences, dimension = 10000 ):\n",
        "  results = np.zeros((len(sequences),dimension))\n",
        "  \n",
        "  for i, sequences in enumerate(sequences):\n",
        "    results[i, sequences] =1.\n",
        "  \n",
        "  return results\n",
        "\n",
        "\n",
        "x_train =vectorize_sequences(train_data)\n",
        "x_test =vectorize_sequences(test_data)\n",
        "\n",
        "# 레이블 -> 벡터\n",
        "y_train = np.asarray(train_labels).astype('float32')\n",
        "y_test = np.asarray(test_labels).astype('float32')"
      ],
      "execution_count": 0,
      "outputs": []
    },
    {
      "metadata": {
        "id": "zXogIr-Wvxgg",
        "colab_type": "code",
        "colab": {}
      },
      "cell_type": "code",
      "source": [
        "#신경망 모델 정의\n",
        "from keras import models\n",
        "from keras import layers\n",
        "\n",
        "model = models.Sequential()\n",
        "model.add(layers.Dense(16, activation = 'relu', input_shape= (10000,)))\n",
        "model.add(layers.Dense(16, activation = 'relu'))\n",
        "model.add(layers.Dense(1, activation = 'sigmoid'))"
      ],
      "execution_count": 0,
      "outputs": []
    },
    {
      "metadata": {
        "id": "jFKXt8AjxQ2F",
        "colab_type": "code",
        "colab": {}
      },
      "cell_type": "code",
      "source": [
        "#모델 compile\n",
        "model.compile(optimizer = 'rmsprop',\n",
        "             loss = 'binary_crossentropy',\n",
        "             metrics = ['accuracy'])"
      ],
      "execution_count": 0,
      "outputs": []
    },
    {
      "metadata": {
        "id": "8DXQs8ltxypF",
        "colab_type": "code",
        "colab": {}
      },
      "cell_type": "code",
      "source": [
        "x_val = x_train[:10000]\n",
        "partial_x_train = x_train[10000:]\n",
        "\n",
        "y_val = y_train[:10000]\n",
        "partial_y_train = y_train[10000:]"
      ],
      "execution_count": 0,
      "outputs": []
    },
    {
      "metadata": {
        "id": "KE4zecMbyJZD",
        "colab_type": "code",
        "outputId": "7af6cc39-8e2e-4739-a770-d11faa6c97ce",
        "colab": {
          "base_uri": "https://localhost:8080/",
          "height": 714
        }
      },
      "cell_type": "code",
      "source": [
        "#training \n",
        "history = model.fit(partial_x_train,\n",
        "                    partial_y_train,\n",
        "                    epochs =20,\n",
        "                    batch_size = 512,\n",
        "                    validation_data =(x_val, y_val))\n",
        "            "
      ],
      "execution_count": 8,
      "outputs": [
        {
          "output_type": "stream",
          "text": [
            "Train on 15000 samples, validate on 10000 samples\n",
            "Epoch 1/20\n",
            "15000/15000 [==============================] - 3s 192us/step - loss: 0.5087 - acc: 0.7813 - val_loss: 0.3801 - val_acc: 0.8690\n",
            "Epoch 2/20\n",
            "15000/15000 [==============================] - 2s 137us/step - loss: 0.3008 - acc: 0.9051 - val_loss: 0.3007 - val_acc: 0.8900\n",
            "Epoch 3/20\n",
            "15000/15000 [==============================] - 2s 132us/step - loss: 0.2182 - acc: 0.9279 - val_loss: 0.3085 - val_acc: 0.8718\n",
            "Epoch 4/20\n",
            "15000/15000 [==============================] - 2s 130us/step - loss: 0.1751 - acc: 0.9433 - val_loss: 0.2841 - val_acc: 0.8839\n",
            "Epoch 5/20\n",
            "15000/15000 [==============================] - 2s 131us/step - loss: 0.1427 - acc: 0.9541 - val_loss: 0.2847 - val_acc: 0.8865\n",
            "Epoch 6/20\n",
            "15000/15000 [==============================] - 2s 143us/step - loss: 0.1151 - acc: 0.9654 - val_loss: 0.3160 - val_acc: 0.8774\n",
            "Epoch 7/20\n",
            "15000/15000 [==============================] - 2s 134us/step - loss: 0.0981 - acc: 0.9705 - val_loss: 0.3126 - val_acc: 0.8844\n",
            "Epoch 8/20\n",
            "15000/15000 [==============================] - 2s 129us/step - loss: 0.0808 - acc: 0.9765 - val_loss: 0.3852 - val_acc: 0.8652\n",
            "Epoch 9/20\n",
            "15000/15000 [==============================] - 2s 128us/step - loss: 0.0662 - acc: 0.9822 - val_loss: 0.3632 - val_acc: 0.8781\n",
            "Epoch 10/20\n",
            "15000/15000 [==============================] - 2s 129us/step - loss: 0.0559 - acc: 0.9852 - val_loss: 0.3841 - val_acc: 0.8791\n",
            "Epoch 11/20\n",
            "15000/15000 [==============================] - 2s 129us/step - loss: 0.0450 - acc: 0.9890 - val_loss: 0.4157 - val_acc: 0.8770\n",
            "Epoch 12/20\n",
            "15000/15000 [==============================] - 2s 129us/step - loss: 0.0385 - acc: 0.9913 - val_loss: 0.4504 - val_acc: 0.8695\n",
            "Epoch 13/20\n",
            "15000/15000 [==============================] - 2s 129us/step - loss: 0.0300 - acc: 0.9930 - val_loss: 0.4693 - val_acc: 0.8732\n",
            "Epoch 14/20\n",
            "15000/15000 [==============================] - 2s 130us/step - loss: 0.0248 - acc: 0.9947 - val_loss: 0.5026 - val_acc: 0.8718\n",
            "Epoch 15/20\n",
            "15000/15000 [==============================] - 2s 131us/step - loss: 0.0173 - acc: 0.9983 - val_loss: 0.5557 - val_acc: 0.8665\n",
            "Epoch 16/20\n",
            "15000/15000 [==============================] - 2s 131us/step - loss: 0.0145 - acc: 0.9979 - val_loss: 0.5951 - val_acc: 0.8653\n",
            "Epoch 17/20\n",
            "15000/15000 [==============================] - 2s 131us/step - loss: 0.0136 - acc: 0.9975 - val_loss: 0.6092 - val_acc: 0.8689\n",
            "Epoch 18/20\n",
            "15000/15000 [==============================] - 2s 131us/step - loss: 0.0111 - acc: 0.9979 - val_loss: 0.6379 - val_acc: 0.8683\n",
            "Epoch 19/20\n",
            "15000/15000 [==============================] - 2s 130us/step - loss: 0.0059 - acc: 0.9995 - val_loss: 0.7649 - val_acc: 0.8536\n",
            "Epoch 20/20\n",
            "15000/15000 [==============================] - 2s 130us/step - loss: 0.0069 - acc: 0.9993 - val_loss: 0.6993 - val_acc: 0.8660\n"
          ],
          "name": "stdout"
        }
      ]
    },
    {
      "metadata": {
        "id": "erAqse6lJLcE",
        "colab_type": "code",
        "colab": {
          "base_uri": "https://localhost:8080/",
          "height": 238
        },
        "outputId": "f4e9ea57-9fcd-4328-a901-7d2dc18e6d77"
      },
      "cell_type": "code",
      "source": [
        "model.summary()"
      ],
      "execution_count": 9,
      "outputs": [
        {
          "output_type": "stream",
          "text": [
            "_________________________________________________________________\n",
            "Layer (type)                 Output Shape              Param #   \n",
            "=================================================================\n",
            "dense_1 (Dense)              (None, 16)                160016    \n",
            "_________________________________________________________________\n",
            "dense_2 (Dense)              (None, 16)                272       \n",
            "_________________________________________________________________\n",
            "dense_3 (Dense)              (None, 1)                 17        \n",
            "=================================================================\n",
            "Total params: 160,305\n",
            "Trainable params: 160,305\n",
            "Non-trainable params: 0\n",
            "_________________________________________________________________\n"
          ],
          "name": "stdout"
        }
      ]
    },
    {
      "metadata": {
        "id": "k8toZQIny9C5",
        "colab_type": "code",
        "outputId": "8e19edc3-0f13-4757-8b0c-e122589b8b0f",
        "colab": {
          "base_uri": "https://localhost:8080/",
          "height": 376
        }
      },
      "cell_type": "code",
      "source": [
        "#훈련과 검증 손실 그리기\n",
        "import matplotlib.pyplot as plt\n",
        "\n",
        "history_dict = history.history\n",
        "loss = history_dict['loss']\n",
        "val_loss = history_dict['val_loss']\n",
        "\n",
        "epochs = range(1, len(loss) + 1 )\n",
        "\n",
        "plt.plot(epochs, loss, 'bo', label = 'Training loss')\n",
        "plt.plot(epochs, val_loss, 'b', label ='Validation loss')\n",
        "plt.title('Training and validation loss')\n",
        "plt.xlabel('Epochs')\n",
        "plt.ylabel('Loss')\n",
        "plt.legend()\n",
        "\n",
        "plt.show()"
      ],
      "execution_count": 10,
      "outputs": [
        {
          "output_type": "display_data",
          "data": {
            "image/png": "[encoded data removed]",
            "text/plain": [
              "<matplotlib.figure.Figure at 0x7f6cd6a38b38>"
            ]
          },
          "metadata": {
            "tags": []
          }
        }
      ]
    },
    {
      "metadata": {
        "id": "EDZHjE73z6Jr",
        "colab_type": "code",
        "outputId": "57fd8ffb-27ee-4b5c-b9bb-84b11230e1ce",
        "colab": {
          "base_uri": "https://localhost:8080/",
          "height": 376
        }
      },
      "cell_type": "code",
      "source": [
        "#훈련과 검증 정확도 그리기\n",
        "plt.clf() # 그래프 초기화\n",
        "acc = history_dict['acc']\n",
        "val_acc = history_dict['val_loss']\n",
        "\n",
        "plt.plot(epochs, acc, 'bo', label = 'Traning acc')\n",
        "plt.plot(epochs, val_acc, 'b', label = 'Validation acc')\n",
        "plt.title('Training and validation acuuracy')\n",
        "plt.xlabel('Epochs')\n",
        "plt.ylabel('Accuracy')\n",
        "plt.legend()\n",
        "\n",
        "plt.show()\n"
      ],
      "execution_count": 11,
      "outputs": [
        {
          "output_type": "display_data",
          "data": {
            "image/png": "[encoded data removed]",
            "text/plain": [
              "<matplotlib.figure.Figure at 0x7f6cd6a389b0>"
            ]
          },
          "metadata": {
            "tags": []
          }
        }
      ]
    },
    {
      "metadata": {
        "id": "jZ60U-BnRpZz",
        "colab_type": "code",
        "outputId": "65f303ff-844b-41a0-cdd4-6cb26c943120",
        "colab": {
          "base_uri": "https://localhost:8080/",
          "height": 187
        }
      },
      "cell_type": "code",
      "source": [
        "#overfitting 문제를 해소하기 위해 epoch 수 감소하여 모델링\n",
        "model= models.Sequential()\n",
        "model.add(layers.Dense(16,activation ='relu', input_shape=(10000, )))\n",
        "model.add(layers.Dense(16,activation= 'relu'))\n",
        "model.add(layers.Dense(1,activation='sigmoid'))\n",
        "\n",
        "model.compile(optimizer='rmsprop',\n",
        "             loss = 'binary_crossentropy',\n",
        "             metrics = ['accuracy'])\n",
        "\n",
        "model.fit(x_train, y_train, epochs=4, batch_size = 512)\n",
        "results = model.evaluate(x_test,y_test)\n",
        "\n",
        "results"
      ],
      "execution_count": 12,
      "outputs": [
        {
          "output_type": "stream",
          "text": [
            "Epoch 1/4\n",
            "25000/25000 [==============================] - 3s 117us/step - loss: 0.4738 - acc: 0.8221\n",
            "Epoch 2/4\n",
            "25000/25000 [==============================] - 2s 98us/step - loss: 0.2674 - acc: 0.9093\n",
            "Epoch 3/4\n",
            "25000/25000 [==============================] - 2s 92us/step - loss: 0.2033 - acc: 0.9283\n",
            "Epoch 4/4\n",
            "25000/25000 [==============================] - 2s 93us/step - loss: 0.1714 - acc: 0.9387\n",
            "25000/25000 [==============================] - 2s 78us/step\n"
          ],
          "name": "stdout"
        },
        {
          "output_type": "execute_result",
          "data": {
            "text/plain": [
              "[0.31251243450164795, 0.87564]"
            ]
          },
          "metadata": {
            "tags": []
          },
          "execution_count": 12
        }
      ]
    },
    {
      "metadata": {
        "id": "UzY990a0KIUY",
        "colab_type": "code",
        "colab": {
          "base_uri": "https://localhost:8080/",
          "height": 238
        },
        "outputId": "2e27b557-a224-4614-d355-ac4c159f8daa"
      },
      "cell_type": "code",
      "source": [
        "model.summary()"
      ],
      "execution_count": 13,
      "outputs": [
        {
          "output_type": "stream",
          "text": [
            "_________________________________________________________________\n",
            "Layer (type)                 Output Shape              Param #   \n",
            "=================================================================\n",
            "dense_4 (Dense)              (None, 16)                160016    \n",
            "_________________________________________________________________\n",
            "dense_5 (Dense)              (None, 16)                272       \n",
            "_________________________________________________________________\n",
            "dense_6 (Dense)              (None, 1)                 17        \n",
            "=================================================================\n",
            "Total params: 160,305\n",
            "Trainable params: 160,305\n",
            "Non-trainable params: 0\n",
            "_________________________________________________________________\n"
          ],
          "name": "stdout"
        }
      ]
    },
    {
      "metadata": {
        "id": "3bi5cQ50SeA_",
        "colab_type": "code",
        "outputId": "e9d2fc67-de9e-41b3-f7a3-d2146cd616c7",
        "colab": {
          "base_uri": "https://localhost:8080/",
          "height": 136
        }
      },
      "cell_type": "code",
      "source": [
        "#모델 실전 상황에 적용 : 어떤 리뷰가 긍정일 확률 확인 가능 \n",
        "model.predict(x_test)"
      ],
      "execution_count": 14,
      "outputs": [
        {
          "output_type": "execute_result",
          "data": {
            "text/plain": [
              "array([[0.16142054],\n",
              "       [0.99985063],\n",
              "       [0.3979758 ],\n",
              "       ...,\n",
              "       [0.0811284 ],\n",
              "       [0.04872197],\n",
              "       [0.45246446]], dtype=float32)"
            ]
          },
          "metadata": {
            "tags": []
          },
          "execution_count": 14
        }
      ]
    },
    {
      "metadata": {
        "id": "8PjH_Ha3S2X3",
        "colab_type": "code",
        "outputId": "8c070035-22c5-42a1-a79c-2f28dfa7ba4f",
        "colab": {
          "base_uri": "https://localhost:8080/",
          "height": 187
        }
      },
      "cell_type": "code",
      "source": [
        "#추가 실험\n",
        "'''\n",
        "3개의 은닉층 사용\n",
        "층의 은닉 유닛 변명 32유닛\n",
        "loss -> mse\n",
        "relu -> tanh 활성화 함수'''\n",
        "\n",
        "model= models.Sequential()\n",
        "model.add(layers.Dense(32,activation ='relu', input_shape=(10000, )))\n",
        "model.add(layers.Dense(32,activation= 'tanh'))\n",
        "model.add(layers.Dense(32,activation= 'relu'))\n",
        "model.add(layers.Dense(1,activation='sigmoid'))\n",
        "\n",
        "model.compile(optimizer='rmsprop',\n",
        "             loss = 'mse',\n",
        "             metrics = ['accuracy'])\n",
        "\n",
        "model.fit(x_train, y_train, epochs=4, batch_size = 512)\n",
        "results = model.evaluate(x_test,y_test)\n",
        "\n",
        "results\n"
      ],
      "execution_count": 15,
      "outputs": [
        {
          "output_type": "stream",
          "text": [
            "Epoch 1/4\n",
            "25000/25000 [==============================] - 3s 117us/step - loss: 0.1361 - acc: 0.8175\n",
            "Epoch 2/4\n",
            "25000/25000 [==============================] - 3s 109us/step - loss: 0.0690 - acc: 0.9096\n",
            "Epoch 3/4\n",
            "25000/25000 [==============================] - 3s 108us/step - loss: 0.0509 - acc: 0.9344\n",
            "Epoch 4/4\n",
            "25000/25000 [==============================] - 3s 109us/step - loss: 0.0425 - acc: 0.9457\n",
            "25000/25000 [==============================] - 2s 89us/step\n"
          ],
          "name": "stdout"
        },
        {
          "output_type": "execute_result",
          "data": {
            "text/plain": [
              "[0.09144265385866165, 0.88036]"
            ]
          },
          "metadata": {
            "tags": []
          },
          "execution_count": 15
        }
      ]
    },
    {
      "metadata": {
        "id": "Q5kpJ1bDVZ5x",
        "colab_type": "code",
        "colab": {
          "base_uri": "https://localhost:8080/",
          "height": 272
        },
        "outputId": "15693a5f-160d-443c-a7ae-6f01b768b6e5"
      },
      "cell_type": "code",
      "source": [
        "model.summary()"
      ],
      "execution_count": 16,
      "outputs": [
        {
          "output_type": "stream",
          "text": [
            "_________________________________________________________________\n",
            "Layer (type)                 Output Shape              Param #   \n",
            "=================================================================\n",
            "dense_7 (Dense)              (None, 32)                320032    \n",
            "_________________________________________________________________\n",
            "dense_8 (Dense)              (None, 32)                1056      \n",
            "_________________________________________________________________\n",
            "dense_9 (Dense)              (None, 32)                1056      \n",
            "_________________________________________________________________\n",
            "dense_10 (Dense)             (None, 1)                 33        \n",
            "=================================================================\n",
            "Total params: 322,177\n",
            "Trainable params: 322,177\n",
            "Non-trainable params: 0\n",
            "_________________________________________________________________\n"
          ],
          "name": "stdout"
        }
      ]
    },
    {
      "metadata": {
        "id": "O3Q164C_KRJO",
        "colab_type": "code",
        "colab": {}
      },
      "cell_type": "code",
      "source": [
        ""
      ],
      "execution_count": 0,
      "outputs": []
    }
  ]
}