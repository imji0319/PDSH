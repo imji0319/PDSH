{
  "nbformat": 4,
  "nbformat_minor": 0,
  "metadata": {
    "colab": {
      "name": "chap3_IMDB.ipynb",
      "version": "0.3.2",
      "provenance": [],
      "collapsed_sections": [],
      "include_colab_link": true
    },
    "kernelspec": {
      "name": "python3",
      "display_name": "Python 3"
    }
  },
  "cells": [
    {
      "cell_type": "markdown",
      "metadata": {
        "id": "view-in-github",
        "colab_type": "text"
      },
      "source": [
        "<a href=\"https://colab.research.google.com/github/imji0319/PDSH/blob/master/chap3_IMDB.ipynb\" target=\"_parent\"><img src=\"https://colab.research.google.com/assets/colab-badge.svg\" alt=\"Open In Colab\"/></a>"
      ]
    },
    {
      "metadata": {
        "id": "HrPjCQRDICTs",
        "colab_type": "text"
      },
      "cell_type": "markdown",
      "source": [
        "#영화 리뷰 분류 : 이진 분류 예제\n",
        "IMDB Dataset : \n",
        "영화 리뷰중 양극단의 리뷰로 5만개로 이루어진 데이터셋\n",
        "\n",
        "train data : 25000\n",
        "\n",
        "test data : 25000\n",
        "\n",
        "50% : positive\n",
        "\n",
        "50% : negative \n",
        "\n"
      ]
    },
    {
      "metadata": {
        "id": "vIyTntXbs6qx",
        "colab_type": "code",
        "outputId": "ace05eb6-6762-4d70-bc81-40d05a5dd7d2",
        "colab": {
          "base_uri": "https://localhost:8080/",
          "height": 85
        }
      },
      "cell_type": "code",
      "source": [
        "from keras.datasets import imdb\n",
        "\n",
        "(train_data, train_labels), (test_data, test_labels) = imdb.load_data(num_words =10000) \n",
        "#num_words =  N : 훈련 데이터에서 가장 자주 나타나는 단어 N개만 사용\n",
        "'''\n",
        "train_data, test_data : 리뷰의 목록, 각 리뷰는 단어 인덱스 리스트 \n",
        "train_labels, test_labels : 부정 0, 긍정 1 의 리스트 \n",
        "'''"
      ],
      "execution_count": 0,
      "outputs": [
        {
          "output_type": "stream",
          "text": [
            "Using TensorFlow backend.\n"
          ],
          "name": "stderr"
        },
        {
          "output_type": "stream",
          "text": [
            "Downloading data from https://s3.amazonaws.com/text-datasets/imdb.npz\n",
            "17465344/17464789 [==============================] - 1s 0us/step\n"
          ],
          "name": "stdout"
        },
        {
          "output_type": "execute_result",
          "data": {
            "text/plain": [
              "'\\ntrain_data, test_data : 리뷰의 목록, 각 리뷰는 단어 인덱스 리스트 \\ntrain_labels, test_labels : 부정 0, 긍정 1 의 리스트 \\n'"
            ]
          },
          "metadata": {
            "tags": []
          },
          "execution_count": 2
        }
      ]
    },
    {
      "metadata": {
        "id": "sXEkjYWNt13U",
        "colab_type": "code",
        "colab": {}
      },
      "cell_type": "code",
      "source": [
        "#리뷰 데이터 -> 영어 단어 \n",
        "word_index = imdb.get_word_index()\n",
        "reverse_word_index = dict(\n",
        "                                   [(value, key) for (key, value) in word_index.items()])\n",
        "decoded_review= ' '.join(\n",
        "                                [reverse_word_index.get(i-3, '?') for i in train_data[0]])"
      ],
      "execution_count": 0,
      "outputs": []
    },
    {
      "metadata": {
        "id": "mxZUPDpDIyB8",
        "colab_type": "code",
        "colab": {}
      },
      "cell_type": "code",
      "source": [
        "decoded_review"
      ],
      "execution_count": 0,
      "outputs": []
    },
    {
      "metadata": {
        "id": "Usa5jP_luh9C",
        "colab_type": "code",
        "colab": {}
      },
      "cell_type": "code",
      "source": [
        "#숫자 리스트 -> 텐서\n",
        "#one-hot encoding - 0과 1의 벡터로 변환 \n",
        "\n",
        "import numpy as np\n",
        "\n",
        "def vectorize_sequences(sequences, dimension = 10000 ):\n",
        "  results = np.zeros((len(sequences),dimension))\n",
        "  \n",
        "  for i, sequences in enumerate(sequences):\n",
        "    results[i, sequences] =1.\n",
        "  \n",
        "  return results\n",
        "\n",
        "\n",
        "x_train =vectorize_sequences(train_data)\n",
        "x_test =vectorize_sequences(test_data)\n",
        "\n",
        "# 레이블 -> 벡터\n",
        "y_train = np.asarray(train_labels).astype('float32')\n",
        "y_test = np.asarray(test_labels).astype('float32')"
      ],
      "execution_count": 0,
      "outputs": []
    },
    {
      "metadata": {
        "id": "zXogIr-Wvxgg",
        "colab_type": "code",
        "colab": {}
      },
      "cell_type": "code",
      "source": [
        "#신경망 모델 정의\n",
        "from keras import models\n",
        "from keras import layers\n",
        "\n",
        "model = models.Sequential()\n",
        "model.add(layers.Dense(16, activation = 'relu', input_shape= (10000,)))\n",
        "model.add(layers.Dense(16, activation = 'relu'))\n",
        "model.add(layers.Dense(1, activation = 'sigmoid'))"
      ],
      "execution_count": 0,
      "outputs": []
    },
    {
      "metadata": {
        "id": "jFKXt8AjxQ2F",
        "colab_type": "code",
        "colab": {}
      },
      "cell_type": "code",
      "source": [
        "#모델 compile\n",
        "model.compile(optimizer = 'rmsprop',\n",
        "             loss = 'binary_crossentropy',\n",
        "             metrics = ['accuracy'])"
      ],
      "execution_count": 0,
      "outputs": []
    },
    {
      "metadata": {
        "id": "8DXQs8ltxypF",
        "colab_type": "code",
        "colab": {}
      },
      "cell_type": "code",
      "source": [
        "x_val = x_train[:10000]\n",
        "partial_x_train = x_train[10000:]\n",
        "\n",
        "y_val = y_train[:10000]\n",
        "partial_y_train = y_train[10000:]"
      ],
      "execution_count": 0,
      "outputs": []
    },
    {
      "metadata": {
        "id": "KE4zecMbyJZD",
        "colab_type": "code",
        "outputId": "a368af33-f06e-43d9-aa81-fb832b723ac6",
        "colab": {
          "base_uri": "https://localhost:8080/",
          "height": 714
        }
      },
      "cell_type": "code",
      "source": [
        "#training \n",
        "history = model.fit(partial_x_train,\n",
        "                    partial_y_train,\n",
        "                    epochs =20,\n",
        "                    batch_size = 512,\n",
        "                    validation_data =(x_val, y_val))\n",
        "            "
      ],
      "execution_count": 0,
      "outputs": [
        {
          "output_type": "stream",
          "text": [
            "Train on 15000 samples, validate on 10000 samples\n",
            "Epoch 1/20\n",
            "15000/15000 [==============================] - 3s 212us/step - loss: 0.5087 - acc: 0.7815 - val_loss: 0.3799 - val_acc: 0.8693\n",
            "Epoch 2/20\n",
            "15000/15000 [==============================] - 3s 177us/step - loss: 0.3007 - acc: 0.9051 - val_loss: 0.3006 - val_acc: 0.8901\n",
            "Epoch 3/20\n",
            "15000/15000 [==============================] - 3s 177us/step - loss: 0.2181 - acc: 0.9277 - val_loss: 0.3086 - val_acc: 0.8718\n",
            "Epoch 4/20\n",
            "15000/15000 [==============================] - 3s 174us/step - loss: 0.1751 - acc: 0.9434 - val_loss: 0.2840 - val_acc: 0.8838\n",
            "Epoch 5/20\n",
            "15000/15000 [==============================] - 3s 177us/step - loss: 0.1427 - acc: 0.9543 - val_loss: 0.2847 - val_acc: 0.8865\n",
            "Epoch 6/20\n",
            "15000/15000 [==============================] - 3s 177us/step - loss: 0.1150 - acc: 0.9654 - val_loss: 0.3152 - val_acc: 0.8773\n",
            "Epoch 7/20\n",
            "15000/15000 [==============================] - 3s 177us/step - loss: 0.0981 - acc: 0.9703 - val_loss: 0.3127 - val_acc: 0.8844\n",
            "Epoch 8/20\n",
            "15000/15000 [==============================] - 3s 175us/step - loss: 0.0808 - acc: 0.9765 - val_loss: 0.3853 - val_acc: 0.8651\n",
            "Epoch 9/20\n",
            "15000/15000 [==============================] - 3s 175us/step - loss: 0.0662 - acc: 0.9821 - val_loss: 0.3633 - val_acc: 0.8781\n",
            "Epoch 10/20\n",
            "15000/15000 [==============================] - 3s 177us/step - loss: 0.0559 - acc: 0.9852 - val_loss: 0.3840 - val_acc: 0.8789\n",
            "Epoch 11/20\n",
            "15000/15000 [==============================] - 3s 177us/step - loss: 0.0448 - acc: 0.9889 - val_loss: 0.4155 - val_acc: 0.8764\n",
            "Epoch 12/20\n",
            "15000/15000 [==============================] - 3s 175us/step - loss: 0.0385 - acc: 0.9914 - val_loss: 0.4508 - val_acc: 0.8694\n",
            "Epoch 13/20\n",
            "15000/15000 [==============================] - 3s 176us/step - loss: 0.0300 - acc: 0.9929 - val_loss: 0.4691 - val_acc: 0.8727\n",
            "Epoch 14/20\n",
            "15000/15000 [==============================] - 3s 177us/step - loss: 0.0249 - acc: 0.9945 - val_loss: 0.5026 - val_acc: 0.8715\n",
            "Epoch 15/20\n",
            "15000/15000 [==============================] - 3s 177us/step - loss: 0.0177 - acc: 0.9979 - val_loss: 0.5361 - val_acc: 0.8696\n",
            "Epoch 16/20\n",
            "15000/15000 [==============================] - 3s 175us/step - loss: 0.0150 - acc: 0.9985 - val_loss: 0.5716 - val_acc: 0.8692\n",
            "Epoch 17/20\n",
            "15000/15000 [==============================] - 3s 176us/step - loss: 0.0152 - acc: 0.9969 - val_loss: 0.6032 - val_acc: 0.8696\n",
            "Epoch 18/20\n",
            "15000/15000 [==============================] - 3s 174us/step - loss: 0.0080 - acc: 0.9996 - val_loss: 0.6866 - val_acc: 0.8624\n",
            "Epoch 19/20\n",
            "15000/15000 [==============================] - 3s 175us/step - loss: 0.0070 - acc: 0.9994 - val_loss: 0.7643 - val_acc: 0.8517\n",
            "Epoch 20/20\n",
            "15000/15000 [==============================] - 3s 176us/step - loss: 0.0053 - acc: 0.9997 - val_loss: 0.6988 - val_acc: 0.8666\n"
          ],
          "name": "stdout"
        }
      ]
    },
    {
      "metadata": {
        "id": "k8toZQIny9C5",
        "colab_type": "code",
        "outputId": "d8f378cb-2d7a-4766-f142-d2a47a046d1b",
        "colab": {
          "base_uri": "https://localhost:8080/",
          "height": 376
        }
      },
      "cell_type": "code",
      "source": [
        "#훈련과 검증 손실 그리기\n",
        "import matplotlib.pyplot as plt\n",
        "\n",
        "history_dict = history.history\n",
        "loss = history_dict['loss']\n",
        "val_loss = history_dict['val_loss']\n",
        "\n",
        "epochs = range(1, len(loss) + 1 )\n",
        "\n",
        "plt.plot(epochs, loss, 'bo', label = 'Training loss')\n",
        "plt.plot(epochs, val_loss, 'b', label ='Validation loss')\n",
        "plt.title('Training and validation loss')\n",
        "plt.xlabel('Epochs')\n",
        "plt.ylabel('Loss')\n",
        "plt.legend()\n",
        "\n",
        "plt.show()"
      ],
      "execution_count": 0,
      "outputs": [
        {
          "output_type": "display_data",
          "data": {
            "image/png": "[encoded data removed]",
            "text/plain": [
              "<matplotlib.figure.Figure at 0x7fbde9cd5860>"
            ]
          },
          "metadata": {
            "tags": []
          }
        }
      ]
    },
    {
      "metadata": {
        "id": "EDZHjE73z6Jr",
        "colab_type": "code",
        "outputId": "bbcf5723-100a-4f18-b171-62615ff62552",
        "colab": {
          "base_uri": "https://localhost:8080/",
          "height": 376
        }
      },
      "cell_type": "code",
      "source": [
        "#훈련과 검증 정확도 그리기\n",
        "plt.clf() # 그래프 초기화\n",
        "acc = history_dict['acc']\n",
        "val_acc = history_dict['val_loss']\n",
        "\n",
        "plt.plot(epochs, acc, 'bo', label = 'Traning acc')\n",
        "plt.plot(epochs, val_acc, 'b', label = 'Validation acc')\n",
        "plt.title('Training and validation acuuracy')\n",
        "plt.xlabel('Epochs')\n",
        "plt.ylabel('Accuracy')\n",
        "plt.legend()\n",
        "\n",
        "plt.show()\n"
      ],
      "execution_count": 0,
      "outputs": [
        {
          "output_type": "display_data",
          "data": {
            "image/png": "[encoded data removed]",
            "text/plain": [
              "<matplotlib.figure.Figure at 0x7fbdf996fa90>"
            ]
          },
          "metadata": {
            "tags": []
          }
        }
      ]
    },
    {
      "metadata": {
        "id": "jZ60U-BnRpZz",
        "colab_type": "code",
        "outputId": "3b9a35c2-e6d0-4993-ddb9-b2f10577d3db",
        "colab": {
          "base_uri": "https://localhost:8080/",
          "height": 187
        }
      },
      "cell_type": "code",
      "source": [
        "#overfitting 문제를 해소하기 위해 epoch 수 감소하여 모델링\n",
        "model= models.Sequential()\n",
        "model.add(layers.Dense(16,activation ='relu', input_shape=(10000, )))\n",
        "model.add(layers.Dense(16,activation= 'relu'))\n",
        "model.add(layers.Dense(1,activation='sigmoid'))\n",
        "\n",
        "model.compile(optimizer='rmsprop',\n",
        "             loss = 'binary_crossentropy',\n",
        "             metrics = ['accuracy'])\n",
        "\n",
        "model.fit(x_train, y_train, epochs=4, batch_size = 512)\n",
        "results = model.evaluate(x_test,y_test)\n",
        "\n",
        "results"
      ],
      "execution_count": 0,
      "outputs": [
        {
          "output_type": "stream",
          "text": [
            "Epoch 1/4\n",
            "25000/25000 [==============================] - 3s 137us/step - loss: 0.4750 - acc: 0.8127\n",
            "Epoch 2/4\n",
            "25000/25000 [==============================] - 3s 128us/step - loss: 0.2697 - acc: 0.9077\n",
            "Epoch 3/4\n",
            "25000/25000 [==============================] - 3s 128us/step - loss: 0.2061 - acc: 0.9250\n",
            "Epoch 4/4\n",
            "25000/25000 [==============================] - 3s 127us/step - loss: 0.1705 - acc: 0.9396\n",
            "25000/25000 [==============================] - 2s 83us/step\n"
          ],
          "name": "stdout"
        },
        {
          "output_type": "execute_result",
          "data": {
            "text/plain": [
              "[0.30669708380699157, 0.87916]"
            ]
          },
          "metadata": {
            "tags": []
          },
          "execution_count": 21
        }
      ]
    },
    {
      "metadata": {
        "id": "3bi5cQ50SeA_",
        "colab_type": "code",
        "outputId": "466bd551-69d1-4291-9859-b155c90ee2db",
        "colab": {
          "base_uri": "https://localhost:8080/",
          "height": 136
        }
      },
      "cell_type": "code",
      "source": [
        "#모델 실전 상황에 적용 : 어떤 리뷰가 긍정일 확률 확인 가능 \n",
        "model.predict(x_test)"
      ],
      "execution_count": 0,
      "outputs": [
        {
          "output_type": "execute_result",
          "data": {
            "text/plain": [
              "array([[0.27984428],\n",
              "       [0.9999182 ],\n",
              "       [0.9376882 ],\n",
              "       ...,\n",
              "       [0.15763137],\n",
              "       [0.11919914],\n",
              "       [0.7660292 ]], dtype=float32)"
            ]
          },
          "metadata": {
            "tags": []
          },
          "execution_count": 23
        }
      ]
    },
    {
      "metadata": {
        "id": "8PjH_Ha3S2X3",
        "colab_type": "code",
        "outputId": "2f8f88cc-b675-42c5-b8d7-542b8715469e",
        "colab": {
          "base_uri": "https://localhost:8080/",
          "height": 187
        }
      },
      "cell_type": "code",
      "source": [
        "#추가 실험\n",
        "'''\n",
        "3개의 은닉층 사용\n",
        "층의 은닉 유닛 변명 32유닛\n",
        "loss -> mse\n",
        "relu -> tanh 활성화 함수'''\n",
        "\n",
        "model= models.Sequential()\n",
        "model.add(layers.Dense(32,activation ='relu', input_shape=(10000, )))\n",
        "model.add(layers.Dense(32,activation= 'tanh'))\n",
        "model.add(layers.Dense(32,activation= 'relu'))\n",
        "model.add(layers.Dense(1,activation='sigmoid'))\n",
        "\n",
        "model.compile(optimizer='rmsprop',\n",
        "             loss = 'mse',\n",
        "             metrics = ['accuracy'])\n",
        "\n",
        "model.fit(x_train, y_train, epochs=4, batch_size = 512)\n",
        "results = model.evaluate(x_test,y_test)\n",
        "\n",
        "results\n"
      ],
      "execution_count": 0,
      "outputs": [
        {
          "output_type": "stream",
          "text": [
            "Epoch 1/4\n",
            "25000/25000 [==============================] - 4s 152us/step - loss: 0.1370 - acc: 0.8086\n",
            "Epoch 2/4\n",
            "25000/25000 [==============================] - 4s 140us/step - loss: 0.0682 - acc: 0.9120\n",
            "Epoch 3/4\n",
            "25000/25000 [==============================] - 3s 139us/step - loss: 0.0525 - acc: 0.9335\n",
            "Epoch 4/4\n",
            "25000/25000 [==============================] - 3s 140us/step - loss: 0.0413 - acc: 0.9484\n",
            "25000/25000 [==============================] - 2s 86us/step\n"
          ],
          "name": "stdout"
        },
        {
          "output_type": "execute_result",
          "data": {
            "text/plain": [
              "[0.09903612161457538, 0.87044]"
            ]
          },
          "metadata": {
            "tags": []
          },
          "execution_count": 26
        }
      ]
    },
    {
      "metadata": {
        "id": "Q5kpJ1bDVZ5x",
        "colab_type": "code",
        "colab": {}
      },
      "cell_type": "code",
      "source": [
        ""
      ],
      "execution_count": 0,
      "outputs": []
    }
  ]
}