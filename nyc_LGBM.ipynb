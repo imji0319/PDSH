{
  "nbformat": 4,
  "nbformat_minor": 0,
  "metadata": {
    "colab": {
      "name": "nyc_LGBM.ipynb",
      "version": "0.3.2",
      "provenance": [],
      "collapsed_sections": [],
      "include_colab_link": true
    },
    "kernelspec": {
      "name": "python3",
      "display_name": "Python 3"
    },
    "accelerator": "TPU"
  },
  "cells": [
    {
      "cell_type": "markdown",
      "metadata": {
        "id": "view-in-github",
        "colab_type": "text"
      },
      "source": [
        "<a href=\"https://colab.research.google.com/github/imji0319/PDSH/blob/master/nyc_LGBM.ipynb\" target=\"_parent\"><img src=\"https://colab.research.google.com/assets/colab-badge.svg\" alt=\"Open In Colab\"/></a>"
      ]
    },
    {
      "cell_type": "code",
      "metadata": {
        "id": "xLVIDrGBy5s-",
        "colab_type": "code",
        "outputId": "fabec0ef-bede-41ad-9c77-ce106e013b86",
        "colab": {
          "base_uri": "https://localhost:8080/",
          "height": 288
        }
      },
      "source": [
        "from google.colab import auth\n",
        "auth.authenticate_user()\n",
        "\n",
        "from google.colab import drive\n",
        "drive.mount('/content/gdrive')"
      ],
      "execution_count": 2,
      "outputs": [
        {
          "output_type": "stream",
          "text": [
            "\n",
            "WARNING: The TensorFlow contrib module will not be included in TensorFlow 2.0.\n",
            "For more information, please see:\n",
            "  * https://github.com/tensorflow/community/blob/master/rfcs/20180907-contrib-sunset.md\n",
            "  * https://github.com/tensorflow/addons\n",
            "If you depend on functionality not listed there, please file an issue.\n",
            "\n",
            "Go to this URL in a browser: https://accounts.google.com/o/oauth2/auth?client_id=947318989803-6bn6qk8qdgf4n4g3pfee6491hc0brc4i.apps.googleusercontent.com&redirect_uri=urn%3Aietf%3Awg%3Aoauth%3A2.0%3Aoob&scope=email%20https%3A%2F%2Fwww.googleapis.com%2Fauth%2Fdocs.test%20https%3A%2F%2Fwww.googleapis.com%2Fauth%2Fdrive%20https%3A%2F%2Fwww.googleapis.com%2Fauth%2Fdrive.photos.readonly%20https%3A%2F%2Fwww.googleapis.com%2Fauth%2Fpeopleapi.readonly&response_type=code\n",
            "\n",
            "Enter your authorization code:\n",
            "··········\n",
            "Mounted at /content/gdrive\n"
          ],
          "name": "stdout"
        }
      ]
    },
    {
      "cell_type": "code",
      "metadata": {
        "id": "Kc9-AKeUy8ll",
        "colab_type": "code",
        "outputId": "9467b4c6-f861-40cc-bb85-2b065ecccb4b",
        "colab": {
          "base_uri": "https://localhost:8080/",
          "height": 34
        }
      },
      "source": [
        "cd /content/gdrive/My Drive/data/nyc_split"
      ],
      "execution_count": 2,
      "outputs": [
        {
          "output_type": "stream",
          "text": [
            "/content/gdrive/My Drive/data/nyc_split\n"
          ],
          "name": "stdout"
        }
      ]
    },
    {
      "cell_type": "code",
      "metadata": {
        "id": "PrfLPg9Qy_dE",
        "colab_type": "code",
        "outputId": "bb25539d-9f8c-4715-8f58-048f9d49c631",
        "colab": {
          "base_uri": "https://localhost:8080/",
          "height": 97
        }
      },
      "source": [
        "pip install -U pyarrow"
      ],
      "execution_count": 3,
      "outputs": [
        {
          "output_type": "stream",
          "text": [
            "Requirement already up-to-date: pyarrow in /usr/local/lib/python3.6/dist-packages (0.13.0)\n",
            "Requirement already satisfied, skipping upgrade: six>=1.0.0 in /usr/local/lib/python3.6/dist-packages (from pyarrow) (1.12.0)\n",
            "Requirement already satisfied, skipping upgrade: numpy>=1.14 in /usr/local/lib/python3.6/dist-packages (from pyarrow) (1.16.4)\n"
          ],
          "name": "stdout"
        }
      ]
    },
    {
      "cell_type": "code",
      "metadata": {
        "id": "r5UGWatozAC0",
        "colab_type": "code",
        "colab": {}
      },
      "source": [
        "import pandas as pd\n",
        "import numpy as np\n",
        "from sklearn.model_selection import train_test_split \n",
        "import lightgbm as lgbm"
      ],
      "execution_count": 0,
      "outputs": []
    },
    {
      "cell_type": "code",
      "metadata": {
        "id": "b6WZfSolzLdu",
        "colab_type": "code",
        "colab": {}
      },
      "source": [
        "params = {\n",
        "        'boosting_type':'gbdt',\n",
        "        'objective': 'regression',\n",
        "        'nthread': -1,\n",
        "        'verbose_eval':50,\n",
        "        'num_leaves': 31,\n",
        "        'learning_rate': 0.05,\n",
        "        'max_depth': -1,\n",
        "        'subsample': 0.8,\n",
        "        'subsample_freq': 1,\n",
        "        'colsample_bytree': 0.6,\n",
        "        'reg_aplha': 1,\n",
        "        'reg_lambda': 0.001,\n",
        "        'metric': 'rmse',\n",
        "        'min_split_gain': 0.5,\n",
        "        'min_child_weight': 1,\n",
        "        'min_child_samples': 10,\n",
        "        'scale_pos_weight':1 ,\n",
        "        'metric':'rmse'\n",
        "        \n",
        "    }"
      ],
      "execution_count": 0,
      "outputs": []
    },
    {
      "cell_type": "code",
      "metadata": {
        "id": "2lYkTXCPzYSu",
        "colab_type": "code",
        "colab": {}
      },
      "source": [
        "path = 'nyc_0.feather'\n",
        "df_train =pd.read_feather(path)\n",
        "df_train = df_train.drop(columns=['level_0', 'index'])"
      ],
      "execution_count": 0,
      "outputs": []
    },
    {
      "cell_type": "code",
      "metadata": {
        "id": "h4WaUpcf0qHQ",
        "colab_type": "code",
        "colab": {}
      },
      "source": [
        "y = df_train['fare_amount']\n",
        "train = df_train.drop(columns=['fare_amount'])\n",
        "\n",
        "X_train, X_test, y_train, y_test = train_test_split(train, y, random_state = 100, test_size=0.25)\n",
        "del train, y\n",
        "\n",
        "train_set = lgbm.Dataset(X_train, label=y_train) \n",
        "val_T = lgbm.Dataset(X_test, label=y_test)\n",
        "\n",
        "del X_train, X_test, y_train, y_test\n",
        "\n",
        "\n",
        "\n"
      ],
      "execution_count": 0,
      "outputs": []
    },
    {
      "cell_type": "code",
      "metadata": {
        "id": "lXI4naoUzgzJ",
        "colab_type": "code",
        "outputId": "e34edabb-0bf9-4eca-e3c4-4be2131f7224",
        "colab": {
          "base_uri": "https://localhost:8080/",
          "height": 272
        }
      },
      "source": [
        "%%time\n",
        "model = lgbm.train(params, train_set = train_set, num_boost_round=500,valid_sets=val_T, verbose_eval=50, early_stopping_rounds=100)\n"
      ],
      "execution_count": 9,
      "outputs": [
        {
          "output_type": "stream",
          "text": [
            "Training until validation scores don't improve for 100 rounds.\n",
            "[50]\tvalid_0's rmse: 3.88596\n",
            "[100]\tvalid_0's rmse: 3.5566\n",
            "[150]\tvalid_0's rmse: 3.49362\n",
            "[200]\tvalid_0's rmse: 3.45773\n",
            "[250]\tvalid_0's rmse: 3.43192\n",
            "[300]\tvalid_0's rmse: 3.4104\n",
            "[350]\tvalid_0's rmse: 3.39651\n",
            "[400]\tvalid_0's rmse: 3.38461\n",
            "[450]\tvalid_0's rmse: 3.37479\n",
            "[500]\tvalid_0's rmse: 3.36572\n",
            "Did not meet early stopping. Best iteration is:\n",
            "[500]\tvalid_0's rmse: 3.36572\n",
            "CPU times: user 2min 20s, sys: 533 ms, total: 2min 21s\n",
            "Wall time: 1min 11s\n"
          ],
          "name": "stdout"
        }
      ]
    },
    {
      "cell_type": "code",
      "metadata": {
        "id": "OQFmeIrM54M3",
        "colab_type": "code",
        "colab": {}
      },
      "source": [
        "from lightgbm import Booster"
      ],
      "execution_count": 0,
      "outputs": []
    },
    {
      "cell_type": "code",
      "metadata": {
        "id": "p3iDBaMY6x0n",
        "colab_type": "code",
        "outputId": "13421dc2-8fac-431b-e51f-29e2f5686a29",
        "colab": {
          "base_uri": "https://localhost:8080/",
          "height": 34
        }
      },
      "source": [
        "model.save_model('lgbm_model.txt')"
      ],
      "execution_count": 11,
      "outputs": [
        {
          "output_type": "execute_result",
          "data": {
            "text/plain": [
              "<lightgbm.basic.Booster at 0x7fd246ed7ba8>"
            ]
          },
          "metadata": {
            "tags": []
          },
          "execution_count": 11
        }
      ]
    },
    {
      "cell_type": "code",
      "metadata": {
        "id": "G99X_VtB9vik",
        "colab_type": "code",
        "colab": {}
      },
      "source": [
        "bst = lgbm.Booster(model_file='lgbm_model.txt')"
      ],
      "execution_count": 0,
      "outputs": []
    },
    {
      "cell_type": "code",
      "metadata": {
        "id": "LzjIWC6FDc2D",
        "colab_type": "code",
        "outputId": "1c322c87-e577-4e74-d2de-35433d92ca79",
        "colab": {
          "base_uri": "https://localhost:8080/",
          "height": 34
        }
      },
      "source": [
        "bst"
      ],
      "execution_count": 13,
      "outputs": [
        {
          "output_type": "execute_result",
          "data": {
            "text/plain": [
              "<lightgbm.basic.Booster at 0x7f0af1dcd4e0>"
            ]
          },
          "metadata": {
            "tags": []
          },
          "execution_count": 13
        }
      ]
    },
    {
      "cell_type": "code",
      "metadata": {
        "id": "cupinXn71gng",
        "colab_type": "code",
        "outputId": "7bb50a69-301a-4f5a-8cee-6eaaef390399",
        "colab": {
          "base_uri": "https://localhost:8080/",
          "height": 34
        }
      },
      "source": [
        "cd /content/gdrive/My Drive/data"
      ],
      "execution_count": 26,
      "outputs": [
        {
          "output_type": "stream",
          "text": [
            "/content/gdrive/My Drive/data\n"
          ],
          "name": "stdout"
        }
      ]
    },
    {
      "cell_type": "code",
      "metadata": {
        "id": "-Gf59hIK1hSz",
        "colab_type": "code",
        "colab": {}
      },
      "source": [
        "df_test = pd.read_csv('cleaning_test.csv')"
      ],
      "execution_count": 0,
      "outputs": []
    },
    {
      "cell_type": "code",
      "metadata": {
        "id": "tcEh4rKn1BqW",
        "colab_type": "code",
        "colab": {}
      },
      "source": [
        "x_pred = df_test.drop(columns=['key', 'pickup_datetime'])"
      ],
      "execution_count": 0,
      "outputs": []
    },
    {
      "cell_type": "code",
      "metadata": {
        "id": "_KYCnGDJzst3",
        "colab_type": "code",
        "colab": {}
      },
      "source": [
        "prediction = bst.predict(x_pred, num_iteration = model.best_iteration)"
      ],
      "execution_count": 0,
      "outputs": []
    },
    {
      "cell_type": "code",
      "metadata": {
        "id": "WNjoWVmI0KeT",
        "colab_type": "code",
        "outputId": "be611bcf-e839-4831-b1c6-da83ef37a2e9",
        "colab": {
          "base_uri": "https://localhost:8080/",
          "height": 359
        }
      },
      "source": [
        "submission = pd.DataFrame({'key' : df_test.key,\n",
        "                          'fare_amount': prediction},\n",
        "                         columns =['key','fare_amount'])\n",
        "\n",
        "submission.head(10)"
      ],
      "execution_count": 18,
      "outputs": [
        {
          "output_type": "execute_result",
          "data": {
            "text/html": [
              "<div>\n",
              "<style scoped>\n",
              "    .dataframe tbody tr th:only-of-type {\n",
              "        vertical-align: middle;\n",
              "    }\n",
              "\n",
              "    .dataframe tbody tr th {\n",
              "        vertical-align: top;\n",
              "    }\n",
              "\n",
              "    .dataframe thead th {\n",
              "        text-align: right;\n",
              "    }\n",
              "</style>\n",
              "<table border=\"1\" class=\"dataframe\">\n",
              "  <thead>\n",
              "    <tr style=\"text-align: right;\">\n",
              "      <th></th>\n",
              "      <th>key</th>\n",
              "      <th>fare_amount</th>\n",
              "    </tr>\n",
              "  </thead>\n",
              "  <tbody>\n",
              "    <tr>\n",
              "      <th>0</th>\n",
              "      <td>2015-01-27 13:08:24.0000002</td>\n",
              "      <td>11.074502</td>\n",
              "    </tr>\n",
              "    <tr>\n",
              "      <th>1</th>\n",
              "      <td>2015-01-27 13:08:24.0000003</td>\n",
              "      <td>11.157420</td>\n",
              "    </tr>\n",
              "    <tr>\n",
              "      <th>2</th>\n",
              "      <td>2011-10-08 11:53:44.0000002</td>\n",
              "      <td>4.419889</td>\n",
              "    </tr>\n",
              "    <tr>\n",
              "      <th>3</th>\n",
              "      <td>2012-12-01 21:12:12.0000002</td>\n",
              "      <td>7.745060</td>\n",
              "    </tr>\n",
              "    <tr>\n",
              "      <th>4</th>\n",
              "      <td>2012-12-01 21:12:12.0000003</td>\n",
              "      <td>13.960660</td>\n",
              "    </tr>\n",
              "    <tr>\n",
              "      <th>5</th>\n",
              "      <td>2012-12-01 21:12:12.0000005</td>\n",
              "      <td>9.820040</td>\n",
              "    </tr>\n",
              "    <tr>\n",
              "      <th>6</th>\n",
              "      <td>2011-10-06 12:10:20.0000001</td>\n",
              "      <td>4.976940</td>\n",
              "    </tr>\n",
              "    <tr>\n",
              "      <th>7</th>\n",
              "      <td>2011-10-06 12:10:20.0000003</td>\n",
              "      <td>48.973880</td>\n",
              "    </tr>\n",
              "    <tr>\n",
              "      <th>8</th>\n",
              "      <td>2011-10-06 12:10:20.0000002</td>\n",
              "      <td>11.258480</td>\n",
              "    </tr>\n",
              "    <tr>\n",
              "      <th>9</th>\n",
              "      <td>2014-02-18 15:22:20.0000002</td>\n",
              "      <td>6.971797</td>\n",
              "    </tr>\n",
              "  </tbody>\n",
              "</table>\n",
              "</div>"
            ],
            "text/plain": [
              "                           key  fare_amount\n",
              "0  2015-01-27 13:08:24.0000002    11.074502\n",
              "1  2015-01-27 13:08:24.0000003    11.157420\n",
              "2  2011-10-08 11:53:44.0000002     4.419889\n",
              "3  2012-12-01 21:12:12.0000002     7.745060\n",
              "4  2012-12-01 21:12:12.0000003    13.960660\n",
              "5  2012-12-01 21:12:12.0000005     9.820040\n",
              "6  2011-10-06 12:10:20.0000001     4.976940\n",
              "7  2011-10-06 12:10:20.0000003    48.973880\n",
              "8  2011-10-06 12:10:20.0000002    11.258480\n",
              "9  2014-02-18 15:22:20.0000002     6.971797"
            ]
          },
          "metadata": {
            "tags": []
          },
          "execution_count": 18
        }
      ]
    },
    {
      "cell_type": "code",
      "metadata": {
        "id": "fmcxwGN32PdV",
        "colab_type": "code",
        "colab": {}
      },
      "source": [
        "submission.to_csv('lgbm_submission_expect_index.csv', index=False)"
      ],
      "execution_count": 0,
      "outputs": []
    },
    {
      "cell_type": "markdown",
      "metadata": {
        "id": "mW3NZbYo5fFQ",
        "colab_type": "text"
      },
      "source": [
        "# loading model to train"
      ]
    },
    {
      "cell_type": "code",
      "metadata": {
        "id": "6M8l38hf8yLq",
        "colab_type": "code",
        "outputId": "9fc63f06-3451-421b-cf35-3f682c49657c",
        "colab": {
          "base_uri": "https://localhost:8080/",
          "height": 34
        }
      },
      "source": [
        "cd /content/gdrive/My Drive/data/nyc_split"
      ],
      "execution_count": 6,
      "outputs": [
        {
          "output_type": "stream",
          "text": [
            "/content/gdrive/My Drive/data/nyc_split\n"
          ],
          "name": "stdout"
        }
      ]
    },
    {
      "cell_type": "code",
      "metadata": {
        "id": "8CgYZ3C52gwx",
        "colab_type": "code",
        "colab": {
          "base_uri": "https://localhost:8080/",
          "height": 3519
        },
        "outputId": "6a73bd14-7dc4-4205-9401-e3fb4afd485c"
      },
      "source": [
        "# 분할된 데이터 로드 및 train \n",
        "\n",
        "%%time\n",
        "for i in range(1,21):\n",
        "    path = 'nyc_'+str(i)+'.feather'\n",
        "    df_train =pd.read_feather(path)\n",
        "    df_train = df_train.drop(columns=['level_0', 'index'])\n",
        "    y = df_train['fare_amount']\n",
        "    train = df_train.drop(columns=['fare_amount'])\n",
        "\n",
        "\n",
        "    X_train, X_test, y_train, y_test = train_test_split(train, y, random_state = 100, test_size=0.25)\n",
        "    del train, y\n",
        "\n",
        "    train_set = lgbm.Dataset(X_train, label=y_train) \n",
        "    val_T = lgbm.Dataset(X_test, label=y_test)\n",
        "\n",
        "    del X_train, X_test, y_train, y_test\n",
        "    \n",
        "    bst = lgbm.Booster(model_file='lgbm_model.txt')\n",
        "\n",
        "    \n",
        "    model = lgbm.train(params, train_set = train_set, num_boost_round=500,valid_sets=val_T, \n",
        "                                    verbose_eval=50, early_stopping_rounds=100, init_model=bst)\n",
        "    \n",
        "    del bst\n",
        "    \n",
        "    print(str(i) + '번 파일데이터가 트레이닝 되었습니다.')\n",
        "    \n",
        "    model.save_model('lgbm_model.txt')\n",
        "    del model\n",
        "    "
      ],
      "execution_count": 14,
      "outputs": [
        {
          "output_type": "stream",
          "text": [
            "Training until validation scores don't improve for 100 rounds.\n",
            "[550]\tvalid_0's rmse: 3.50891\n",
            "[600]\tvalid_0's rmse: 3.50149\n",
            "[650]\tvalid_0's rmse: 3.49707\n",
            "[700]\tvalid_0's rmse: 3.49231\n",
            "[750]\tvalid_0's rmse: 3.48484\n",
            "[800]\tvalid_0's rmse: 3.48091\n",
            "[850]\tvalid_0's rmse: 3.47524\n",
            "[900]\tvalid_0's rmse: 3.47087\n",
            "[950]\tvalid_0's rmse: 3.46676\n",
            "[1000]\tvalid_0's rmse: 3.46277\n",
            "Did not meet early stopping. Best iteration is:\n",
            "[1000]\tvalid_0's rmse: 3.46277\n",
            "1번 파일데이터가 트레이닝 되었습니다.\n",
            "Training until validation scores don't improve for 100 rounds.\n",
            "[1050]\tvalid_0's rmse: 3.24113\n",
            "[1100]\tvalid_0's rmse: 3.2378\n",
            "[1150]\tvalid_0's rmse: 3.23355\n",
            "[1200]\tvalid_0's rmse: 3.23189\n",
            "[1250]\tvalid_0's rmse: 3.22975\n",
            "[1300]\tvalid_0's rmse: 3.22728\n",
            "[1350]\tvalid_0's rmse: 3.2262\n",
            "[1400]\tvalid_0's rmse: 3.22468\n",
            "[1450]\tvalid_0's rmse: 3.22201\n",
            "[1500]\tvalid_0's rmse: 3.2202\n",
            "Did not meet early stopping. Best iteration is:\n",
            "[1493]\tvalid_0's rmse: 3.22012\n",
            "2번 파일데이터가 트레이닝 되었습니다.\n",
            "Training until validation scores don't improve for 100 rounds.\n",
            "[1500]\tvalid_0's rmse: 3.19267\n",
            "[1550]\tvalid_0's rmse: 3.1887\n",
            "[1600]\tvalid_0's rmse: 3.18574\n",
            "[1650]\tvalid_0's rmse: 3.18386\n",
            "[1700]\tvalid_0's rmse: 3.18288\n",
            "[1750]\tvalid_0's rmse: 3.18182\n",
            "[1800]\tvalid_0's rmse: 3.18053\n",
            "[1850]\tvalid_0's rmse: 3.17892\n",
            "[1900]\tvalid_0's rmse: 3.17826\n",
            "[1950]\tvalid_0's rmse: 3.17777\n",
            "Did not meet early stopping. Best iteration is:\n",
            "[1992]\tvalid_0's rmse: 3.17733\n",
            "3번 파일데이터가 트레이닝 되었습니다.\n",
            "Training until validation scores don't improve for 100 rounds.\n",
            "[2000]\tvalid_0's rmse: 3.20334\n",
            "[2050]\tvalid_0's rmse: 3.20019\n",
            "[2100]\tvalid_0's rmse: 3.19768\n",
            "[2150]\tvalid_0's rmse: 3.19692\n",
            "[2200]\tvalid_0's rmse: 3.19685\n",
            "[2250]\tvalid_0's rmse: 3.19556\n",
            "[2300]\tvalid_0's rmse: 3.19522\n",
            "[2350]\tvalid_0's rmse: 3.19489\n",
            "[2400]\tvalid_0's rmse: 3.19415\n",
            "[2450]\tvalid_0's rmse: 3.194\n",
            "Did not meet early stopping. Best iteration is:\n",
            "[2484]\tvalid_0's rmse: 3.19331\n",
            "4번 파일데이터가 트레이닝 되었습니다.\n",
            "Training until validation scores don't improve for 100 rounds.\n",
            "[2500]\tvalid_0's rmse: 3.19572\n",
            "[2550]\tvalid_0's rmse: 3.19518\n",
            "[2600]\tvalid_0's rmse: 3.19487\n",
            "[2650]\tvalid_0's rmse: 3.19448\n",
            "[2700]\tvalid_0's rmse: 3.19408\n",
            "[2750]\tvalid_0's rmse: 3.19363\n",
            "[2800]\tvalid_0's rmse: 3.19301\n",
            "[2850]\tvalid_0's rmse: 3.19329\n",
            "[2900]\tvalid_0's rmse: 3.19325\n",
            "Early stopping, best iteration is:\n",
            "[2806]\tvalid_0's rmse: 3.19252\n",
            "5번 파일데이터가 트레이닝 되었습니다.\n",
            "Training until validation scores don't improve for 100 rounds.\n",
            "[2850]\tvalid_0's rmse: 76.4379\n",
            "[2900]\tvalid_0's rmse: 76.4379\n",
            "[2950]\tvalid_0's rmse: 76.4379\n",
            "[3000]\tvalid_0's rmse: 76.4379\n",
            "Early stopping, best iteration is:\n",
            "[2901]\tvalid_0's rmse: 76.4379\n",
            "6번 파일데이터가 트레이닝 되었습니다.\n",
            "Training until validation scores don't improve for 100 rounds.\n",
            "[2950]\tvalid_0's rmse: 3.13507\n",
            "[3000]\tvalid_0's rmse: 3.13583\n",
            "Early stopping, best iteration is:\n",
            "[2917]\tvalid_0's rmse: 3.13433\n",
            "7번 파일데이터가 트레이닝 되었습니다.\n",
            "Training until validation scores don't improve for 100 rounds.\n",
            "[2950]\tvalid_0's rmse: 3.15496\n",
            "[3000]\tvalid_0's rmse: 3.15219\n",
            "[3050]\tvalid_0's rmse: 3.14974\n",
            "[3100]\tvalid_0's rmse: 3.14817\n",
            "[3150]\tvalid_0's rmse: 3.14866\n",
            "[3200]\tvalid_0's rmse: 3.14767\n",
            "[3250]\tvalid_0's rmse: 3.1471\n",
            "[3300]\tvalid_0's rmse: 3.14712\n",
            "[3350]\tvalid_0's rmse: 3.14565\n",
            "[3400]\tvalid_0's rmse: 3.14575\n",
            "Did not meet early stopping. Best iteration is:\n",
            "[3366]\tvalid_0's rmse: 3.14546\n",
            "8번 파일데이터가 트레이닝 되었습니다.\n",
            "Training until validation scores don't improve for 100 rounds.\n",
            "[3400]\tvalid_0's rmse: 3.15526\n",
            "[3450]\tvalid_0's rmse: 3.15406\n",
            "[3500]\tvalid_0's rmse: 3.15389\n",
            "[3550]\tvalid_0's rmse: 3.15425\n",
            "Early stopping, best iteration is:\n",
            "[3482]\tvalid_0's rmse: 3.15347\n",
            "9번 파일데이터가 트레이닝 되었습니다.\n",
            "Training until validation scores don't improve for 100 rounds.\n",
            "[3500]\tvalid_0's rmse: 3.196\n",
            "[3550]\tvalid_0's rmse: 3.19568\n",
            "[3600]\tvalid_0's rmse: 3.19583\n",
            "Early stopping, best iteration is:\n",
            "[3522]\tvalid_0's rmse: 3.19537\n",
            "10번 파일데이터가 트레이닝 되었습니다.\n",
            "Training until validation scores don't improve for 100 rounds.\n",
            "[3550]\tvalid_0's rmse: 3.13455\n",
            "[3600]\tvalid_0's rmse: 3.13203\n",
            "[3650]\tvalid_0's rmse: 3.13036\n",
            "[3700]\tvalid_0's rmse: 3.1299\n",
            "[3750]\tvalid_0's rmse: 3.12893\n",
            "[3800]\tvalid_0's rmse: 3.12837\n",
            "[3850]\tvalid_0's rmse: 3.12803\n",
            "[3900]\tvalid_0's rmse: 3.12887\n",
            "[3950]\tvalid_0's rmse: 3.12871\n",
            "Early stopping, best iteration is:\n",
            "[3856]\tvalid_0's rmse: 3.12795\n",
            "11번 파일데이터가 트레이닝 되었습니다.\n",
            "Training until validation scores don't improve for 100 rounds.\n",
            "[3900]\tvalid_0's rmse: 3.1929\n",
            "[3950]\tvalid_0's rmse: 3.19361\n",
            "Early stopping, best iteration is:\n",
            "[3896]\tvalid_0's rmse: 3.19288\n",
            "12번 파일데이터가 트레이닝 되었습니다.\n",
            "Training until validation scores don't improve for 100 rounds.\n",
            "[3900]\tvalid_0's rmse: 3.19867\n",
            "[3950]\tvalid_0's rmse: 3.20105\n",
            "Early stopping, best iteration is:\n",
            "[3899]\tvalid_0's rmse: 3.19864\n",
            "13번 파일데이터가 트레이닝 되었습니다.\n",
            "[3900]\tvalid_0's rmse: 3.15146\n",
            "Training until validation scores don't improve for 100 rounds.\n",
            "[3950]\tvalid_0's rmse: 3.18514\n",
            "[4000]\tvalid_0's rmse: 3.21756\n",
            "Early stopping, best iteration is:\n",
            "[3900]\tvalid_0's rmse: 3.15146\n",
            "14번 파일데이터가 트레이닝 되었습니다.\n",
            "Training until validation scores don't improve for 100 rounds.\n",
            "[3950]\tvalid_0's rmse: 13.9154\n",
            "[4000]\tvalid_0's rmse: 18.2806\n",
            "Early stopping, best iteration is:\n",
            "[3901]\tvalid_0's rmse: 3.50184\n",
            "15번 파일데이터가 트레이닝 되었습니다.\n",
            "Training until validation scores don't improve for 100 rounds.\n",
            "[3950]\tvalid_0's rmse: 3.63081\n",
            "[4000]\tvalid_0's rmse: 3.62134\n",
            "[4050]\tvalid_0's rmse: 3.6178\n",
            "[4100]\tvalid_0's rmse: 3.60856\n",
            "[4150]\tvalid_0's rmse: 3.60842\n",
            "[4200]\tvalid_0's rmse: 3.60436\n",
            "[4250]\tvalid_0's rmse: 3.6037\n",
            "[4300]\tvalid_0's rmse: 3.60261\n",
            "[4350]\tvalid_0's rmse: 3.60268\n",
            "Early stopping, best iteration is:\n",
            "[4274]\tvalid_0's rmse: 3.6013\n",
            "16번 파일데이터가 트레이닝 되었습니다.\n",
            "Training until validation scores don't improve for 100 rounds.\n",
            "[4300]\tvalid_0's rmse: 3.38847\n",
            "[4350]\tvalid_0's rmse: 3.38577\n",
            "[4400]\tvalid_0's rmse: 3.38518\n",
            "[4450]\tvalid_0's rmse: 3.38475\n",
            "[4500]\tvalid_0's rmse: 3.38554\n",
            "[4550]\tvalid_0's rmse: 3.37949\n",
            "[4600]\tvalid_0's rmse: 3.37761\n",
            "[4650]\tvalid_0's rmse: 3.3759\n",
            "[4700]\tvalid_0's rmse: 3.37606\n",
            "[4750]\tvalid_0's rmse: 3.37675\n",
            "Early stopping, best iteration is:\n",
            "[4668]\tvalid_0's rmse: 3.37571\n",
            "17번 파일데이터가 트레이닝 되었습니다.\n",
            "Training until validation scores don't improve for 100 rounds.\n",
            "[4700]\tvalid_0's rmse: 3.37748\n",
            "[4750]\tvalid_0's rmse: 3.37258\n",
            "[4800]\tvalid_0's rmse: 3.37336\n",
            "Early stopping, best iteration is:\n",
            "[4736]\tvalid_0's rmse: 3.3724\n",
            "18번 파일데이터가 트레이닝 되었습니다.\n",
            "Training until validation scores don't improve for 100 rounds.\n",
            "[4750]\tvalid_0's rmse: 3.31912\n",
            "[4800]\tvalid_0's rmse: 3.30857\n",
            "[4850]\tvalid_0's rmse: 3.2998\n",
            "[4900]\tvalid_0's rmse: 3.29845\n",
            "[4950]\tvalid_0's rmse: 3.29568\n",
            "[5000]\tvalid_0's rmse: 3.29595\n",
            "[5050]\tvalid_0's rmse: 3.29182\n",
            "[5100]\tvalid_0's rmse: 3.29165\n",
            "[5150]\tvalid_0's rmse: 3.2924\n",
            "[5200]\tvalid_0's rmse: 3.2889\n",
            "Did not meet early stopping. Best iteration is:\n",
            "[5228]\tvalid_0's rmse: 3.28568\n",
            "19번 파일데이터가 트레이닝 되었습니다.\n",
            "Training until validation scores don't improve for 100 rounds.\n",
            "[5250]\tvalid_0's rmse: 3.19594\n",
            "[5300]\tvalid_0's rmse: 3.20126\n",
            "Early stopping, best iteration is:\n",
            "[5244]\tvalid_0's rmse: 3.19588\n",
            "20번 파일데이터가 트레이닝 되었습니다.\n",
            "CPU times: user 3h 53min 41s, sys: 6.73 s, total: 3h 53min 47s\n",
            "Wall time: 1h 58min 29s\n"
          ],
          "name": "stdout"
        }
      ]
    },
    {
      "cell_type": "code",
      "metadata": {
        "id": "qzgv78NGrgUS",
        "colab_type": "code",
        "colab": {}
      },
      "source": [
        "model = lgbm.Booster(model_file='lgbm_model.txt')"
      ],
      "execution_count": 0,
      "outputs": []
    },
    {
      "cell_type": "code",
      "metadata": {
        "id": "5iDEmapcsIo_",
        "colab_type": "code",
        "colab": {
          "base_uri": "https://localhost:8080/",
          "height": 34
        },
        "outputId": "36851582-8fb7-48a6-e599-5a5df0c9c570"
      },
      "source": [
        "cd /content/gdrive/My Drive/data"
      ],
      "execution_count": 8,
      "outputs": [
        {
          "output_type": "stream",
          "text": [
            "/content/gdrive/My Drive/data\n"
          ],
          "name": "stdout"
        }
      ]
    },
    {
      "cell_type": "code",
      "metadata": {
        "id": "QivbGpxTsOdM",
        "colab_type": "code",
        "colab": {}
      },
      "source": [
        "df_test = pd.read_csv('cleaning_test.csv')\n",
        "x_pred = df_test.drop(columns=['key', 'pickup_datetime'])"
      ],
      "execution_count": 0,
      "outputs": []
    },
    {
      "cell_type": "code",
      "metadata": {
        "id": "hcJ2S7q58Zn6",
        "colab_type": "code",
        "colab": {}
      },
      "source": [
        "prediction = model.predict(x_pred, num_iteration = model.best_iteration)"
      ],
      "execution_count": 0,
      "outputs": []
    },
    {
      "cell_type": "code",
      "metadata": {
        "id": "JzkPR67H8b6s",
        "colab_type": "code",
        "colab": {
          "base_uri": "https://localhost:8080/",
          "height": 359
        },
        "outputId": "64f7859a-9362-49d0-8376-d5314ad878fc"
      },
      "source": [
        "submission = pd.DataFrame({'key' : df_test.key,\n",
        "                          'fare_amount': prediction},\n",
        "                         columns =['key','fare_amount'])\n",
        "\n",
        "submission.head(10)"
      ],
      "execution_count": 11,
      "outputs": [
        {
          "output_type": "execute_result",
          "data": {
            "text/html": [
              "<div>\n",
              "<style scoped>\n",
              "    .dataframe tbody tr th:only-of-type {\n",
              "        vertical-align: middle;\n",
              "    }\n",
              "\n",
              "    .dataframe tbody tr th {\n",
              "        vertical-align: top;\n",
              "    }\n",
              "\n",
              "    .dataframe thead th {\n",
              "        text-align: right;\n",
              "    }\n",
              "</style>\n",
              "<table border=\"1\" class=\"dataframe\">\n",
              "  <thead>\n",
              "    <tr style=\"text-align: right;\">\n",
              "      <th></th>\n",
              "      <th>key</th>\n",
              "      <th>fare_amount</th>\n",
              "    </tr>\n",
              "  </thead>\n",
              "  <tbody>\n",
              "    <tr>\n",
              "      <th>0</th>\n",
              "      <td>2015-01-27 13:08:24.0000002</td>\n",
              "      <td>10.831969</td>\n",
              "    </tr>\n",
              "    <tr>\n",
              "      <th>1</th>\n",
              "      <td>2015-01-27 13:08:24.0000003</td>\n",
              "      <td>11.398784</td>\n",
              "    </tr>\n",
              "    <tr>\n",
              "      <th>2</th>\n",
              "      <td>2011-10-08 11:53:44.0000002</td>\n",
              "      <td>4.246675</td>\n",
              "    </tr>\n",
              "    <tr>\n",
              "      <th>3</th>\n",
              "      <td>2012-12-01 21:12:12.0000002</td>\n",
              "      <td>7.811351</td>\n",
              "    </tr>\n",
              "    <tr>\n",
              "      <th>4</th>\n",
              "      <td>2012-12-01 21:12:12.0000003</td>\n",
              "      <td>13.665502</td>\n",
              "    </tr>\n",
              "    <tr>\n",
              "      <th>5</th>\n",
              "      <td>2012-12-01 21:12:12.0000005</td>\n",
              "      <td>9.125567</td>\n",
              "    </tr>\n",
              "    <tr>\n",
              "      <th>6</th>\n",
              "      <td>2011-10-06 12:10:20.0000001</td>\n",
              "      <td>4.999745</td>\n",
              "    </tr>\n",
              "    <tr>\n",
              "      <th>7</th>\n",
              "      <td>2011-10-06 12:10:20.0000003</td>\n",
              "      <td>49.423231</td>\n",
              "    </tr>\n",
              "    <tr>\n",
              "      <th>8</th>\n",
              "      <td>2011-10-06 12:10:20.0000002</td>\n",
              "      <td>11.461672</td>\n",
              "    </tr>\n",
              "    <tr>\n",
              "      <th>9</th>\n",
              "      <td>2014-02-18 15:22:20.0000002</td>\n",
              "      <td>7.186082</td>\n",
              "    </tr>\n",
              "  </tbody>\n",
              "</table>\n",
              "</div>"
            ],
            "text/plain": [
              "                           key  fare_amount\n",
              "0  2015-01-27 13:08:24.0000002    10.831969\n",
              "1  2015-01-27 13:08:24.0000003    11.398784\n",
              "2  2011-10-08 11:53:44.0000002     4.246675\n",
              "3  2012-12-01 21:12:12.0000002     7.811351\n",
              "4  2012-12-01 21:12:12.0000003    13.665502\n",
              "5  2012-12-01 21:12:12.0000005     9.125567\n",
              "6  2011-10-06 12:10:20.0000001     4.999745\n",
              "7  2011-10-06 12:10:20.0000003    49.423231\n",
              "8  2011-10-06 12:10:20.0000002    11.461672\n",
              "9  2014-02-18 15:22:20.0000002     7.186082"
            ]
          },
          "metadata": {
            "tags": []
          },
          "execution_count": 11
        }
      ]
    },
    {
      "cell_type": "code",
      "metadata": {
        "id": "SKtC-Y2zrref",
        "colab_type": "code",
        "colab": {}
      },
      "source": [
        "submission.to_csv('lgbm_submission_all.csv', index=False)"
      ],
      "execution_count": 0,
      "outputs": []
    },
    {
      "cell_type": "code",
      "metadata": {
        "id": "AA4I8CcirvS3",
        "colab_type": "code",
        "colab": {}
      },
      "source": [
        ""
      ],
      "execution_count": 0,
      "outputs": []
    }
  ]
}