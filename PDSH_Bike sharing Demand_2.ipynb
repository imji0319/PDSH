{
 "cells": [
  {
   "cell_type": "code",
   "execution_count": 1,
   "metadata": {},
   "outputs": [
    {
     "data": {
      "text/plain": [
       "'\\nclassification\\nclustering\\nregression\\ndimensionality reduction\\n\\n\\nRMSLE\\n\\n'"
      ]
     },
     "execution_count": 1,
     "metadata": {},
     "output_type": "execute_result"
    }
   ],
   "source": [
    "## scikit learn \n",
    "\"\"\"\n",
    "classification\n",
    "clustering\n",
    "regression\n",
    "dimensionality reduction\n",
    "\n",
    "\"\"\""
   ]
  },
  {
   "cell_type": "code",
   "execution_count": 2,
   "metadata": {},
   "outputs": [
    {
     "data": {
      "text/plain": [
       "make_scorer(rmsle)"
      ]
     },
     "execution_count": 2,
     "metadata": {},
     "output_type": "execute_result"
    }
   ],
   "source": [
    "## RMSLE \n",
    "\n",
    "from sklearn.metrics import make_scorer\n",
    "\n",
    "\n",
    "def rmsle(predicted_values, actual_values):\n",
    "    # to make array\n",
    "    predicted_values=np.array(predicted_values)\n",
    "    actual_values=np.array(actual_values)\n",
    "    \n",
    "    # add 1 to predicted values , actual values and to take log \n",
    "    log_predict=np.log(predicted_values+1)\n",
    "    log_actual=np.log(actual_values+1)\n",
    "    \n",
    "    # square the difference\n",
    "    difference = log_predicted-log_actual\n",
    "    difference = np.square(difference)\n",
    "    \n",
    "    \n",
    "    # mean \n",
    "    mean_difference=difference.mean()\n",
    "    \n",
    "    # to take log\n",
    "    score=np.sqrt(mean_difference)\n",
    "    \n",
    "    return score\n",
    "\n",
    "rmsle_scorer=make_scorer(rmsle)\n",
    "rmsle_scorer\n",
    "    "
   ]
  },
  {
   "cell_type": "code",
   "execution_count": 3,
   "metadata": {
    "collapsed": true
   },
   "outputs": [],
   "source": [
    "#cross validation\n",
    "\n",
    "from sklearn.model_selection import KFold\n",
    "from sklearn.model_selection import cross_val_score\n",
    "\n",
    "k_fold=KFold(n_splits=10, shuffle=True, random_state=0)"
   ]
  },
  {
   "cell_type": "code",
   "execution_count": null,
   "metadata": {
    "collapsed": true
   },
   "outputs": [],
   "source": []
  }
 ],
 "metadata": {
  "kernelspec": {
   "display_name": "Python 3",
   "language": "python",
   "name": "python3"
  },
  "language_info": {
   "codemirror_mode": {
    "name": "ipython",
    "version": 3
   },
   "file_extension": ".py",
   "mimetype": "text/x-python",
   "name": "python",
   "nbconvert_exporter": "python",
   "pygments_lexer": "ipython3",
   "version": "3.6.1"
  }
 },
 "nbformat": 4,
 "nbformat_minor": 2
}
